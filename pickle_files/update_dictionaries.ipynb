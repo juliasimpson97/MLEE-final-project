{
 "cells": [
  {
   "cell_type": "code",
   "execution_count": 2,
   "id": "bfb010df-02d1-4bd1-aa5c-470eccde2fcf",
   "metadata": {},
   "outputs": [],
   "source": [
    "import os\n",
    "import datetime\n",
    "from pathlib import Path\n",
    "from collections import defaultdict\n",
    "import scipy\n",
    "import random\n",
    "import numpy as np\n",
    "import xarray as xr\n",
    "import pandas as pd\n",
    "import joblib\n",
    "import pickle"
   ]
  },
  {
   "cell_type": "markdown",
   "id": "356ac3b2-662c-4957-8f1a-1e2b9a7037ac",
   "metadata": {},
   "source": [
    "# Update Dictionaries"
   ]
  },
  {
   "cell_type": "markdown",
   "id": "8d3f0464-dd52-4c81-be93-013a43aee859",
   "metadata": {},
   "source": [
    "- Use same dictionaries as group to preserve random seed convention and reproducibility. \n",
    "- Remove extraneous testbed models, but leave all CESM members. (Next project will involve expanding analysis to all CESM members for larger training/testing datasets.)"
   ]
  },
  {
   "cell_type": "markdown",
   "id": "adedecca-3ae1-4171-a752-04f09969d7b3",
   "metadata": {},
   "source": [
    "## Updates to mems_LET_dict"
   ]
  },
  {
   "cell_type": "code",
   "execution_count": 13,
   "id": "5817bc60",
   "metadata": {},
   "outputs": [],
   "source": [
    "modify_mems_dict = pd.read_pickle('/data/artemis/workspace/vbennington/full_sst/gregor_years/references/members_LET_dict.pickle')"
   ]
  },
  {
   "cell_type": "code",
   "execution_count": 14,
   "id": "fd15c34f-8ff0-44ea-a1e9-4d1463ca23bd",
   "metadata": {},
   "outputs": [
    {
     "data": {
      "text/plain": [
       "{'CESM': ['001',\n",
       "  '002',\n",
       "  '009',\n",
       "  '010',\n",
       "  '011',\n",
       "  '012',\n",
       "  '013',\n",
       "  '014',\n",
       "  '015',\n",
       "  '016',\n",
       "  '017',\n",
       "  '018',\n",
       "  '020',\n",
       "  '021',\n",
       "  '023',\n",
       "  '024',\n",
       "  '025',\n",
       "  '030',\n",
       "  '031',\n",
       "  '034',\n",
       "  '035',\n",
       "  '101',\n",
       "  '102',\n",
       "  '103',\n",
       "  '104'],\n",
       " 'GFDL': ['01',\n",
       "  '02',\n",
       "  '03',\n",
       "  '04',\n",
       "  '05',\n",
       "  '06',\n",
       "  '08',\n",
       "  '09',\n",
       "  '10',\n",
       "  '11',\n",
       "  '12',\n",
       "  '13',\n",
       "  '14',\n",
       "  '16',\n",
       "  '17',\n",
       "  '18',\n",
       "  '19',\n",
       "  '20',\n",
       "  '22',\n",
       "  '23',\n",
       "  '26',\n",
       "  '27',\n",
       "  '28',\n",
       "  '29',\n",
       "  '30'],\n",
       " 'MPI': ['006',\n",
       "  '009',\n",
       "  '014',\n",
       "  '020',\n",
       "  '022',\n",
       "  '024',\n",
       "  '025',\n",
       "  '027',\n",
       "  '038',\n",
       "  '043',\n",
       "  '045',\n",
       "  '046',\n",
       "  '057',\n",
       "  '060',\n",
       "  '064',\n",
       "  '070',\n",
       "  '075',\n",
       "  '077',\n",
       "  '078',\n",
       "  '080',\n",
       "  '081',\n",
       "  '083',\n",
       "  '091',\n",
       "  '095',\n",
       "  '098'],\n",
       " 'CanESM2': ['r1r10',\n",
       "  'r1r9',\n",
       "  'r3r1',\n",
       "  'r4r5',\n",
       "  'r5r10',\n",
       "  'r2r1',\n",
       "  'r3r2',\n",
       "  'r3r9',\n",
       "  'r4r6',\n",
       "  'r5r2',\n",
       "  'r1r6',\n",
       "  'r2r2',\n",
       "  'r3r4',\n",
       "  'r4r1',\n",
       "  'r4r7',\n",
       "  'r5r4',\n",
       "  'r1r7',\n",
       "  'r3r6',\n",
       "  'r4r8',\n",
       "  'r5r5',\n",
       "  'r2r8',\n",
       "  'r3r7',\n",
       "  'r4r3',\n",
       "  'r5r1',\n",
       "  'r5r9']}"
      ]
     },
     "execution_count": 14,
     "metadata": {},
     "output_type": "execute_result"
    }
   ],
   "source": [
    "modify_mems_dict"
   ]
  },
  {
   "cell_type": "markdown",
   "id": "21973f5e-e761-473e-a0a1-1f1018108dec",
   "metadata": {},
   "source": [
    "Removing other testbed models, but leave CESM so can later expand to all members"
   ]
  },
  {
   "cell_type": "code",
   "execution_count": 15,
   "id": "2fe9309f-9b2f-426a-8300-24da33d0ed36",
   "metadata": {},
   "outputs": [],
   "source": [
    "del modify_mems_dict['GFDL']\n",
    "del modify_mems_dict['MPI']\n",
    "del modify_mems_dict['CanESM2']"
   ]
  },
  {
   "cell_type": "code",
   "execution_count": 16,
   "id": "1283a7c3-6ec3-4d15-ab9f-c09592b28717",
   "metadata": {},
   "outputs": [
    {
     "data": {
      "text/plain": [
       "{'CESM': ['001',\n",
       "  '002',\n",
       "  '009',\n",
       "  '010',\n",
       "  '011',\n",
       "  '012',\n",
       "  '013',\n",
       "  '014',\n",
       "  '015',\n",
       "  '016',\n",
       "  '017',\n",
       "  '018',\n",
       "  '020',\n",
       "  '021',\n",
       "  '023',\n",
       "  '024',\n",
       "  '025',\n",
       "  '030',\n",
       "  '031',\n",
       "  '034',\n",
       "  '035',\n",
       "  '101',\n",
       "  '102',\n",
       "  '103',\n",
       "  '104']}"
      ]
     },
     "execution_count": 16,
     "metadata": {},
     "output_type": "execute_result"
    }
   ],
   "source": [
    "modify_mems_dict"
   ]
  },
  {
   "cell_type": "code",
   "execution_count": 17,
   "id": "0c9e2b8c-5691-443e-a3d6-503cef5c9a79",
   "metadata": {},
   "outputs": [],
   "source": [
    "cesm_members_dict = modify_mems_dict"
   ]
  },
  {
   "cell_type": "markdown",
   "id": "ba11b2df-e8d9-493d-ac82-4b88a9d6c16a",
   "metadata": {},
   "source": [
    "Save the new dictionary as a pickle file to my project directory:"
   ]
  },
  {
   "cell_type": "code",
   "execution_count": 18,
   "id": "d9f86058-d08d-4c4b-9027-6fe493096a99",
   "metadata": {},
   "outputs": [],
   "source": [
    "pickle.dump(cesm_members_dict, open('/home/julias/MLEE-final-project/pickle_files/cesm_members_dict.pickle','wb'))"
   ]
  },
  {
   "cell_type": "markdown",
   "id": "1c514d9b-0188-47d2-880e-2e910e6b53b1",
   "metadata": {},
   "source": [
    "Check the newly saved modified pickle file:"
   ]
  },
  {
   "cell_type": "code",
   "execution_count": 27,
   "id": "30160ae5-fa78-462b-a3d1-c0f7a128d0b2",
   "metadata": {},
   "outputs": [
    {
     "data": {
      "text/plain": [
       "{'CESM': ['001',\n",
       "  '002',\n",
       "  '009',\n",
       "  '010',\n",
       "  '011',\n",
       "  '012',\n",
       "  '013',\n",
       "  '014',\n",
       "  '015',\n",
       "  '016',\n",
       "  '017',\n",
       "  '018',\n",
       "  '020',\n",
       "  '021',\n",
       "  '023',\n",
       "  '024',\n",
       "  '025',\n",
       "  '030',\n",
       "  '031',\n",
       "  '034',\n",
       "  '035',\n",
       "  '101',\n",
       "  '102',\n",
       "  '103',\n",
       "  '104']}"
      ]
     },
     "execution_count": 27,
     "metadata": {},
     "output_type": "execute_result"
    }
   ],
   "source": [
    "pd.read_pickle('/home/julias/MLEE-final-project/pickle_files/cesm_members_dict.pickle')"
   ]
  },
  {
   "cell_type": "markdown",
   "id": "5e97bfef-d8a4-4817-bff6-439a8d6825a4",
   "metadata": {},
   "source": [
    "## Updates to seed_loc_dict "
   ]
  },
  {
   "cell_type": "code",
   "execution_count": 20,
   "id": "758252b6-d45b-4fe5-a4a9-95bc6d73c9e5",
   "metadata": {},
   "outputs": [],
   "source": [
    "modify_seed_loc_dict = pd.read_pickle('/data/artemis/workspace/vbennington/full_sst/gregor_years/references/members_seed_loc_dict.pickle')"
   ]
  },
  {
   "cell_type": "code",
   "execution_count": 21,
   "id": "6a736601-7896-4080-ab42-c1d66e20a848",
   "metadata": {},
   "outputs": [
    {
     "data": {
      "text/plain": [
       "defaultdict(dict,\n",
       "            {'CanESM2': {'r1r10': 0,\n",
       "              'r1r9': 1,\n",
       "              'r3r1': 2,\n",
       "              'r3r8': 3,\n",
       "              'r4r5': 4,\n",
       "              'r5r10': 5,\n",
       "              'r1r4': 6,\n",
       "              'r2r1': 7,\n",
       "              'r3r2': 8,\n",
       "              'r3r9': 9,\n",
       "              'r4r6': 10,\n",
       "              'r5r2': 11,\n",
       "              'r1r6': 12,\n",
       "              'r2r2': 13,\n",
       "              'r3r4': 14,\n",
       "              'r4r1': 15,\n",
       "              'r4r7': 16,\n",
       "              'r5r4': 17,\n",
       "              'r1r7': 18,\n",
       "              'r2r3': 19,\n",
       "              'r3r6': 20,\n",
       "              'r4r10': 21,\n",
       "              'r4r8': 22,\n",
       "              'r5r5': 23,\n",
       "              'r1r8': 24,\n",
       "              'r2r8': 25,\n",
       "              'r3r7': 26,\n",
       "              'r4r3': 27,\n",
       "              'r5r1': 28,\n",
       "              'r5r9': 29},\n",
       "             'CESM': {'001': 30,\n",
       "              '002': 31,\n",
       "              '009': 32,\n",
       "              '010': 33,\n",
       "              '011': 34,\n",
       "              '012': 35,\n",
       "              '013': 36,\n",
       "              '014': 37,\n",
       "              '015': 38,\n",
       "              '016': 39,\n",
       "              '017': 40,\n",
       "              '018': 41,\n",
       "              '020': 42,\n",
       "              '021': 43,\n",
       "              '023': 44,\n",
       "              '024': 45,\n",
       "              '025': 46,\n",
       "              '030': 47,\n",
       "              '031': 48,\n",
       "              '034': 49,\n",
       "              '035': 50,\n",
       "              '101': 51,\n",
       "              '102': 52,\n",
       "              '103': 53,\n",
       "              '104': 54},\n",
       "             'GFDL': {'01': 55,\n",
       "              '02': 56,\n",
       "              '03': 57,\n",
       "              '04': 58,\n",
       "              '05': 59,\n",
       "              '06': 60,\n",
       "              '08': 61,\n",
       "              '09': 62,\n",
       "              '10': 63,\n",
       "              '11': 64,\n",
       "              '12': 65,\n",
       "              '13': 66,\n",
       "              '14': 67,\n",
       "              '15': 68,\n",
       "              '16': 69,\n",
       "              '17': 70,\n",
       "              '18': 71,\n",
       "              '19': 72,\n",
       "              '20': 73,\n",
       "              '22': 74,\n",
       "              '23': 75,\n",
       "              '24': 76,\n",
       "              '26': 77,\n",
       "              '27': 78,\n",
       "              '28': 79,\n",
       "              '29': 80,\n",
       "              '30': 81},\n",
       "             'MPI': {'006': 82,\n",
       "              '009': 83,\n",
       "              '014': 84,\n",
       "              '018': 85,\n",
       "              '020': 86,\n",
       "              '021': 87,\n",
       "              '022': 88,\n",
       "              '024': 89,\n",
       "              '025': 90,\n",
       "              '027': 91,\n",
       "              '028': 92,\n",
       "              '038': 93,\n",
       "              '039': 94,\n",
       "              '041': 95,\n",
       "              '043': 96,\n",
       "              '045': 97,\n",
       "              '046': 98,\n",
       "              '057': 99,\n",
       "              '060': 100,\n",
       "              '064': 101,\n",
       "              '070': 102,\n",
       "              '075': 103,\n",
       "              '077': 104,\n",
       "              '078': 105,\n",
       "              '080': 106,\n",
       "              '081': 107,\n",
       "              '083': 108,\n",
       "              '091': 109,\n",
       "              '095': 110,\n",
       "              '098': 111}})"
      ]
     },
     "execution_count": 21,
     "metadata": {},
     "output_type": "execute_result"
    }
   ],
   "source": [
    "modify_seed_loc_dict"
   ]
  },
  {
   "cell_type": "code",
   "execution_count": 22,
   "id": "a08c334b-9b27-448e-978f-fcc5cdb3ca26",
   "metadata": {},
   "outputs": [],
   "source": [
    "del modify_seed_loc_dict['GFDL']\n",
    "del modify_seed_loc_dict['MPI']\n",
    "del modify_seed_loc_dict['CanESM2']"
   ]
  },
  {
   "cell_type": "code",
   "execution_count": 23,
   "id": "995f3a65-5998-4dd9-8253-206d3b7a2246",
   "metadata": {},
   "outputs": [
    {
     "data": {
      "text/plain": [
       "defaultdict(dict,\n",
       "            {'CESM': {'001': 30,\n",
       "              '002': 31,\n",
       "              '009': 32,\n",
       "              '010': 33,\n",
       "              '011': 34,\n",
       "              '012': 35,\n",
       "              '013': 36,\n",
       "              '014': 37,\n",
       "              '015': 38,\n",
       "              '016': 39,\n",
       "              '017': 40,\n",
       "              '018': 41,\n",
       "              '020': 42,\n",
       "              '021': 43,\n",
       "              '023': 44,\n",
       "              '024': 45,\n",
       "              '025': 46,\n",
       "              '030': 47,\n",
       "              '031': 48,\n",
       "              '034': 49,\n",
       "              '035': 50,\n",
       "              '101': 51,\n",
       "              '102': 52,\n",
       "              '103': 53,\n",
       "              '104': 54}})"
      ]
     },
     "execution_count": 23,
     "metadata": {},
     "output_type": "execute_result"
    }
   ],
   "source": [
    "modify_seed_loc_dict"
   ]
  },
  {
   "cell_type": "code",
   "execution_count": 25,
   "id": "ba4636df-cb68-4b37-b822-71e9f71a1a4c",
   "metadata": {},
   "outputs": [],
   "source": [
    "cesm_seed_loc_dict = modify_seed_loc_dict"
   ]
  },
  {
   "cell_type": "markdown",
   "id": "dcd09372-da01-4e1b-bfc9-e0f67fcefeec",
   "metadata": {},
   "source": [
    "Save the new dictionary as a pickle file to my project directory:"
   ]
  },
  {
   "cell_type": "code",
   "execution_count": 26,
   "id": "3ea4461a-e8a4-4c84-93a5-647ccbc5253a",
   "metadata": {},
   "outputs": [],
   "source": [
    "pickle.dump(cesm_seed_loc_dict, open('/home/julias/MLEE-final-project/pickle_files/cesm_seed_loc_dict.pickle','wb'))"
   ]
  },
  {
   "cell_type": "markdown",
   "id": "5b07d1e2-79a2-4bcc-8d14-7f0f4399d5e3",
   "metadata": {},
   "source": [
    "Check the newly saved modified pickle file:"
   ]
  },
  {
   "cell_type": "code",
   "execution_count": 29,
   "id": "8f64f30b-8186-41fd-ba35-79748ccdc2db",
   "metadata": {},
   "outputs": [
    {
     "data": {
      "text/plain": [
       "defaultdict(dict,\n",
       "            {'CESM': {'001': 30,\n",
       "              '002': 31,\n",
       "              '009': 32,\n",
       "              '010': 33,\n",
       "              '011': 34,\n",
       "              '012': 35,\n",
       "              '013': 36,\n",
       "              '014': 37,\n",
       "              '015': 38,\n",
       "              '016': 39,\n",
       "              '017': 40,\n",
       "              '018': 41,\n",
       "              '020': 42,\n",
       "              '021': 43,\n",
       "              '023': 44,\n",
       "              '024': 45,\n",
       "              '025': 46,\n",
       "              '030': 47,\n",
       "              '031': 48,\n",
       "              '034': 49,\n",
       "              '035': 50,\n",
       "              '101': 51,\n",
       "              '102': 52,\n",
       "              '103': 53,\n",
       "              '104': 54}})"
      ]
     },
     "execution_count": 29,
     "metadata": {},
     "output_type": "execute_result"
    }
   ],
   "source": [
    "pd.read_pickle('/home/julias/MLEE-final-project/pickle_files/cesm_seed_loc_dict.pickle')"
   ]
  },
  {
   "cell_type": "code",
   "execution_count": null,
   "id": "dcfc4952-6b99-4feb-8bf6-b4314ddc7a61",
   "metadata": {},
   "outputs": [],
   "source": [
    "new = {'CESM': ['001','002'],'GFDL': ['01','02'],'CanESM2': ['r1r10','r1r9']}"
   ]
  },
  {
   "cell_type": "code",
   "execution_count": null,
   "id": "51925b84-84ee-4da5-8c39-e6e65a9fc5ef",
   "metadata": {},
   "outputs": [],
   "source": [
    "new"
   ]
  },
  {
   "cell_type": "code",
   "execution_count": null,
   "id": "641a2729-85b8-4eed-8569-18d145eac39f",
   "metadata": {},
   "outputs": [],
   "source": [
    "#saving the new dictionary as a pickle file to my directory \n",
    "pickle.dump(new, open('/data/artemis/workspace/theimdal/saildrone/LET_pickle_files/members_LET_dict_SHORT.pickle','wb'))"
   ]
  },
  {
   "cell_type": "code",
   "execution_count": null,
   "id": "29a18b38-f75c-4a71-bf08-6671638b96b3",
   "metadata": {},
   "outputs": [],
   "source": [
    "#checking the modified pickle file\n",
    "pd.read_pickle('/data/artemis/workspace/theimdal/saildrone/LET_pickle_files/members_LET_dict_SHORT.pickle')"
   ]
  },
  {
   "cell_type": "code",
   "execution_count": null,
   "id": "863703bb-2dbb-40c9-bd59-0f4a961205d7",
   "metadata": {},
   "outputs": [],
   "source": [
    "new_2 = defaultdict(dict,{'CanESM2': {'r1r10': 0,'r1r9': 1},'CESM': {'001': 2,'002': 3}, 'GFDL': {'01': 4,'02': 5}})"
   ]
  },
  {
   "cell_type": "code",
   "execution_count": null,
   "id": "93443d60-d8f6-4cd5-b95e-a44da40d762c",
   "metadata": {},
   "outputs": [],
   "source": [
    "new_2"
   ]
  },
  {
   "cell_type": "code",
   "execution_count": null,
   "id": "09d8a89a-d60e-4881-af2f-f4c4ce8954c3",
   "metadata": {},
   "outputs": [],
   "source": [
    "#saving the new dictionary as a pickle file to my directory \n",
    "pickle.dump(new_2, open('/data/artemis/workspace/theimdal/saildrone/LET_pickle_files/members_seed_loc_dict_SHORT.pickle','wb'))"
   ]
  },
  {
   "cell_type": "code",
   "execution_count": null,
   "id": "2e2f9b15-89a8-4975-92cd-b8ee00466406",
   "metadata": {},
   "outputs": [],
   "source": [
    "#checking the modified pickle file\n",
    "pd.read_pickle('/data/artemis/workspace/theimdal/saildrone/LET_pickle_files/members_seed_loc_dict_SHORT.pickle')"
   ]
  },
  {
   "cell_type": "code",
   "execution_count": null,
   "id": "33995af1-d4dc-4a36-97bc-98f21471a68c",
   "metadata": {},
   "outputs": [],
   "source": [
    "#reading the Val's original pickle file\n",
    "modify_mems_dict_GFDL = pd.read_pickle('/data/artemis/workspace/vbennington/full_sst/gregor_years/references/members_LET_dict.pickle')"
   ]
  },
  {
   "cell_type": "code",
   "execution_count": null,
   "id": "4c31a97f-91b3-42b8-acef-65fa585edfa6",
   "metadata": {},
   "outputs": [],
   "source": [
    "#modify_mems_dict_CESM"
   ]
  },
  {
   "cell_type": "code",
   "execution_count": null,
   "id": "15e30c0d-2414-4a38-a038-d21277296015",
   "metadata": {},
   "outputs": [],
   "source": [
    "#removing MPI\n",
    "del modify_mems_dict_GFDL['MPI']"
   ]
  },
  {
   "cell_type": "code",
   "execution_count": null,
   "id": "57c30682-554f-4bb1-afc0-8b965ce4ebd9",
   "metadata": {},
   "outputs": [],
   "source": [
    "#modify_mems_dict_CESM"
   ]
  },
  {
   "cell_type": "code",
   "execution_count": null,
   "id": "89b5f148-e8b8-46d2-8e4f-b86ecfe932fc",
   "metadata": {},
   "outputs": [],
   "source": [
    "#removing CanESM2\n",
    "del modify_mems_dict_GFDL['CanESM2']"
   ]
  },
  {
   "cell_type": "code",
   "execution_count": null,
   "id": "97a2e352-22e9-4bc6-a4de-f59189dfbf8c",
   "metadata": {},
   "outputs": [],
   "source": [
    "#modify_mems_dict_CESM"
   ]
  },
  {
   "cell_type": "code",
   "execution_count": null,
   "id": "62afa510-dc55-4b90-ba36-3e7688d0f182",
   "metadata": {},
   "outputs": [],
   "source": [
    "#removing CESM\n",
    "del modify_mems_dict_GFDL['CESM']"
   ]
  },
  {
   "cell_type": "code",
   "execution_count": null,
   "id": "d6f60de9-bc16-47e3-b363-f722654c88e2",
   "metadata": {},
   "outputs": [],
   "source": [
    "#modify_mems_dict_GFDL"
   ]
  },
  {
   "cell_type": "code",
   "execution_count": null,
   "id": "ab664caf-c2f6-4c26-9200-fa529c6fb47e",
   "metadata": {},
   "outputs": [],
   "source": [
    "#saving the new dictionary as a pickle file to my directory \n",
    "pickle.dump(modify_mems_dict_GFDL, open('/data/artemis/workspace/theimdal/saildrone/LET_pickle_files/members_LET_dict_GFDL.pickle','wb'))"
   ]
  },
  {
   "cell_type": "code",
   "execution_count": null,
   "id": "4a86a5a3-5f82-4916-acb8-70bc91024944",
   "metadata": {},
   "outputs": [],
   "source": [
    "#checking the modified pickle file\n",
    "#pd.read_pickle('/data/artemis/workspace/theimdal/saildrone/LET_pickle_files/members_LET_dict_GFDL.pickle')"
   ]
  },
  {
   "cell_type": "code",
   "execution_count": null,
   "id": "6963984b-1611-48d7-8f68-7732d5cabc2b",
   "metadata": {},
   "outputs": [],
   "source": []
  },
  {
   "cell_type": "code",
   "execution_count": null,
   "id": "2f338eb8-cad7-49f2-a59e-868ac22f9e4d",
   "metadata": {},
   "outputs": [],
   "source": [
    "#reading the Val's original pickle file\n",
    "modify_mems_dict_Can = pd.read_pickle('/data/artemis/workspace/vbennington/full_sst/gregor_years/references/members_LET_dict.pickle')"
   ]
  },
  {
   "cell_type": "code",
   "execution_count": null,
   "id": "7db5269d-1a26-44b0-9d70-47133c84268c",
   "metadata": {},
   "outputs": [],
   "source": [
    "#removing MPI\n",
    "del modify_mems_dict_Can['MPI']"
   ]
  },
  {
   "cell_type": "code",
   "execution_count": null,
   "id": "d0fc7b02-05d2-4a3b-b20e-86a80db9aa57",
   "metadata": {},
   "outputs": [],
   "source": [
    "#removing CESM\n",
    "del modify_mems_dict_Can['CESM']"
   ]
  },
  {
   "cell_type": "code",
   "execution_count": null,
   "id": "500bf15a-b53f-4290-b22f-797b3f391fb1",
   "metadata": {},
   "outputs": [],
   "source": [
    "#removing GFDL\n",
    "del modify_mems_dict_Can['GFDL']"
   ]
  },
  {
   "cell_type": "code",
   "execution_count": null,
   "id": "0dd69be4-7fd5-4378-ab5b-a33e512078eb",
   "metadata": {},
   "outputs": [],
   "source": [
    "#modify_mems_dict_Can"
   ]
  },
  {
   "cell_type": "code",
   "execution_count": null,
   "id": "e0e93089-c139-474d-beda-3c59283db587",
   "metadata": {},
   "outputs": [],
   "source": [
    "#saving the new dictionary as a pickle file to my directory \n",
    "pickle.dump(modify_mems_dict_Can, open('/data/artemis/workspace/theimdal/saildrone/LET_pickle_files/members_LET_dict_CanESM2.pickle','wb'))"
   ]
  },
  {
   "cell_type": "code",
   "execution_count": null,
   "id": "7f4490aa-cb4b-4f78-b72a-dbd912ee7ead",
   "metadata": {},
   "outputs": [],
   "source": [
    "#checking the modified pickle file\n",
    "#pd.read_pickle('/data/artemis/workspace/theimdal/saildrone/LET_pickle_files/members_LET_dict_CanESM2.pickle')"
   ]
  },
  {
   "cell_type": "code",
   "execution_count": null,
   "id": "e631f39c-89e5-4d5f-820f-f6e5ef60cff9",
   "metadata": {},
   "outputs": [],
   "source": []
  },
  {
   "cell_type": "code",
   "execution_count": null,
   "id": "1613e700-ebea-4e97-a1d5-009f353cfe95",
   "metadata": {},
   "outputs": [],
   "source": [
    "#reading the Val's original pickle file\n",
    "modify_mems_dict_CESM = pd.read_pickle('/data/artemis/workspace/vbennington/full_sst/gregor_years/references/members_LET_dict.pickle')"
   ]
  },
  {
   "cell_type": "code",
   "execution_count": null,
   "id": "e672e8fe-f3de-4985-9ce3-0094bb1929a6",
   "metadata": {},
   "outputs": [],
   "source": [
    "#removing MPI\n",
    "del modify_mems_dict_CESM['MPI']"
   ]
  },
  {
   "cell_type": "code",
   "execution_count": null,
   "id": "c80991eb-9ba1-4940-95cc-ccca35378054",
   "metadata": {},
   "outputs": [],
   "source": [
    "#removing CanESM2\n",
    "del modify_mems_dict_CESM['CanESM2']"
   ]
  },
  {
   "cell_type": "code",
   "execution_count": null,
   "id": "95e1529c-31e0-4968-9cdf-0e113cca478a",
   "metadata": {},
   "outputs": [],
   "source": [
    "#removing GFDL\n",
    "del modify_mems_dict_CESM['GFDL']"
   ]
  },
  {
   "cell_type": "code",
   "execution_count": null,
   "id": "7ab4c395-29b7-446a-8d5f-027d62f185a4",
   "metadata": {},
   "outputs": [],
   "source": [
    "#modify_mems_dict_CESM"
   ]
  },
  {
   "cell_type": "code",
   "execution_count": null,
   "id": "6495bebb-a609-48fe-9bf3-9cad8a72d921",
   "metadata": {},
   "outputs": [],
   "source": [
    "#saving the new dictionary as a pickle file to my directory \n",
    "pickle.dump(modify_mems_dict_CESM, open('/data/artemis/workspace/theimdal/saildrone/LET_pickle_files/members_LET_dict_CESM.pickle','wb'))"
   ]
  },
  {
   "cell_type": "code",
   "execution_count": null,
   "id": "ce1c5142-f9fc-45c9-a46a-6103e9a8927f",
   "metadata": {},
   "outputs": [],
   "source": [
    "#checking the modified pickle file\n",
    "#pd.read_pickle('/data/artemis/workspace/theimdal/saildrone/LET_pickle_files/members_LET_dict_CESM.pickle')"
   ]
  },
  {
   "cell_type": "code",
   "execution_count": null,
   "id": "46a1890d-8242-4a53-b768-f12e405a6456",
   "metadata": {},
   "outputs": [],
   "source": []
  }
 ],
 "metadata": {
  "kernelspec": {
   "display_name": "McKinley_Group",
   "language": "python",
   "name": "mckinley_group"
  },
  "language_info": {
   "codemirror_mode": {
    "name": "ipython",
    "version": 3
   },
   "file_extension": ".py",
   "mimetype": "text/x-python",
   "name": "python",
   "nbconvert_exporter": "python",
   "pygments_lexer": "ipython3",
   "version": "3.8.5"
  }
 },
 "nbformat": 4,
 "nbformat_minor": 5
}
