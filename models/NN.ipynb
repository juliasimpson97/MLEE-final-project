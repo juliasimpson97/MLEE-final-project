{
 "cells": [
  {
   "cell_type": "markdown",
   "id": "d00743f4-e104-4250-abb9-151a089163b0",
   "metadata": {
    "tags": []
   },
   "source": [
    "# Basic Neural Networks "
   ]
  },
  {
   "cell_type": "markdown",
   "id": "47e0f753-5052-4522-bc07-40f3a98a9415",
   "metadata": {},
   "source": [
    "(to compare pre-transfer learning)"
   ]
  },
  {
   "cell_type": "code",
   "execution_count": 1,
   "id": "10741bee-ac28-47e8-a90a-7a4191fb9551",
   "metadata": {},
   "outputs": [
    {
     "name": "stderr",
     "output_type": "stream",
     "text": [
      "2023-01-09 19:28:02.114050: I tensorflow/core/platform/cpu_feature_guard.cc:193] This TensorFlow binary is optimized with oneAPI Deep Neural Network Library (oneDNN) to use the following CPU instructions in performance-critical operations:  SSE4.1 SSE4.2 AVX AVX2 AVX512F FMA\n",
      "To enable them in other operations, rebuild TensorFlow with the appropriate compiler flags.\n"
     ]
    }
   ],
   "source": [
    "# Standard imports\n",
    "import os\n",
    "import datetime\n",
    "from pathlib import Path\n",
    "from collections import defaultdict\n",
    "import scipy\n",
    "import random\n",
    "import numpy as np\n",
    "import xarray as xr\n",
    "import pandas as pd\n",
    "import matplotlib.pyplot as plt\n",
    "import joblib\n",
    "import pickle\n",
    "\n",
    "# Machine learning libraries\n",
    "import sklearn            # machine-learning libary with many algorithms implemented\n",
    "#import xgboost as xgb     # extreme gradient boosting (XGB)\n",
    "#from xgboost import XGBRegressor\n",
    "from sklearn.model_selection import train_test_split, GridSearchCV, cross_val_score\n",
    "from sklearn.metrics import mean_squared_error\n",
    "\n",
    "import tensorflow as tf\n",
    "from tensorflow import keras\n",
    "from tensorflow.keras.models import Model, load_model\n",
    "from tensorflow.keras.layers import *\n",
    "from tensorflow.keras import Sequential\n",
    "\n",
    "# Python file with supporting functions\n",
    "import model_utils"
   ]
  },
  {
   "cell_type": "code",
   "execution_count": 2,
   "id": "71bc6f61-11c2-4a81-9e0b-ae575dabc874",
   "metadata": {},
   "outputs": [],
   "source": [
    "recon_model_path = '/home/julias/MLEE-final-project/models/saved_models/recon_models'"
   ]
  },
  {
   "cell_type": "markdown",
   "id": "f467bbcd-f2f3-4023-b331-ea64c2da9554",
   "metadata": {
    "tags": []
   },
   "source": [
    "# Load Split Datasets and Create Versions for Experimentation"
   ]
  },
  {
   "cell_type": "markdown",
   "id": "238fcffe-5a30-41ac-b254-cc70942693c6",
   "metadata": {},
   "source": [
    "## Load Split Datasets"
   ]
  },
  {
   "cell_type": "code",
   "execution_count": 3,
   "id": "b4fc0d1a-3d0e-4fad-9519-e3a06fe51edb",
   "metadata": {},
   "outputs": [],
   "source": [
    "X_df = xr.open_dataset('/home/julias/MLEE-final-project/proc_data/split_datasets/X.nc').to_dataframe().dropna()\n",
    "y_df = xr.open_dataset('/home/julias/MLEE-final-project/proc_data/split_datasets/y.nc').to_dataframe().dropna() \n",
    "X_train_df = xr.open_dataset('/home/julias/MLEE-final-project/proc_data/split_datasets/X_train.nc').to_dataframe().dropna() \n",
    "y_train_df = xr.open_dataset('/home/julias/MLEE-final-project/proc_data/split_datasets/y_train.nc').to_dataframe().dropna()\n",
    "X_test_df = xr.open_dataset('/home/julias/MLEE-final-project/proc_data/split_datasets/X_test.nc').to_dataframe().dropna() \n",
    "y_test_df = xr.open_dataset('/home/julias/MLEE-final-project/proc_data/split_datasets/y_test.nc').to_dataframe().dropna() "
   ]
  },
  {
   "cell_type": "markdown",
   "id": "5ac04b13-20fd-43fd-b87f-5d2d3082fa84",
   "metadata": {},
   "source": [
    "Check that data was saved and loaded properly:"
   ]
  },
  {
   "cell_type": "code",
   "execution_count": 4,
   "id": "cb89329f-e6a7-47be-98b2-47999abfbf76",
   "metadata": {},
   "outputs": [
    {
     "data": {
      "text/html": [
       "<div>\n",
       "<style scoped>\n",
       "    .dataframe tbody tr th:only-of-type {\n",
       "        vertical-align: middle;\n",
       "    }\n",
       "\n",
       "    .dataframe tbody tr th {\n",
       "        vertical-align: top;\n",
       "    }\n",
       "\n",
       "    .dataframe thead th {\n",
       "        text-align: right;\n",
       "    }\n",
       "</style>\n",
       "<table border=\"1\" class=\"dataframe\">\n",
       "  <thead>\n",
       "    <tr style=\"text-align: right;\">\n",
       "      <th></th>\n",
       "      <th></th>\n",
       "      <th></th>\n",
       "      <th>SSS</th>\n",
       "      <th>SST</th>\n",
       "      <th>MLD</th>\n",
       "      <th>Chl</th>\n",
       "      <th>XCO2</th>\n",
       "      <th>T0</th>\n",
       "      <th>T1</th>\n",
       "      <th>A</th>\n",
       "      <th>B</th>\n",
       "      <th>C</th>\n",
       "    </tr>\n",
       "    <tr>\n",
       "      <th>xlon</th>\n",
       "      <th>ylat</th>\n",
       "      <th>time</th>\n",
       "      <th></th>\n",
       "      <th></th>\n",
       "      <th></th>\n",
       "      <th></th>\n",
       "      <th></th>\n",
       "      <th></th>\n",
       "      <th></th>\n",
       "      <th></th>\n",
       "      <th></th>\n",
       "      <th></th>\n",
       "    </tr>\n",
       "  </thead>\n",
       "  <tbody>\n",
       "    <tr>\n",
       "      <th rowspan=\"5\" valign=\"top\">-179.5</th>\n",
       "      <th rowspan=\"5\" valign=\"top\">-77.5</th>\n",
       "      <th>1996-12-15</th>\n",
       "      <td>34.519566</td>\n",
       "      <td>-1.687043</td>\n",
       "      <td>214.616638</td>\n",
       "      <td>2.408046</td>\n",
       "      <td>362.937073</td>\n",
       "      <td>0.966848</td>\n",
       "      <td>-0.255353</td>\n",
       "      <td>-0.976296</td>\n",
       "      <td>-0.001889</td>\n",
       "      <td>0.216431</td>\n",
       "    </tr>\n",
       "    <tr>\n",
       "      <th>1997-01-15</th>\n",
       "      <td>34.359451</td>\n",
       "      <td>0.538524</td>\n",
       "      <td>18.861521</td>\n",
       "      <td>7.900837</td>\n",
       "      <td>363.078552</td>\n",
       "      <td>0.966848</td>\n",
       "      <td>0.255353</td>\n",
       "      <td>-0.976296</td>\n",
       "      <td>-0.001889</td>\n",
       "      <td>0.216431</td>\n",
       "    </tr>\n",
       "    <tr>\n",
       "      <th>1998-01-15</th>\n",
       "      <td>34.372940</td>\n",
       "      <td>-0.129260</td>\n",
       "      <td>48.051937</td>\n",
       "      <td>8.482795</td>\n",
       "      <td>365.225403</td>\n",
       "      <td>0.966848</td>\n",
       "      <td>0.255353</td>\n",
       "      <td>-0.976296</td>\n",
       "      <td>-0.001889</td>\n",
       "      <td>0.216431</td>\n",
       "    </tr>\n",
       "    <tr>\n",
       "      <th>2000-02-15</th>\n",
       "      <td>34.287220</td>\n",
       "      <td>2.750365</td>\n",
       "      <td>19.898767</td>\n",
       "      <td>0.205808</td>\n",
       "      <td>368.928192</td>\n",
       "      <td>0.702527</td>\n",
       "      <td>0.711657</td>\n",
       "      <td>-0.976296</td>\n",
       "      <td>-0.001889</td>\n",
       "      <td>0.216431</td>\n",
       "    </tr>\n",
       "    <tr>\n",
       "      <th>2003-01-15</th>\n",
       "      <td>34.288605</td>\n",
       "      <td>-0.362210</td>\n",
       "      <td>22.430550</td>\n",
       "      <td>8.158799</td>\n",
       "      <td>374.658783</td>\n",
       "      <td>0.966848</td>\n",
       "      <td>0.255353</td>\n",
       "      <td>-0.976296</td>\n",
       "      <td>-0.001889</td>\n",
       "      <td>0.216431</td>\n",
       "    </tr>\n",
       "    <tr>\n",
       "      <th>...</th>\n",
       "      <th>...</th>\n",
       "      <th>...</th>\n",
       "      <td>...</td>\n",
       "      <td>...</td>\n",
       "      <td>...</td>\n",
       "      <td>...</td>\n",
       "      <td>...</td>\n",
       "      <td>...</td>\n",
       "      <td>...</td>\n",
       "      <td>...</td>\n",
       "      <td>...</td>\n",
       "      <td>...</td>\n",
       "    </tr>\n",
       "    <tr>\n",
       "      <th rowspan=\"5\" valign=\"top\">179.5</th>\n",
       "      <th>17.5</th>\n",
       "      <th>2007-11-15</th>\n",
       "      <td>34.276356</td>\n",
       "      <td>27.798658</td>\n",
       "      <td>48.323456</td>\n",
       "      <td>0.127090</td>\n",
       "      <td>384.370575</td>\n",
       "      <td>0.702527</td>\n",
       "      <td>-0.711657</td>\n",
       "      <td>0.300706</td>\n",
       "      <td>0.008323</td>\n",
       "      <td>0.953681</td>\n",
       "    </tr>\n",
       "    <tr>\n",
       "      <th>-19.5</th>\n",
       "      <th>2012-04-15</th>\n",
       "      <td>34.280399</td>\n",
       "      <td>28.382263</td>\n",
       "      <td>26.312674</td>\n",
       "      <td>0.102510</td>\n",
       "      <td>394.503143</td>\n",
       "      <td>-0.251190</td>\n",
       "      <td>0.967938</td>\n",
       "      <td>-0.333807</td>\n",
       "      <td>0.008226</td>\n",
       "      <td>0.942606</td>\n",
       "    </tr>\n",
       "    <tr>\n",
       "      <th>-9.5</th>\n",
       "      <th>1990-09-15</th>\n",
       "      <td>34.241367</td>\n",
       "      <td>27.799450</td>\n",
       "      <td>66.605515</td>\n",
       "      <td>0.214787</td>\n",
       "      <td>354.576385</td>\n",
       "      <td>-0.267814</td>\n",
       "      <td>-0.963471</td>\n",
       "      <td>-0.165048</td>\n",
       "      <td>0.008607</td>\n",
       "      <td>0.986248</td>\n",
       "    </tr>\n",
       "    <tr>\n",
       "      <th>58.5</th>\n",
       "      <th>1999-09-15</th>\n",
       "      <td>32.401649</td>\n",
       "      <td>9.241363</td>\n",
       "      <td>21.441675</td>\n",
       "      <td>0.457617</td>\n",
       "      <td>368.289978</td>\n",
       "      <td>-0.267814</td>\n",
       "      <td>-0.963471</td>\n",
       "      <td>0.852640</td>\n",
       "      <td>0.004560</td>\n",
       "      <td>0.522479</td>\n",
       "    </tr>\n",
       "    <tr>\n",
       "      <th>57.5</th>\n",
       "      <th>2011-08-15</th>\n",
       "      <td>32.590153</td>\n",
       "      <td>7.691035</td>\n",
       "      <td>18.062695</td>\n",
       "      <td>2.989490</td>\n",
       "      <td>392.907837</td>\n",
       "      <td>-0.720667</td>\n",
       "      <td>-0.693281</td>\n",
       "      <td>0.843391</td>\n",
       "      <td>0.004689</td>\n",
       "      <td>0.537279</td>\n",
       "    </tr>\n",
       "  </tbody>\n",
       "</table>\n",
       "<p>198577 rows × 10 columns</p>\n",
       "</div>"
      ],
      "text/plain": [
       "                               SSS        SST         MLD       Chl  \\\n",
       "xlon   ylat  time                                                     \n",
       "-179.5 -77.5 1996-12-15  34.519566  -1.687043  214.616638  2.408046   \n",
       "             1997-01-15  34.359451   0.538524   18.861521  7.900837   \n",
       "             1998-01-15  34.372940  -0.129260   48.051937  8.482795   \n",
       "             2000-02-15  34.287220   2.750365   19.898767  0.205808   \n",
       "             2003-01-15  34.288605  -0.362210   22.430550  8.158799   \n",
       "...                            ...        ...         ...       ...   \n",
       " 179.5  17.5 2007-11-15  34.276356  27.798658   48.323456  0.127090   \n",
       "       -19.5 2012-04-15  34.280399  28.382263   26.312674  0.102510   \n",
       "       -9.5  1990-09-15  34.241367  27.799450   66.605515  0.214787   \n",
       "        58.5 1999-09-15  32.401649   9.241363   21.441675  0.457617   \n",
       "        57.5 2011-08-15  32.590153   7.691035   18.062695  2.989490   \n",
       "\n",
       "                               XCO2        T0        T1         A         B  \\\n",
       "xlon   ylat  time                                                             \n",
       "-179.5 -77.5 1996-12-15  362.937073  0.966848 -0.255353 -0.976296 -0.001889   \n",
       "             1997-01-15  363.078552  0.966848  0.255353 -0.976296 -0.001889   \n",
       "             1998-01-15  365.225403  0.966848  0.255353 -0.976296 -0.001889   \n",
       "             2000-02-15  368.928192  0.702527  0.711657 -0.976296 -0.001889   \n",
       "             2003-01-15  374.658783  0.966848  0.255353 -0.976296 -0.001889   \n",
       "...                             ...       ...       ...       ...       ...   \n",
       " 179.5  17.5 2007-11-15  384.370575  0.702527 -0.711657  0.300706  0.008323   \n",
       "       -19.5 2012-04-15  394.503143 -0.251190  0.967938 -0.333807  0.008226   \n",
       "       -9.5  1990-09-15  354.576385 -0.267814 -0.963471 -0.165048  0.008607   \n",
       "        58.5 1999-09-15  368.289978 -0.267814 -0.963471  0.852640  0.004560   \n",
       "        57.5 2011-08-15  392.907837 -0.720667 -0.693281  0.843391  0.004689   \n",
       "\n",
       "                                C  \n",
       "xlon   ylat  time                  \n",
       "-179.5 -77.5 1996-12-15  0.216431  \n",
       "             1997-01-15  0.216431  \n",
       "             1998-01-15  0.216431  \n",
       "             2000-02-15  0.216431  \n",
       "             2003-01-15  0.216431  \n",
       "...                           ...  \n",
       " 179.5  17.5 2007-11-15  0.953681  \n",
       "       -19.5 2012-04-15  0.942606  \n",
       "       -9.5  1990-09-15  0.986248  \n",
       "        58.5 1999-09-15  0.522479  \n",
       "        57.5 2011-08-15  0.537279  \n",
       "\n",
       "[198577 rows x 10 columns]"
      ]
     },
     "execution_count": 4,
     "metadata": {},
     "output_type": "execute_result"
    }
   ],
   "source": [
    "X_train_df"
   ]
  },
  {
   "cell_type": "code",
   "execution_count": 5,
   "id": "4c4266d2-fc46-4189-9aab-f0f7c7fdf6b4",
   "metadata": {},
   "outputs": [
    {
     "data": {
      "text/html": [
       "<div>\n",
       "<style scoped>\n",
       "    .dataframe tbody tr th:only-of-type {\n",
       "        vertical-align: middle;\n",
       "    }\n",
       "\n",
       "    .dataframe tbody tr th {\n",
       "        vertical-align: top;\n",
       "    }\n",
       "\n",
       "    .dataframe thead th {\n",
       "        text-align: right;\n",
       "    }\n",
       "</style>\n",
       "<table border=\"1\" class=\"dataframe\">\n",
       "  <thead>\n",
       "    <tr style=\"text-align: right;\">\n",
       "      <th></th>\n",
       "      <th></th>\n",
       "      <th></th>\n",
       "      <th>pCO2</th>\n",
       "    </tr>\n",
       "    <tr>\n",
       "      <th>xlon</th>\n",
       "      <th>ylat</th>\n",
       "      <th>time</th>\n",
       "      <th></th>\n",
       "    </tr>\n",
       "  </thead>\n",
       "  <tbody>\n",
       "    <tr>\n",
       "      <th rowspan=\"5\" valign=\"top\">-179.5</th>\n",
       "      <th rowspan=\"5\" valign=\"top\">-77.5</th>\n",
       "      <th>1997-02-15</th>\n",
       "      <td>166.861496</td>\n",
       "    </tr>\n",
       "    <tr>\n",
       "      <th>2005-01-15</th>\n",
       "      <td>174.326938</td>\n",
       "    </tr>\n",
       "    <tr>\n",
       "      <th>2005-11-15</th>\n",
       "      <td>313.570954</td>\n",
       "    </tr>\n",
       "    <tr>\n",
       "      <th>2007-02-15</th>\n",
       "      <td>185.846402</td>\n",
       "    </tr>\n",
       "    <tr>\n",
       "      <th>2015-01-15</th>\n",
       "      <td>173.178833</td>\n",
       "    </tr>\n",
       "    <tr>\n",
       "      <th>...</th>\n",
       "      <th>...</th>\n",
       "      <th>...</th>\n",
       "      <td>...</td>\n",
       "    </tr>\n",
       "    <tr>\n",
       "      <th rowspan=\"5\" valign=\"top\">179.5</th>\n",
       "      <th>28.5</th>\n",
       "      <th>1994-08-15</th>\n",
       "      <td>373.648703</td>\n",
       "    </tr>\n",
       "    <tr>\n",
       "      <th>-19.5</th>\n",
       "      <th>2016-09-15</th>\n",
       "      <td>347.442384</td>\n",
       "    </tr>\n",
       "    <tr>\n",
       "      <th>-61.5</th>\n",
       "      <th>2014-03-15</th>\n",
       "      <td>375.859202</td>\n",
       "    </tr>\n",
       "    <tr>\n",
       "      <th>-44.5</th>\n",
       "      <th>2006-09-15</th>\n",
       "      <td>380.867286</td>\n",
       "    </tr>\n",
       "    <tr>\n",
       "      <th>-40.5</th>\n",
       "      <th>1998-10-15</th>\n",
       "      <td>324.730352</td>\n",
       "    </tr>\n",
       "  </tbody>\n",
       "</table>\n",
       "<p>47610 rows × 1 columns</p>\n",
       "</div>"
      ],
      "text/plain": [
       "                               pCO2\n",
       "xlon   ylat  time                  \n",
       "-179.5 -77.5 1997-02-15  166.861496\n",
       "             2005-01-15  174.326938\n",
       "             2005-11-15  313.570954\n",
       "             2007-02-15  185.846402\n",
       "             2015-01-15  173.178833\n",
       "...                             ...\n",
       " 179.5  28.5 1994-08-15  373.648703\n",
       "       -19.5 2016-09-15  347.442384\n",
       "       -61.5 2014-03-15  375.859202\n",
       "       -44.5 2006-09-15  380.867286\n",
       "       -40.5 1998-10-15  324.730352\n",
       "\n",
       "[47610 rows x 1 columns]"
      ]
     },
     "execution_count": 5,
     "metadata": {},
     "output_type": "execute_result"
    }
   ],
   "source": [
    "y_test_df"
   ]
  },
  {
   "cell_type": "markdown",
   "id": "bba546f7-3a00-4c7a-b63d-8521d7b188c0",
   "metadata": {},
   "source": [
    "### Create Numpy Arrays for Original Data"
   ]
  },
  {
   "cell_type": "code",
   "execution_count": 6,
   "id": "250d9970-c39c-418b-ad4f-fd875a207756",
   "metadata": {},
   "outputs": [],
   "source": [
    "X_original = X_df.to_numpy()         \n",
    "y_original = y_df.to_numpy().ravel() \n",
    "X_train_original = X_train_df.to_numpy() \n",
    "y_train_original = y_train_df.to_numpy().ravel()\n",
    "X_test_original = X_test_df.to_numpy()  \n",
    "y_test_original = y_test_df.to_numpy().ravel()"
   ]
  },
  {
   "cell_type": "markdown",
   "id": "3de67bf9-7fdb-433b-8f49-04798e3232e8",
   "metadata": {
    "tags": []
   },
   "source": [
    "# Preliminary NN Model using Original (Not Normalized) Input"
   ]
  },
  {
   "cell_type": "markdown",
   "id": "42e08329-b782-4318-847b-0234a2535769",
   "metadata": {},
   "source": [
    "## Build NN Model"
   ]
  },
  {
   "cell_type": "code",
   "execution_count": 7,
   "id": "b7b3285a-dfbc-4cfb-84fc-cd6059f7ce3d",
   "metadata": {},
   "outputs": [],
   "source": [
    "# NOTE that number of input layer neurons must correspond to number of predictor variables"
   ]
  },
  {
   "cell_type": "code",
   "execution_count": 8,
   "id": "e90c7b34-a656-4973-8a0f-c50bddb5711f",
   "metadata": {},
   "outputs": [],
   "source": [
    "# set hyperparameters\n",
    "n_neuron       = 64\n",
    "activation     = 'LeakyReLU'\n",
    "num_epochs     = 50\n",
    "learning_rate  = 0.001\n",
    "minibatch_size = 64\n",
    "model_num      = 1"
   ]
  },
  {
   "cell_type": "code",
   "execution_count": 9,
   "id": "8cf97663-ae3c-4382-97d8-83bfe6515261",
   "metadata": {},
   "outputs": [
    {
     "data": {
      "text/plain": [
       "1"
      ]
     },
     "execution_count": 9,
     "metadata": {},
     "output_type": "execute_result"
    }
   ],
   "source": [
    "y_train_df.shape[1]"
   ]
  },
  {
   "cell_type": "code",
   "execution_count": 10,
   "id": "861d6bf4-9a85-4007-8aea-ef6af8541e72",
   "metadata": {},
   "outputs": [
    {
     "name": "stderr",
     "output_type": "stream",
     "text": [
      "2023-01-09 19:28:12.579766: I tensorflow/core/platform/cpu_feature_guard.cc:193] This TensorFlow binary is optimized with oneAPI Deep Neural Network Library (oneDNN) to use the following CPU instructions in performance-critical operations:  SSE4.1 SSE4.2 AVX AVX2 AVX512F FMA\n",
      "To enable them in other operations, rebuild TensorFlow with the appropriate compiler flags.\n"
     ]
    }
   ],
   "source": [
    "NN_model = Sequential()\n",
    "\n",
    "NN_model.add(Dense(n_neuron, name='hidden_layer_1', activation=activation,input_shape=(X_train_df.shape[1],))) #  the 1st hidden layer \n",
    "NN_model.add(Dense(n_neuron, name='hidden_layer_2', activation=activation)) # the 2nd hidden layer\n",
    "NN_model.add(Dense(n_neuron, name='hidden_layer_3', activation=activation)) # the 3rd hidden layer\n",
    "NN_model.add(Dense(1, name='output_layer', activation='linear')) # the output layer\n",
    "\n",
    "\n",
    "NN_model.compile(loss='mse',optimizer=tf.keras.optimizers.Adam(learning_rate=learning_rate))"
   ]
  },
  {
   "cell_type": "code",
   "execution_count": 11,
   "id": "02822248-ca18-409d-93ff-bb2ffb7cfc2f",
   "metadata": {},
   "outputs": [
    {
     "name": "stdout",
     "output_type": "stream",
     "text": [
      "Model: \"sequential\"\n",
      "_________________________________________________________________\n",
      " Layer (type)                Output Shape              Param #   \n",
      "=================================================================\n",
      " hidden_layer_1 (Dense)      (None, 64)                704       \n",
      "                                                                 \n",
      " hidden_layer_2 (Dense)      (None, 64)                4160      \n",
      "                                                                 \n",
      " hidden_layer_3 (Dense)      (None, 64)                4160      \n",
      "                                                                 \n",
      " output_layer (Dense)        (None, 1)                 65        \n",
      "                                                                 \n",
      "=================================================================\n",
      "Total params: 9,089\n",
      "Trainable params: 9,089\n",
      "Non-trainable params: 0\n",
      "_________________________________________________________________\n"
     ]
    }
   ],
   "source": [
    "NN_model.summary()"
   ]
  },
  {
   "cell_type": "code",
   "execution_count": 12,
   "id": "a82e5ff7-d997-44eb-94ce-af0e37e51901",
   "metadata": {},
   "outputs": [
    {
     "name": "stdout",
     "output_type": "stream",
     "text": [
      "Epoch 1/50\n",
      "2483/2483 [==============================] - 4s 1ms/step - loss: 1311.0815 - val_loss: 787.5729\n",
      "Epoch 2/50\n",
      "2483/2483 [==============================] - 3s 1ms/step - loss: 801.6011 - val_loss: 733.7604\n",
      "Epoch 3/50\n",
      "2483/2483 [==============================] - 3s 1ms/step - loss: 706.9982 - val_loss: 663.4531\n",
      "Epoch 4/50\n",
      "2483/2483 [==============================] - 3s 1ms/step - loss: 641.9575 - val_loss: 617.7894\n",
      "Epoch 5/50\n",
      "2483/2483 [==============================] - 3s 1ms/step - loss: 599.1472 - val_loss: 580.2218\n",
      "Epoch 6/50\n",
      "2483/2483 [==============================] - 3s 1ms/step - loss: 535.8091 - val_loss: 677.9593\n",
      "Epoch 7/50\n",
      "2483/2483 [==============================] - 3s 1ms/step - loss: 475.1862 - val_loss: 489.0060\n",
      "Epoch 8/50\n",
      "2483/2483 [==============================] - 3s 1ms/step - loss: 434.2048 - val_loss: 484.9232\n",
      "Epoch 9/50\n",
      "2483/2483 [==============================] - 3s 1ms/step - loss: 410.1913 - val_loss: 694.4598\n",
      "Epoch 10/50\n",
      "2483/2483 [==============================] - 3s 1ms/step - loss: 390.1196 - val_loss: 691.5696\n",
      "Epoch 11/50\n",
      "2483/2483 [==============================] - 3s 1ms/step - loss: 368.9242 - val_loss: 465.6608\n",
      "Epoch 12/50\n",
      "2483/2483 [==============================] - 3s 1ms/step - loss: 358.6665 - val_loss: 440.2685\n",
      "Epoch 13/50\n",
      "2483/2483 [==============================] - 3s 1ms/step - loss: 344.7772 - val_loss: 470.7961\n",
      "Epoch 14/50\n",
      "2483/2483 [==============================] - 3s 1ms/step - loss: 334.9619 - val_loss: 419.8952\n",
      "Epoch 15/50\n",
      "2483/2483 [==============================] - 3s 1ms/step - loss: 322.7236 - val_loss: 524.0661\n",
      "Epoch 16/50\n",
      "2483/2483 [==============================] - 3s 1ms/step - loss: 305.3317 - val_loss: 481.0434\n",
      "Epoch 17/50\n",
      "2483/2483 [==============================] - 3s 1ms/step - loss: 291.5426 - val_loss: 388.2113\n",
      "Epoch 18/50\n",
      "2483/2483 [==============================] - 3s 1ms/step - loss: 277.2234 - val_loss: 541.6361\n",
      "Epoch 19/50\n",
      "2483/2483 [==============================] - 3s 1ms/step - loss: 265.4127 - val_loss: 469.8127\n",
      "Epoch 20/50\n",
      "2483/2483 [==============================] - 3s 1ms/step - loss: 251.5298 - val_loss: 523.5367\n",
      "Epoch 21/50\n",
      "2483/2483 [==============================] - 3s 1ms/step - loss: 243.7637 - val_loss: 363.2522\n",
      "Epoch 22/50\n",
      "2483/2483 [==============================] - 3s 1ms/step - loss: 235.7207 - val_loss: 392.2392\n",
      "Epoch 23/50\n",
      "2483/2483 [==============================] - 3s 1ms/step - loss: 232.1074 - val_loss: 339.7093\n",
      "Epoch 24/50\n",
      "2483/2483 [==============================] - 3s 1ms/step - loss: 222.8198 - val_loss: 376.3405\n",
      "Epoch 25/50\n",
      "2483/2483 [==============================] - 3s 1ms/step - loss: 219.4782 - val_loss: 341.4970\n",
      "Epoch 26/50\n",
      "2483/2483 [==============================] - 3s 1ms/step - loss: 213.4723 - val_loss: 359.7491\n",
      "Epoch 27/50\n",
      "2483/2483 [==============================] - 3s 1ms/step - loss: 207.8428 - val_loss: 299.3022\n",
      "Epoch 28/50\n",
      "2483/2483 [==============================] - 3s 1ms/step - loss: 204.1745 - val_loss: 319.2930\n",
      "Epoch 29/50\n",
      "2483/2483 [==============================] - 3s 1ms/step - loss: 198.4897 - val_loss: 381.2565\n",
      "Epoch 30/50\n",
      "2483/2483 [==============================] - 3s 1ms/step - loss: 197.2438 - val_loss: 342.5171\n",
      "Epoch 31/50\n",
      "2483/2483 [==============================] - 3s 1ms/step - loss: 193.0388 - val_loss: 340.1180\n",
      "Epoch 32/50\n",
      "2483/2483 [==============================] - 3s 1ms/step - loss: 193.6684 - val_loss: 346.4468\n",
      "Epoch 33/50\n",
      "2483/2483 [==============================] - 3s 1ms/step - loss: 189.1455 - val_loss: 378.4265\n",
      "Epoch 34/50\n",
      "2483/2483 [==============================] - 3s 1ms/step - loss: 185.8084 - val_loss: 333.5336\n",
      "Epoch 35/50\n",
      "2483/2483 [==============================] - 3s 1ms/step - loss: 184.2685 - val_loss: 326.5532\n",
      "Epoch 36/50\n",
      "2483/2483 [==============================] - 3s 1ms/step - loss: 181.6077 - val_loss: 370.8704\n",
      "Epoch 37/50\n",
      "2483/2483 [==============================] - 3s 1ms/step - loss: 178.4317 - val_loss: 415.9940\n",
      "Epoch 38/50\n",
      "2483/2483 [==============================] - 3s 1ms/step - loss: 178.6149 - val_loss: 340.1613\n",
      "Epoch 39/50\n",
      "2483/2483 [==============================] - 3s 1ms/step - loss: 176.8657 - val_loss: 360.9021\n",
      "Epoch 40/50\n",
      "2483/2483 [==============================] - 3s 1ms/step - loss: 174.8267 - val_loss: 322.7292\n",
      "Epoch 41/50\n",
      "2483/2483 [==============================] - 3s 1ms/step - loss: 171.5216 - val_loss: 312.1256\n",
      "Epoch 42/50\n",
      "2483/2483 [==============================] - 3s 1ms/step - loss: 171.8494 - val_loss: 326.4589\n",
      "Epoch 43/50\n",
      "2483/2483 [==============================] - 3s 1ms/step - loss: 170.5628 - val_loss: 328.5932\n",
      "Epoch 44/50\n",
      "2483/2483 [==============================] - 3s 1ms/step - loss: 168.8022 - val_loss: 296.1342\n",
      "Epoch 45/50\n",
      "2483/2483 [==============================] - 3s 1ms/step - loss: 168.3557 - val_loss: 363.0708\n",
      "Epoch 46/50\n",
      "2483/2483 [==============================] - 3s 1ms/step - loss: 166.8502 - val_loss: 278.7795\n",
      "Epoch 47/50\n",
      "2483/2483 [==============================] - 3s 1ms/step - loss: 165.7403 - val_loss: 308.5295\n",
      "Epoch 48/50\n",
      "2483/2483 [==============================] - 3s 1ms/step - loss: 162.6626 - val_loss: 378.3798\n",
      "Epoch 49/50\n",
      "2483/2483 [==============================] - 3s 1ms/step - loss: 163.1373 - val_loss: 335.5896\n",
      "Epoch 50/50\n",
      "2483/2483 [==============================] - 3s 1ms/step - loss: 160.2544 - val_loss: 333.8207\n"
     ]
    }
   ],
   "source": [
    "early_stop = keras.callbacks.EarlyStopping(monitor='val_loss', patience=20)\n",
    "\n",
    "\n",
    "history = NN_model.fit(X_train_df, y_train_df, \n",
    "                            batch_size      = minibatch_size,\n",
    "                            epochs          = num_epochs,\n",
    "                            validation_split= 0.2, \n",
    "                            verbose         = 1,\n",
    "                            callbacks       = [early_stop])"
   ]
  },
  {
   "cell_type": "markdown",
   "id": "5843abae-50f3-4b33-b9db-159af1f0a68e",
   "metadata": {},
   "source": [
    "## Initial Checks"
   ]
  },
  {
   "cell_type": "markdown",
   "id": "bcee3774-5f25-4e80-81d9-c420444c052a",
   "metadata": {},
   "source": [
    "Can see that validation loss reaches minimums and jumps around, plot to see if trend indicates overfitting"
   ]
  },
  {
   "cell_type": "code",
   "execution_count": 14,
   "id": "f76ef8f7-3b30-4721-86a5-445039ff4774",
   "metadata": {},
   "outputs": [
    {
     "data": {
      "text/plain": [
       "Text(0.5, 1.0, 'Preliminary NN with Original Dataframe Input')"
      ]
     },
     "execution_count": 14,
     "metadata": {},
     "output_type": "execute_result"
    },
    {
     "data": {
      "image/png": "[encoded data removed]",
      "text/plain": [
       "<Figure size 640x480 with 1 Axes>"
      ]
     },
     "metadata": {},
     "output_type": "display_data"
    }
   ],
   "source": [
    "model_utils.plot_history(history)\n",
    "plt.title('Preliminary NN with Original Dataframe Input')"
   ]
  },
  {
   "cell_type": "markdown",
   "id": "5ce96e48-ff81-409c-abe2-ec5d06680489",
   "metadata": {},
   "source": [
    "- Indicates that the model isn't generalizing well\n",
    "- While the training loss goes down substantially, the validation loss does not show the same trend. Instead, it remains (relatively) high and jumps around.\n",
    "    - Completely fine, just signals that hyperparameter tuning will be needed (as expected)"
   ]
  },
  {
   "cell_type": "code",
   "execution_count": null,
   "id": "1dfdf458-c037-4f8f-8325-0bf6b901fb2b",
   "metadata": {},
   "outputs": [],
   "source": [
    "#Normalize so more comparable to other plot"
   ]
  },
  {
   "cell_type": "code",
   "execution_count": null,
   "id": "1fe75f2e-66a9-4bad-bfe8-77299a2bc04e",
   "metadata": {},
   "outputs": [],
   "source": [
    "#history.history.keys()"
   ]
  },
  {
   "cell_type": "code",
   "execution_count": null,
   "id": "a8f9771e-9445-4dc2-96aa-99e79af1dbea",
   "metadata": {},
   "outputs": [],
   "source": [
    "#norm_loss = (history.history['loss'] - np.mean(history.history['loss'])) / np.std(history.history['loss'])"
   ]
  },
  {
   "cell_type": "code",
   "execution_count": null,
   "id": "76e9dddf-6b24-4a24-baeb-d5480e018d04",
   "metadata": {},
   "outputs": [],
   "source": [
    "#norm_val_loss = (history.history['val_loss'] - np.mean(history.history['val_loss'])) / np.std(history.history['val_loss'])"
   ]
  },
  {
   "cell_type": "code",
   "execution_count": null,
   "id": "6c23f6d5-334b-4e46-b430-d11bd79ce3f1",
   "metadata": {},
   "outputs": [],
   "source": [
    "#x_ax = history.epoch\n",
    "#plt.plot(x_ax, norm_loss, label=\"training\")\n",
    "#plt.plot(x_ax, norm_val_loss, label=\"validation\")\n",
    "#plt.title(\"Normalized Training and Validation Loss over Epochs\")\n",
    "#plt.legend()\n",
    "#plt.show()"
   ]
  },
  {
   "cell_type": "markdown",
   "id": "4cd1d5c5-879f-48f2-a86e-6d67008a584c",
   "metadata": {},
   "source": [
    "## Save NN Model"
   ]
  },
  {
   "cell_type": "code",
   "execution_count": 15,
   "id": "0b11fdfc-ff6a-406e-9e2c-d9f5dc602a91",
   "metadata": {},
   "outputs": [],
   "source": [
    "# after training, save:\n",
    "NN_model.save(os.path.join(recon_model_path,'NN_model_prelim_originaldf2.h5'))"
   ]
  },
  {
   "cell_type": "markdown",
   "id": "984a61ba-79d8-4b49-aad8-2ae339817221",
   "metadata": {},
   "source": [
    "## Test NN Model"
   ]
  },
  {
   "cell_type": "code",
   "execution_count": 16,
   "id": "0dcbadfc-c85d-4ef8-bbaa-de43baf89406",
   "metadata": {},
   "outputs": [],
   "source": [
    "# then reload before start working with test data\n",
    "NN_prelim_model = load_model(os.path.join(recon_model_path,'NN_model_prelim_originaldf2.h5'))"
   ]
  },
  {
   "cell_type": "code",
   "execution_count": 17,
   "id": "ee887813-7c03-4130-a95b-87758a3e5626",
   "metadata": {},
   "outputs": [
    {
     "name": "stdout",
     "output_type": "stream",
     "text": [
      "1488/1488 [==============================] - 1s 666us/step\n",
      "MSE: 233.60\n"
     ]
    }
   ],
   "source": [
    "y_pred = NN_prelim_model.predict(X_test_df)\n",
    "mse = mean_squared_error(y_test_df, y_pred)\n",
    "print(\"MSE: %.2f\" % mse)"
   ]
  },
  {
   "cell_type": "code",
   "execution_count": 18,
   "id": "a3b17020-f0ed-4ded-abb4-054328118aae",
   "metadata": {},
   "outputs": [
    {
     "data": {
      "image/png": "[encoded data removed]",
      "text/plain": [
       "<Figure size 640x480 with 1 Axes>"
      ]
     },
     "metadata": {},
     "output_type": "display_data"
    }
   ],
   "source": [
    "x_ax = range(len(y_test_df))\n",
    "plt.plot(x_ax, y_test_df, label=\"original\")\n",
    "plt.plot(x_ax, y_pred, label=\"predicted\")\n",
    "plt.title(\"pC02 Test and Predicted Data for Preliminary NN with Original Dataframe Input\")\n",
    "plt.legend()\n",
    "plt.show()"
   ]
  },
  {
   "cell_type": "markdown",
   "id": "68a63253-e16d-4233-9e6e-ee67aaa14c9c",
   "metadata": {
    "tags": []
   },
   "source": [
    "# Preliminary NN Model using Original Numpy Input"
   ]
  },
  {
   "cell_type": "markdown",
   "id": "1579870a-7bad-45dc-87fa-0b2910156cb9",
   "metadata": {},
   "source": [
    "## Build NN Model"
   ]
  },
  {
   "cell_type": "code",
   "execution_count": 19,
   "id": "e526d3e4-5630-4eef-887d-b7fd4ae7cac5",
   "metadata": {},
   "outputs": [],
   "source": [
    "# set hyperparameters\n",
    "n_neuron       = 64\n",
    "activation     = 'LeakyReLU'\n",
    "num_epochs     = 50\n",
    "learning_rate  = 0.001\n",
    "minibatch_size = 64\n",
    "model_num      = 1"
   ]
  },
  {
   "cell_type": "code",
   "execution_count": 20,
   "id": "563b3712-be27-4f75-8fb0-afdb221811af",
   "metadata": {},
   "outputs": [
    {
     "data": {
      "text/plain": [
       "10"
      ]
     },
     "execution_count": 20,
     "metadata": {},
     "output_type": "execute_result"
    }
   ],
   "source": [
    "X_train_original.shape[1]"
   ]
  },
  {
   "cell_type": "code",
   "execution_count": 21,
   "id": "5cd50301-8638-4168-9f7f-d1bac1f0b3ad",
   "metadata": {},
   "outputs": [],
   "source": [
    "NN_model_on = Sequential()\n",
    "\n",
    "NN_model_on.add(Dense(n_neuron,  activation=activation,input_shape=(X_train_original.shape[1],))) #  the 1st hidden layer \n",
    "NN_model_on.add(Dense(n_neuron,  activation=activation)) # the 2nd hidden layer\n",
    "NN_model_on.add(Dense(n_neuron,  activation=activation)) # the 3rd hidden layer\n",
    "NN_model_on.add(Dense(1,  activation='linear')) # the output layer\n",
    "\n",
    "\n",
    "NN_model_on.compile(loss='mse',optimizer=tf.keras.optimizers.Adam(learning_rate=learning_rate))"
   ]
  },
  {
   "cell_type": "code",
   "execution_count": 22,
   "id": "723a26af-4be5-425d-a30a-7e28fb8742b1",
   "metadata": {},
   "outputs": [
    {
     "name": "stdout",
     "output_type": "stream",
     "text": [
      "Model: \"sequential_1\"\n",
      "_________________________________________________________________\n",
      " Layer (type)                Output Shape              Param #   \n",
      "=================================================================\n",
      " dense (Dense)               (None, 64)                704       \n",
      "                                                                 \n",
      " dense_1 (Dense)             (None, 64)                4160      \n",
      "                                                                 \n",
      " dense_2 (Dense)             (None, 64)                4160      \n",
      "                                                                 \n",
      " dense_3 (Dense)             (None, 1)                 65        \n",
      "                                                                 \n",
      "=================================================================\n",
      "Total params: 9,089\n",
      "Trainable params: 9,089\n",
      "Non-trainable params: 0\n",
      "_________________________________________________________________\n"
     ]
    }
   ],
   "source": [
    "NN_model_on.summary()"
   ]
  },
  {
   "cell_type": "markdown",
   "id": "4742246d-2fc7-4033-b839-7e9222b6e204",
   "metadata": {},
   "source": [
    "## Train NN Model"
   ]
  },
  {
   "cell_type": "code",
   "execution_count": 23,
   "id": "d2e60e27-a5cc-4d98-97b5-e5cac65ea233",
   "metadata": {},
   "outputs": [
    {
     "name": "stdout",
     "output_type": "stream",
     "text": [
      "Epoch 1/50\n",
      "2483/2483 [==============================] - 4s 1ms/step - loss: 1443.2778 - val_loss: 961.5924\n",
      "Epoch 2/50\n",
      "2483/2483 [==============================] - 3s 1ms/step - loss: 821.7379 - val_loss: 745.8525\n",
      "Epoch 3/50\n",
      "2483/2483 [==============================] - 3s 1ms/step - loss: 711.0809 - val_loss: 773.9365\n",
      "Epoch 4/50\n",
      "2483/2483 [==============================] - 3s 1ms/step - loss: 657.1293 - val_loss: 673.5639\n",
      "Epoch 5/50\n",
      "2483/2483 [==============================] - 3s 1ms/step - loss: 614.1435 - val_loss: 584.9130\n",
      "Epoch 6/50\n",
      "2483/2483 [==============================] - 3s 1ms/step - loss: 554.4302 - val_loss: 489.9801\n",
      "Epoch 7/50\n",
      "2483/2483 [==============================] - 3s 1ms/step - loss: 478.4497 - val_loss: 545.0214\n",
      "Epoch 8/50\n",
      "2483/2483 [==============================] - 3s 1ms/step - loss: 425.1944 - val_loss: 394.3022\n",
      "Epoch 9/50\n",
      "2483/2483 [==============================] - 3s 1ms/step - loss: 393.9578 - val_loss: 445.1561\n",
      "Epoch 10/50\n",
      "2483/2483 [==============================] - 3s 1ms/step - loss: 369.4010 - val_loss: 377.8158\n",
      "Epoch 11/50\n",
      "2483/2483 [==============================] - 3s 1ms/step - loss: 348.0506 - val_loss: 381.9818\n",
      "Epoch 12/50\n",
      "2483/2483 [==============================] - 3s 1ms/step - loss: 332.8946 - val_loss: 344.7924\n",
      "Epoch 13/50\n",
      "2483/2483 [==============================] - 3s 1ms/step - loss: 318.5122 - val_loss: 344.8305\n",
      "Epoch 14/50\n",
      "2483/2483 [==============================] - 3s 1ms/step - loss: 302.5283 - val_loss: 354.1030\n",
      "Epoch 15/50\n",
      "2483/2483 [==============================] - 3s 1ms/step - loss: 281.9862 - val_loss: 386.9542\n",
      "Epoch 16/50\n",
      "2483/2483 [==============================] - 3s 1ms/step - loss: 271.4163 - val_loss: 346.2885\n",
      "Epoch 17/50\n",
      "2483/2483 [==============================] - 3s 1ms/step - loss: 261.9848 - val_loss: 307.3462\n",
      "Epoch 18/50\n",
      "2483/2483 [==============================] - 3s 1ms/step - loss: 252.8656 - val_loss: 316.8918\n",
      "Epoch 19/50\n",
      "2483/2483 [==============================] - 3s 1ms/step - loss: 244.3050 - val_loss: 321.6883\n",
      "Epoch 20/50\n",
      "2483/2483 [==============================] - 3s 1ms/step - loss: 237.3627 - val_loss: 307.5961\n",
      "Epoch 21/50\n",
      "2483/2483 [==============================] - 3s 1ms/step - loss: 230.7572 - val_loss: 342.4569\n",
      "Epoch 22/50\n",
      "2483/2483 [==============================] - 3s 1ms/step - loss: 228.0040 - val_loss: 357.3557\n",
      "Epoch 23/50\n",
      "2483/2483 [==============================] - 3s 1ms/step - loss: 221.2908 - val_loss: 364.6091\n",
      "Epoch 24/50\n",
      "2483/2483 [==============================] - 3s 1ms/step - loss: 215.8642 - val_loss: 297.0251\n",
      "Epoch 25/50\n",
      "2483/2483 [==============================] - 3s 1ms/step - loss: 213.0440 - val_loss: 292.9594\n",
      "Epoch 26/50\n",
      "2483/2483 [==============================] - 3s 1ms/step - loss: 207.3721 - val_loss: 331.9376\n",
      "Epoch 27/50\n",
      "2483/2483 [==============================] - 3s 1ms/step - loss: 205.5489 - val_loss: 297.4898\n",
      "Epoch 28/50\n",
      "2483/2483 [==============================] - 3s 1ms/step - loss: 201.9104 - val_loss: 329.0607\n",
      "Epoch 29/50\n",
      "2483/2483 [==============================] - 3s 1ms/step - loss: 196.8890 - val_loss: 269.7206\n",
      "Epoch 30/50\n",
      "2483/2483 [==============================] - 3s 1ms/step - loss: 194.0423 - val_loss: 311.7566\n",
      "Epoch 31/50\n",
      "2483/2483 [==============================] - 3s 1ms/step - loss: 194.4839 - val_loss: 275.4714\n",
      "Epoch 32/50\n",
      "2483/2483 [==============================] - 3s 1ms/step - loss: 189.7547 - val_loss: 296.8663\n",
      "Epoch 33/50\n",
      "2483/2483 [==============================] - 3s 1ms/step - loss: 186.6440 - val_loss: 256.1356\n",
      "Epoch 34/50\n",
      "2483/2483 [==============================] - 3s 1ms/step - loss: 185.3949 - val_loss: 322.4575\n",
      "Epoch 35/50\n",
      "2483/2483 [==============================] - 3s 1ms/step - loss: 179.0505 - val_loss: 259.9316\n",
      "Epoch 36/50\n",
      "2483/2483 [==============================] - 3s 1ms/step - loss: 178.8993 - val_loss: 310.6867\n",
      "Epoch 37/50\n",
      "2483/2483 [==============================] - 3s 1ms/step - loss: 178.1770 - val_loss: 306.0297\n",
      "Epoch 38/50\n",
      "2483/2483 [==============================] - 3s 1ms/step - loss: 174.5927 - val_loss: 325.8221\n",
      "Epoch 39/50\n",
      "2483/2483 [==============================] - 3s 1ms/step - loss: 173.3093 - val_loss: 287.1696\n",
      "Epoch 40/50\n",
      "2483/2483 [==============================] - 3s 1ms/step - loss: 171.1493 - val_loss: 276.1192\n",
      "Epoch 41/50\n",
      "2483/2483 [==============================] - 3s 1ms/step - loss: 168.0527 - val_loss: 275.6961\n",
      "Epoch 42/50\n",
      "2483/2483 [==============================] - 3s 1ms/step - loss: 168.4466 - val_loss: 260.6989\n",
      "Epoch 43/50\n",
      "2483/2483 [==============================] - 3s 1ms/step - loss: 167.5048 - val_loss: 260.5871\n",
      "Epoch 44/50\n",
      "2483/2483 [==============================] - 3s 1ms/step - loss: 164.9646 - val_loss: 303.5966\n",
      "Epoch 45/50\n",
      "2483/2483 [==============================] - 3s 1ms/step - loss: 164.0793 - val_loss: 317.0725\n",
      "Epoch 46/50\n",
      "2483/2483 [==============================] - 3s 1ms/step - loss: 161.0969 - val_loss: 287.4472\n",
      "Epoch 47/50\n",
      "2483/2483 [==============================] - 3s 1ms/step - loss: 161.4494 - val_loss: 278.1962\n",
      "Epoch 48/50\n",
      "2483/2483 [==============================] - 3s 1ms/step - loss: 160.3280 - val_loss: 314.3526\n",
      "Epoch 49/50\n",
      "2483/2483 [==============================] - 3s 1ms/step - loss: 158.0152 - val_loss: 274.5877\n",
      "Epoch 50/50\n",
      "2483/2483 [==============================] - 3s 1ms/step - loss: 156.5670 - val_loss: 288.1833\n"
     ]
    }
   ],
   "source": [
    "early_stop = keras.callbacks.EarlyStopping(monitor='val_loss', patience=20)\n",
    "\n",
    "\n",
    "history_on = NN_model_on.fit(X_train_original, y_train_original, \n",
    "                            batch_size      = minibatch_size,\n",
    "                            epochs          = num_epochs,\n",
    "                            validation_split= 0.2, \n",
    "                            verbose         = 1,\n",
    "                            callbacks       = [early_stop])"
   ]
  },
  {
   "cell_type": "markdown",
   "id": "d28472c8-7daa-459d-8d4b-97cae8bd9a4f",
   "metadata": {},
   "source": [
    "## Initial Checks"
   ]
  },
  {
   "cell_type": "code",
   "execution_count": 24,
   "id": "1890c796-7e92-49cc-8dbf-d7b39916bc42",
   "metadata": {},
   "outputs": [
    {
     "data": {
      "text/plain": [
       "Text(0.5, 1.0, 'Preliminary NN with Original Numpy Input')"
      ]
     },
     "execution_count": 24,
     "metadata": {},
     "output_type": "execute_result"
    },
    {
     "data": {
      "image/png": "[encoded data removed]",
      "text/plain": [
       "<Figure size 640x480 with 1 Axes>"
      ]
     },
     "metadata": {},
     "output_type": "display_data"
    }
   ],
   "source": [
    "model_utils.plot_history(history_on)\n",
    "plt.title('Preliminary NN with Original Numpy Input')"
   ]
  },
  {
   "cell_type": "markdown",
   "id": "7b8f49d5-0013-4918-9ecd-f411f47330dd",
   "metadata": {},
   "source": [
    "## Save NN Model"
   ]
  },
  {
   "cell_type": "code",
   "execution_count": 25,
   "id": "b466c3a2-4784-4e25-bf35-0cb311011666",
   "metadata": {},
   "outputs": [],
   "source": [
    "# after training, save:\n",
    "NN_model_on.save(os.path.join(recon_model_path,'NN_model_prelim_originalnumpy2.h5'))"
   ]
  },
  {
   "cell_type": "markdown",
   "id": "3e4d9d50-9b48-40a4-8a4d-a9e608bda47e",
   "metadata": {},
   "source": [
    "## Test NN Model"
   ]
  },
  {
   "cell_type": "code",
   "execution_count": 26,
   "id": "9aaace4d-aecf-430c-9b79-6658806b5b75",
   "metadata": {},
   "outputs": [],
   "source": [
    "NN_model_on = load_model(os.path.join(recon_model_path,'NN_model_prelim_originalnumpy2.h5'))"
   ]
  },
  {
   "cell_type": "code",
   "execution_count": 27,
   "id": "015ee9e8-f69b-4be2-b5e0-2321d9b95934",
   "metadata": {},
   "outputs": [
    {
     "name": "stdout",
     "output_type": "stream",
     "text": [
      "1488/1488 [==============================] - 1s 712us/step\n",
      "MSE: 198.64\n"
     ]
    }
   ],
   "source": [
    "y_pred_on = NN_model_on.predict(X_test_original)\n",
    "mse = mean_squared_error(y_test_original, y_pred_on)\n",
    "print(\"MSE: %.2f\" % mse)"
   ]
  },
  {
   "cell_type": "code",
   "execution_count": 28,
   "id": "b70a2356-3b97-4c36-a600-665f3126c27c",
   "metadata": {},
   "outputs": [
    {
     "data": {
      "image/png": "[encoded data removed]",
      "text/plain": [
       "<Figure size 640x480 with 1 Axes>"
      ]
     },
     "metadata": {},
     "output_type": "display_data"
    }
   ],
   "source": [
    "x_ax = range(len(y_test_original))\n",
    "plt.plot(x_ax, y_test_original, label=\"original\")\n",
    "plt.plot(x_ax, y_pred_on, label=\"predicted\")\n",
    "plt.title(\"pC02 Test and Predicted Data for Preliminary NN with Original Numpy Input\")\n",
    "plt.legend()\n",
    "plt.show()"
   ]
  },
  {
   "cell_type": "markdown",
   "id": "d3184119-5595-4ac1-8982-c44a75113b6a",
   "metadata": {
    "tags": []
   },
   "source": [
    "# Create Normalized Dataframes"
   ]
  },
  {
   "cell_type": "markdown",
   "id": "98239f49-9280-4cf4-8b9a-4c7cf49664fd",
   "metadata": {},
   "source": [
    "*Note: Done here, as opposed to in test/train split, so that I can save the original train/test datasets and later determine whether normalization led to improvement. (My group has not historically normalized data before training.)*"
   ]
  },
  {
   "cell_type": "markdown",
   "id": "d060b9f6-3b19-49a1-af35-599546707aab",
   "metadata": {},
   "source": [
    "ALSO note, done after the above test on original dataframes because method overwrites original dataframes, need to debug this"
   ]
  },
  {
   "cell_type": "code",
   "execution_count": 29,
   "id": "7ecee45b-abdc-42e3-a85f-bb2f6500b2c9",
   "metadata": {
    "tags": []
   },
   "outputs": [],
   "source": [
    "#X_df_norm = (X_df - X_df.mean())/X_df.std() \n",
    "#y_df_norm = (y_df - y_df.mean())/y_df.std()\n",
    "#X_train_df_norm = (X_train_df - X_train_df.mean())/X_train_df.std()\n",
    "#y_train_df_norm = (y_train_df - y_train_df.mean())/y_train_df.std()\n",
    "#X_test_df_norm = (X_test_df - X_test_df.mean())/X_test_df.std()\n",
    "#y_test_df_norm = (y_test_df - y_test_df.mean())/y_test_df.std()"
   ]
  },
  {
   "cell_type": "markdown",
   "id": "53a44e58-fe0c-4e2b-ae5f-48f7ebd3e59b",
   "metadata": {},
   "source": [
    "CHANGE METHOD TO BELOW\n",
    "- This way, time and lat/lon conversions are not normalized\n",
    "- Note that coordinates don't seem to be input into ML algorithms, so T0,T1,A,B,C are the inputs of time and space (as would want, don't want two forms of time and space input)"
   ]
  },
  {
   "cell_type": "code",
   "execution_count": 30,
   "id": "777794ce-51e9-4ad8-869e-1a88fbe4e05f",
   "metadata": {},
   "outputs": [],
   "source": [
    "X_df_norm = X_df \n",
    "y_df_norm = y_df \n",
    "X_train_df_norm = X_train_df \n",
    "y_train_df_norm = y_train_df  \n",
    "X_test_df_norm = X_test_df  \n",
    "y_test_df_norm = y_test_df  "
   ]
  },
  {
   "cell_type": "code",
   "execution_count": 31,
   "id": "b36ff75f-4674-436d-8c3b-5583defcd3cb",
   "metadata": {
    "tags": []
   },
   "outputs": [],
   "source": [
    "for df in X_df_norm, X_train_df_norm, X_test_df_norm:\n",
    "    df.SSS = (df.SSS - df.SSS.mean())/df.SSS.std() \n",
    "    df.SST = (df.SST - df.SST.mean())/df.SST.std() \n",
    "    df.MLD = (df.MLD - df.MLD.mean())/df.MLD.std() \n",
    "    df.Chl = (df.Chl - df.Chl.mean())/df.Chl.std() \n",
    "    df.XCO2 = (df.XCO2 - df.XCO2.mean())/df.XCO2.std() \n",
    "\n",
    "for df in y_df_norm, y_train_df_norm, y_test_df_norm:\n",
    "    df.pCO2 = (df.pCO2 - df.pCO2.mean())/df.pCO2.std() "
   ]
  },
  {
   "cell_type": "code",
   "execution_count": 32,
   "id": "dda086a0-3f93-48f8-a473-dfe7204f8e9a",
   "metadata": {},
   "outputs": [
    {
     "data": {
      "text/html": [
       "<div>\n",
       "<style scoped>\n",
       "    .dataframe tbody tr th:only-of-type {\n",
       "        vertical-align: middle;\n",
       "    }\n",
       "\n",
       "    .dataframe tbody tr th {\n",
       "        vertical-align: top;\n",
       "    }\n",
       "\n",
       "    .dataframe thead th {\n",
       "        text-align: right;\n",
       "    }\n",
       "</style>\n",
       "<table border=\"1\" class=\"dataframe\">\n",
       "  <thead>\n",
       "    <tr style=\"text-align: right;\">\n",
       "      <th></th>\n",
       "      <th></th>\n",
       "      <th></th>\n",
       "      <th>SSS</th>\n",
       "      <th>SST</th>\n",
       "      <th>MLD</th>\n",
       "      <th>Chl</th>\n",
       "      <th>XCO2</th>\n",
       "      <th>T0</th>\n",
       "      <th>T1</th>\n",
       "      <th>A</th>\n",
       "      <th>B</th>\n",
       "      <th>C</th>\n",
       "    </tr>\n",
       "    <tr>\n",
       "      <th>xlon</th>\n",
       "      <th>ylat</th>\n",
       "      <th>time</th>\n",
       "      <th></th>\n",
       "      <th></th>\n",
       "      <th></th>\n",
       "      <th></th>\n",
       "      <th></th>\n",
       "      <th></th>\n",
       "      <th></th>\n",
       "      <th></th>\n",
       "      <th></th>\n",
       "      <th></th>\n",
       "    </tr>\n",
       "  </thead>\n",
       "  <tbody>\n",
       "    <tr>\n",
       "      <th rowspan=\"5\" valign=\"top\">-179.5</th>\n",
       "      <th rowspan=\"5\" valign=\"top\">-77.5</th>\n",
       "      <th>1996-12-15</th>\n",
       "      <td>-0.012027</td>\n",
       "      <td>-2.158344</td>\n",
       "      <td>1.757647</td>\n",
       "      <td>2.447165</td>\n",
       "      <td>-1.290389</td>\n",
       "      <td>0.966848</td>\n",
       "      <td>-0.255353</td>\n",
       "      <td>-0.976296</td>\n",
       "      <td>-0.001889</td>\n",
       "      <td>0.216431</td>\n",
       "    </tr>\n",
       "    <tr>\n",
       "      <th>1997-01-15</th>\n",
       "      <td>-0.125725</td>\n",
       "      <td>-1.912520</td>\n",
       "      <td>-0.609001</td>\n",
       "      <td>9.033164</td>\n",
       "      <td>-1.281295</td>\n",
       "      <td>0.966848</td>\n",
       "      <td>0.255353</td>\n",
       "      <td>-0.976296</td>\n",
       "      <td>-0.001889</td>\n",
       "      <td>0.216431</td>\n",
       "    </tr>\n",
       "    <tr>\n",
       "      <th>1998-01-15</th>\n",
       "      <td>-0.116146</td>\n",
       "      <td>-1.986280</td>\n",
       "      <td>-0.256093</td>\n",
       "      <td>9.730947</td>\n",
       "      <td>-1.143301</td>\n",
       "      <td>0.966848</td>\n",
       "      <td>0.255353</td>\n",
       "      <td>-0.976296</td>\n",
       "      <td>-0.001889</td>\n",
       "      <td>0.216431</td>\n",
       "    </tr>\n",
       "    <tr>\n",
       "      <th>2000-02-15</th>\n",
       "      <td>-0.177016</td>\n",
       "      <td>-1.668212</td>\n",
       "      <td>-0.596461</td>\n",
       "      <td>-0.193376</td>\n",
       "      <td>-0.905294</td>\n",
       "      <td>0.702527</td>\n",
       "      <td>0.711657</td>\n",
       "      <td>-0.976296</td>\n",
       "      <td>-0.001889</td>\n",
       "      <td>0.216431</td>\n",
       "    </tr>\n",
       "    <tr>\n",
       "      <th>2003-01-15</th>\n",
       "      <td>-0.176033</td>\n",
       "      <td>-2.012010</td>\n",
       "      <td>-0.565852</td>\n",
       "      <td>9.342467</td>\n",
       "      <td>-0.536946</td>\n",
       "      <td>0.966848</td>\n",
       "      <td>0.255353</td>\n",
       "      <td>-0.976296</td>\n",
       "      <td>-0.001889</td>\n",
       "      <td>0.216431</td>\n",
       "    </tr>\n",
       "    <tr>\n",
       "      <th>...</th>\n",
       "      <th>...</th>\n",
       "      <th>...</th>\n",
       "      <td>...</td>\n",
       "      <td>...</td>\n",
       "      <td>...</td>\n",
       "      <td>...</td>\n",
       "      <td>...</td>\n",
       "      <td>...</td>\n",
       "      <td>...</td>\n",
       "      <td>...</td>\n",
       "      <td>...</td>\n",
       "      <td>...</td>\n",
       "    </tr>\n",
       "    <tr>\n",
       "      <th rowspan=\"5\" valign=\"top\">179.5</th>\n",
       "      <th>17.5</th>\n",
       "      <th>2007-11-15</th>\n",
       "      <td>-0.184731</td>\n",
       "      <td>1.098486</td>\n",
       "      <td>-0.252811</td>\n",
       "      <td>-0.287760</td>\n",
       "      <td>0.087305</td>\n",
       "      <td>0.702527</td>\n",
       "      <td>-0.711657</td>\n",
       "      <td>0.300706</td>\n",
       "      <td>0.008323</td>\n",
       "      <td>0.953681</td>\n",
       "    </tr>\n",
       "    <tr>\n",
       "      <th>-19.5</th>\n",
       "      <th>2012-04-15</th>\n",
       "      <td>-0.181860</td>\n",
       "      <td>1.162948</td>\n",
       "      <td>-0.518918</td>\n",
       "      <td>-0.317233</td>\n",
       "      <td>0.738602</td>\n",
       "      <td>-0.251190</td>\n",
       "      <td>0.967938</td>\n",
       "      <td>-0.333807</td>\n",
       "      <td>0.008226</td>\n",
       "      <td>0.942606</td>\n",
       "    </tr>\n",
       "    <tr>\n",
       "      <th>-9.5</th>\n",
       "      <th>1990-09-15</th>\n",
       "      <td>-0.209576</td>\n",
       "      <td>1.098573</td>\n",
       "      <td>-0.031784</td>\n",
       "      <td>-0.182610</td>\n",
       "      <td>-1.827794</td>\n",
       "      <td>-0.267814</td>\n",
       "      <td>-0.963471</td>\n",
       "      <td>-0.165048</td>\n",
       "      <td>0.008607</td>\n",
       "      <td>0.986248</td>\n",
       "    </tr>\n",
       "    <tr>\n",
       "      <th>58.5</th>\n",
       "      <th>1999-09-15</th>\n",
       "      <td>-1.515965</td>\n",
       "      <td>-0.951252</td>\n",
       "      <td>-0.577807</td>\n",
       "      <td>0.108549</td>\n",
       "      <td>-0.946317</td>\n",
       "      <td>-0.267814</td>\n",
       "      <td>-0.963471</td>\n",
       "      <td>0.852640</td>\n",
       "      <td>0.004560</td>\n",
       "      <td>0.522479</td>\n",
       "    </tr>\n",
       "    <tr>\n",
       "      <th>57.5</th>\n",
       "      <th>2011-08-15</th>\n",
       "      <td>-1.382108</td>\n",
       "      <td>-1.122492</td>\n",
       "      <td>-0.618659</td>\n",
       "      <td>3.144331</td>\n",
       "      <td>0.636059</td>\n",
       "      <td>-0.720667</td>\n",
       "      <td>-0.693281</td>\n",
       "      <td>0.843391</td>\n",
       "      <td>0.004689</td>\n",
       "      <td>0.537279</td>\n",
       "    </tr>\n",
       "  </tbody>\n",
       "</table>\n",
       "<p>198577 rows × 10 columns</p>\n",
       "</div>"
      ],
      "text/plain": [
       "                              SSS       SST       MLD       Chl      XCO2  \\\n",
       "xlon   ylat  time                                                           \n",
       "-179.5 -77.5 1996-12-15 -0.012027 -2.158344  1.757647  2.447165 -1.290389   \n",
       "             1997-01-15 -0.125725 -1.912520 -0.609001  9.033164 -1.281295   \n",
       "             1998-01-15 -0.116146 -1.986280 -0.256093  9.730947 -1.143301   \n",
       "             2000-02-15 -0.177016 -1.668212 -0.596461 -0.193376 -0.905294   \n",
       "             2003-01-15 -0.176033 -2.012010 -0.565852  9.342467 -0.536946   \n",
       "...                           ...       ...       ...       ...       ...   \n",
       " 179.5  17.5 2007-11-15 -0.184731  1.098486 -0.252811 -0.287760  0.087305   \n",
       "       -19.5 2012-04-15 -0.181860  1.162948 -0.518918 -0.317233  0.738602   \n",
       "       -9.5  1990-09-15 -0.209576  1.098573 -0.031784 -0.182610 -1.827794   \n",
       "        58.5 1999-09-15 -1.515965 -0.951252 -0.577807  0.108549 -0.946317   \n",
       "        57.5 2011-08-15 -1.382108 -1.122492 -0.618659  3.144331  0.636059   \n",
       "\n",
       "                               T0        T1         A         B         C  \n",
       "xlon   ylat  time                                                          \n",
       "-179.5 -77.5 1996-12-15  0.966848 -0.255353 -0.976296 -0.001889  0.216431  \n",
       "             1997-01-15  0.966848  0.255353 -0.976296 -0.001889  0.216431  \n",
       "             1998-01-15  0.966848  0.255353 -0.976296 -0.001889  0.216431  \n",
       "             2000-02-15  0.702527  0.711657 -0.976296 -0.001889  0.216431  \n",
       "             2003-01-15  0.966848  0.255353 -0.976296 -0.001889  0.216431  \n",
       "...                           ...       ...       ...       ...       ...  \n",
       " 179.5  17.5 2007-11-15  0.702527 -0.711657  0.300706  0.008323  0.953681  \n",
       "       -19.5 2012-04-15 -0.251190  0.967938 -0.333807  0.008226  0.942606  \n",
       "       -9.5  1990-09-15 -0.267814 -0.963471 -0.165048  0.008607  0.986248  \n",
       "        58.5 1999-09-15 -0.267814 -0.963471  0.852640  0.004560  0.522479  \n",
       "        57.5 2011-08-15 -0.720667 -0.693281  0.843391  0.004689  0.537279  \n",
       "\n",
       "[198577 rows x 10 columns]"
      ]
     },
     "execution_count": 32,
     "metadata": {},
     "output_type": "execute_result"
    }
   ],
   "source": [
    "X_train_df_norm"
   ]
  },
  {
   "cell_type": "code",
   "execution_count": 33,
   "id": "f04b08bb-f4f5-4ba5-8eb9-5ab8c85e6d9b",
   "metadata": {},
   "outputs": [
    {
     "data": {
      "text/html": [
       "<div>\n",
       "<style scoped>\n",
       "    .dataframe tbody tr th:only-of-type {\n",
       "        vertical-align: middle;\n",
       "    }\n",
       "\n",
       "    .dataframe tbody tr th {\n",
       "        vertical-align: top;\n",
       "    }\n",
       "\n",
       "    .dataframe thead th {\n",
       "        text-align: right;\n",
       "    }\n",
       "</style>\n",
       "<table border=\"1\" class=\"dataframe\">\n",
       "  <thead>\n",
       "    <tr style=\"text-align: right;\">\n",
       "      <th></th>\n",
       "      <th></th>\n",
       "      <th></th>\n",
       "      <th>SSS</th>\n",
       "      <th>SST</th>\n",
       "      <th>MLD</th>\n",
       "      <th>Chl</th>\n",
       "      <th>XCO2</th>\n",
       "      <th>T0</th>\n",
       "      <th>T1</th>\n",
       "      <th>A</th>\n",
       "      <th>B</th>\n",
       "      <th>C</th>\n",
       "    </tr>\n",
       "    <tr>\n",
       "      <th>xlon</th>\n",
       "      <th>ylat</th>\n",
       "      <th>time</th>\n",
       "      <th></th>\n",
       "      <th></th>\n",
       "      <th></th>\n",
       "      <th></th>\n",
       "      <th></th>\n",
       "      <th></th>\n",
       "      <th></th>\n",
       "      <th></th>\n",
       "      <th></th>\n",
       "      <th></th>\n",
       "    </tr>\n",
       "  </thead>\n",
       "  <tbody>\n",
       "    <tr>\n",
       "      <th rowspan=\"5\" valign=\"top\">-179.5</th>\n",
       "      <th rowspan=\"5\" valign=\"top\">-77.5</th>\n",
       "      <th>1996-12-15</th>\n",
       "      <td>-0.012027</td>\n",
       "      <td>-2.158344</td>\n",
       "      <td>1.757647</td>\n",
       "      <td>2.447165</td>\n",
       "      <td>-1.290389</td>\n",
       "      <td>0.966848</td>\n",
       "      <td>-0.255353</td>\n",
       "      <td>-0.976296</td>\n",
       "      <td>-0.001889</td>\n",
       "      <td>0.216431</td>\n",
       "    </tr>\n",
       "    <tr>\n",
       "      <th>1997-01-15</th>\n",
       "      <td>-0.125725</td>\n",
       "      <td>-1.912520</td>\n",
       "      <td>-0.609001</td>\n",
       "      <td>9.033164</td>\n",
       "      <td>-1.281295</td>\n",
       "      <td>0.966848</td>\n",
       "      <td>0.255353</td>\n",
       "      <td>-0.976296</td>\n",
       "      <td>-0.001889</td>\n",
       "      <td>0.216431</td>\n",
       "    </tr>\n",
       "    <tr>\n",
       "      <th>1998-01-15</th>\n",
       "      <td>-0.116146</td>\n",
       "      <td>-1.986280</td>\n",
       "      <td>-0.256093</td>\n",
       "      <td>9.730947</td>\n",
       "      <td>-1.143301</td>\n",
       "      <td>0.966848</td>\n",
       "      <td>0.255353</td>\n",
       "      <td>-0.976296</td>\n",
       "      <td>-0.001889</td>\n",
       "      <td>0.216431</td>\n",
       "    </tr>\n",
       "    <tr>\n",
       "      <th>2000-02-15</th>\n",
       "      <td>-0.177016</td>\n",
       "      <td>-1.668212</td>\n",
       "      <td>-0.596461</td>\n",
       "      <td>-0.193376</td>\n",
       "      <td>-0.905294</td>\n",
       "      <td>0.702527</td>\n",
       "      <td>0.711657</td>\n",
       "      <td>-0.976296</td>\n",
       "      <td>-0.001889</td>\n",
       "      <td>0.216431</td>\n",
       "    </tr>\n",
       "    <tr>\n",
       "      <th>2003-01-15</th>\n",
       "      <td>-0.176033</td>\n",
       "      <td>-2.012010</td>\n",
       "      <td>-0.565852</td>\n",
       "      <td>9.342467</td>\n",
       "      <td>-0.536946</td>\n",
       "      <td>0.966848</td>\n",
       "      <td>0.255353</td>\n",
       "      <td>-0.976296</td>\n",
       "      <td>-0.001889</td>\n",
       "      <td>0.216431</td>\n",
       "    </tr>\n",
       "    <tr>\n",
       "      <th>...</th>\n",
       "      <th>...</th>\n",
       "      <th>...</th>\n",
       "      <td>...</td>\n",
       "      <td>...</td>\n",
       "      <td>...</td>\n",
       "      <td>...</td>\n",
       "      <td>...</td>\n",
       "      <td>...</td>\n",
       "      <td>...</td>\n",
       "      <td>...</td>\n",
       "      <td>...</td>\n",
       "      <td>...</td>\n",
       "    </tr>\n",
       "    <tr>\n",
       "      <th rowspan=\"5\" valign=\"top\">179.5</th>\n",
       "      <th>17.5</th>\n",
       "      <th>2007-11-15</th>\n",
       "      <td>-0.184731</td>\n",
       "      <td>1.098486</td>\n",
       "      <td>-0.252811</td>\n",
       "      <td>-0.287760</td>\n",
       "      <td>0.087305</td>\n",
       "      <td>0.702527</td>\n",
       "      <td>-0.711657</td>\n",
       "      <td>0.300706</td>\n",
       "      <td>0.008323</td>\n",
       "      <td>0.953681</td>\n",
       "    </tr>\n",
       "    <tr>\n",
       "      <th>-19.5</th>\n",
       "      <th>2012-04-15</th>\n",
       "      <td>-0.181860</td>\n",
       "      <td>1.162948</td>\n",
       "      <td>-0.518918</td>\n",
       "      <td>-0.317233</td>\n",
       "      <td>0.738602</td>\n",
       "      <td>-0.251190</td>\n",
       "      <td>0.967938</td>\n",
       "      <td>-0.333807</td>\n",
       "      <td>0.008226</td>\n",
       "      <td>0.942606</td>\n",
       "    </tr>\n",
       "    <tr>\n",
       "      <th>-9.5</th>\n",
       "      <th>1990-09-15</th>\n",
       "      <td>-0.209576</td>\n",
       "      <td>1.098573</td>\n",
       "      <td>-0.031784</td>\n",
       "      <td>-0.182610</td>\n",
       "      <td>-1.827794</td>\n",
       "      <td>-0.267814</td>\n",
       "      <td>-0.963471</td>\n",
       "      <td>-0.165048</td>\n",
       "      <td>0.008607</td>\n",
       "      <td>0.986248</td>\n",
       "    </tr>\n",
       "    <tr>\n",
       "      <th>58.5</th>\n",
       "      <th>1999-09-15</th>\n",
       "      <td>-1.515965</td>\n",
       "      <td>-0.951252</td>\n",
       "      <td>-0.577807</td>\n",
       "      <td>0.108549</td>\n",
       "      <td>-0.946317</td>\n",
       "      <td>-0.267814</td>\n",
       "      <td>-0.963471</td>\n",
       "      <td>0.852640</td>\n",
       "      <td>0.004560</td>\n",
       "      <td>0.522479</td>\n",
       "    </tr>\n",
       "    <tr>\n",
       "      <th>57.5</th>\n",
       "      <th>2011-08-15</th>\n",
       "      <td>-1.382108</td>\n",
       "      <td>-1.122492</td>\n",
       "      <td>-0.618659</td>\n",
       "      <td>3.144331</td>\n",
       "      <td>0.636059</td>\n",
       "      <td>-0.720667</td>\n",
       "      <td>-0.693281</td>\n",
       "      <td>0.843391</td>\n",
       "      <td>0.004689</td>\n",
       "      <td>0.537279</td>\n",
       "    </tr>\n",
       "  </tbody>\n",
       "</table>\n",
       "<p>198577 rows × 10 columns</p>\n",
       "</div>"
      ],
      "text/plain": [
       "                              SSS       SST       MLD       Chl      XCO2  \\\n",
       "xlon   ylat  time                                                           \n",
       "-179.5 -77.5 1996-12-15 -0.012027 -2.158344  1.757647  2.447165 -1.290389   \n",
       "             1997-01-15 -0.125725 -1.912520 -0.609001  9.033164 -1.281295   \n",
       "             1998-01-15 -0.116146 -1.986280 -0.256093  9.730947 -1.143301   \n",
       "             2000-02-15 -0.177016 -1.668212 -0.596461 -0.193376 -0.905294   \n",
       "             2003-01-15 -0.176033 -2.012010 -0.565852  9.342467 -0.536946   \n",
       "...                           ...       ...       ...       ...       ...   \n",
       " 179.5  17.5 2007-11-15 -0.184731  1.098486 -0.252811 -0.287760  0.087305   \n",
       "       -19.5 2012-04-15 -0.181860  1.162948 -0.518918 -0.317233  0.738602   \n",
       "       -9.5  1990-09-15 -0.209576  1.098573 -0.031784 -0.182610 -1.827794   \n",
       "        58.5 1999-09-15 -1.515965 -0.951252 -0.577807  0.108549 -0.946317   \n",
       "        57.5 2011-08-15 -1.382108 -1.122492 -0.618659  3.144331  0.636059   \n",
       "\n",
       "                               T0        T1         A         B         C  \n",
       "xlon   ylat  time                                                          \n",
       "-179.5 -77.5 1996-12-15  0.966848 -0.255353 -0.976296 -0.001889  0.216431  \n",
       "             1997-01-15  0.966848  0.255353 -0.976296 -0.001889  0.216431  \n",
       "             1998-01-15  0.966848  0.255353 -0.976296 -0.001889  0.216431  \n",
       "             2000-02-15  0.702527  0.711657 -0.976296 -0.001889  0.216431  \n",
       "             2003-01-15  0.966848  0.255353 -0.976296 -0.001889  0.216431  \n",
       "...                           ...       ...       ...       ...       ...  \n",
       " 179.5  17.5 2007-11-15  0.702527 -0.711657  0.300706  0.008323  0.953681  \n",
       "       -19.5 2012-04-15 -0.251190  0.967938 -0.333807  0.008226  0.942606  \n",
       "       -9.5  1990-09-15 -0.267814 -0.963471 -0.165048  0.008607  0.986248  \n",
       "        58.5 1999-09-15 -0.267814 -0.963471  0.852640  0.004560  0.522479  \n",
       "        57.5 2011-08-15 -0.720667 -0.693281  0.843391  0.004689  0.537279  \n",
       "\n",
       "[198577 rows x 10 columns]"
      ]
     },
     "execution_count": 33,
     "metadata": {},
     "output_type": "execute_result"
    }
   ],
   "source": [
    "X_train_df"
   ]
  },
  {
   "cell_type": "markdown",
   "id": "51b73140-80a7-4b39-92a8-7358f18fa4c6",
   "metadata": {},
   "source": [
    "Recreate original dataframes, as they are getting overwritten by the above process "
   ]
  },
  {
   "cell_type": "code",
   "execution_count": 56,
   "id": "3f2fc0f1-68f2-4f6b-8654-0da9fd58b27b",
   "metadata": {},
   "outputs": [],
   "source": [
    "X_df = xr.open_dataset('/home/julias/MLEE-final-project/proc_data/split_datasets/X.nc').to_dataframe().dropna()\n",
    "y_df = xr.open_dataset('/home/julias/MLEE-final-project/proc_data/split_datasets/y.nc').to_dataframe().dropna() \n",
    "X_train_df = xr.open_dataset('/home/julias/MLEE-final-project/proc_data/split_datasets/X_train.nc').to_dataframe().dropna() \n",
    "y_train_df = xr.open_dataset('/home/julias/MLEE-final-project/proc_data/split_datasets/y_train.nc').to_dataframe().dropna()\n",
    "X_test_df = xr.open_dataset('/home/julias/MLEE-final-project/proc_data/split_datasets/X_test.nc').to_dataframe().dropna() \n",
    "y_test_df = xr.open_dataset('/home/julias/MLEE-final-project/proc_data/split_datasets/y_test.nc').to_dataframe().dropna() "
   ]
  },
  {
   "cell_type": "markdown",
   "id": "7d239bf1-164e-44cf-8b9f-e98c4e8f1905",
   "metadata": {},
   "source": [
    "## Create Numpy Arrays "
   ]
  },
  {
   "cell_type": "code",
   "execution_count": 34,
   "id": "730e8d54-4cea-4f53-8ad2-6141f0f8d197",
   "metadata": {},
   "outputs": [],
   "source": [
    "X_n = X_df_norm.to_numpy()         \n",
    "y_n = y_df_norm.to_numpy().ravel() \n",
    "X_train_n = X_train_df_norm.to_numpy()\n",
    "y_train_n = y_train_df_norm.to_numpy().ravel()\n",
    "X_test_n = X_test_df_norm.to_numpy() \n",
    "y_test_n = y_test_df_norm.to_numpy().ravel()"
   ]
  },
  {
   "cell_type": "code",
   "execution_count": 35,
   "id": "85d9c436-a026-40b7-bc63-dd4d45484650",
   "metadata": {},
   "outputs": [
    {
     "data": {
      "text/plain": [
       "(246187, 10)"
      ]
     },
     "execution_count": 35,
     "metadata": {},
     "output_type": "execute_result"
    }
   ],
   "source": [
    "X_n.shape"
   ]
  },
  {
   "cell_type": "markdown",
   "id": "0c0238b1-8c3a-46fb-8726-7d157ea07066",
   "metadata": {
    "tags": []
   },
   "source": [
    "# Preliminary NN Model using Normalized Input"
   ]
  },
  {
   "cell_type": "markdown",
   "id": "8d07a232-3847-4085-ac2b-a8299dc52b8c",
   "metadata": {},
   "source": [
    "## Build NN Model"
   ]
  },
  {
   "cell_type": "code",
   "execution_count": 36,
   "id": "84323fd7-e2d9-4157-8bea-14299df57876",
   "metadata": {},
   "outputs": [],
   "source": [
    "# set hyperparameters\n",
    "n_neuron       = 64\n",
    "activation     = 'LeakyReLU'\n",
    "num_epochs     = 50\n",
    "learning_rate  = 0.001\n",
    "minibatch_size = 64\n",
    "model_num      = 1"
   ]
  },
  {
   "cell_type": "code",
   "execution_count": 37,
   "id": "b63d3b5b-cf4f-45b3-b99b-2593d468a23e",
   "metadata": {},
   "outputs": [
    {
     "data": {
      "text/plain": [
       "10"
      ]
     },
     "execution_count": 37,
     "metadata": {},
     "output_type": "execute_result"
    }
   ],
   "source": [
    "X_train_df_norm.shape[1]"
   ]
  },
  {
   "cell_type": "code",
   "execution_count": 38,
   "id": "934ce14a-d99b-421b-aeb1-e4300596c39c",
   "metadata": {},
   "outputs": [],
   "source": [
    "NN_model_nprelim = Sequential()\n",
    "\n",
    "NN_model_nprelim.add(Dense(n_neuron,  activation=activation,input_shape=(X_train_df_norm.shape[1],))) #  the 1st hidden layer \n",
    "NN_model_nprelim.add(Dense(n_neuron,  activation=activation)) # the 2nd hidden layer\n",
    "NN_model_nprelim.add(Dense(n_neuron,  activation=activation)) # the 3rd hidden layer\n",
    "NN_model_nprelim.add(Dense(1,  activation='linear')) # the output layer\n",
    "\n",
    "\n",
    "NN_model_nprelim.compile(loss='mse',optimizer=tf.keras.optimizers.Adam(learning_rate=learning_rate))"
   ]
  },
  {
   "cell_type": "code",
   "execution_count": 39,
   "id": "415335b8-85d1-466d-b8c1-eb1f7cd4edff",
   "metadata": {},
   "outputs": [
    {
     "name": "stdout",
     "output_type": "stream",
     "text": [
      "Model: \"sequential_2\"\n",
      "_________________________________________________________________\n",
      " Layer (type)                Output Shape              Param #   \n",
      "=================================================================\n",
      " dense_4 (Dense)             (None, 64)                704       \n",
      "                                                                 \n",
      " dense_5 (Dense)             (None, 64)                4160      \n",
      "                                                                 \n",
      " dense_6 (Dense)             (None, 64)                4160      \n",
      "                                                                 \n",
      " dense_7 (Dense)             (None, 1)                 65        \n",
      "                                                                 \n",
      "=================================================================\n",
      "Total params: 9,089\n",
      "Trainable params: 9,089\n",
      "Non-trainable params: 0\n",
      "_________________________________________________________________\n"
     ]
    }
   ],
   "source": [
    "NN_model_nprelim.summary()"
   ]
  },
  {
   "cell_type": "markdown",
   "id": "5bcf7a2a-12a0-448c-8173-bdfc581669a4",
   "metadata": {},
   "source": [
    "## Train NN Model"
   ]
  },
  {
   "cell_type": "code",
   "execution_count": 40,
   "id": "cfb0bc27-0d98-433b-b157-248b247f3a80",
   "metadata": {},
   "outputs": [
    {
     "name": "stdout",
     "output_type": "stream",
     "text": [
      "Epoch 1/50\n",
      "2483/2483 [==============================] - 4s 1ms/step - loss: 0.2155 - val_loss: 0.2054\n",
      "Epoch 2/50\n",
      "2483/2483 [==============================] - 3s 1ms/step - loss: 0.1231 - val_loss: 0.1674\n",
      "Epoch 3/50\n",
      "2483/2483 [==============================] - 3s 1ms/step - loss: 0.1053 - val_loss: 0.1585\n",
      "Epoch 4/50\n",
      "2483/2483 [==============================] - 3s 1ms/step - loss: 0.0972 - val_loss: 0.1352\n",
      "Epoch 5/50\n",
      "2483/2483 [==============================] - 3s 1ms/step - loss: 0.0911 - val_loss: 0.1451\n",
      "Epoch 6/50\n",
      "2483/2483 [==============================] - 3s 1ms/step - loss: 0.0867 - val_loss: 0.1470\n",
      "Epoch 7/50\n",
      "2483/2483 [==============================] - 3s 1ms/step - loss: 0.0834 - val_loss: 0.1342\n",
      "Epoch 8/50\n",
      "2483/2483 [==============================] - 3s 1ms/step - loss: 0.0802 - val_loss: 0.1288\n",
      "Epoch 9/50\n",
      "2483/2483 [==============================] - 3s 1ms/step - loss: 0.0780 - val_loss: 0.1314\n",
      "Epoch 10/50\n",
      "2483/2483 [==============================] - 3s 1ms/step - loss: 0.0754 - val_loss: 0.1401\n",
      "Epoch 11/50\n",
      "2483/2483 [==============================] - 3s 1ms/step - loss: 0.0735 - val_loss: 0.1478\n",
      "Epoch 12/50\n",
      "2483/2483 [==============================] - 3s 1ms/step - loss: 0.0721 - val_loss: 0.1253\n",
      "Epoch 13/50\n",
      "2483/2483 [==============================] - 3s 1ms/step - loss: 0.0710 - val_loss: 0.1668\n",
      "Epoch 14/50\n",
      "2483/2483 [==============================] - 3s 1ms/step - loss: 0.0693 - val_loss: 0.1297\n",
      "Epoch 15/50\n",
      "2483/2483 [==============================] - 3s 1ms/step - loss: 0.0676 - val_loss: 0.1320\n",
      "Epoch 16/50\n",
      "2483/2483 [==============================] - 3s 1ms/step - loss: 0.0671 - val_loss: 0.1156\n",
      "Epoch 17/50\n",
      "2483/2483 [==============================] - 3s 1ms/step - loss: 0.0657 - val_loss: 0.1146\n",
      "Epoch 18/50\n",
      "2483/2483 [==============================] - 3s 1ms/step - loss: 0.0647 - val_loss: 0.1122\n",
      "Epoch 19/50\n",
      "2483/2483 [==============================] - 3s 1ms/step - loss: 0.0637 - val_loss: 0.1314\n",
      "Epoch 20/50\n",
      "2483/2483 [==============================] - 3s 1ms/step - loss: 0.0628 - val_loss: 0.1244\n",
      "Epoch 21/50\n",
      "2483/2483 [==============================] - 3s 1ms/step - loss: 0.0627 - val_loss: 0.1316\n",
      "Epoch 22/50\n",
      "2483/2483 [==============================] - 3s 1ms/step - loss: 0.0616 - val_loss: 0.1178\n",
      "Epoch 23/50\n",
      "2483/2483 [==============================] - 3s 1ms/step - loss: 0.0610 - val_loss: 0.1179\n",
      "Epoch 24/50\n",
      "2483/2483 [==============================] - 3s 1ms/step - loss: 0.0604 - val_loss: 0.1156\n",
      "Epoch 25/50\n",
      "2483/2483 [==============================] - 3s 1ms/step - loss: 0.0600 - val_loss: 0.1262\n",
      "Epoch 26/50\n",
      "2483/2483 [==============================] - 3s 1ms/step - loss: 0.0592 - val_loss: 0.1385\n",
      "Epoch 27/50\n",
      "2483/2483 [==============================] - 3s 1ms/step - loss: 0.0590 - val_loss: 0.1399\n",
      "Epoch 28/50\n",
      "2483/2483 [==============================] - 3s 1ms/step - loss: 0.0581 - val_loss: 0.1201\n",
      "Epoch 29/50\n",
      "2483/2483 [==============================] - 3s 1ms/step - loss: 0.0575 - val_loss: 0.1150\n",
      "Epoch 30/50\n",
      "2483/2483 [==============================] - 3s 1ms/step - loss: 0.0568 - val_loss: 0.1214\n",
      "Epoch 31/50\n",
      "2483/2483 [==============================] - 3s 1ms/step - loss: 0.0566 - val_loss: 0.1488\n",
      "Epoch 32/50\n",
      "2483/2483 [==============================] - 3s 1ms/step - loss: 0.0566 - val_loss: 0.1159\n",
      "Epoch 33/50\n",
      "2483/2483 [==============================] - 3s 1ms/step - loss: 0.0552 - val_loss: 0.1135\n",
      "Epoch 34/50\n",
      "2483/2483 [==============================] - 3s 1ms/step - loss: 0.0553 - val_loss: 0.1341\n",
      "Epoch 35/50\n",
      "2483/2483 [==============================] - 3s 1ms/step - loss: 0.0549 - val_loss: 0.1316\n",
      "Epoch 36/50\n",
      "2483/2483 [==============================] - 3s 1ms/step - loss: 0.0544 - val_loss: 0.1038\n",
      "Epoch 37/50\n",
      "2483/2483 [==============================] - 3s 1ms/step - loss: 0.0543 - val_loss: 0.1133\n",
      "Epoch 38/50\n",
      "2483/2483 [==============================] - 3s 1ms/step - loss: 0.0534 - val_loss: 0.1083\n",
      "Epoch 39/50\n",
      "2483/2483 [==============================] - 3s 1ms/step - loss: 0.0536 - val_loss: 0.1105\n",
      "Epoch 40/50\n",
      "2483/2483 [==============================] - 3s 1ms/step - loss: 0.0535 - val_loss: 0.1152\n",
      "Epoch 41/50\n",
      "2483/2483 [==============================] - 3s 1ms/step - loss: 0.0530 - val_loss: 0.1149\n",
      "Epoch 42/50\n",
      "2483/2483 [==============================] - 3s 1ms/step - loss: 0.0527 - val_loss: 0.1077\n",
      "Epoch 43/50\n",
      "2483/2483 [==============================] - 3s 1ms/step - loss: 0.0515 - val_loss: 0.1065\n",
      "Epoch 44/50\n",
      "2483/2483 [==============================] - 3s 1ms/step - loss: 0.0517 - val_loss: 0.1204\n",
      "Epoch 45/50\n",
      "2483/2483 [==============================] - 3s 1ms/step - loss: 0.0516 - val_loss: 0.1352\n",
      "Epoch 46/50\n",
      "2483/2483 [==============================] - 3s 1ms/step - loss: 0.0510 - val_loss: 0.1199\n",
      "Epoch 47/50\n",
      "2483/2483 [==============================] - 3s 1ms/step - loss: 0.0509 - val_loss: 0.1262\n",
      "Epoch 48/50\n",
      "2483/2483 [==============================] - 3s 1ms/step - loss: 0.0511 - val_loss: 0.1209\n",
      "Epoch 49/50\n",
      "2483/2483 [==============================] - 3s 1ms/step - loss: 0.0506 - val_loss: 0.1216\n",
      "Epoch 50/50\n",
      "2483/2483 [==============================] - 3s 1ms/step - loss: 0.0505 - val_loss: 0.1052\n"
     ]
    }
   ],
   "source": [
    "early_stop = keras.callbacks.EarlyStopping(monitor='val_loss', patience=20)\n",
    "\n",
    "\n",
    "history_nprelim = NN_model_nprelim.fit(X_train_df_norm, y_train_df_norm, \n",
    "                            batch_size      = minibatch_size,\n",
    "                            epochs          = num_epochs,\n",
    "                            validation_split= 0.2, \n",
    "                            verbose         = 1,\n",
    "                            callbacks       = [early_stop])"
   ]
  },
  {
   "cell_type": "markdown",
   "id": "f8d336b5-8489-40fc-b99f-2dbfa4e938c4",
   "metadata": {},
   "source": [
    "## Initial Checks"
   ]
  },
  {
   "cell_type": "code",
   "execution_count": 41,
   "id": "d0311032-0eb4-417a-8fbc-6b635ea81613",
   "metadata": {},
   "outputs": [
    {
     "data": {
      "text/plain": [
       "Text(0.5, 1.0, 'Preliminary NN with Normalized Dataframe Input')"
      ]
     },
     "execution_count": 41,
     "metadata": {},
     "output_type": "execute_result"
    },
    {
     "data": {
      "image/png": "[encoded data removed]",
      "text/plain": [
       "<Figure size 640x480 with 1 Axes>"
      ]
     },
     "metadata": {},
     "output_type": "display_data"
    }
   ],
   "source": [
    "model_utils.plot_history(history_nprelim)\n",
    "plt.title('Preliminary NN with Normalized Dataframe Input')"
   ]
  },
  {
   "cell_type": "markdown",
   "id": "79be0e9f-eeaa-43cb-bb7a-c5b0db7e55d5",
   "metadata": {},
   "source": [
    "## Save NN Model"
   ]
  },
  {
   "cell_type": "code",
   "execution_count": 42,
   "id": "1ab8e74d-fc66-4cdf-aa39-04663b8b456f",
   "metadata": {},
   "outputs": [],
   "source": [
    "# after training, save:\n",
    "NN_model_nprelim.save(os.path.join(recon_model_path,'NN_model_prelim_normdf2.h5'))"
   ]
  },
  {
   "cell_type": "markdown",
   "id": "d3a12c36-5dc7-4419-846d-32f1eb6eff74",
   "metadata": {},
   "source": [
    "## Test NN Model"
   ]
  },
  {
   "cell_type": "code",
   "execution_count": 43,
   "id": "a0986fca-abd8-4005-bb0c-38d1d6fcc430",
   "metadata": {},
   "outputs": [],
   "source": [
    "NN_model_nprelim = load_model(os.path.join(recon_model_path,'NN_model_prelim_normdf2.h5'))"
   ]
  },
  {
   "cell_type": "code",
   "execution_count": 44,
   "id": "e5d7b3e7-d287-4149-b802-390d562ce5dc",
   "metadata": {},
   "outputs": [
    {
     "name": "stdout",
     "output_type": "stream",
     "text": [
      "1488/1488 [==============================] - 1s 626us/step\n",
      "MSE: 0.09\n"
     ]
    }
   ],
   "source": [
    "y_pred_nprelim = NN_model_nprelim.predict(X_test_df_norm)\n",
    "mse = mean_squared_error(y_test_df_norm, y_pred_nprelim)\n",
    "print(\"MSE: %.2f\" % mse)"
   ]
  },
  {
   "cell_type": "code",
   "execution_count": 45,
   "id": "68f6783f-40f5-4f2b-84fd-613147f0a504",
   "metadata": {},
   "outputs": [
    {
     "data": {
      "image/png": "[encoded data removed]",
      "text/plain": [
       "<Figure size 640x480 with 1 Axes>"
      ]
     },
     "metadata": {},
     "output_type": "display_data"
    }
   ],
   "source": [
    "x_ax = range(len(y_test_df_norm))\n",
    "plt.plot(x_ax, y_test_df_norm, label=\"original\")\n",
    "plt.plot(x_ax, y_pred_nprelim, label=\"predicted\")\n",
    "plt.title(\"pC02 Test and Predicted Data for Preliminary NN with Normalized Dataframe Input\")\n",
    "plt.legend()\n",
    "plt.show()"
   ]
  },
  {
   "cell_type": "markdown",
   "id": "0fe42f69-d3ea-4dbd-a866-7cc25d6c7b7b",
   "metadata": {
    "tags": []
   },
   "source": [
    "# Preliminary NN Model using Normalized Numpy Input"
   ]
  },
  {
   "cell_type": "markdown",
   "id": "c7a8854d-3069-44a5-90a8-dc8debcc3b70",
   "metadata": {},
   "source": [
    "## Build NN Model"
   ]
  },
  {
   "cell_type": "code",
   "execution_count": 46,
   "id": "53b0b7f9-7fd2-4664-85a6-86e94dead6aa",
   "metadata": {},
   "outputs": [],
   "source": [
    "# set hyperparameters\n",
    "n_neuron       = 64\n",
    "activation     = 'LeakyReLU'\n",
    "num_epochs     = 50\n",
    "learning_rate  = 0.001\n",
    "minibatch_size = 64\n",
    "model_num      = 1"
   ]
  },
  {
   "cell_type": "code",
   "execution_count": 47,
   "id": "ed3bf920-9400-4ad6-842f-03d0f4abebed",
   "metadata": {},
   "outputs": [
    {
     "data": {
      "text/plain": [
       "10"
      ]
     },
     "execution_count": 47,
     "metadata": {},
     "output_type": "execute_result"
    }
   ],
   "source": [
    "X_train_n.shape[1]"
   ]
  },
  {
   "cell_type": "code",
   "execution_count": 48,
   "id": "75775626-3382-46c9-8b1f-e1598f04f737",
   "metadata": {},
   "outputs": [],
   "source": [
    "NN_model_nn = Sequential()\n",
    "\n",
    "NN_model_nn.add(Dense(n_neuron,  activation=activation,input_shape=(X_train_n.shape[1],))) #  the 1st hidden layer \n",
    "NN_model_nn.add(Dense(n_neuron,  activation=activation)) # the 2nd hidden layer\n",
    "NN_model_nn.add(Dense(n_neuron,  activation=activation)) # the 3rd hidden layer\n",
    "NN_model_nn.add(Dense(1,  activation='linear')) # the output layer\n",
    "\n",
    "\n",
    "NN_model_nn.compile(loss='mse',optimizer=tf.keras.optimizers.Adam(learning_rate=learning_rate))"
   ]
  },
  {
   "cell_type": "code",
   "execution_count": 49,
   "id": "5a3005dd-752a-4220-bccc-200c3268454b",
   "metadata": {},
   "outputs": [
    {
     "name": "stdout",
     "output_type": "stream",
     "text": [
      "Model: \"sequential_3\"\n",
      "_________________________________________________________________\n",
      " Layer (type)                Output Shape              Param #   \n",
      "=================================================================\n",
      " dense_8 (Dense)             (None, 64)                704       \n",
      "                                                                 \n",
      " dense_9 (Dense)             (None, 64)                4160      \n",
      "                                                                 \n",
      " dense_10 (Dense)            (None, 64)                4160      \n",
      "                                                                 \n",
      " dense_11 (Dense)            (None, 1)                 65        \n",
      "                                                                 \n",
      "=================================================================\n",
      "Total params: 9,089\n",
      "Trainable params: 9,089\n",
      "Non-trainable params: 0\n",
      "_________________________________________________________________\n"
     ]
    }
   ],
   "source": [
    "NN_model_nn.summary()"
   ]
  },
  {
   "cell_type": "markdown",
   "id": "22961bb1-7fd5-4b4b-b38c-c1684a7e566a",
   "metadata": {},
   "source": [
    "## Train NN Model"
   ]
  },
  {
   "cell_type": "code",
   "execution_count": 50,
   "id": "d3c92bef-cf1f-4ae9-a626-9133fbda937e",
   "metadata": {},
   "outputs": [
    {
     "name": "stdout",
     "output_type": "stream",
     "text": [
      "Epoch 1/50\n",
      "2483/2483 [==============================] - 4s 1ms/step - loss: 0.2157 - val_loss: 0.1994\n",
      "Epoch 2/50\n",
      "2483/2483 [==============================] - 3s 1ms/step - loss: 0.1255 - val_loss: 0.1640\n",
      "Epoch 3/50\n",
      "2483/2483 [==============================] - 3s 1ms/step - loss: 0.1076 - val_loss: 0.1779\n",
      "Epoch 4/50\n",
      "2483/2483 [==============================] - 3s 1ms/step - loss: 0.0986 - val_loss: 0.1565\n",
      "Epoch 5/50\n",
      "2483/2483 [==============================] - 3s 1ms/step - loss: 0.0932 - val_loss: 0.1542\n",
      "Epoch 6/50\n",
      "2483/2483 [==============================] - 3s 1ms/step - loss: 0.0873 - val_loss: 0.1536\n",
      "Epoch 7/50\n",
      "2483/2483 [==============================] - 3s 1ms/step - loss: 0.0833 - val_loss: 0.1337\n",
      "Epoch 8/50\n",
      "2483/2483 [==============================] - 3s 1ms/step - loss: 0.0809 - val_loss: 0.1836\n",
      "Epoch 9/50\n",
      "2483/2483 [==============================] - 3s 1ms/step - loss: 0.0784 - val_loss: 0.1610\n",
      "Epoch 10/50\n",
      "2483/2483 [==============================] - 3s 1ms/step - loss: 0.0758 - val_loss: 0.1280\n",
      "Epoch 11/50\n",
      "2483/2483 [==============================] - 3s 1ms/step - loss: 0.0749 - val_loss: 0.1561\n",
      "Epoch 12/50\n",
      "2483/2483 [==============================] - 3s 1ms/step - loss: 0.0718 - val_loss: 0.1264\n",
      "Epoch 13/50\n",
      "2483/2483 [==============================] - 3s 1ms/step - loss: 0.0710 - val_loss: 0.1478\n",
      "Epoch 14/50\n",
      "2483/2483 [==============================] - 3s 1ms/step - loss: 0.0694 - val_loss: 0.1249\n",
      "Epoch 15/50\n",
      "2483/2483 [==============================] - 3s 1ms/step - loss: 0.0679 - val_loss: 0.1349\n",
      "Epoch 16/50\n",
      "2483/2483 [==============================] - 3s 1ms/step - loss: 0.0677 - val_loss: 0.1381\n",
      "Epoch 17/50\n",
      "2483/2483 [==============================] - 3s 1ms/step - loss: 0.0664 - val_loss: 0.1370\n",
      "Epoch 18/50\n",
      "2483/2483 [==============================] - 3s 1ms/step - loss: 0.0653 - val_loss: 0.1344\n",
      "Epoch 19/50\n",
      "2483/2483 [==============================] - 3s 1ms/step - loss: 0.0641 - val_loss: 0.1323\n",
      "Epoch 20/50\n",
      "2483/2483 [==============================] - 3s 1ms/step - loss: 0.0638 - val_loss: 0.1467\n",
      "Epoch 21/50\n",
      "2483/2483 [==============================] - 3s 1ms/step - loss: 0.0628 - val_loss: 0.1300\n",
      "Epoch 22/50\n",
      "2483/2483 [==============================] - 3s 1ms/step - loss: 0.0621 - val_loss: 0.1699\n",
      "Epoch 23/50\n",
      "2483/2483 [==============================] - 3s 1ms/step - loss: 0.0616 - val_loss: 0.1151\n",
      "Epoch 24/50\n",
      "2483/2483 [==============================] - 4s 1ms/step - loss: 0.0609 - val_loss: 0.1821\n",
      "Epoch 25/50\n",
      "2483/2483 [==============================] - 3s 1ms/step - loss: 0.0596 - val_loss: 0.1295\n",
      "Epoch 26/50\n",
      "2483/2483 [==============================] - 3s 1ms/step - loss: 0.0598 - val_loss: 0.1288\n",
      "Epoch 27/50\n",
      "2483/2483 [==============================] - 3s 1ms/step - loss: 0.0600 - val_loss: 0.1438\n",
      "Epoch 28/50\n",
      "2483/2483 [==============================] - 3s 1ms/step - loss: 0.0584 - val_loss: 0.1239\n",
      "Epoch 29/50\n",
      "2483/2483 [==============================] - 3s 1ms/step - loss: 0.0586 - val_loss: 0.1972\n",
      "Epoch 30/50\n",
      "2483/2483 [==============================] - 4s 1ms/step - loss: 0.0580 - val_loss: 0.1471\n",
      "Epoch 31/50\n",
      "2483/2483 [==============================] - 4s 1ms/step - loss: 0.0576 - val_loss: 0.1618\n",
      "Epoch 32/50\n",
      "2483/2483 [==============================] - 3s 1ms/step - loss: 0.0574 - val_loss: 0.1201\n",
      "Epoch 33/50\n",
      "2483/2483 [==============================] - 3s 1ms/step - loss: 0.0570 - val_loss: 0.1448\n",
      "Epoch 34/50\n",
      "2483/2483 [==============================] - 3s 1ms/step - loss: 0.0560 - val_loss: 0.1242\n",
      "Epoch 35/50\n",
      "2483/2483 [==============================] - 3s 1ms/step - loss: 0.0557 - val_loss: 0.1483\n",
      "Epoch 36/50\n",
      "2483/2483 [==============================] - 4s 1ms/step - loss: 0.0554 - val_loss: 0.1621\n",
      "Epoch 37/50\n",
      "2483/2483 [==============================] - 3s 1ms/step - loss: 0.0554 - val_loss: 0.1332\n",
      "Epoch 38/50\n",
      "2483/2483 [==============================] - 3s 1ms/step - loss: 0.0545 - val_loss: 0.1335\n",
      "Epoch 39/50\n",
      "2483/2483 [==============================] - 3s 1ms/step - loss: 0.0548 - val_loss: 0.1810\n",
      "Epoch 40/50\n",
      "2483/2483 [==============================] - 3s 1ms/step - loss: 0.0545 - val_loss: 0.1430\n",
      "Epoch 41/50\n",
      "2483/2483 [==============================] - 3s 1ms/step - loss: 0.0540 - val_loss: 0.1481\n",
      "Epoch 42/50\n",
      "2483/2483 [==============================] - 3s 1ms/step - loss: 0.0536 - val_loss: 0.1583\n",
      "Epoch 43/50\n",
      "2483/2483 [==============================] - 4s 1ms/step - loss: 0.0534 - val_loss: 0.1413\n"
     ]
    }
   ],
   "source": [
    "early_stop = keras.callbacks.EarlyStopping(monitor='val_loss', patience=20)\n",
    "\n",
    "\n",
    "history_nn = NN_model_nn.fit(X_train_n, y_train_n, \n",
    "                            batch_size      = minibatch_size,\n",
    "                            epochs          = num_epochs,\n",
    "                            validation_split= 0.2, \n",
    "                            verbose         = 1,\n",
    "                            callbacks       = [early_stop])"
   ]
  },
  {
   "cell_type": "markdown",
   "id": "6a61c8d8-c47a-4d3e-bb89-4c3362d1bab6",
   "metadata": {},
   "source": [
    "## Initial Checks"
   ]
  },
  {
   "cell_type": "code",
   "execution_count": 51,
   "id": "d9ff2061-24f1-467c-9e17-0b56967fca2a",
   "metadata": {},
   "outputs": [
    {
     "data": {
      "text/plain": [
       "Text(0.5, 1.0, 'Preliminary NN with Normalized Numpy Input')"
      ]
     },
     "execution_count": 51,
     "metadata": {},
     "output_type": "execute_result"
    },
    {
     "data": {
      "image/png": "[encoded data removed]",
      "text/plain": [
       "<Figure size 640x480 with 1 Axes>"
      ]
     },
     "metadata": {},
     "output_type": "display_data"
    }
   ],
   "source": [
    "model_utils.plot_history(history_nn)\n",
    "plt.title('Preliminary NN with Normalized Numpy Input')"
   ]
  },
  {
   "cell_type": "markdown",
   "id": "8692e08a-0710-41a3-a513-e496dc7ba257",
   "metadata": {},
   "source": [
    "## Save NN Model"
   ]
  },
  {
   "cell_type": "code",
   "execution_count": 52,
   "id": "691f97e1-fdb9-4938-a9f8-1cf3fe340c71",
   "metadata": {},
   "outputs": [],
   "source": [
    "# after training, save:\n",
    "NN_model_nn.save(os.path.join(recon_model_path,'NN_model_prelim_normnumpy2.h5'))"
   ]
  },
  {
   "cell_type": "markdown",
   "id": "7fdf2c89-3c9d-445d-80da-f4c162b06dd8",
   "metadata": {},
   "source": [
    "## Test NN Model"
   ]
  },
  {
   "cell_type": "code",
   "execution_count": 53,
   "id": "dc03c361-382f-468c-ab3b-89ee0ce14b5e",
   "metadata": {},
   "outputs": [],
   "source": [
    "NN_model_nn = load_model(os.path.join(recon_model_path,'NN_model_prelim_normnumpy2.h5'))"
   ]
  },
  {
   "cell_type": "code",
   "execution_count": 54,
   "id": "4655b694-a5a0-4a64-8668-3e776958adf0",
   "metadata": {},
   "outputs": [
    {
     "name": "stdout",
     "output_type": "stream",
     "text": [
      "1488/1488 [==============================] - 1s 791us/step\n",
      "MSE: 0.09\n"
     ]
    }
   ],
   "source": [
    "y_pred_nn = NN_model_nn.predict(X_test_n)\n",
    "mse = mean_squared_error(y_test_n, y_pred_nn)\n",
    "print(\"MSE: %.2f\" % mse)"
   ]
  },
  {
   "cell_type": "code",
   "execution_count": 55,
   "id": "a84413bc-4d6f-4ada-94b2-e71e25a84885",
   "metadata": {},
   "outputs": [
    {
     "data": {
      "image/png": "[encoded data removed]",
      "text/plain": [
       "<Figure size 640x480 with 1 Axes>"
      ]
     },
     "metadata": {},
     "output_type": "display_data"
    }
   ],
   "source": [
    "x_ax = range(len(y_test_n))\n",
    "plt.plot(x_ax, y_test_n, label=\"original\")\n",
    "plt.plot(x_ax, y_pred_nn, label=\"predicted\")\n",
    "plt.title(\"pC02 Test and Predicted Data for Preliminary NN with Normalized Numpy Input\")\n",
    "plt.legend()\n",
    "plt.show()"
   ]
  },
  {
   "cell_type": "markdown",
   "id": "15331af5-9672-417c-be3c-0870d4707f1f",
   "metadata": {},
   "source": [
    "# Select Approach & Parameters"
   ]
  },
  {
   "cell_type": "markdown",
   "id": "6c304571-5689-466a-957e-29a6559d6b72",
   "metadata": {},
   "source": [
    "## Approach"
   ]
  },
  {
   "cell_type": "markdown",
   "id": "65976d40-1aac-4452-9520-a8778d7df3d7",
   "metadata": {},
   "source": [
    "- Based on preliminary experimentation, will train the NN model on original dataframes\n",
    "- Comparison completed above for group reference, as data has not historically been normalized prior to training\n",
    "- Regarding normalization\n",
    "    - Likely need to debug or investigate normalizing specific input parameters\n",
    "    - For both the dataframe and numpy normalized inputs, validation losses did not decrease with training losses. This could mean overfitting to the training set; maybe normalization makes it \"too easy\" for the algorithm to learn the training set.\n",
    "- Regarding dataframe vs numpy array\n",
    "    - The difference between dataframe and numpy input is likely not significant, as runs for original and normalized data were similar. \n",
    "    - NN based on original dataframe input had a slightly higher MSE than that based on the numpy input, but the difference likely was not significant/could be due to random variation in runs. \n",
    "    - Visually, use of the original dataframe resulted in more closely aligned predicted pCO2, particularly at the extremes. "
   ]
  },
  {
   "cell_type": "markdown",
   "id": "5606d841-9f96-4c1e-984c-f24508117dc3",
   "metadata": {},
   "source": [
    "## Parameters"
   ]
  },
  {
   "cell_type": "markdown",
   "id": "798b4107-3bea-4c70-b399-1a0a3043f17b",
   "metadata": {},
   "source": [
    "Experimentation with hyperparameters completed below"
   ]
  },
  {
   "cell_type": "markdown",
   "id": "c4aa4a3e-23f3-4ac1-991c-5a47646f6509",
   "metadata": {},
   "source": [
    "### Experiment with NN Model"
   ]
  },
  {
   "cell_type": "code",
   "execution_count": 82,
   "id": "8d051ac2-a4f7-4865-be95-60911a3881cb",
   "metadata": {},
   "outputs": [],
   "source": [
    "# First Run\n",
    "#n_neuron       = 100\n",
    "#activation     = 'LeakyReLU'\n",
    "#num_epochs     = 100\n",
    "#learning_rate  = 0.002\n",
    "#minibatch_size = 64\n",
    "#model_num      = 1\n",
    "#early_stop = keras.callbacks.EarlyStopping(monitor='val_loss', patience=20)\n",
    "\n",
    "# loss: 124.3420 - val_loss: 289.1165\n",
    "# MSE: 181.18\n",
    "# stopped after 91 epochs "
   ]
  },
  {
   "cell_type": "code",
   "execution_count": 83,
   "id": "537272d1-0f4d-4ea0-8c6f-27b74c10a88f",
   "metadata": {},
   "outputs": [],
   "source": [
    "# Second Run\n",
    "#n_neuron       = 64\n",
    "#activation     = 'LeakyReLU'\n",
    "#num_epochs     = 100\n",
    "#learning_rate  = 0.0015\n",
    "#minibatch_size = 64\n",
    "#model_num      = 1\n",
    "#early_stop = keras.callbacks.EarlyStopping(monitor='val_loss', patience=20)\n",
    "#NN_model_exp.add(Dense(n_neuron, activation=activation, name='hidden_layer_4')) # added a 4th layer\n",
    "\n",
    "# loss: mid 100s - val_loss: mid 300s\n",
    "# MSE: 228.09\n",
    "# stopped after 49 epochs "
   ]
  },
  {
   "cell_type": "code",
   "execution_count": 89,
   "id": "94b2cf29-0eec-4124-b829-24ded9d53355",
   "metadata": {},
   "outputs": [],
   "source": [
    "# Third Run\n",
    "#n_neuron       = 64\n",
    "#activation     = 'LeakyReLU'\n",
    "#num_epochs     = 100\n",
    "#learning_rate  = 0.0005\n",
    "#minibatch_size = 64\n",
    "#model_num      = 1\n",
    "#early_stop = keras.callbacks.EarlyStopping(monitor='val_loss', patience=10)\n",
    "#NN_model_exp.add(Dense(n_neuron, activation=activation, name='hidden_layer_4')) # added a 4th layer\n",
    "\n",
    "#loss: 193.3637 - val_loss: 375.5946\n",
    "# MSE:\n",
    "# stopped after 40 epochs, but at start was much more aligned"
   ]
  },
  {
   "cell_type": "code",
   "execution_count": 104,
   "id": "7763b189-40a2-440e-8c92-6d279f51b3c9",
   "metadata": {},
   "outputs": [],
   "source": [
    "# 4th and 5th runs\n",
    "#n_neuron       = 64\n",
    "#activation     = 'ReLU'\n",
    "#num_epochs     = 100\n",
    "#learning_rate  = 0.0005\n",
    "#minibatch_size = 64\n",
    "#model_num      = 1\n",
    "# and made only two hidden layers \n",
    "#early_stop = keras.callbacks.EarlyStopping(monitor='val_loss', patience=20)\n",
    "\n",
    "# MSE: 289.26, loss: 257.6627 - val_loss: 366.7357 but trend MUCH more aligned, up patience from 10 to 20, and try Relu\n",
    "\n",
    "# MSE: 267.70, loss: 225.0135 - val_loss: 318.7133, trend aligned even more, through almost all epochs"
   ]
  },
  {
   "cell_type": "code",
   "execution_count": 116,
   "id": "d3148f4e-8ba4-44c2-944a-6ba9c770b55d",
   "metadata": {},
   "outputs": [],
   "source": [
    "# 6th run\n",
    "#n_neuron       = 100\n",
    "#activation     = 'ReLU'\n",
    "#num_epochs     = 100\n",
    "#learning_rate  = 0.0008\n",
    "#minibatch_size = 64\n",
    "#model_num      = 1\n",
    "# and made only two hidden layers \n",
    "#early_stop = keras.callbacks.EarlyStopping(monitor='val_loss', patience=20)\n",
    "\n",
    "# ran for 74 epochs\n",
    "# MSE: 255.24, loss: 180.7052 - val_loss: 294.3801 \n",
    "# train/val trend not quite as aligned as previous run\n",
    "# go back to first run and start again from there\n",
    "# common between first run and this one: higher number of neurons, up again"
   ]
  },
  {
   "cell_type": "code",
   "execution_count": 122,
   "id": "0ace5e74-ccf0-4fe3-b7aa-c3f0a969bc6c",
   "metadata": {},
   "outputs": [],
   "source": [
    "# 7th Run and 8th Run\n",
    "#n_neuron       = 150\n",
    "#activation     = 'ReLU'\n",
    "#num_epochs     = 100\n",
    "#learning_rate  = 0.002\n",
    "#minibatch_size = 64\n",
    "#model_num      = 1\n",
    "#early_stop = keras.callbacks.EarlyStopping(monitor='val_loss', patience=20)\n",
    "\n",
    "# loss: 178.2955 - val_loss: 316.7465\n",
    "# definitely not, trend not great again --> try with Relu instead of Leaky \n",
    "# MSE: 219.80, 162.3405 - val_loss: 343.4025"
   ]
  },
  {
   "cell_type": "code",
   "execution_count": 134,
   "id": "87dbe4cb-c96e-4ca9-9138-8b4c495780eb",
   "metadata": {},
   "outputs": [],
   "source": [
    "# 9th Run\n",
    "#n_neuron       = 100\n",
    "#activation     = 'ReLU'\n",
    "#num_epochs     = 100\n",
    "#learning_rate  = 0.002\n",
    "#minibatch_size = 64\n",
    "#model_num      = 1\n",
    "#early_stop = keras.callbacks.EarlyStopping(monitor='val_loss', patience=20)\n",
    "\n",
    "# MSE: 208.60, loss: 170.7158 - val_loss: 282.2546\n",
    "# good train/val loss alignment but stopped at 64 epochs"
   ]
  },
  {
   "cell_type": "code",
   "execution_count": 135,
   "id": "51a4ff96-52a1-4bd1-827c-d1778f8769d3",
   "metadata": {},
   "outputs": [],
   "source": [
    "# 10th Run\n",
    "#n_neuron       = 100\n",
    "#activation     = 'ReLU'\n",
    "#num_epochs     = 100\n",
    "#learning_rate  = 0.0005\n",
    "#minibatch_size = 100\n",
    "#model_num      = 1\n",
    "#early_stop = keras.callbacks.EarlyStopping(monitor='val_loss', patience=20)\n",
    "\n",
    "#loss: 186.7061 - val_loss: 267.3068, MSE: 238.85\n",
    "# but, best alignment between train and val loss so far\n",
    "# take best run so far and increase batch size"
   ]
  },
  {
   "cell_type": "markdown",
   "id": "b2ea8d1f-85c8-480e-81d6-37326990308b",
   "metadata": {},
   "source": [
    "Take best trends of all runs\n",
    "- Relu over LeakyRelu\n",
    "- Increase mini batch size to 100\n",
    "- Don't alter neurons (worse when increase and decrease)\n",
    "- Maintain learning rate, but maybe could go down, 0.0005 did well"
   ]
  },
  {
   "cell_type": "code",
   "execution_count": 165,
   "id": "73e1312b-2e96-4a3b-b526-9dcca1b7cbeb",
   "metadata": {},
   "outputs": [],
   "source": [
    "# 11th and 12th Run and 13th run **12th is saved, 13th just swapped back to Leaky Relu **was worse, back to run 12\n",
    "n_neuron       = 100\n",
    "activation     = 'ReLU'\n",
    "num_epochs     = 100\n",
    "learning_rate  = 0.0005 # 0.002 definitely overtrained, val didn't decrease after approx 20 epochs, loss: 144.7867 - val_loss: 389.3859, MSE 208\n",
    "minibatch_size = 100\n",
    "model_num      = 1\n",
    "early_stop = keras.callbacks.EarlyStopping(monitor='val_loss', patience=20)\n",
    "\n",
    "# loss: 143.5514 - val_loss: 239.9906\n",
    "# MSE: 192.47\n",
    "# ran all 100 epochs, and really consistent train val losses"
   ]
  },
  {
   "cell_type": "code",
   "execution_count": 161,
   "id": "1912b4dc-1588-4318-a948-86ee95cdd315",
   "metadata": {},
   "outputs": [],
   "source": [
    "NN_model_exp = Sequential()\n",
    "\n",
    "NN_model_exp.add(Dense(n_neuron, activation=activation, name='hidden_layer_1', input_shape=(X_train_df.shape[1],))) #  the 1st hidden layer \n",
    "NN_model_exp.add(Dense(n_neuron, activation=activation, name='hidden_layer_2')) # the 2nd hidden layer\n",
    "NN_model_exp.add(Dense(n_neuron, activation=activation, name='hidden_layer_3')) \n",
    "NN_model_exp.add(Dense(1, activation='linear', name='output_layer')) # the output layer\n",
    "\n",
    "\n",
    "NN_model_exp.compile(loss='mse',optimizer=tf.keras.optimizers.Adam(learning_rate=learning_rate))"
   ]
  },
  {
   "cell_type": "code",
   "execution_count": 162,
   "id": "92565b83-e320-4548-be7c-e164cd43462f",
   "metadata": {},
   "outputs": [
    {
     "name": "stdout",
     "output_type": "stream",
     "text": [
      "Model: \"sequential_24\"\n",
      "_________________________________________________________________\n",
      " Layer (type)                Output Shape              Param #   \n",
      "=================================================================\n",
      " hidden_layer_1 (Dense)      (None, 100)               1100      \n",
      "                                                                 \n",
      " hidden_layer_2 (Dense)      (None, 100)               10100     \n",
      "                                                                 \n",
      " hidden_layer_3 (Dense)      (None, 100)               10100     \n",
      "                                                                 \n",
      " output_layer (Dense)        (None, 1)                 101       \n",
      "                                                                 \n",
      "=================================================================\n",
      "Total params: 21,401\n",
      "Trainable params: 21,401\n",
      "Non-trainable params: 0\n",
      "_________________________________________________________________\n"
     ]
    }
   ],
   "source": [
    "NN_model_exp.summary()"
   ]
  },
  {
   "cell_type": "markdown",
   "id": "347b71bc-8792-44ae-a7e3-92ee7f068d75",
   "metadata": {},
   "source": [
    "### Train Experimental NN Model"
   ]
  },
  {
   "cell_type": "code",
   "execution_count": 163,
   "id": "de066da5-5a8b-467e-b601-8977c7cfb210",
   "metadata": {},
   "outputs": [
    {
     "name": "stdout",
     "output_type": "stream",
     "text": [
      "Epoch 1/100\n",
      "1589/1589 [==============================] - 3s 2ms/step - loss: 1713.5983 - val_loss: 814.4709\n",
      "Epoch 2/100\n",
      "1589/1589 [==============================] - 3s 2ms/step - loss: 823.6177 - val_loss: 744.4655\n",
      "Epoch 3/100\n",
      "1589/1589 [==============================] - 3s 2ms/step - loss: 778.5672 - val_loss: 841.4984\n",
      "Epoch 4/100\n",
      "1589/1589 [==============================] - 3s 2ms/step - loss: 735.3333 - val_loss: 747.4641\n",
      "Epoch 5/100\n",
      "1589/1589 [==============================] - 3s 2ms/step - loss: 692.1860 - val_loss: 697.7972\n",
      "Epoch 6/100\n",
      "1589/1589 [==============================] - 3s 2ms/step - loss: 644.5073 - val_loss: 705.2658\n",
      "Epoch 7/100\n",
      "1589/1589 [==============================] - 3s 2ms/step - loss: 610.8588 - val_loss: 606.7575\n",
      "Epoch 8/100\n",
      "1589/1589 [==============================] - 3s 2ms/step - loss: 588.6667 - val_loss: 579.7200\n",
      "Epoch 9/100\n",
      "1589/1589 [==============================] - 3s 2ms/step - loss: 562.7102 - val_loss: 546.5051\n",
      "Epoch 10/100\n",
      "1589/1589 [==============================] - 3s 2ms/step - loss: 534.6417 - val_loss: 522.8107\n",
      "Epoch 11/100\n",
      "1589/1589 [==============================] - 3s 2ms/step - loss: 494.8267 - val_loss: 478.5351\n",
      "Epoch 12/100\n",
      "1589/1589 [==============================] - 3s 2ms/step - loss: 458.3230 - val_loss: 445.4507\n",
      "Epoch 13/100\n",
      "1589/1589 [==============================] - 3s 2ms/step - loss: 434.4717 - val_loss: 482.5801\n",
      "Epoch 14/100\n",
      "1589/1589 [==============================] - 3s 2ms/step - loss: 416.3992 - val_loss: 454.0998\n",
      "Epoch 15/100\n",
      "1589/1589 [==============================] - 3s 2ms/step - loss: 401.3771 - val_loss: 457.3923\n",
      "Epoch 16/100\n",
      "1589/1589 [==============================] - 3s 2ms/step - loss: 391.7092 - val_loss: 403.4708\n",
      "Epoch 17/100\n",
      "1589/1589 [==============================] - 3s 2ms/step - loss: 369.8602 - val_loss: 473.3018\n",
      "Epoch 18/100\n",
      "1589/1589 [==============================] - 3s 2ms/step - loss: 361.7905 - val_loss: 400.9719\n",
      "Epoch 19/100\n",
      "1589/1589 [==============================] - 3s 2ms/step - loss: 353.2061 - val_loss: 455.4491\n",
      "Epoch 20/100\n",
      "1589/1589 [==============================] - 3s 2ms/step - loss: 343.2667 - val_loss: 541.1807\n",
      "Epoch 21/100\n",
      "1589/1589 [==============================] - 3s 2ms/step - loss: 338.8339 - val_loss: 392.1784\n",
      "Epoch 22/100\n",
      "1589/1589 [==============================] - 3s 2ms/step - loss: 325.9793 - val_loss: 426.3246\n",
      "Epoch 23/100\n",
      "1589/1589 [==============================] - 3s 2ms/step - loss: 319.5007 - val_loss: 406.8296\n",
      "Epoch 24/100\n",
      "1589/1589 [==============================] - 3s 2ms/step - loss: 306.1894 - val_loss: 490.1446\n",
      "Epoch 25/100\n",
      "1589/1589 [==============================] - 3s 2ms/step - loss: 303.2037 - val_loss: 357.6785\n",
      "Epoch 26/100\n",
      "1589/1589 [==============================] - 3s 2ms/step - loss: 294.9673 - val_loss: 385.1833\n",
      "Epoch 27/100\n",
      "1589/1589 [==============================] - 3s 2ms/step - loss: 284.3217 - val_loss: 446.9011\n",
      "Epoch 28/100\n",
      "1589/1589 [==============================] - 3s 2ms/step - loss: 279.4954 - val_loss: 372.3827\n",
      "Epoch 29/100\n",
      "1589/1589 [==============================] - 3s 2ms/step - loss: 271.8159 - val_loss: 347.9752\n",
      "Epoch 30/100\n",
      "1589/1589 [==============================] - 3s 2ms/step - loss: 262.7003 - val_loss: 407.4958\n",
      "Epoch 31/100\n",
      "1589/1589 [==============================] - 3s 2ms/step - loss: 256.3712 - val_loss: 365.2135\n",
      "Epoch 32/100\n",
      "1589/1589 [==============================] - 3s 2ms/step - loss: 248.7053 - val_loss: 342.2513\n",
      "Epoch 33/100\n",
      "1589/1589 [==============================] - 3s 2ms/step - loss: 242.9492 - val_loss: 331.4004\n",
      "Epoch 34/100\n",
      "1589/1589 [==============================] - 3s 2ms/step - loss: 235.2146 - val_loss: 357.3392\n",
      "Epoch 35/100\n",
      "1589/1589 [==============================] - 3s 2ms/step - loss: 232.8444 - val_loss: 350.6632\n",
      "Epoch 36/100\n",
      "1589/1589 [==============================] - 3s 2ms/step - loss: 223.4794 - val_loss: 284.8633\n",
      "Epoch 37/100\n",
      "1589/1589 [==============================] - 3s 2ms/step - loss: 221.8520 - val_loss: 293.5269\n",
      "Epoch 38/100\n",
      "1589/1589 [==============================] - 3s 2ms/step - loss: 216.6168 - val_loss: 302.1076\n",
      "Epoch 39/100\n",
      "1589/1589 [==============================] - 3s 2ms/step - loss: 212.1751 - val_loss: 364.2872\n",
      "Epoch 40/100\n",
      "1589/1589 [==============================] - 3s 2ms/step - loss: 211.2278 - val_loss: 283.1549\n",
      "Epoch 41/100\n",
      "1589/1589 [==============================] - 3s 2ms/step - loss: 205.3681 - val_loss: 344.0444\n",
      "Epoch 42/100\n",
      "1589/1589 [==============================] - 3s 2ms/step - loss: 200.4339 - val_loss: 364.2693\n",
      "Epoch 43/100\n",
      "1589/1589 [==============================] - 3s 2ms/step - loss: 197.8961 - val_loss: 325.8006\n",
      "Epoch 44/100\n",
      "1589/1589 [==============================] - 3s 2ms/step - loss: 196.5923 - val_loss: 292.4011\n",
      "Epoch 45/100\n",
      "1589/1589 [==============================] - 3s 2ms/step - loss: 191.1706 - val_loss: 354.6141\n",
      "Epoch 46/100\n",
      "1589/1589 [==============================] - 3s 2ms/step - loss: 188.5915 - val_loss: 320.2920\n",
      "Epoch 47/100\n",
      "1589/1589 [==============================] - 3s 2ms/step - loss: 186.4468 - val_loss: 311.1666\n",
      "Epoch 48/100\n",
      "1589/1589 [==============================] - 3s 2ms/step - loss: 184.8871 - val_loss: 321.7927\n",
      "Epoch 49/100\n",
      "1589/1589 [==============================] - 3s 2ms/step - loss: 180.7563 - val_loss: 300.0438\n",
      "Epoch 50/100\n",
      "1589/1589 [==============================] - 3s 2ms/step - loss: 177.6266 - val_loss: 291.2360\n",
      "Epoch 51/100\n",
      "1589/1589 [==============================] - 3s 2ms/step - loss: 178.3420 - val_loss: 294.2097\n",
      "Epoch 52/100\n",
      "1589/1589 [==============================] - 3s 2ms/step - loss: 176.0523 - val_loss: 335.1869\n",
      "Epoch 53/100\n",
      "1589/1589 [==============================] - 3s 2ms/step - loss: 172.5888 - val_loss: 349.2424\n",
      "Epoch 54/100\n",
      "1589/1589 [==============================] - 3s 2ms/step - loss: 171.7241 - val_loss: 318.5437\n",
      "Epoch 55/100\n",
      "1589/1589 [==============================] - 3s 2ms/step - loss: 170.0085 - val_loss: 302.7290\n",
      "Epoch 56/100\n",
      "1589/1589 [==============================] - 3s 2ms/step - loss: 166.1662 - val_loss: 320.8551\n",
      "Epoch 57/100\n",
      "1589/1589 [==============================] - 3s 2ms/step - loss: 165.4940 - val_loss: 360.6031\n",
      "Epoch 58/100\n",
      "1589/1589 [==============================] - 3s 2ms/step - loss: 162.5751 - val_loss: 382.8643\n",
      "Epoch 59/100\n",
      "1589/1589 [==============================] - 3s 2ms/step - loss: 162.7636 - val_loss: 335.2494\n",
      "Epoch 60/100\n",
      "1589/1589 [==============================] - 3s 2ms/step - loss: 159.7413 - val_loss: 324.4542\n"
     ]
    }
   ],
   "source": [
    "history_exp = NN_model_exp.fit(X_train_df, y_train_df, \n",
    "                            batch_size      = minibatch_size,\n",
    "                            epochs          = num_epochs,\n",
    "                            validation_split= 0.2, \n",
    "                            verbose         = 1,\n",
    "                            callbacks       = [early_stop])"
   ]
  },
  {
   "cell_type": "markdown",
   "id": "61593e4f-6574-42cc-81b8-81e5ed4a1f15",
   "metadata": {},
   "source": [
    "### Initial Checks on Experimental NN Model"
   ]
  },
  {
   "cell_type": "code",
   "execution_count": 164,
   "id": "b87fe7c9-45d6-4316-804c-f87923406937",
   "metadata": {},
   "outputs": [
    {
     "data": {
      "image/png": "[encoded data removed]",
      "text/plain": [
       "<Figure size 640x480 with 1 Axes>"
      ]
     },
     "metadata": {},
     "output_type": "display_data"
    }
   ],
   "source": [
    "model_utils.plot_history(history_exp)"
   ]
  },
  {
   "cell_type": "code",
   "execution_count": 156,
   "id": "4dd3e983-53ff-4633-849a-d1075a6ce582",
   "metadata": {},
   "outputs": [
    {
     "name": "stdout",
     "output_type": "stream",
     "text": [
      "1488/1488 [==============================] - 1s 814us/step\n",
      "MSE: 192.47\n"
     ]
    }
   ],
   "source": [
    "y_pred_exp = NN_model_exp.predict(X_test_df)\n",
    "mse = mean_squared_error(y_test_df, y_pred_exp)\n",
    "print(\"MSE: %.2f\" % mse)"
   ]
  },
  {
   "cell_type": "code",
   "execution_count": 158,
   "id": "7c42d44c-4996-4e27-a2a2-d1f818d32ad4",
   "metadata": {},
   "outputs": [
    {
     "data": {
      "image/png": "[encoded data removed]",
      "text/plain": [
       "<Figure size 640x480 with 1 Axes>"
      ]
     },
     "metadata": {},
     "output_type": "display_data"
    }
   ],
   "source": [
    "x_ax = range(len(y_test_df))\n",
    "plt.plot(x_ax, y_test_df, label=\"original\")\n",
    "plt.plot(x_ax, y_pred_exp, label=\"predicted\")\n",
    "plt.title(\"pC02 test and predicted data\")\n",
    "plt.legend()\n",
    "plt.show()"
   ]
  },
  {
   "cell_type": "markdown",
   "id": "39fde844-f886-4a12-abc9-373148ef0a46",
   "metadata": {},
   "source": [
    "### Save Best Experimental NN Model as First of NN Below"
   ]
  },
  {
   "cell_type": "code",
   "execution_count": 159,
   "id": "729eb6e0-823e-4fd0-b073-f83c9135fbed",
   "metadata": {},
   "outputs": [],
   "source": [
    "# after training, save:\n",
    "NN_model_exp.save(os.path.join(recon_model_path,'NN_model1.h5'))"
   ]
  },
  {
   "cell_type": "markdown",
   "id": "ad32d972-24be-4ee4-8739-1dd13f9bb76c",
   "metadata": {},
   "source": [
    "# Five Identical NN Models "
   ]
  },
  {
   "cell_type": "markdown",
   "id": "01d7b3aa-443f-4c9b-b2ce-c9438d72248b",
   "metadata": {},
   "source": [
    "## NN Model 1"
   ]
  },
  {
   "cell_type": "code",
   "execution_count": null,
   "id": "b13760f3-87b7-4524-94a9-2d535f867203",
   "metadata": {},
   "outputs": [],
   "source": [
    "NN_model1 = load_model(os.path.join(recon_model_path,'NN_model1.h5'))"
   ]
  },
  {
   "cell_type": "markdown",
   "id": "75fc2337-b817-4505-838a-0d9c23c3227f",
   "metadata": {},
   "source": [
    "## NN Model 2"
   ]
  },
  {
   "cell_type": "markdown",
   "id": "8459c3b5-d216-453c-b1bb-1e6ab77f05b6",
   "metadata": {},
   "source": [
    "## NN Model 3"
   ]
  },
  {
   "cell_type": "markdown",
   "id": "771784b2-0638-461f-a280-da513a240615",
   "metadata": {},
   "source": [
    "## NN Model 4"
   ]
  },
  {
   "cell_type": "markdown",
   "id": "a18f4594-bee7-4179-8986-59548cc9b7e7",
   "metadata": {},
   "source": [
    "## NN Model 5"
   ]
  },
  {
   "cell_type": "code",
   "execution_count": null,
   "id": "6daf8d72-469b-4897-a1ed-bc7d568cc0a3",
   "metadata": {},
   "outputs": [],
   "source": []
  }
 ],
 "metadata": {
  "kernelspec": {
   "display_name": "fromML",
   "language": "python",
   "name": "fromml"
  },
  "language_info": {
   "codemirror_mode": {
    "name": "ipython",
    "version": 3
   },
   "file_extension": ".py",
   "mimetype": "text/x-python",
   "name": "python",
   "nbconvert_exporter": "python",
   "pygments_lexer": "ipython3",
   "version": "3.9.13"
  },
  "toc-autonumbering": true,
  "toc-showmarkdowntxt": false
 },
 "nbformat": 4,
 "nbformat_minor": 5
}
