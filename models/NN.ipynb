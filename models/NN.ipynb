{
 "cells": [
  {
   "cell_type": "markdown",
   "id": "d00743f4-e104-4250-abb9-151a089163b0",
   "metadata": {
    "tags": []
   },
   "source": [
    "# Basic Neural Network "
   ]
  },
  {
   "cell_type": "markdown",
   "id": "47e0f753-5052-4522-bc07-40f3a98a9415",
   "metadata": {},
   "source": [
    "(to compare pre-transfer learning)"
   ]
  },
  {
   "cell_type": "code",
   "execution_count": 13,
   "id": "10741bee-ac28-47e8-a90a-7a4191fb9551",
   "metadata": {},
   "outputs": [],
   "source": [
    "# Standard imports\n",
    "import os\n",
    "import datetime\n",
    "from pathlib import Path\n",
    "from collections import defaultdict\n",
    "import scipy\n",
    "import random\n",
    "import numpy as np\n",
    "import xarray as xr\n",
    "import pandas as pd\n",
    "import joblib\n",
    "import pickle\n",
    "\n",
    "# Machine learning libraries\n",
    "import sklearn            # machine-learning libary with many algorithms implemented\n",
    "#import xgboost as xgb     # extreme gradient boosting (XGB)\n",
    "#from xgboost import XGBRegressor\n",
    "from sklearn.model_selection import train_test_split, GridSearchCV, cross_val_score\n",
    "from sklearn.metrics import mean_squared_error\n",
    "\n",
    "import tensorflow as tf\n",
    "from tensorflow import keras\n",
    "from tensorflow.keras.models import Model, load_model\n",
    "from tensorflow.keras.layers import *\n",
    "from tensorflow.keras import Sequential\n",
    "\n",
    "# Python file with supporting functions\n",
    "import model_utils"
   ]
  },
  {
   "cell_type": "markdown",
   "id": "1f3b7af2-61d3-48da-8347-b419b0828617",
   "metadata": {},
   "source": [
    "# Bring in split datasets"
   ]
  },
  {
   "cell_type": "code",
   "execution_count": 6,
   "id": "4ca25068-44ff-4261-9c4e-ced0cc89403d",
   "metadata": {},
   "outputs": [],
   "source": [
    "X_df = xr.open_dataset('/home/julias/MLEE-final-project/proc_data/split_datasets/X.nc').to_dataframe().dropna()\n",
    "y_df = xr.open_dataset('/home/julias/MLEE-final-project/proc_data/split_datasets/y.nc').to_dataframe().dropna() \n",
    "X_train_df = xr.open_dataset('/home/julias/MLEE-final-project/proc_data/split_datasets/X_train.nc').to_dataframe().dropna() \n",
    "y_train_df = xr.open_dataset('/home/julias/MLEE-final-project/proc_data/split_datasets/y_train.nc').to_dataframe().dropna()\n",
    "X_test_df = xr.open_dataset('/home/julias/MLEE-final-project/proc_data/split_datasets/X_test.nc').to_dataframe().dropna() \n",
    "y_test_df = xr.open_dataset('/home/julias/MLEE-final-project/proc_data/split_datasets/y_test.nc').to_dataframe().dropna() "
   ]
  },
  {
   "cell_type": "code",
   "execution_count": 8,
   "id": "2541c95b-d0fe-4d82-a239-3790594d1332",
   "metadata": {},
   "outputs": [],
   "source": [
    "X_unseen_df = xr.open_dataset('/home/julias/MLEE-final-project/proc_data/split_datasets/X_unseen.nc').to_dataframe().dropna() \n",
    "y_unseen_df = xr.open_dataset('/home/julias/MLEE-final-project/proc_data/split_datasets/y_unseen.nc').to_dataframe().dropna() "
   ]
  },
  {
   "cell_type": "markdown",
   "id": "2211b2c3-fd1b-4629-a17a-9bbf6e91f561",
   "metadata": {},
   "source": [
    "## To test normalization:"
   ]
  },
  {
   "cell_type": "markdown",
   "id": "d7d53c52-7ed1-48ab-b27d-5b4d2aa915b1",
   "metadata": {},
   "source": [
    "*Note: Done here, as opposed to in test/train split, so that I can save the original train/test datasets and later determine whether normalization led to improvement. (My group has not historically normalized data before training.)*"
   ]
  },
  {
   "cell_type": "code",
   "execution_count": 9,
   "id": "d85160a7-172e-4f6c-aff0-4a0e9caab08a",
   "metadata": {},
   "outputs": [],
   "source": [
    "X_df_norm = (X_df - X_df.mean())/X_df.std() \n",
    "y_df_norm = (y_df - y_df.mean())/y_df.std()\n",
    "X_train_df_norm = (X_train_df - X_train_df.mean())/X_train_df.std()\n",
    "y_train_df_norm = (y_train_df - y_train_df.mean())/y_train_df.std()\n",
    "X_test_df_norm = (X_test_df - X_test_df.mean())/X_test_df.std()\n",
    "y_test_df_norm = (y_test_df - y_test_df.mean())/y_test_df.std()"
   ]
  },
  {
   "cell_type": "markdown",
   "id": "fb243e8f-1beb-43a6-8e64-dc9768094745",
   "metadata": {},
   "source": [
    "## Create numpy arrays for both regular and normalized dataframes"
   ]
  },
  {
   "cell_type": "code",
   "execution_count": 10,
   "id": "c779d6ed-1908-4596-aef4-a8f50eb9c119",
   "metadata": {},
   "outputs": [],
   "source": [
    "X = X_df.to_numpy()         \n",
    "y = y_df.to_numpy().ravel() \n",
    "X_train = X_train_df.to_numpy() \n",
    "y_train = y_train_df.to_numpy().ravel()\n",
    "X_test = X_test_df.to_numpy()  \n",
    "y_test = y_test_df.to_numpy().ravel()\n",
    "\n",
    "X_n = X_df_norm.to_numpy()         \n",
    "y_n = y_df_norm.to_numpy().ravel() \n",
    "X_train_n = X_train_df_norm.to_numpy()\n",
    "y_train_n = y_train_df_norm.to_numpy().ravel()\n",
    "X_test_n = X_test_df_norm.to_numpy() \n",
    "y_test_n = y_test_df_norm.to_numpy().ravel()"
   ]
  },
  {
   "cell_type": "markdown",
   "id": "3de67bf9-7fdb-433b-8f49-04798e3232e8",
   "metadata": {},
   "source": [
    "## Building and Training the NN Model"
   ]
  },
  {
   "cell_type": "code",
   "execution_count": 1,
   "id": "b7b3285a-dfbc-4cfb-84fc-cd6059f7ce3d",
   "metadata": {},
   "outputs": [],
   "source": [
    "# NOTE that number of input layer neurons must correspond to number of predictor variables"
   ]
  },
  {
   "cell_type": "code",
   "execution_count": 11,
   "id": "e90c7b34-a656-4973-8a0f-c50bddb5711f",
   "metadata": {},
   "outputs": [],
   "source": [
    "# set hyperparameters\n",
    "n_neuron       = 64\n",
    "activation     = 'relu'\n",
    "num_epochs     = 50\n",
    "learning_rate  = 0.001\n",
    "minibatch_size = 64\n",
    "model_num      = 1"
   ]
  },
  {
   "cell_type": "code",
   "execution_count": 16,
   "id": "861d6bf4-9a85-4007-8aea-ef6af8541e72",
   "metadata": {},
   "outputs": [],
   "source": [
    "NN_model = Sequential()\n",
    "\n",
    "NN_model.add(Dense(n_neuron,  activation=activation,input_shape=(X_train_df.shape[1],))) #  the 1st hidden layer \n",
    "NN_model.add(Dense(n_neuron,  activation=activation)) # the 2nd hidden layer\n",
    "NN_model.add(Dense(n_neuron,  activation=activation)) # the 3rd hidden layer\n",
    "NN_model.add(Dense(y_train_df.shape[1],  activation='linear')) # the output layer\n",
    "\n",
    "\n",
    "NN_model.compile(loss='mse',optimizer=tf.keras.optimizers.Adam(learning_rate=learning_rate))"
   ]
  },
  {
   "cell_type": "code",
   "execution_count": 18,
   "id": "02822248-ca18-409d-93ff-bb2ffb7cfc2f",
   "metadata": {},
   "outputs": [
    {
     "name": "stdout",
     "output_type": "stream",
     "text": [
      "Model: \"sequential_2\"\n",
      "_________________________________________________________________\n",
      " Layer (type)                Output Shape              Param #   \n",
      "=================================================================\n",
      " dense_7 (Dense)             (None, 64)                704       \n",
      "                                                                 \n",
      " dense_8 (Dense)             (None, 64)                4160      \n",
      "                                                                 \n",
      " dense_9 (Dense)             (None, 64)                4160      \n",
      "                                                                 \n",
      " dense_10 (Dense)            (None, 1)                 65        \n",
      "                                                                 \n",
      "=================================================================\n",
      "Total params: 9,089\n",
      "Trainable params: 9,089\n",
      "Non-trainable params: 0\n",
      "_________________________________________________________________\n"
     ]
    }
   ],
   "source": [
    "NN_model.summary()"
   ]
  },
  {
   "cell_type": "code",
   "execution_count": 19,
   "id": "a82e5ff7-d997-44eb-94ce-af0e37e51901",
   "metadata": {},
   "outputs": [
    {
     "name": "stdout",
     "output_type": "stream",
     "text": [
      "Epoch 1/50\n",
      "2483/2483 [==============================] - 4s 1ms/step - loss: 1507.2157 - val_loss: 728.0276\n",
      "Epoch 2/50\n",
      "2483/2483 [==============================] - 3s 1ms/step - loss: 744.3271 - val_loss: 753.5252\n",
      "Epoch 3/50\n",
      "2483/2483 [==============================] - 3s 1ms/step - loss: 687.2758 - val_loss: 781.7056\n",
      "Epoch 4/50\n",
      "2483/2483 [==============================] - 3s 1ms/step - loss: 645.9800 - val_loss: 728.7307\n",
      "Epoch 5/50\n",
      "2483/2483 [==============================] - 3s 1ms/step - loss: 599.8337 - val_loss: 636.5508\n",
      "Epoch 6/50\n",
      "2483/2483 [==============================] - 3s 1ms/step - loss: 558.8230 - val_loss: 595.3566\n",
      "Epoch 7/50\n",
      "2483/2483 [==============================] - 3s 1ms/step - loss: 511.7632 - val_loss: 480.7850\n",
      "Epoch 8/50\n",
      "2483/2483 [==============================] - 3s 1ms/step - loss: 460.2603 - val_loss: 497.5888\n",
      "Epoch 9/50\n",
      "2483/2483 [==============================] - 3s 1ms/step - loss: 428.2924 - val_loss: 558.7802\n",
      "Epoch 10/50\n",
      "2483/2483 [==============================] - 3s 1ms/step - loss: 399.4402 - val_loss: 455.3666\n",
      "Epoch 11/50\n",
      "2483/2483 [==============================] - 3s 1ms/step - loss: 374.5482 - val_loss: 452.7699\n",
      "Epoch 12/50\n",
      "2483/2483 [==============================] - 3s 1ms/step - loss: 359.1160 - val_loss: 462.9373\n",
      "Epoch 13/50\n",
      "2483/2483 [==============================] - 3s 1ms/step - loss: 343.9195 - val_loss: 405.2548\n",
      "Epoch 14/50\n",
      "2483/2483 [==============================] - 3s 1ms/step - loss: 333.8322 - val_loss: 415.8828\n",
      "Epoch 15/50\n",
      "2483/2483 [==============================] - 3s 1ms/step - loss: 324.1570 - val_loss: 392.2506\n",
      "Epoch 16/50\n",
      "2483/2483 [==============================] - 3s 1ms/step - loss: 316.1827 - val_loss: 405.6097\n",
      "Epoch 17/50\n",
      "2483/2483 [==============================] - 3s 1ms/step - loss: 307.6931 - val_loss: 391.4739\n",
      "Epoch 18/50\n",
      "2483/2483 [==============================] - 3s 1ms/step - loss: 300.8952 - val_loss: 421.6660\n",
      "Epoch 19/50\n",
      "2483/2483 [==============================] - 3s 1ms/step - loss: 292.9578 - val_loss: 427.7679\n",
      "Epoch 20/50\n",
      "2483/2483 [==============================] - 3s 1ms/step - loss: 282.5408 - val_loss: 459.4060\n",
      "Epoch 21/50\n",
      "2483/2483 [==============================] - 3s 1ms/step - loss: 277.9958 - val_loss: 361.1964\n",
      "Epoch 22/50\n",
      "2483/2483 [==============================] - 3s 1ms/step - loss: 267.4145 - val_loss: 329.8576\n",
      "Epoch 23/50\n",
      "2483/2483 [==============================] - 3s 1ms/step - loss: 258.1324 - val_loss: 361.0508\n",
      "Epoch 24/50\n",
      "2483/2483 [==============================] - 3s 1ms/step - loss: 251.7016 - val_loss: 324.2229\n",
      "Epoch 25/50\n",
      "2483/2483 [==============================] - 3s 1ms/step - loss: 241.0975 - val_loss: 335.9255\n",
      "Epoch 26/50\n",
      "2483/2483 [==============================] - 3s 1ms/step - loss: 235.9920 - val_loss: 382.9032\n",
      "Epoch 27/50\n",
      "2483/2483 [==============================] - 3s 1ms/step - loss: 232.4189 - val_loss: 386.0577\n",
      "Epoch 28/50\n",
      "2483/2483 [==============================] - 3s 1ms/step - loss: 221.8810 - val_loss: 332.4270\n",
      "Epoch 29/50\n",
      "2483/2483 [==============================] - 3s 1ms/step - loss: 218.4644 - val_loss: 371.2917\n",
      "Epoch 30/50\n",
      "2483/2483 [==============================] - 3s 1ms/step - loss: 211.2896 - val_loss: 344.6292\n",
      "Epoch 31/50\n",
      "2483/2483 [==============================] - 3s 1ms/step - loss: 208.2747 - val_loss: 312.3635\n",
      "Epoch 32/50\n",
      "2483/2483 [==============================] - 3s 1ms/step - loss: 206.2722 - val_loss: 304.9547\n",
      "Epoch 33/50\n",
      "2483/2483 [==============================] - 3s 1ms/step - loss: 200.8234 - val_loss: 317.4971\n",
      "Epoch 34/50\n",
      "2483/2483 [==============================] - 3s 1ms/step - loss: 199.3248 - val_loss: 406.2238\n",
      "Epoch 35/50\n",
      "2483/2483 [==============================] - 3s 1ms/step - loss: 194.6377 - val_loss: 419.9285\n",
      "Epoch 36/50\n",
      "2483/2483 [==============================] - 3s 1ms/step - loss: 190.8961 - val_loss: 268.8439\n",
      "Epoch 37/50\n",
      "2483/2483 [==============================] - 3s 1ms/step - loss: 190.1174 - val_loss: 278.7436\n",
      "Epoch 38/50\n",
      "2483/2483 [==============================] - 3s 1ms/step - loss: 187.5047 - val_loss: 316.6881\n",
      "Epoch 39/50\n",
      "2483/2483 [==============================] - 3s 1ms/step - loss: 187.9087 - val_loss: 252.5459\n",
      "Epoch 40/50\n",
      "2483/2483 [==============================] - 3s 1ms/step - loss: 182.3818 - val_loss: 319.0227\n",
      "Epoch 41/50\n",
      "2483/2483 [==============================] - 3s 1ms/step - loss: 182.9072 - val_loss: 344.0407\n",
      "Epoch 42/50\n",
      "2483/2483 [==============================] - 3s 1ms/step - loss: 178.8705 - val_loss: 328.7838\n",
      "Epoch 43/50\n",
      "2483/2483 [==============================] - 3s 1ms/step - loss: 178.2121 - val_loss: 282.6535\n",
      "Epoch 44/50\n",
      "2483/2483 [==============================] - 3s 1ms/step - loss: 177.5307 - val_loss: 271.4926\n",
      "Epoch 45/50\n",
      "2483/2483 [==============================] - 3s 1ms/step - loss: 171.6519 - val_loss: 324.2414\n",
      "Epoch 46/50\n",
      "2483/2483 [==============================] - 3s 1ms/step - loss: 172.9176 - val_loss: 294.1950\n",
      "Epoch 47/50\n",
      "2483/2483 [==============================] - 3s 1ms/step - loss: 171.7091 - val_loss: 293.2650\n",
      "Epoch 48/50\n",
      "2483/2483 [==============================] - 3s 1ms/step - loss: 169.1647 - val_loss: 437.9218\n",
      "Epoch 49/50\n",
      "2483/2483 [==============================] - 3s 1ms/step - loss: 167.0711 - val_loss: 414.0969\n",
      "Epoch 50/50\n",
      "2483/2483 [==============================] - 3s 1ms/step - loss: 165.6999 - val_loss: 309.8672\n"
     ]
    }
   ],
   "source": [
    "early_stop = keras.callbacks.EarlyStopping(monitor='val_loss', patience=20)\n",
    "\n",
    "\n",
    "history = NN_model.fit(X_train_df, y_train_df, \n",
    "                            batch_size      = minibatch_size,\n",
    "                            epochs          = num_epochs,\n",
    "                            validation_split= 0.2, \n",
    "                            verbose         = 1,\n",
    "                            callbacks       = [early_stop])"
   ]
  },
  {
   "cell_type": "code",
   "execution_count": null,
   "id": "0b11fdfc-ff6a-406e-9e2c-d9f5dc602a91",
   "metadata": {},
   "outputs": [],
   "source": [
    "# after training, save:\n",
    "model_path = os.path.join(cwd,'saved_model')\n",
    "make_dir(model_path)"
   ]
  },
  {
   "cell_type": "code",
   "execution_count": null,
   "id": "82c45b20-5abc-4dd8-a98c-0ee2610824bc",
   "metadata": {},
   "outputs": [],
   "source": [
    "model.save(os.path.join(model_path,'NN_model.h5'))"
   ]
  },
  {
   "cell_type": "markdown",
   "id": "984a61ba-79d8-4b49-aad8-2ae339817221",
   "metadata": {},
   "source": [
    "## Testing the NN Model"
   ]
  },
  {
   "cell_type": "code",
   "execution_count": null,
   "id": "0dcbadfc-c85d-4ef8-bbaa-de43baf89406",
   "metadata": {},
   "outputs": [],
   "source": [
    "# then reload before start working with test data\n",
    "model = load_model(os.path.join(model_path,'NN_model.h5'))"
   ]
  }
 ],
 "metadata": {
  "kernelspec": {
   "display_name": "fromML",
   "language": "python",
   "name": "fromml"
  },
  "language_info": {
   "codemirror_mode": {
    "name": "ipython",
    "version": 3
   },
   "file_extension": ".py",
   "mimetype": "text/x-python",
   "name": "python",
   "nbconvert_exporter": "python",
   "pygments_lexer": "ipython3",
   "version": "3.9.13"
  }
 },
 "nbformat": 4,
 "nbformat_minor": 5
}
