{
 "cells": [
  {
   "cell_type": "markdown",
   "id": "d00743f4-e104-4250-abb9-151a089163b0",
   "metadata": {
    "tags": []
   },
   "source": [
    "# Basic Neural Networks "
   ]
  },
  {
   "cell_type": "markdown",
   "id": "47e0f753-5052-4522-bc07-40f3a98a9415",
   "metadata": {},
   "source": [
    "(to compare pre-transfer learning)"
   ]
  },
  {
   "cell_type": "code",
   "execution_count": 1,
   "id": "10741bee-ac28-47e8-a90a-7a4191fb9551",
   "metadata": {},
   "outputs": [
    {
     "name": "stderr",
     "output_type": "stream",
     "text": [
      "2023-01-06 09:46:34.524862: I tensorflow/core/platform/cpu_feature_guard.cc:193] This TensorFlow binary is optimized with oneAPI Deep Neural Network Library (oneDNN) to use the following CPU instructions in performance-critical operations:  SSE4.1 SSE4.2 AVX AVX2 AVX512F FMA\n",
      "To enable them in other operations, rebuild TensorFlow with the appropriate compiler flags.\n"
     ]
    }
   ],
   "source": [
    "# Standard imports\n",
    "import os\n",
    "import datetime\n",
    "from pathlib import Path\n",
    "from collections import defaultdict\n",
    "import scipy\n",
    "import random\n",
    "import numpy as np\n",
    "import xarray as xr\n",
    "import pandas as pd\n",
    "import matplotlib.pyplot as plt\n",
    "import joblib\n",
    "import pickle\n",
    "\n",
    "# Machine learning libraries\n",
    "import sklearn            # machine-learning libary with many algorithms implemented\n",
    "#import xgboost as xgb     # extreme gradient boosting (XGB)\n",
    "#from xgboost import XGBRegressor\n",
    "from sklearn.model_selection import train_test_split, GridSearchCV, cross_val_score\n",
    "from sklearn.metrics import mean_squared_error\n",
    "\n",
    "import tensorflow as tf\n",
    "from tensorflow import keras\n",
    "from tensorflow.keras.models import Model, load_model\n",
    "from tensorflow.keras.layers import *\n",
    "from tensorflow.keras import Sequential\n",
    "\n",
    "# Python file with supporting functions\n",
    "import model_utils"
   ]
  },
  {
   "cell_type": "markdown",
   "id": "1f3b7af2-61d3-48da-8347-b419b0828617",
   "metadata": {},
   "source": [
    "# Load Split Datasets and Create Versions for Experimentation"
   ]
  },
  {
   "cell_type": "markdown",
   "id": "d95357b6-41f6-47cc-8f7b-dd8a36ad0528",
   "metadata": {},
   "source": [
    "## Load Split Datasets"
   ]
  },
  {
   "cell_type": "code",
   "execution_count": 2,
   "id": "4ca25068-44ff-4261-9c4e-ced0cc89403d",
   "metadata": {},
   "outputs": [],
   "source": [
    "X_df = xr.open_dataset('/home/julias/MLEE-final-project/proc_data/split_datasets/X.nc').to_dataframe().dropna()\n",
    "y_df = xr.open_dataset('/home/julias/MLEE-final-project/proc_data/split_datasets/y.nc').to_dataframe().dropna() \n",
    "X_train_df = xr.open_dataset('/home/julias/MLEE-final-project/proc_data/split_datasets/X_train.nc').to_dataframe().dropna() \n",
    "y_train_df = xr.open_dataset('/home/julias/MLEE-final-project/proc_data/split_datasets/y_train.nc').to_dataframe().dropna()\n",
    "X_test_df = xr.open_dataset('/home/julias/MLEE-final-project/proc_data/split_datasets/X_test.nc').to_dataframe().dropna() \n",
    "y_test_df = xr.open_dataset('/home/julias/MLEE-final-project/proc_data/split_datasets/y_test.nc').to_dataframe().dropna() "
   ]
  },
  {
   "cell_type": "code",
   "execution_count": 3,
   "id": "2541c95b-d0fe-4d82-a239-3790594d1332",
   "metadata": {},
   "outputs": [],
   "source": [
    "X_unseen_df = xr.open_dataset('/home/julias/MLEE-final-project/proc_data/split_datasets/X_unseen.nc').to_dataframe().dropna() \n",
    "y_unseen_df = xr.open_dataset('/home/julias/MLEE-final-project/proc_data/split_datasets/y_unseen.nc').to_dataframe().dropna() "
   ]
  },
  {
   "cell_type": "markdown",
   "id": "642d91f4-b14e-4d00-a501-a022a84bdd03",
   "metadata": {},
   "source": [
    "### Create Numpy Arrays for Original Data"
   ]
  },
  {
   "cell_type": "code",
   "execution_count": 44,
   "id": "4a509f01-2b9b-4972-8498-b0ebce30b5a7",
   "metadata": {},
   "outputs": [],
   "source": [
    "X = X_df.to_numpy()         \n",
    "y = y_df.to_numpy().ravel() \n",
    "X_train = X_train_df.to_numpy() \n",
    "y_train = y_train_df.to_numpy().ravel()\n",
    "X_test = X_test_df.to_numpy()  \n",
    "y_test = y_test_df.to_numpy().ravel()"
   ]
  },
  {
   "cell_type": "markdown",
   "id": "2211b2c3-fd1b-4629-a17a-9bbf6e91f561",
   "metadata": {},
   "source": [
    "## Create Normalized Dataframes"
   ]
  },
  {
   "cell_type": "markdown",
   "id": "d7d53c52-7ed1-48ab-b27d-5b4d2aa915b1",
   "metadata": {},
   "source": [
    "*Note: Done here, as opposed to in test/train split, so that I can save the original train/test datasets and later determine whether normalization led to improvement. (My group has not historically normalized data before training.)*"
   ]
  },
  {
   "cell_type": "code",
   "execution_count": 4,
   "id": "d85160a7-172e-4f6c-aff0-4a0e9caab08a",
   "metadata": {},
   "outputs": [],
   "source": [
    "X_df_norm = (X_df - X_df.mean())/X_df.std() \n",
    "y_df_norm = (y_df - y_df.mean())/y_df.std()\n",
    "X_train_df_norm = (X_train_df - X_train_df.mean())/X_train_df.std()\n",
    "y_train_df_norm = (y_train_df - y_train_df.mean())/y_train_df.std()\n",
    "X_test_df_norm = (X_test_df - X_test_df.mean())/X_test_df.std()\n",
    "y_test_df_norm = (y_test_df - y_test_df.mean())/y_test_df.std()"
   ]
  },
  {
   "cell_type": "markdown",
   "id": "fb243e8f-1beb-43a6-8e64-dc9768094745",
   "metadata": {},
   "source": [
    "### Create Numpy Arrays for Normalized Data"
   ]
  },
  {
   "cell_type": "code",
   "execution_count": 5,
   "id": "c779d6ed-1908-4596-aef4-a8f50eb9c119",
   "metadata": {},
   "outputs": [],
   "source": [
    "X_n = X_df_norm.to_numpy()         \n",
    "y_n = y_df_norm.to_numpy().ravel() \n",
    "X_train_n = X_train_df_norm.to_numpy()\n",
    "y_train_n = y_train_df_norm.to_numpy().ravel()\n",
    "X_test_n = X_test_df_norm.to_numpy() \n",
    "y_test_n = y_test_df_norm.to_numpy().ravel()"
   ]
  },
  {
   "cell_type": "markdown",
   "id": "3de67bf9-7fdb-433b-8f49-04798e3232e8",
   "metadata": {},
   "source": [
    "# Preliminary NN Model"
   ]
  },
  {
   "cell_type": "markdown",
   "id": "42e08329-b782-4318-847b-0234a2535769",
   "metadata": {},
   "source": [
    "## Build NN Model"
   ]
  },
  {
   "cell_type": "code",
   "execution_count": null,
   "id": "b7b3285a-dfbc-4cfb-84fc-cd6059f7ce3d",
   "metadata": {},
   "outputs": [],
   "source": [
    "# NOTE that number of input layer neurons must correspond to number of predictor variables"
   ]
  },
  {
   "cell_type": "code",
   "execution_count": 18,
   "id": "e90c7b34-a656-4973-8a0f-c50bddb5711f",
   "metadata": {},
   "outputs": [],
   "source": [
    "# set hyperparameters\n",
    "n_neuron       = 64\n",
    "activation     = 'relu'\n",
    "num_epochs     = 50\n",
    "learning_rate  = 0.001\n",
    "minibatch_size = 64\n",
    "model_num      = 1"
   ]
  },
  {
   "cell_type": "code",
   "execution_count": 19,
   "id": "861d6bf4-9a85-4007-8aea-ef6af8541e72",
   "metadata": {},
   "outputs": [],
   "source": [
    "NN_model = Sequential()\n",
    "\n",
    "NN_model.add(Dense(n_neuron,  activation=activation,input_shape=(X_train_df.shape[1],))) #  the 1st hidden layer \n",
    "NN_model.add(Dense(n_neuron,  activation=activation)) # the 2nd hidden layer\n",
    "NN_model.add(Dense(n_neuron,  activation=activation)) # the 3rd hidden layer\n",
    "NN_model.add(Dense(y_train_df.shape[1],  activation='linear')) # the output layer\n",
    "\n",
    "\n",
    "NN_model.compile(loss='mse',optimizer=tf.keras.optimizers.Adam(learning_rate=learning_rate))"
   ]
  },
  {
   "cell_type": "code",
   "execution_count": 20,
   "id": "02822248-ca18-409d-93ff-bb2ffb7cfc2f",
   "metadata": {},
   "outputs": [
    {
     "name": "stdout",
     "output_type": "stream",
     "text": [
      "Model: \"sequential_1\"\n",
      "_________________________________________________________________\n",
      " Layer (type)                Output Shape              Param #   \n",
      "=================================================================\n",
      " dense_4 (Dense)             (None, 64)                704       \n",
      "                                                                 \n",
      " dense_5 (Dense)             (None, 64)                4160      \n",
      "                                                                 \n",
      " dense_6 (Dense)             (None, 64)                4160      \n",
      "                                                                 \n",
      " dense_7 (Dense)             (None, 1)                 65        \n",
      "                                                                 \n",
      "=================================================================\n",
      "Total params: 9,089\n",
      "Trainable params: 9,089\n",
      "Non-trainable params: 0\n",
      "_________________________________________________________________\n"
     ]
    }
   ],
   "source": [
    "NN_model.summary()"
   ]
  },
  {
   "cell_type": "code",
   "execution_count": 21,
   "id": "a82e5ff7-d997-44eb-94ce-af0e37e51901",
   "metadata": {},
   "outputs": [
    {
     "name": "stdout",
     "output_type": "stream",
     "text": [
      "Epoch 1/50\n",
      "2483/2483 [==============================] - 4s 1ms/step - loss: 1942.4406 - val_loss: 851.7762\n",
      "Epoch 2/50\n",
      "2483/2483 [==============================] - 3s 1ms/step - loss: 752.4636 - val_loss: 816.1976\n",
      "Epoch 3/50\n",
      "2483/2483 [==============================] - 3s 1ms/step - loss: 693.0726 - val_loss: 710.0928\n",
      "Epoch 4/50\n",
      "2483/2483 [==============================] - 3s 1ms/step - loss: 652.3337 - val_loss: 761.5913\n",
      "Epoch 5/50\n",
      "2483/2483 [==============================] - 3s 1ms/step - loss: 616.1006 - val_loss: 666.7382\n",
      "Epoch 6/50\n",
      "2483/2483 [==============================] - 3s 1ms/step - loss: 591.7091 - val_loss: 595.8848\n",
      "Epoch 7/50\n",
      "2483/2483 [==============================] - 3s 1ms/step - loss: 559.5195 - val_loss: 600.5497\n",
      "Epoch 8/50\n",
      "2483/2483 [==============================] - 3s 1ms/step - loss: 515.2448 - val_loss: 538.8752\n",
      "Epoch 9/50\n",
      "2483/2483 [==============================] - 3s 1ms/step - loss: 472.9017 - val_loss: 547.7735\n",
      "Epoch 10/50\n",
      "2483/2483 [==============================] - 3s 1ms/step - loss: 441.0224 - val_loss: 579.2117\n",
      "Epoch 11/50\n",
      "2483/2483 [==============================] - 3s 1ms/step - loss: 414.3331 - val_loss: 532.6440\n",
      "Epoch 12/50\n",
      "2483/2483 [==============================] - 3s 1ms/step - loss: 395.8423 - val_loss: 452.6804\n",
      "Epoch 13/50\n",
      "2483/2483 [==============================] - 3s 1ms/step - loss: 383.8496 - val_loss: 440.5119\n",
      "Epoch 14/50\n",
      "2483/2483 [==============================] - 3s 1ms/step - loss: 373.6983 - val_loss: 470.9010\n",
      "Epoch 15/50\n",
      "2483/2483 [==============================] - 3s 1ms/step - loss: 365.1781 - val_loss: 492.9459\n",
      "Epoch 16/50\n",
      "2483/2483 [==============================] - 3s 1ms/step - loss: 353.7586 - val_loss: 536.9011\n",
      "Epoch 17/50\n",
      "2483/2483 [==============================] - 3s 1ms/step - loss: 347.4009 - val_loss: 406.4261\n",
      "Epoch 18/50\n",
      "2483/2483 [==============================] - 3s 1ms/step - loss: 338.7121 - val_loss: 497.5905\n",
      "Epoch 19/50\n",
      "2483/2483 [==============================] - 3s 1ms/step - loss: 333.0184 - val_loss: 510.3707\n",
      "Epoch 20/50\n",
      "2483/2483 [==============================] - 3s 1ms/step - loss: 326.7706 - val_loss: 439.7188\n",
      "Epoch 21/50\n",
      "2483/2483 [==============================] - 3s 1ms/step - loss: 318.2975 - val_loss: 446.5229\n",
      "Epoch 22/50\n",
      "2483/2483 [==============================] - 3s 1ms/step - loss: 308.7652 - val_loss: 381.6502\n",
      "Epoch 23/50\n",
      "2483/2483 [==============================] - 3s 1ms/step - loss: 299.2353 - val_loss: 366.3540\n",
      "Epoch 24/50\n",
      "2483/2483 [==============================] - 3s 1ms/step - loss: 291.0959 - val_loss: 449.8059\n",
      "Epoch 25/50\n",
      "2483/2483 [==============================] - 3s 1ms/step - loss: 282.5189 - val_loss: 427.8341\n",
      "Epoch 26/50\n",
      "2483/2483 [==============================] - 3s 1ms/step - loss: 273.4478 - val_loss: 431.4008\n",
      "Epoch 27/50\n",
      "2483/2483 [==============================] - 3s 1ms/step - loss: 267.6624 - val_loss: 404.2020\n",
      "Epoch 28/50\n",
      "2483/2483 [==============================] - 3s 1ms/step - loss: 261.6685 - val_loss: 342.4760\n",
      "Epoch 29/50\n",
      "2483/2483 [==============================] - 3s 1ms/step - loss: 257.4082 - val_loss: 363.3861\n",
      "Epoch 30/50\n",
      "2483/2483 [==============================] - 3s 1ms/step - loss: 251.6153 - val_loss: 357.4463\n",
      "Epoch 31/50\n",
      "2483/2483 [==============================] - 3s 1ms/step - loss: 248.3844 - val_loss: 418.1649\n",
      "Epoch 32/50\n",
      "2483/2483 [==============================] - 3s 1ms/step - loss: 242.8690 - val_loss: 332.8510\n",
      "Epoch 33/50\n",
      "2483/2483 [==============================] - 3s 1ms/step - loss: 239.4594 - val_loss: 328.4764\n",
      "Epoch 34/50\n",
      "2483/2483 [==============================] - 3s 1ms/step - loss: 233.6343 - val_loss: 364.6266\n",
      "Epoch 35/50\n",
      "2483/2483 [==============================] - 3s 1ms/step - loss: 229.1700 - val_loss: 423.2892\n",
      "Epoch 36/50\n",
      "2483/2483 [==============================] - 3s 1ms/step - loss: 225.8767 - val_loss: 381.2506\n",
      "Epoch 37/50\n",
      "2483/2483 [==============================] - 3s 1ms/step - loss: 220.5522 - val_loss: 385.8868\n",
      "Epoch 38/50\n",
      "2483/2483 [==============================] - 3s 1ms/step - loss: 215.9680 - val_loss: 337.7309\n",
      "Epoch 39/50\n",
      "2483/2483 [==============================] - 3s 1ms/step - loss: 216.5144 - val_loss: 322.7700\n",
      "Epoch 40/50\n",
      "2483/2483 [==============================] - 3s 1ms/step - loss: 210.6842 - val_loss: 333.8752\n",
      "Epoch 41/50\n",
      "2483/2483 [==============================] - 3s 1ms/step - loss: 209.6458 - val_loss: 324.7679\n",
      "Epoch 42/50\n",
      "2483/2483 [==============================] - 3s 1ms/step - loss: 204.3777 - val_loss: 380.6447\n",
      "Epoch 43/50\n",
      "2483/2483 [==============================] - 3s 1ms/step - loss: 203.0489 - val_loss: 361.4021\n",
      "Epoch 44/50\n",
      "2483/2483 [==============================] - 3s 1ms/step - loss: 201.8319 - val_loss: 277.2229\n",
      "Epoch 45/50\n",
      "2483/2483 [==============================] - 3s 1ms/step - loss: 198.5449 - val_loss: 319.2195\n",
      "Epoch 46/50\n",
      "2483/2483 [==============================] - 3s 1ms/step - loss: 195.7010 - val_loss: 389.5032\n",
      "Epoch 47/50\n",
      "2483/2483 [==============================] - 3s 1ms/step - loss: 193.7570 - val_loss: 354.8896\n",
      "Epoch 48/50\n",
      "2483/2483 [==============================] - 3s 1ms/step - loss: 190.5780 - val_loss: 361.0211\n",
      "Epoch 49/50\n",
      "2483/2483 [==============================] - 3s 1ms/step - loss: 189.4471 - val_loss: 337.1188\n",
      "Epoch 50/50\n",
      "2483/2483 [==============================] - 3s 1ms/step - loss: 187.2809 - val_loss: 357.2917\n"
     ]
    }
   ],
   "source": [
    "early_stop = keras.callbacks.EarlyStopping(monitor='val_loss', patience=20)\n",
    "\n",
    "\n",
    "history = NN_model.fit(X_train_df, y_train_df, \n",
    "                            batch_size      = minibatch_size,\n",
    "                            epochs          = num_epochs,\n",
    "                            validation_split= 0.2, \n",
    "                            verbose         = 1,\n",
    "                            callbacks       = [early_stop])"
   ]
  },
  {
   "cell_type": "markdown",
   "id": "bcee3774-5f25-4e80-81d9-c420444c052a",
   "metadata": {},
   "source": [
    "*Can see that validation loss reaches a minimum and then starts rising through epochs, indicating overfitting*"
   ]
  },
  {
   "cell_type": "code",
   "execution_count": null,
   "id": "f76ef8f7-3b30-4721-86a5-445039ff4774",
   "metadata": {},
   "outputs": [],
   "source": []
  },
  {
   "cell_type": "markdown",
   "id": "4cd1d5c5-879f-48f2-a86e-6d67008a584c",
   "metadata": {},
   "source": [
    "## Save NN Model"
   ]
  },
  {
   "cell_type": "code",
   "execution_count": 23,
   "id": "0b11fdfc-ff6a-406e-9e2c-d9f5dc602a91",
   "metadata": {},
   "outputs": [],
   "source": [
    "# after training, save:\n",
    "model_path = '/home/julias/MLEE-final-project/models/saved_models'\n",
    "NN_model.save(os.path.join(model_path,'NN_model_preliminary_rerun.h5'))"
   ]
  },
  {
   "cell_type": "markdown",
   "id": "984a61ba-79d8-4b49-aad8-2ae339817221",
   "metadata": {},
   "source": [
    "## Test NN Model"
   ]
  },
  {
   "cell_type": "code",
   "execution_count": 24,
   "id": "0dcbadfc-c85d-4ef8-bbaa-de43baf89406",
   "metadata": {},
   "outputs": [],
   "source": [
    "# then reload before start working with test data\n",
    "NN_prelim_model = load_model(os.path.join(model_path,'NN_model_preliminary_rerun.h5'))"
   ]
  },
  {
   "cell_type": "code",
   "execution_count": 25,
   "id": "ee887813-7c03-4130-a95b-87758a3e5626",
   "metadata": {},
   "outputs": [
    {
     "name": "stdout",
     "output_type": "stream",
     "text": [
      "1488/1488 [==============================] - 1s 740us/step\n",
      "MSE: 238.50\n"
     ]
    }
   ],
   "source": [
    "y_pred = NN_prelim_model.predict(X_test_df)\n",
    "mse = mean_squared_error(y_test_df, y_pred)\n",
    "print(\"MSE: %.2f\" % mse)"
   ]
  },
  {
   "cell_type": "code",
   "execution_count": 26,
   "id": "a3b17020-f0ed-4ded-abb4-054328118aae",
   "metadata": {},
   "outputs": [
    {
     "data": {
      "image/png": "[encoded data removed]",
      "text/plain": [
       "<Figure size 640x480 with 1 Axes>"
      ]
     },
     "metadata": {},
     "output_type": "display_data"
    }
   ],
   "source": [
    "x_ax = range(len(y_test_df))\n",
    "plt.plot(x_ax, y_test_df, label=\"original\")\n",
    "plt.plot(x_ax, y_pred, label=\"predicted\")\n",
    "plt.title(\"pC02 test and predicted data\")\n",
    "plt.legend()\n",
    "plt.show()"
   ]
  },
  {
   "cell_type": "markdown",
   "id": "0c0238b1-8c3a-46fb-8726-7d157ea07066",
   "metadata": {},
   "source": [
    "# Build and Train a Preliminary NN Model using Numpy as Input"
   ]
  },
  {
   "cell_type": "markdown",
   "id": "8d07a232-3847-4085-ac2b-a8299dc52b8c",
   "metadata": {},
   "source": [
    "## Build NN Model"
   ]
  },
  {
   "cell_type": "code",
   "execution_count": 6,
   "id": "84323fd7-e2d9-4157-8bea-14299df57876",
   "metadata": {},
   "outputs": [],
   "source": [
    "# set hyperparameters\n",
    "n_neuron       = 64\n",
    "activation     = 'relu'\n",
    "num_epochs     = 50\n",
    "learning_rate  = 0.001\n",
    "minibatch_size = 64\n",
    "model_num      = 1"
   ]
  },
  {
   "cell_type": "code",
   "execution_count": 33,
   "id": "fa4e79c8-97a0-43aa-85ac-a282b858fcb5",
   "metadata": {},
   "outputs": [
    {
     "data": {
      "text/plain": [
       "(198577,)"
      ]
     },
     "execution_count": 33,
     "metadata": {},
     "output_type": "execute_result"
    }
   ],
   "source": [
    "y_train.shape"
   ]
  },
  {
   "cell_type": "code",
   "execution_count": 36,
   "id": "934ce14a-d99b-421b-aeb1-e4300596c39c",
   "metadata": {},
   "outputs": [],
   "source": [
    "NN_model_nprelim = Sequential()\n",
    "\n",
    "NN_model_nprelim.add(Dense(n_neuron,  activation=activation,input_shape=(X_train.shape[1],))) #  the 1st hidden layer \n",
    "NN_model_nprelim.add(Dense(n_neuron,  activation=activation)) # the 2nd hidden layer\n",
    "NN_model_nprelim.add(Dense(n_neuron,  activation=activation)) # the 3rd hidden layer\n",
    "NN_model_nprelim.add(Dense(1,  activation='linear')) # the output layer\n",
    "\n",
    "\n",
    "NN_model_nprelim.compile(loss='mse',optimizer=tf.keras.optimizers.Adam(learning_rate=learning_rate))"
   ]
  },
  {
   "cell_type": "code",
   "execution_count": 37,
   "id": "415335b8-85d1-466d-b8c1-eb1f7cd4edff",
   "metadata": {},
   "outputs": [
    {
     "name": "stdout",
     "output_type": "stream",
     "text": [
      "Model: \"sequential_4\"\n",
      "_________________________________________________________________\n",
      " Layer (type)                Output Shape              Param #   \n",
      "=================================================================\n",
      " dense_15 (Dense)            (None, 64)                704       \n",
      "                                                                 \n",
      " dense_16 (Dense)            (None, 64)                4160      \n",
      "                                                                 \n",
      " dense_17 (Dense)            (None, 64)                4160      \n",
      "                                                                 \n",
      " dense_18 (Dense)            (None, 1)                 65        \n",
      "                                                                 \n",
      "=================================================================\n",
      "Total params: 9,089\n",
      "Trainable params: 9,089\n",
      "Non-trainable params: 0\n",
      "_________________________________________________________________\n"
     ]
    }
   ],
   "source": [
    "NN_model_nprelim.summary()"
   ]
  },
  {
   "cell_type": "markdown",
   "id": "5bcf7a2a-12a0-448c-8173-bdfc581669a4",
   "metadata": {},
   "source": [
    "## Train NN Model"
   ]
  },
  {
   "cell_type": "code",
   "execution_count": 38,
   "id": "cfb0bc27-0d98-433b-b157-248b247f3a80",
   "metadata": {},
   "outputs": [
    {
     "name": "stdout",
     "output_type": "stream",
     "text": [
      "Epoch 1/50\n",
      "2483/2483 [==============================] - 4s 1ms/step - loss: 2185.3374 - val_loss: 827.7376\n",
      "Epoch 2/50\n",
      "2483/2483 [==============================] - 3s 1ms/step - loss: 810.8165 - val_loss: 707.8122\n",
      "Epoch 3/50\n",
      "2483/2483 [==============================] - 3s 1ms/step - loss: 702.8127 - val_loss: 849.1256\n",
      "Epoch 4/50\n",
      "2483/2483 [==============================] - 3s 1ms/step - loss: 645.5285 - val_loss: 603.4423\n",
      "Epoch 5/50\n",
      "2483/2483 [==============================] - 3s 1ms/step - loss: 603.9830 - val_loss: 536.4496\n",
      "Epoch 6/50\n",
      "2483/2483 [==============================] - 3s 1ms/step - loss: 572.2943 - val_loss: 536.2884\n",
      "Epoch 7/50\n",
      "2483/2483 [==============================] - 3s 1ms/step - loss: 533.5015 - val_loss: 545.0120\n",
      "Epoch 8/50\n",
      "2483/2483 [==============================] - 3s 1ms/step - loss: 489.9393 - val_loss: 438.8030\n",
      "Epoch 9/50\n",
      "2483/2483 [==============================] - 3s 1ms/step - loss: 450.7432 - val_loss: 434.4235\n",
      "Epoch 10/50\n",
      "2483/2483 [==============================] - 3s 1ms/step - loss: 420.1496 - val_loss: 410.1393\n",
      "Epoch 11/50\n",
      "2483/2483 [==============================] - 3s 1ms/step - loss: 395.9763 - val_loss: 398.6546\n",
      "Epoch 12/50\n",
      "2483/2483 [==============================] - 3s 1ms/step - loss: 374.7225 - val_loss: 367.9955\n",
      "Epoch 13/50\n",
      "2483/2483 [==============================] - 3s 1ms/step - loss: 357.0141 - val_loss: 397.5636\n",
      "Epoch 14/50\n",
      "2483/2483 [==============================] - 3s 1ms/step - loss: 343.6216 - val_loss: 365.0424\n",
      "Epoch 15/50\n",
      "2483/2483 [==============================] - 3s 1ms/step - loss: 330.5213 - val_loss: 334.6509\n",
      "Epoch 16/50\n",
      "2483/2483 [==============================] - 3s 1ms/step - loss: 321.9367 - val_loss: 353.8328\n",
      "Epoch 17/50\n",
      "2483/2483 [==============================] - 3s 1ms/step - loss: 313.3574 - val_loss: 310.1801\n",
      "Epoch 18/50\n",
      "2483/2483 [==============================] - 3s 1ms/step - loss: 305.3528 - val_loss: 339.7032\n",
      "Epoch 19/50\n",
      "2483/2483 [==============================] - 3s 1ms/step - loss: 297.5217 - val_loss: 327.1526\n",
      "Epoch 20/50\n",
      "2483/2483 [==============================] - 3s 1ms/step - loss: 289.7439 - val_loss: 323.2494\n",
      "Epoch 21/50\n",
      "2483/2483 [==============================] - 3s 1ms/step - loss: 280.1329 - val_loss: 294.1185\n",
      "Epoch 22/50\n",
      "2483/2483 [==============================] - 3s 1ms/step - loss: 271.4346 - val_loss: 291.3657\n",
      "Epoch 23/50\n",
      "2483/2483 [==============================] - 3s 1ms/step - loss: 262.2674 - val_loss: 306.2780\n",
      "Epoch 24/50\n",
      "2483/2483 [==============================] - 3s 1ms/step - loss: 257.1516 - val_loss: 284.7671\n",
      "Epoch 25/50\n",
      "2483/2483 [==============================] - 3s 1ms/step - loss: 246.1935 - val_loss: 320.6292\n",
      "Epoch 26/50\n",
      "2483/2483 [==============================] - 3s 1ms/step - loss: 239.4334 - val_loss: 281.3679\n",
      "Epoch 27/50\n",
      "2483/2483 [==============================] - 3s 1ms/step - loss: 234.8340 - val_loss: 343.4970\n",
      "Epoch 28/50\n",
      "2483/2483 [==============================] - 3s 1ms/step - loss: 231.4499 - val_loss: 301.4531\n",
      "Epoch 29/50\n",
      "2483/2483 [==============================] - 3s 1ms/step - loss: 227.7828 - val_loss: 357.0207\n",
      "Epoch 30/50\n",
      "2483/2483 [==============================] - 3s 1ms/step - loss: 224.3456 - val_loss: 296.8273\n",
      "Epoch 31/50\n",
      "2483/2483 [==============================] - 3s 1ms/step - loss: 218.6724 - val_loss: 321.2952\n",
      "Epoch 32/50\n",
      "2483/2483 [==============================] - 3s 1ms/step - loss: 216.5878 - val_loss: 295.6557\n",
      "Epoch 33/50\n",
      "2483/2483 [==============================] - 3s 1ms/step - loss: 214.7214 - val_loss: 306.7001\n",
      "Epoch 34/50\n",
      "2483/2483 [==============================] - 3s 1ms/step - loss: 212.5136 - val_loss: 300.4822\n",
      "Epoch 35/50\n",
      "2483/2483 [==============================] - 3s 1ms/step - loss: 209.6826 - val_loss: 332.6419\n",
      "Epoch 36/50\n",
      "2483/2483 [==============================] - 3s 1ms/step - loss: 207.4700 - val_loss: 318.2243\n",
      "Epoch 37/50\n",
      "2483/2483 [==============================] - 3s 1ms/step - loss: 204.4290 - val_loss: 277.5003\n",
      "Epoch 38/50\n",
      "2483/2483 [==============================] - 3s 1ms/step - loss: 201.0766 - val_loss: 440.9592\n",
      "Epoch 39/50\n",
      "2483/2483 [==============================] - 3s 1ms/step - loss: 200.7451 - val_loss: 306.7619\n",
      "Epoch 40/50\n",
      "2483/2483 [==============================] - 3s 1ms/step - loss: 198.0576 - val_loss: 356.3564\n",
      "Epoch 41/50\n",
      "2483/2483 [==============================] - 3s 1ms/step - loss: 196.5798 - val_loss: 303.4645\n",
      "Epoch 42/50\n",
      "2483/2483 [==============================] - 3s 1ms/step - loss: 193.6389 - val_loss: 306.3658\n",
      "Epoch 43/50\n",
      "2483/2483 [==============================] - 3s 1ms/step - loss: 192.2209 - val_loss: 271.8052\n",
      "Epoch 44/50\n",
      "2483/2483 [==============================] - 3s 1ms/step - loss: 190.2949 - val_loss: 284.3478\n",
      "Epoch 45/50\n",
      "2483/2483 [==============================] - 3s 1ms/step - loss: 189.1477 - val_loss: 265.7472\n",
      "Epoch 46/50\n",
      "2483/2483 [==============================] - 3s 1ms/step - loss: 189.7706 - val_loss: 282.7794\n",
      "Epoch 47/50\n",
      "2483/2483 [==============================] - 3s 1ms/step - loss: 185.9006 - val_loss: 276.9751\n",
      "Epoch 48/50\n",
      "2483/2483 [==============================] - 3s 1ms/step - loss: 182.6983 - val_loss: 325.2875\n",
      "Epoch 49/50\n",
      "2483/2483 [==============================] - 3s 1ms/step - loss: 182.0699 - val_loss: 297.2615\n",
      "Epoch 50/50\n",
      "2483/2483 [==============================] - 3s 1ms/step - loss: 180.3440 - val_loss: 255.9424\n"
     ]
    }
   ],
   "source": [
    "early_stop = keras.callbacks.EarlyStopping(monitor='val_loss', patience=20)\n",
    "\n",
    "\n",
    "history_nprelim = NN_model_nprelim.fit(X_train, y_train, \n",
    "                            batch_size      = minibatch_size,\n",
    "                            epochs          = num_epochs,\n",
    "                            validation_split= 0.2, \n",
    "                            verbose         = 1,\n",
    "                            callbacks       = [early_stop])"
   ]
  },
  {
   "cell_type": "markdown",
   "id": "79be0e9f-eeaa-43cb-bb7a-c5b0db7e55d5",
   "metadata": {},
   "source": [
    "## Save NN Model"
   ]
  },
  {
   "cell_type": "code",
   "execution_count": 39,
   "id": "1ab8e74d-fc66-4cdf-aa39-04663b8b456f",
   "metadata": {},
   "outputs": [],
   "source": [
    "# after training, save:\n",
    "model_path = '/home/julias/MLEE-final-project/models/saved_models'\n",
    "NN_model_nprelim.save(os.path.join(model_path,'NN_model_preliminary_numpyinput_rerun.h5'))"
   ]
  },
  {
   "cell_type": "markdown",
   "id": "d3a12c36-5dc7-4419-846d-32f1eb6eff74",
   "metadata": {},
   "source": [
    "## Test NN Model"
   ]
  },
  {
   "cell_type": "code",
   "execution_count": 40,
   "id": "a0986fca-abd8-4005-bb0c-38d1d6fcc430",
   "metadata": {},
   "outputs": [],
   "source": [
    "NN_model_num_prelim_rerun = load_model(os.path.join(model_path,'NN_model_preliminary_numpyinput.h5'))"
   ]
  },
  {
   "cell_type": "code",
   "execution_count": 41,
   "id": "e5d7b3e7-d287-4149-b802-390d562ce5dc",
   "metadata": {},
   "outputs": [
    {
     "name": "stdout",
     "output_type": "stream",
     "text": [
      "1488/1488 [==============================] - 1s 708us/step\n",
      "MSE: 250.06\n"
     ]
    }
   ],
   "source": [
    "y_pred_nprelim_rerun = NN_model_num_prelim_rerun.predict(X_test)\n",
    "mse = mean_squared_error(y_test, y_pred_nprelim_rerun)\n",
    "print(\"MSE: %.2f\" % mse)"
   ]
  },
  {
   "cell_type": "code",
   "execution_count": 43,
   "id": "68f6783f-40f5-4f2b-84fd-613147f0a504",
   "metadata": {},
   "outputs": [
    {
     "data": {
      "image/png": "[encoded data removed]",
      "text/plain": [
       "<Figure size 640x480 with 1 Axes>"
      ]
     },
     "metadata": {},
     "output_type": "display_data"
    }
   ],
   "source": [
    "x_ax = range(len(y_test))\n",
    "plt.plot(x_ax, y_test, label=\"original\")\n",
    "plt.plot(x_ax, y_pred_nprelim_rerun, label=\"predicted\")\n",
    "plt.title(\"pC02 test and predicted data\")\n",
    "plt.legend()\n",
    "plt.show()"
   ]
  },
  {
   "cell_type": "markdown",
   "id": "15331af5-9672-417c-be3c-0870d4707f1f",
   "metadata": {},
   "source": [
    "# Select Approach & Parameters"
   ]
  },
  {
   "cell_type": "markdown",
   "id": "6c304571-5689-466a-957e-29a6559d6b72",
   "metadata": {},
   "source": [
    "## Approach"
   ]
  },
  {
   "cell_type": "markdown",
   "id": "65976d40-1aac-4452-9520-a8778d7df3d7",
   "metadata": {},
   "source": [
    "- Based on preliminary experimentation, will train the NN model on ___ data"
   ]
  },
  {
   "cell_type": "markdown",
   "id": "5606d841-9f96-4c1e-984c-f24508117dc3",
   "metadata": {},
   "source": [
    "## Parameters"
   ]
  },
  {
   "cell_type": "markdown",
   "id": "798b4107-3bea-4c70-b399-1a0a3043f17b",
   "metadata": {},
   "source": [
    "- Based on preliminary experimentation, will design a NN with the below hyperparameters"
   ]
  },
  {
   "cell_type": "markdown",
   "id": "ad32d972-24be-4ee4-8739-1dd13f9bb76c",
   "metadata": {},
   "source": [
    "# Five Identical NN Models "
   ]
  },
  {
   "cell_type": "markdown",
   "id": "01d7b3aa-443f-4c9b-b2ce-c9438d72248b",
   "metadata": {},
   "source": [
    "## NN Model 1"
   ]
  },
  {
   "cell_type": "markdown",
   "id": "75fc2337-b817-4505-838a-0d9c23c3227f",
   "metadata": {},
   "source": [
    "## NN Model 2"
   ]
  },
  {
   "cell_type": "markdown",
   "id": "8459c3b5-d216-453c-b1bb-1e6ab77f05b6",
   "metadata": {},
   "source": [
    "## NN Model 3"
   ]
  },
  {
   "cell_type": "markdown",
   "id": "771784b2-0638-461f-a280-da513a240615",
   "metadata": {},
   "source": [
    "## NN Model 4"
   ]
  },
  {
   "cell_type": "markdown",
   "id": "a18f4594-bee7-4179-8986-59548cc9b7e7",
   "metadata": {},
   "source": [
    "## NN Model 5"
   ]
  },
  {
   "cell_type": "code",
   "execution_count": null,
   "id": "6daf8d72-469b-4897-a1ed-bc7d568cc0a3",
   "metadata": {},
   "outputs": [],
   "source": []
  }
 ],
 "metadata": {
  "kernelspec": {
   "display_name": "fromML",
   "language": "python",
   "name": "fromml"
  },
  "language_info": {
   "codemirror_mode": {
    "name": "ipython",
    "version": 3
   },
   "file_extension": ".py",
   "mimetype": "text/x-python",
   "name": "python",
   "nbconvert_exporter": "python",
   "pygments_lexer": "ipython3",
   "version": "3.9.13"
  }
 },
 "nbformat": 4,
 "nbformat_minor": 5
}
