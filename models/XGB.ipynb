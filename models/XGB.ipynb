{
 "cells": [
  {
   "cell_type": "code",
   "execution_count": 1,
   "id": "a3d4a327-8cd7-44a4-8dd8-42408dbdf992",
   "metadata": {},
   "outputs": [
    {
     "name": "stderr",
     "output_type": "stream",
     "text": [
      "2023-01-10 14:40:15.551367: I tensorflow/core/platform/cpu_feature_guard.cc:193] This TensorFlow binary is optimized with oneAPI Deep Neural Network Library (oneDNN) to use the following CPU instructions in performance-critical operations:  SSE4.1 SSE4.2 AVX AVX2 AVX512F FMA\n",
      "To enable them in other operations, rebuild TensorFlow with the appropriate compiler flags.\n"
     ]
    }
   ],
   "source": [
    "# Standard imports\n",
    "import os\n",
    "import datetime\n",
    "from pathlib import Path\n",
    "from collections import defaultdict\n",
    "import scipy\n",
    "import random\n",
    "import numpy as np\n",
    "import xarray as xr\n",
    "import pandas as pd\n",
    "import matplotlib.pyplot as plt\n",
    "import joblib\n",
    "import pickle\n",
    "\n",
    "# Machine learning libraries\n",
    "import sklearn            # machine-learning libary with many algorithms implemented\n",
    "import xgboost as xgb     # extreme gradient boosting (XGB)\n",
    "from xgboost import XGBRegressor\n",
    "from sklearn.model_selection import train_test_split, GridSearchCV, cross_val_score\n",
    "from sklearn.metrics import mean_squared_error\n",
    "\n",
    "# Python file with supporting functions\n",
    "import model_utils"
   ]
  },
  {
   "cell_type": "code",
   "execution_count": 2,
   "id": "0f6e7cc6-493a-4130-8fa8-ada2e614ac42",
   "metadata": {},
   "outputs": [],
   "source": [
    "recon_model_path = '/home/julias/MLEE-final-project/models/saved_models/recon_models'"
   ]
  },
  {
   "cell_type": "markdown",
   "id": "0cfdfe9d-9b70-4498-af7c-a674e284d048",
   "metadata": {
    "tags": []
   },
   "source": [
    "### To Set and Track Seeds for Reproducibility (Referencing Group Standard):"
   ]
  },
  {
   "cell_type": "code",
   "execution_count": 3,
   "id": "acb1ca43-1510-45a1-a93a-1c2665b35952",
   "metadata": {},
   "outputs": [],
   "source": [
    "ens = 'CESM'\n",
    "member = '009'\n",
    "reference_output_dir = '/home/julias/MLEE-final-project/pickle_files'\n",
    "\n",
    "path_seeds = f'{reference_output_dir}/random_seeds.npy'\n",
    "random_seeds = np.load(path_seeds)  \n",
    "\n",
    "path_loc = f'{reference_output_dir}/cesm_seed_loc_dict.pickle'\n",
    "with open(path_loc,'rb') as handle:\n",
    "    seed_loc_dict = pickle.load(handle)\n",
    "seed_loc = seed_loc_dict[ens][member]\n",
    "\n",
    "# for next project, where train and test datasets use all CESM members\n",
    "#path_cesm = f\"{reference_output_dir}/cesm_members_dict.pickle\"\n",
    "#with open(path_cesm,'rb') as handle:\n",
    "#    cesm_mems_dict = pickle.load(handle)"
   ]
  },
  {
   "cell_type": "code",
   "execution_count": null,
   "id": "f4bbf3be-038e-40c4-8249-a053077c769b",
   "metadata": {},
   "outputs": [],
   "source": [
    "# random_seeds"
   ]
  },
  {
   "cell_type": "code",
   "execution_count": null,
   "id": "bf69a920-5995-4ec7-a297-d89b5aecfd79",
   "metadata": {},
   "outputs": [],
   "source": [
    "# seed_loc_dict # using CESM 009, so seed_loc should be 32"
   ]
  },
  {
   "cell_type": "code",
   "execution_count": null,
   "id": "2d866f5e-f197-44bd-81dc-2c06c9b054d8",
   "metadata": {},
   "outputs": [],
   "source": [
    "# seed_loc #confirmed 32"
   ]
  },
  {
   "cell_type": "code",
   "execution_count": null,
   "id": "bcae1f7f-91d8-41f7-a36a-1d0162f8f54a",
   "metadata": {},
   "outputs": [],
   "source": []
  },
  {
   "cell_type": "markdown",
   "id": "0fc4c720-c132-487e-9dfb-05495b1aefd5",
   "metadata": {
    "tags": []
   },
   "source": [
    "# Load Split Datasets and Create Versions for Experimentation"
   ]
  },
  {
   "cell_type": "markdown",
   "id": "9345d36c-1fe3-4a41-9d66-54ca781e40d0",
   "metadata": {},
   "source": [
    "## Load Split Datasets"
   ]
  },
  {
   "cell_type": "code",
   "execution_count": 4,
   "id": "4ba289c3-0f88-49db-8869-fabd8982f773",
   "metadata": {},
   "outputs": [],
   "source": [
    "X_df = xr.open_dataset('/home/julias/MLEE-final-project/proc_data/split_datasets/X.nc').to_dataframe().dropna()\n",
    "y_df = xr.open_dataset('/home/julias/MLEE-final-project/proc_data/split_datasets/y.nc').to_dataframe().dropna() \n",
    "X_train_df = xr.open_dataset('/home/julias/MLEE-final-project/proc_data/split_datasets/X_train.nc').to_dataframe().dropna() \n",
    "y_train_df = xr.open_dataset('/home/julias/MLEE-final-project/proc_data/split_datasets/y_train.nc').to_dataframe().dropna()\n",
    "X_test_df = xr.open_dataset('/home/julias/MLEE-final-project/proc_data/split_datasets/X_test.nc').to_dataframe().dropna() \n",
    "y_test_df = xr.open_dataset('/home/julias/MLEE-final-project/proc_data/split_datasets/y_test.nc').to_dataframe().dropna() "
   ]
  },
  {
   "cell_type": "markdown",
   "id": "de23a619-f805-49b5-9eac-d4d46feb0ee4",
   "metadata": {},
   "source": [
    "Check that data was saved and loaded properly:"
   ]
  },
  {
   "cell_type": "code",
   "execution_count": null,
   "id": "1f67d45b-0e62-4e64-8ea7-6aaee7765e82",
   "metadata": {},
   "outputs": [],
   "source": [
    "X_train_df"
   ]
  },
  {
   "cell_type": "code",
   "execution_count": null,
   "id": "ff5236a4-d61e-4c8b-8ddd-e0751e96ed18",
   "metadata": {},
   "outputs": [],
   "source": [
    "y_test_df"
   ]
  },
  {
   "cell_type": "markdown",
   "id": "4eeb218c-b7c2-41e7-ab50-91c12dee51ae",
   "metadata": {},
   "source": [
    "### Create Numpy Arrays for Original Data"
   ]
  },
  {
   "cell_type": "code",
   "execution_count": null,
   "id": "f5e546b1-4ea4-48b8-acae-4c1c3c120b6c",
   "metadata": {},
   "outputs": [],
   "source": [
    "X_original = X_df.to_numpy()         \n",
    "y_original = y_df.to_numpy().ravel() \n",
    "X_train_original = X_train_df.to_numpy() \n",
    "y_train_original = y_train_df.to_numpy().ravel()\n",
    "X_test_original = X_test_df.to_numpy()  \n",
    "y_test_original = y_test_df.to_numpy().ravel()"
   ]
  },
  {
   "cell_type": "markdown",
   "id": "900c3955-cbf2-4260-b649-1038c0a61b90",
   "metadata": {},
   "source": [
    "## Create Normalized Dataframes"
   ]
  },
  {
   "cell_type": "markdown",
   "id": "92653583-1c6a-44d1-93bf-042e11077b54",
   "metadata": {},
   "source": [
    "*Note: Done here, as opposed to in test/train split, so that I can save the original train/test datasets and later determine whether normalization led to improvement. (My group has not historically normalized data before training.)*"
   ]
  },
  {
   "cell_type": "code",
   "execution_count": null,
   "id": "a59e63c6-f823-4370-a5d6-2236bbe584fd",
   "metadata": {
    "tags": []
   },
   "outputs": [],
   "source": [
    "#X_df_norm = (X_df - X_df.mean())/X_df.std() \n",
    "#y_df_norm = (y_df - y_df.mean())/y_df.std()\n",
    "#X_train_df_norm = (X_train_df - X_train_df.mean())/X_train_df.std()\n",
    "#y_train_df_norm = (y_train_df - y_train_df.mean())/y_train_df.std()\n",
    "#X_test_df_norm = (X_test_df - X_test_df.mean())/X_test_df.std()\n",
    "#y_test_df_norm = (y_test_df - y_test_df.mean())/y_test_df.std()"
   ]
  },
  {
   "cell_type": "markdown",
   "id": "43cdc44e-fe25-4543-83a6-2608cbb095f7",
   "metadata": {},
   "source": [
    "CHANGE METHOD TO BELOW\n",
    "- This way, time and lat/lon conversions are not normalized\n",
    "- Note that coordinates don't seem to be input into ML algorithms, so T0,T1,A,B,C are the inputs of time and space (as would want, don't want two forms of time and space input)"
   ]
  },
  {
   "cell_type": "code",
   "execution_count": 5,
   "id": "d5d9c3f7-e923-4440-a5f8-50e407e5c730",
   "metadata": {
    "tags": []
   },
   "outputs": [],
   "source": [
    "#X_df_norm = X_df\n",
    "#y_df_norm = y_df\n",
    "#X_train_df_norm = X_train_df\n",
    "#y_train_df_norm = y_train_df\n",
    "#X_test_df_norm = X_test_df\n",
    "#y_test_df_norm = y_test_df\n",
    "\n",
    "#for df in X_df_norm, X_train_df_norm, X_test_df_norm:\n",
    "#    df.SSS = (df.SSS - df.SSS.mean())/df.SSS.std() \n",
    "#    df.SST = (df.SST - df.SST.mean())/df.SST.std() \n",
    "#    df.MLD = (df.MLD - df.MLD.mean())/df.MLD.std() \n",
    "#    df.Chl = (df.Chl - df.Chl.mean())/df.Chl.std() \n",
    "#    df.XCO2 = (df.XCO2 - df.XCO2.mean())/df.XCO2.std() \n",
    "\n",
    "#for df in y_df_norm, y_train_df_norm, y_test_df_norm:\n",
    "#    df.pCO2 = (df.pCO2 - df.pCO2.mean())/df.pCO2.std() "
   ]
  },
  {
   "cell_type": "code",
   "execution_count": null,
   "id": "e6d66242-136c-4956-9960-418a2d2e8786",
   "metadata": {},
   "outputs": [],
   "source": [
    "X_train_df_norm"
   ]
  },
  {
   "cell_type": "markdown",
   "id": "445b9289-f0f4-405b-9a17-5bad44e6d55b",
   "metadata": {},
   "source": [
    "## Create Numpy Arrays "
   ]
  },
  {
   "cell_type": "code",
   "execution_count": null,
   "id": "bc56511e-082c-4cbe-92be-d530d7caf3f7",
   "metadata": {},
   "outputs": [],
   "source": [
    "X_n = X_df_norm.to_numpy()         \n",
    "y_n = y_df_norm.to_numpy().ravel() \n",
    "X_train_n = X_train_df_norm.to_numpy()\n",
    "y_train_n = y_train_df_norm.to_numpy().ravel()\n",
    "X_test_n = X_test_df_norm.to_numpy() \n",
    "y_test_n = y_test_df_norm.to_numpy().ravel()"
   ]
  },
  {
   "cell_type": "markdown",
   "id": "18f00a40-e85d-42f3-b132-d7018ad5bfb3",
   "metadata": {
    "tags": []
   },
   "source": [
    "# Preliminary XGB Models"
   ]
  },
  {
   "cell_type": "markdown",
   "id": "48072b34-6231-47ce-b1fe-dd99c513c62e",
   "metadata": {},
   "source": [
    "***Goal: Compare auto-XGB with lowest end and highest end of group XGB parameter matrix***"
   ]
  },
  {
   "cell_type": "markdown",
   "id": "0d4f794d-9efe-4e80-8b5d-11db6af07ce2",
   "metadata": {},
   "source": [
    "## Baseline Model Test"
   ]
  },
  {
   "cell_type": "markdown",
   "id": "e5bf2c64-ab37-4a1a-b486-7083523f7b52",
   "metadata": {},
   "source": [
    "Alternations should at least improve on the baseline set by the auto-generated XGB algorithm"
   ]
  },
  {
   "cell_type": "code",
   "execution_count": 8,
   "id": "094281d3-b661-421a-ae02-418ed2b4e61c",
   "metadata": {},
   "outputs": [],
   "source": [
    "model_baseline = xgb.XGBRegressor(verbosity=0) "
   ]
  },
  {
   "cell_type": "code",
   "execution_count": 9,
   "id": "fa65fa95-8e1b-4b03-9a2c-e1428bbd8df4",
   "metadata": {},
   "outputs": [
    {
     "data": {
      "text/html": [
       "<style>#sk-container-id-2 {color: black;background-color: white;}#sk-container-id-2 pre{padding: 0;}#sk-container-id-2 div.sk-toggleable {background-color: white;}#sk-container-id-2 label.sk-toggleable__label {cursor: pointer;display: block;width: 100%;margin-bottom: 0;padding: 0.3em;box-sizing: border-box;text-align: center;}#sk-container-id-2 label.sk-toggleable__label-arrow:before {content: \"▸\";float: left;margin-right: 0.25em;color: #696969;}#sk-container-id-2 label.sk-toggleable__label-arrow:hover:before {color: black;}#sk-container-id-2 div.sk-estimator:hover label.sk-toggleable__label-arrow:before {color: black;}#sk-container-id-2 div.sk-toggleable__content {max-height: 0;max-width: 0;overflow: hidden;text-align: left;background-color: #f0f8ff;}#sk-container-id-2 div.sk-toggleable__content pre {margin: 0.2em;color: black;border-radius: 0.25em;background-color: #f0f8ff;}#sk-container-id-2 input.sk-toggleable__control:checked~div.sk-toggleable__content {max-height: 200px;max-width: 100%;overflow: auto;}#sk-container-id-2 input.sk-toggleable__control:checked~label.sk-toggleable__label-arrow:before {content: \"▾\";}#sk-container-id-2 div.sk-estimator input.sk-toggleable__control:checked~label.sk-toggleable__label {background-color: #d4ebff;}#sk-container-id-2 div.sk-label input.sk-toggleable__control:checked~label.sk-toggleable__label {background-color: #d4ebff;}#sk-container-id-2 input.sk-hidden--visually {border: 0;clip: rect(1px 1px 1px 1px);clip: rect(1px, 1px, 1px, 1px);height: 1px;margin: -1px;overflow: hidden;padding: 0;position: absolute;width: 1px;}#sk-container-id-2 div.sk-estimator {font-family: monospace;background-color: #f0f8ff;border: 1px dotted black;border-radius: 0.25em;box-sizing: border-box;margin-bottom: 0.5em;}#sk-container-id-2 div.sk-estimator:hover {background-color: #d4ebff;}#sk-container-id-2 div.sk-parallel-item::after {content: \"\";width: 100%;border-bottom: 1px solid gray;flex-grow: 1;}#sk-container-id-2 div.sk-label:hover label.sk-toggleable__label {background-color: #d4ebff;}#sk-container-id-2 div.sk-serial::before {content: \"\";position: absolute;border-left: 1px solid gray;box-sizing: border-box;top: 0;bottom: 0;left: 50%;z-index: 0;}#sk-container-id-2 div.sk-serial {display: flex;flex-direction: column;align-items: center;background-color: white;padding-right: 0.2em;padding-left: 0.2em;position: relative;}#sk-container-id-2 div.sk-item {position: relative;z-index: 1;}#sk-container-id-2 div.sk-parallel {display: flex;align-items: stretch;justify-content: center;background-color: white;position: relative;}#sk-container-id-2 div.sk-item::before, #sk-container-id-2 div.sk-parallel-item::before {content: \"\";position: absolute;border-left: 1px solid gray;box-sizing: border-box;top: 0;bottom: 0;left: 50%;z-index: -1;}#sk-container-id-2 div.sk-parallel-item {display: flex;flex-direction: column;z-index: 1;position: relative;background-color: white;}#sk-container-id-2 div.sk-parallel-item:first-child::after {align-self: flex-end;width: 50%;}#sk-container-id-2 div.sk-parallel-item:last-child::after {align-self: flex-start;width: 50%;}#sk-container-id-2 div.sk-parallel-item:only-child::after {width: 0;}#sk-container-id-2 div.sk-dashed-wrapped {border: 1px dashed gray;margin: 0 0.4em 0.5em 0.4em;box-sizing: border-box;padding-bottom: 0.4em;background-color: white;}#sk-container-id-2 div.sk-label label {font-family: monospace;font-weight: bold;display: inline-block;line-height: 1.2em;}#sk-container-id-2 div.sk-label-container {text-align: center;}#sk-container-id-2 div.sk-container {/* jupyter's `normalize.less` sets `[hidden] { display: none; }` but bootstrap.min.css set `[hidden] { display: none !important; }` so we also need the `!important` here to be able to override the default hidden behavior on the sphinx rendered scikit-learn.org. See: https://github.com/scikit-learn/scikit-learn/issues/21755 */display: inline-block !important;position: relative;}#sk-container-id-2 div.sk-text-repr-fallback {display: none;}</style><div id=\"sk-container-id-2\" class=\"sk-top-container\"><div class=\"sk-text-repr-fallback\"><pre>XGBRegressor(base_score=0.5, booster=&#x27;gbtree&#x27;, callbacks=None,\n",
       "             colsample_bylevel=1, colsample_bynode=1, colsample_bytree=1,\n",
       "             early_stopping_rounds=None, enable_categorical=False,\n",
       "             eval_metric=None, gamma=0, gpu_id=-1, grow_policy=&#x27;depthwise&#x27;,\n",
       "             importance_type=None, interaction_constraints=&#x27;&#x27;,\n",
       "             learning_rate=0.300000012, max_bin=256, max_cat_to_onehot=4,\n",
       "             max_delta_step=0, max_depth=6, max_leaves=0, min_child_weight=1,\n",
       "             missing=nan, monotone_constraints=&#x27;()&#x27;, n_estimators=100, n_jobs=0,\n",
       "             num_parallel_tree=1, predictor=&#x27;auto&#x27;, random_state=0, reg_alpha=0,\n",
       "             reg_lambda=1, ...)</pre><b>In a Jupyter environment, please rerun this cell to show the HTML representation or trust the notebook. <br />On GitHub, the HTML representation is unable to render, please try loading this page with nbviewer.org.</b></div><div class=\"sk-container\" hidden><div class=\"sk-item\"><div class=\"sk-estimator sk-toggleable\"><input class=\"sk-toggleable__control sk-hidden--visually\" id=\"sk-estimator-id-2\" type=\"checkbox\" checked><label for=\"sk-estimator-id-2\" class=\"sk-toggleable__label sk-toggleable__label-arrow\">XGBRegressor</label><div class=\"sk-toggleable__content\"><pre>XGBRegressor(base_score=0.5, booster=&#x27;gbtree&#x27;, callbacks=None,\n",
       "             colsample_bylevel=1, colsample_bynode=1, colsample_bytree=1,\n",
       "             early_stopping_rounds=None, enable_categorical=False,\n",
       "             eval_metric=None, gamma=0, gpu_id=-1, grow_policy=&#x27;depthwise&#x27;,\n",
       "             importance_type=None, interaction_constraints=&#x27;&#x27;,\n",
       "             learning_rate=0.300000012, max_bin=256, max_cat_to_onehot=4,\n",
       "             max_delta_step=0, max_depth=6, max_leaves=0, min_child_weight=1,\n",
       "             missing=nan, monotone_constraints=&#x27;()&#x27;, n_estimators=100, n_jobs=0,\n",
       "             num_parallel_tree=1, predictor=&#x27;auto&#x27;, random_state=0, reg_alpha=0,\n",
       "             reg_lambda=1, ...)</pre></div></div></div></div></div>"
      ],
      "text/plain": [
       "XGBRegressor(base_score=0.5, booster='gbtree', callbacks=None,\n",
       "             colsample_bylevel=1, colsample_bynode=1, colsample_bytree=1,\n",
       "             early_stopping_rounds=None, enable_categorical=False,\n",
       "             eval_metric=None, gamma=0, gpu_id=-1, grow_policy='depthwise',\n",
       "             importance_type=None, interaction_constraints='',\n",
       "             learning_rate=0.300000012, max_bin=256, max_cat_to_onehot=4,\n",
       "             max_delta_step=0, max_depth=6, max_leaves=0, min_child_weight=1,\n",
       "             missing=nan, monotone_constraints='()', n_estimators=100, n_jobs=0,\n",
       "             num_parallel_tree=1, predictor='auto', random_state=0, reg_alpha=0,\n",
       "             reg_lambda=1, ...)"
      ]
     },
     "execution_count": 9,
     "metadata": {},
     "output_type": "execute_result"
    }
   ],
   "source": [
    "model_baseline.fit(X_train_df, y_train_df)"
   ]
  },
  {
   "cell_type": "markdown",
   "id": "b697ed8e-f05c-4722-bfff-9523a04a4715",
   "metadata": {},
   "source": [
    "Learning rate looks high, may need to manually set"
   ]
  },
  {
   "cell_type": "code",
   "execution_count": 10,
   "id": "5e5a675e-027f-4e85-ab05-bc7cf1f2fcc5",
   "metadata": {},
   "outputs": [
    {
     "data": {
      "text/plain": [
       "0.9513665434481153"
      ]
     },
     "execution_count": 10,
     "metadata": {},
     "output_type": "execute_result"
    }
   ],
   "source": [
    "train_score_baseline = model_baseline.score(X_train_df, y_train_df) \n",
    "train_score_baseline"
   ]
  },
  {
   "cell_type": "code",
   "execution_count": 11,
   "id": "baca246c-eaf6-4a17-8b11-cc405e2e93f7",
   "metadata": {},
   "outputs": [
    {
     "data": {
      "text/plain": [
       "0.9163440706104468"
      ]
     },
     "execution_count": 11,
     "metadata": {},
     "output_type": "execute_result"
    }
   ],
   "source": [
    "test_score_baseline = model_baseline.score(X_test_df, y_test_df) \n",
    "test_score_baseline"
   ]
  },
  {
   "cell_type": "code",
   "execution_count": 12,
   "id": "9cbc1703-1764-4a5e-8517-8b27c91d65da",
   "metadata": {},
   "outputs": [
    {
     "name": "stdout",
     "output_type": "stream",
     "text": [
      "MSE: 134.11\n"
     ]
    }
   ],
   "source": [
    "y_pred_baseline = model_baseline.predict(X_test_df)\n",
    "mse = mean_squared_error(y_test_df, y_pred_baseline)\n",
    "print(\"MSE: %.2f\" % mse)"
   ]
  },
  {
   "cell_type": "code",
   "execution_count": 14,
   "id": "dbb5bbba-1776-4ff8-b6aa-ab0f45b97258",
   "metadata": {},
   "outputs": [
    {
     "data": {
      "image/png": "[encoded data removed]",
      "text/plain": [
       "<Figure size 640x480 with 1 Axes>"
      ]
     },
     "metadata": {},
     "output_type": "display_data"
    }
   ],
   "source": [
    "x_ax = range(len(y_test_df))\n",
    "plt.plot(x_ax, y_test_df, label=\"original\")\n",
    "plt.plot(x_ax, y_pred_baseline, label=\"predicted\")\n",
    "plt.title(\"pC02 Test and Predicted Data for Baseline XGB Model\")\n",
    "plt.legend()\n",
    "plt.show()"
   ]
  },
  {
   "cell_type": "code",
   "execution_count": null,
   "id": "cd6274d7-e46d-4efc-9ded-38de493c856d",
   "metadata": {},
   "outputs": [],
   "source": [
    "y_test_df_norm['baseline_XGB_pred'] = y_pred_baseline"
   ]
  },
  {
   "cell_type": "code",
   "execution_count": null,
   "id": "e19555b6-e54f-49ec-bf58-e65c45be9067",
   "metadata": {},
   "outputs": [],
   "source": [
    "y_test_df_norm.baseline_XGB_pred"
   ]
  },
  {
   "cell_type": "code",
   "execution_count": null,
   "id": "976d08f1-2d69-4f2d-bba1-20d8a94e4aec",
   "metadata": {},
   "outputs": [],
   "source": [
    "y_test_df = y_test_df.pCO2"
   ]
  },
  {
   "cell_type": "code",
   "execution_count": null,
   "id": "f6adc2ff-05d5-4463-a98a-98318fb45b1a",
   "metadata": {},
   "outputs": [],
   "source": [
    "y_test_df"
   ]
  },
  {
   "cell_type": "code",
   "execution_count": 15,
   "id": "5f8c0ae8-4e3e-41da-9764-5399b786f6ed",
   "metadata": {},
   "outputs": [
    {
     "data": {
      "text/plain": [
       "['/home/julias/MLEE-final-project/models/saved_models/recon_models/XGB_prelim_baseline.h5']"
      ]
     },
     "execution_count": 15,
     "metadata": {},
     "output_type": "execute_result"
    }
   ],
   "source": [
    "joblib.dump(model_baseline, os.path.join(recon_model_path,'XGB_prelim_baseline.h5')) "
   ]
  },
  {
   "cell_type": "code",
   "execution_count": 16,
   "id": "a384422c-8317-44cf-a68d-5334d804acf2",
   "metadata": {},
   "outputs": [],
   "source": [
    "baseline_load_test = joblib.load(os.path.join(recon_model_path,'XGB_prelim_baseline.h5'))"
   ]
  },
  {
   "cell_type": "code",
   "execution_count": 17,
   "id": "1b3d7564-0264-41a9-8efc-cdd34e8c7c91",
   "metadata": {},
   "outputs": [
    {
     "data": {
      "text/plain": [
       "0.9513665434481153"
      ]
     },
     "execution_count": 17,
     "metadata": {},
     "output_type": "execute_result"
    }
   ],
   "source": [
    "baseline_load_test.score(X_train_df, y_train_df)"
   ]
  },
  {
   "cell_type": "markdown",
   "id": "8c0f80b6-e66e-4ef8-83d1-c9a45e88eea2",
   "metadata": {},
   "source": [
    "## Lowest Combination of XGB Parameter Matrix"
   ]
  },
  {
   "cell_type": "code",
   "execution_count": 18,
   "id": "452d2925-6151-47b3-a1f5-b872c98fd7c1",
   "metadata": {},
   "outputs": [
    {
     "data": {
      "text/html": [
       "<style>#sk-container-id-3 {color: black;background-color: white;}#sk-container-id-3 pre{padding: 0;}#sk-container-id-3 div.sk-toggleable {background-color: white;}#sk-container-id-3 label.sk-toggleable__label {cursor: pointer;display: block;width: 100%;margin-bottom: 0;padding: 0.3em;box-sizing: border-box;text-align: center;}#sk-container-id-3 label.sk-toggleable__label-arrow:before {content: \"▸\";float: left;margin-right: 0.25em;color: #696969;}#sk-container-id-3 label.sk-toggleable__label-arrow:hover:before {color: black;}#sk-container-id-3 div.sk-estimator:hover label.sk-toggleable__label-arrow:before {color: black;}#sk-container-id-3 div.sk-toggleable__content {max-height: 0;max-width: 0;overflow: hidden;text-align: left;background-color: #f0f8ff;}#sk-container-id-3 div.sk-toggleable__content pre {margin: 0.2em;color: black;border-radius: 0.25em;background-color: #f0f8ff;}#sk-container-id-3 input.sk-toggleable__control:checked~div.sk-toggleable__content {max-height: 200px;max-width: 100%;overflow: auto;}#sk-container-id-3 input.sk-toggleable__control:checked~label.sk-toggleable__label-arrow:before {content: \"▾\";}#sk-container-id-3 div.sk-estimator input.sk-toggleable__control:checked~label.sk-toggleable__label {background-color: #d4ebff;}#sk-container-id-3 div.sk-label input.sk-toggleable__control:checked~label.sk-toggleable__label {background-color: #d4ebff;}#sk-container-id-3 input.sk-hidden--visually {border: 0;clip: rect(1px 1px 1px 1px);clip: rect(1px, 1px, 1px, 1px);height: 1px;margin: -1px;overflow: hidden;padding: 0;position: absolute;width: 1px;}#sk-container-id-3 div.sk-estimator {font-family: monospace;background-color: #f0f8ff;border: 1px dotted black;border-radius: 0.25em;box-sizing: border-box;margin-bottom: 0.5em;}#sk-container-id-3 div.sk-estimator:hover {background-color: #d4ebff;}#sk-container-id-3 div.sk-parallel-item::after {content: \"\";width: 100%;border-bottom: 1px solid gray;flex-grow: 1;}#sk-container-id-3 div.sk-label:hover label.sk-toggleable__label {background-color: #d4ebff;}#sk-container-id-3 div.sk-serial::before {content: \"\";position: absolute;border-left: 1px solid gray;box-sizing: border-box;top: 0;bottom: 0;left: 50%;z-index: 0;}#sk-container-id-3 div.sk-serial {display: flex;flex-direction: column;align-items: center;background-color: white;padding-right: 0.2em;padding-left: 0.2em;position: relative;}#sk-container-id-3 div.sk-item {position: relative;z-index: 1;}#sk-container-id-3 div.sk-parallel {display: flex;align-items: stretch;justify-content: center;background-color: white;position: relative;}#sk-container-id-3 div.sk-item::before, #sk-container-id-3 div.sk-parallel-item::before {content: \"\";position: absolute;border-left: 1px solid gray;box-sizing: border-box;top: 0;bottom: 0;left: 50%;z-index: -1;}#sk-container-id-3 div.sk-parallel-item {display: flex;flex-direction: column;z-index: 1;position: relative;background-color: white;}#sk-container-id-3 div.sk-parallel-item:first-child::after {align-self: flex-end;width: 50%;}#sk-container-id-3 div.sk-parallel-item:last-child::after {align-self: flex-start;width: 50%;}#sk-container-id-3 div.sk-parallel-item:only-child::after {width: 0;}#sk-container-id-3 div.sk-dashed-wrapped {border: 1px dashed gray;margin: 0 0.4em 0.5em 0.4em;box-sizing: border-box;padding-bottom: 0.4em;background-color: white;}#sk-container-id-3 div.sk-label label {font-family: monospace;font-weight: bold;display: inline-block;line-height: 1.2em;}#sk-container-id-3 div.sk-label-container {text-align: center;}#sk-container-id-3 div.sk-container {/* jupyter's `normalize.less` sets `[hidden] { display: none; }` but bootstrap.min.css set `[hidden] { display: none !important; }` so we also need the `!important` here to be able to override the default hidden behavior on the sphinx rendered scikit-learn.org. See: https://github.com/scikit-learn/scikit-learn/issues/21755 */display: inline-block !important;position: relative;}#sk-container-id-3 div.sk-text-repr-fallback {display: none;}</style><div id=\"sk-container-id-3\" class=\"sk-top-container\"><div class=\"sk-text-repr-fallback\"><pre>XGBRegressor(base_score=0.5, booster=&#x27;gbtree&#x27;, callbacks=None,\n",
       "             colsample_bylevel=1, colsample_bynode=1, colsample_bytree=1,\n",
       "             early_stopping_rounds=None, enable_categorical=False,\n",
       "             eval_metric=None, gamma=0, gpu_id=-1, grow_policy=&#x27;depthwise&#x27;,\n",
       "             importance_type=None, interaction_constraints=&#x27;&#x27;,\n",
       "             learning_rate=0.300000012, max_bin=256, max_cat_to_onehot=4,\n",
       "             max_delta_step=0, max_depth=5, max_leaves=0, min_child_weight=1,\n",
       "             missing=nan, monotone_constraints=&#x27;()&#x27;, n_estimators=3000,\n",
       "             n_jobs=0, num_parallel_tree=1, predictor=&#x27;auto&#x27;, random_state=0,\n",
       "             reg_alpha=0, reg_lambda=1, ...)</pre><b>In a Jupyter environment, please rerun this cell to show the HTML representation or trust the notebook. <br />On GitHub, the HTML representation is unable to render, please try loading this page with nbviewer.org.</b></div><div class=\"sk-container\" hidden><div class=\"sk-item\"><div class=\"sk-estimator sk-toggleable\"><input class=\"sk-toggleable__control sk-hidden--visually\" id=\"sk-estimator-id-3\" type=\"checkbox\" checked><label for=\"sk-estimator-id-3\" class=\"sk-toggleable__label sk-toggleable__label-arrow\">XGBRegressor</label><div class=\"sk-toggleable__content\"><pre>XGBRegressor(base_score=0.5, booster=&#x27;gbtree&#x27;, callbacks=None,\n",
       "             colsample_bylevel=1, colsample_bynode=1, colsample_bytree=1,\n",
       "             early_stopping_rounds=None, enable_categorical=False,\n",
       "             eval_metric=None, gamma=0, gpu_id=-1, grow_policy=&#x27;depthwise&#x27;,\n",
       "             importance_type=None, interaction_constraints=&#x27;&#x27;,\n",
       "             learning_rate=0.300000012, max_bin=256, max_cat_to_onehot=4,\n",
       "             max_delta_step=0, max_depth=5, max_leaves=0, min_child_weight=1,\n",
       "             missing=nan, monotone_constraints=&#x27;()&#x27;, n_estimators=3000,\n",
       "             n_jobs=0, num_parallel_tree=1, predictor=&#x27;auto&#x27;, random_state=0,\n",
       "             reg_alpha=0, reg_lambda=1, ...)</pre></div></div></div></div></div>"
      ],
      "text/plain": [
       "XGBRegressor(base_score=0.5, booster='gbtree', callbacks=None,\n",
       "             colsample_bylevel=1, colsample_bynode=1, colsample_bytree=1,\n",
       "             early_stopping_rounds=None, enable_categorical=False,\n",
       "             eval_metric=None, gamma=0, gpu_id=-1, grow_policy='depthwise',\n",
       "             importance_type=None, interaction_constraints='',\n",
       "             learning_rate=0.300000012, max_bin=256, max_cat_to_onehot=4,\n",
       "             max_delta_step=0, max_depth=5, max_leaves=0, min_child_weight=1,\n",
       "             missing=nan, monotone_constraints='()', n_estimators=3000,\n",
       "             n_jobs=0, num_parallel_tree=1, predictor='auto', random_state=0,\n",
       "             reg_alpha=0, reg_lambda=1, ...)"
      ]
     },
     "execution_count": 18,
     "metadata": {},
     "output_type": "execute_result"
    }
   ],
   "source": [
    "model_low = XGBRegressor(n_estimators=3000, max_depth=5) #if want to set learning rate, eta: \"often set to small values such as 0.3, 0.1, 0.01, or smaller\"\n",
    "model_low.fit(X_train_df, y_train_df) "
   ]
  },
  {
   "cell_type": "code",
   "execution_count": 19,
   "id": "e64cd737-b0a8-4bdb-bf34-d15d31127061",
   "metadata": {},
   "outputs": [
    {
     "data": {
      "text/plain": [
       "['/home/julias/MLEE-final-project/models/saved_models/recon_models/XGB_prelim_lowest_param.h5']"
      ]
     },
     "execution_count": 19,
     "metadata": {},
     "output_type": "execute_result"
    }
   ],
   "source": [
    "joblib.dump(model_low, os.path.join(recon_model_path,'XGB_prelim_lowest_param.h5')) "
   ]
  },
  {
   "cell_type": "code",
   "execution_count": 20,
   "id": "b6d22b8d-0620-4f3d-989b-d22f2f60bc34",
   "metadata": {},
   "outputs": [],
   "source": [
    "model_low = joblib.load(os.path.join(recon_model_path,'XGB_prelim_lowest_param.h5'))"
   ]
  },
  {
   "cell_type": "code",
   "execution_count": 21,
   "id": "d0cf447b-219b-4b3b-a792-2ee9cf01d7b4",
   "metadata": {},
   "outputs": [
    {
     "data": {
      "text/plain": [
       "0.9937757645578723"
      ]
     },
     "execution_count": 21,
     "metadata": {},
     "output_type": "execute_result"
    }
   ],
   "source": [
    "train_score_low = model_low.score(X_train_df, y_train_df) \n",
    "train_score_low"
   ]
  },
  {
   "cell_type": "code",
   "execution_count": 22,
   "id": "90b20b43-1b6c-4ef4-9e11-ad21d0710b3d",
   "metadata": {},
   "outputs": [
    {
     "data": {
      "text/plain": [
       "0.9367673550262187"
      ]
     },
     "execution_count": 22,
     "metadata": {},
     "output_type": "execute_result"
    }
   ],
   "source": [
    "test_score_low = model_low.score(X_test_df, y_test_df) \n",
    "test_score_low"
   ]
  },
  {
   "cell_type": "code",
   "execution_count": 23,
   "id": "bbccd8e0-bf96-4e5e-93c4-b3a9d888d0f2",
   "metadata": {},
   "outputs": [
    {
     "name": "stdout",
     "output_type": "stream",
     "text": [
      "MSE: 101.37\n"
     ]
    }
   ],
   "source": [
    "y_pred_low = model_low.predict(X_test_df)\n",
    "mse = mean_squared_error(y_test_df, y_pred_low)\n",
    "print(\"MSE: %.2f\" % mse)"
   ]
  },
  {
   "cell_type": "code",
   "execution_count": 27,
   "id": "692f61cd-cb16-4297-a525-dd1d5a35514d",
   "metadata": {},
   "outputs": [
    {
     "data": {
      "image/png": "[encoded data removed]",
      "text/plain": [
       "<Figure size 640x480 with 1 Axes>"
      ]
     },
     "metadata": {},
     "output_type": "display_data"
    }
   ],
   "source": [
    "x_ax = range(len(y_test_df))\n",
    "plt.plot(x_ax, y_test_df, label=\"original\")\n",
    "plt.plot(x_ax, y_pred_low, label=\"predicted\")\n",
    "plt.title(\"pC02 Test and Predicted Data for Lowest Parameter XGB Model\")\n",
    "plt.legend()\n",
    "plt.show()"
   ]
  },
  {
   "cell_type": "markdown",
   "id": "427b7bb0-439d-4129-a748-f38abf7b6bfd",
   "metadata": {},
   "source": [
    "## Highest Combination of XGB Parameter Matrix"
   ]
  },
  {
   "cell_type": "code",
   "execution_count": 25,
   "id": "3babfab0-474d-4bf4-b9a7-89e0cfd56b15",
   "metadata": {},
   "outputs": [
    {
     "data": {
      "text/html": [
       "<style>#sk-container-id-4 {color: black;background-color: white;}#sk-container-id-4 pre{padding: 0;}#sk-container-id-4 div.sk-toggleable {background-color: white;}#sk-container-id-4 label.sk-toggleable__label {cursor: pointer;display: block;width: 100%;margin-bottom: 0;padding: 0.3em;box-sizing: border-box;text-align: center;}#sk-container-id-4 label.sk-toggleable__label-arrow:before {content: \"▸\";float: left;margin-right: 0.25em;color: #696969;}#sk-container-id-4 label.sk-toggleable__label-arrow:hover:before {color: black;}#sk-container-id-4 div.sk-estimator:hover label.sk-toggleable__label-arrow:before {color: black;}#sk-container-id-4 div.sk-toggleable__content {max-height: 0;max-width: 0;overflow: hidden;text-align: left;background-color: #f0f8ff;}#sk-container-id-4 div.sk-toggleable__content pre {margin: 0.2em;color: black;border-radius: 0.25em;background-color: #f0f8ff;}#sk-container-id-4 input.sk-toggleable__control:checked~div.sk-toggleable__content {max-height: 200px;max-width: 100%;overflow: auto;}#sk-container-id-4 input.sk-toggleable__control:checked~label.sk-toggleable__label-arrow:before {content: \"▾\";}#sk-container-id-4 div.sk-estimator input.sk-toggleable__control:checked~label.sk-toggleable__label {background-color: #d4ebff;}#sk-container-id-4 div.sk-label input.sk-toggleable__control:checked~label.sk-toggleable__label {background-color: #d4ebff;}#sk-container-id-4 input.sk-hidden--visually {border: 0;clip: rect(1px 1px 1px 1px);clip: rect(1px, 1px, 1px, 1px);height: 1px;margin: -1px;overflow: hidden;padding: 0;position: absolute;width: 1px;}#sk-container-id-4 div.sk-estimator {font-family: monospace;background-color: #f0f8ff;border: 1px dotted black;border-radius: 0.25em;box-sizing: border-box;margin-bottom: 0.5em;}#sk-container-id-4 div.sk-estimator:hover {background-color: #d4ebff;}#sk-container-id-4 div.sk-parallel-item::after {content: \"\";width: 100%;border-bottom: 1px solid gray;flex-grow: 1;}#sk-container-id-4 div.sk-label:hover label.sk-toggleable__label {background-color: #d4ebff;}#sk-container-id-4 div.sk-serial::before {content: \"\";position: absolute;border-left: 1px solid gray;box-sizing: border-box;top: 0;bottom: 0;left: 50%;z-index: 0;}#sk-container-id-4 div.sk-serial {display: flex;flex-direction: column;align-items: center;background-color: white;padding-right: 0.2em;padding-left: 0.2em;position: relative;}#sk-container-id-4 div.sk-item {position: relative;z-index: 1;}#sk-container-id-4 div.sk-parallel {display: flex;align-items: stretch;justify-content: center;background-color: white;position: relative;}#sk-container-id-4 div.sk-item::before, #sk-container-id-4 div.sk-parallel-item::before {content: \"\";position: absolute;border-left: 1px solid gray;box-sizing: border-box;top: 0;bottom: 0;left: 50%;z-index: -1;}#sk-container-id-4 div.sk-parallel-item {display: flex;flex-direction: column;z-index: 1;position: relative;background-color: white;}#sk-container-id-4 div.sk-parallel-item:first-child::after {align-self: flex-end;width: 50%;}#sk-container-id-4 div.sk-parallel-item:last-child::after {align-self: flex-start;width: 50%;}#sk-container-id-4 div.sk-parallel-item:only-child::after {width: 0;}#sk-container-id-4 div.sk-dashed-wrapped {border: 1px dashed gray;margin: 0 0.4em 0.5em 0.4em;box-sizing: border-box;padding-bottom: 0.4em;background-color: white;}#sk-container-id-4 div.sk-label label {font-family: monospace;font-weight: bold;display: inline-block;line-height: 1.2em;}#sk-container-id-4 div.sk-label-container {text-align: center;}#sk-container-id-4 div.sk-container {/* jupyter's `normalize.less` sets `[hidden] { display: none; }` but bootstrap.min.css set `[hidden] { display: none !important; }` so we also need the `!important` here to be able to override the default hidden behavior on the sphinx rendered scikit-learn.org. See: https://github.com/scikit-learn/scikit-learn/issues/21755 */display: inline-block !important;position: relative;}#sk-container-id-4 div.sk-text-repr-fallback {display: none;}</style><div id=\"sk-container-id-4\" class=\"sk-top-container\"><div class=\"sk-text-repr-fallback\"><pre>XGBRegressor(base_score=0.5, booster=&#x27;gbtree&#x27;, callbacks=None,\n",
       "             colsample_bylevel=1, colsample_bynode=1, colsample_bytree=1,\n",
       "             early_stopping_rounds=None, enable_categorical=False,\n",
       "             eval_metric=None, gamma=0, gpu_id=-1, grow_policy=&#x27;depthwise&#x27;,\n",
       "             importance_type=None, interaction_constraints=&#x27;&#x27;,\n",
       "             learning_rate=0.300000012, max_bin=256, max_cat_to_onehot=4,\n",
       "             max_delta_step=0, max_depth=8, max_leaves=0, min_child_weight=1,\n",
       "             missing=nan, monotone_constraints=&#x27;()&#x27;, n_estimators=5000,\n",
       "             n_jobs=0, num_parallel_tree=1, predictor=&#x27;auto&#x27;, random_state=0,\n",
       "             reg_alpha=0, reg_lambda=1, ...)</pre><b>In a Jupyter environment, please rerun this cell to show the HTML representation or trust the notebook. <br />On GitHub, the HTML representation is unable to render, please try loading this page with nbviewer.org.</b></div><div class=\"sk-container\" hidden><div class=\"sk-item\"><div class=\"sk-estimator sk-toggleable\"><input class=\"sk-toggleable__control sk-hidden--visually\" id=\"sk-estimator-id-4\" type=\"checkbox\" checked><label for=\"sk-estimator-id-4\" class=\"sk-toggleable__label sk-toggleable__label-arrow\">XGBRegressor</label><div class=\"sk-toggleable__content\"><pre>XGBRegressor(base_score=0.5, booster=&#x27;gbtree&#x27;, callbacks=None,\n",
       "             colsample_bylevel=1, colsample_bynode=1, colsample_bytree=1,\n",
       "             early_stopping_rounds=None, enable_categorical=False,\n",
       "             eval_metric=None, gamma=0, gpu_id=-1, grow_policy=&#x27;depthwise&#x27;,\n",
       "             importance_type=None, interaction_constraints=&#x27;&#x27;,\n",
       "             learning_rate=0.300000012, max_bin=256, max_cat_to_onehot=4,\n",
       "             max_delta_step=0, max_depth=8, max_leaves=0, min_child_weight=1,\n",
       "             missing=nan, monotone_constraints=&#x27;()&#x27;, n_estimators=5000,\n",
       "             n_jobs=0, num_parallel_tree=1, predictor=&#x27;auto&#x27;, random_state=0,\n",
       "             reg_alpha=0, reg_lambda=1, ...)</pre></div></div></div></div></div>"
      ],
      "text/plain": [
       "XGBRegressor(base_score=0.5, booster='gbtree', callbacks=None,\n",
       "             colsample_bylevel=1, colsample_bynode=1, colsample_bytree=1,\n",
       "             early_stopping_rounds=None, enable_categorical=False,\n",
       "             eval_metric=None, gamma=0, gpu_id=-1, grow_policy='depthwise',\n",
       "             importance_type=None, interaction_constraints='',\n",
       "             learning_rate=0.300000012, max_bin=256, max_cat_to_onehot=4,\n",
       "             max_delta_step=0, max_depth=8, max_leaves=0, min_child_weight=1,\n",
       "             missing=nan, monotone_constraints='()', n_estimators=5000,\n",
       "             n_jobs=0, num_parallel_tree=1, predictor='auto', random_state=0,\n",
       "             reg_alpha=0, reg_lambda=1, ...)"
      ]
     },
     "execution_count": 25,
     "metadata": {},
     "output_type": "execute_result"
    }
   ],
   "source": [
    "model_high = XGBRegressor(n_estimators=5000, max_depth=8)\n",
    "model_high.fit(X_train_df, y_train_df) "
   ]
  },
  {
   "cell_type": "code",
   "execution_count": 26,
   "id": "2f3e0bfd-fe06-481a-9e5d-01f4c1f6bf7e",
   "metadata": {},
   "outputs": [
    {
     "data": {
      "text/plain": [
       "['/home/julias/MLEE-final-project/models/saved_models/recon_models/XGB_prelim_highest_param.h5']"
      ]
     },
     "execution_count": 26,
     "metadata": {},
     "output_type": "execute_result"
    }
   ],
   "source": [
    "joblib.dump(model_high, os.path.join(recon_model_path,'XGB_prelim_highest_param.h5')) "
   ]
  },
  {
   "cell_type": "code",
   "execution_count": 28,
   "id": "f643aa8e-3bee-4c56-8974-23062c1c536b",
   "metadata": {},
   "outputs": [],
   "source": [
    "model_high = joblib.load(os.path.join(recon_model_path,'XGB_prelim_highest_param.h5'))"
   ]
  },
  {
   "cell_type": "code",
   "execution_count": 29,
   "id": "235abf69-92ab-4518-8f60-e901c0871d55",
   "metadata": {},
   "outputs": [
    {
     "data": {
      "text/plain": [
       "0.9999247559832833"
      ]
     },
     "execution_count": 29,
     "metadata": {},
     "output_type": "execute_result"
    }
   ],
   "source": [
    "train_score_high = model_high.score(X_train_df, y_train_df) \n",
    "train_score_high"
   ]
  },
  {
   "cell_type": "code",
   "execution_count": 30,
   "id": "2983a637-8421-47df-b915-6a9951d4d707",
   "metadata": {},
   "outputs": [
    {
     "data": {
      "text/plain": [
       "0.9371849899281297"
      ]
     },
     "execution_count": 30,
     "metadata": {},
     "output_type": "execute_result"
    }
   ],
   "source": [
    "test_score_high = model_high.score(X_test_df, y_test_df) \n",
    "test_score_high"
   ]
  },
  {
   "cell_type": "code",
   "execution_count": 31,
   "id": "a396afeb-9153-4a9e-ac50-e540d9528925",
   "metadata": {},
   "outputs": [
    {
     "name": "stdout",
     "output_type": "stream",
     "text": [
      "MSE: 100.70\n"
     ]
    }
   ],
   "source": [
    "y_pred_high = model_high.predict(X_test_df)\n",
    "mse = mean_squared_error(y_test_df, y_pred_high)\n",
    "print(\"MSE: %.2f\" % mse)"
   ]
  },
  {
   "cell_type": "code",
   "execution_count": 32,
   "id": "1c2cb47f-857a-4f15-936c-b0f1a7989afd",
   "metadata": {},
   "outputs": [
    {
     "data": {
      "image/png": "[encoded data removed]",
      "text/plain": [
       "<Figure size 640x480 with 1 Axes>"
      ]
     },
     "metadata": {},
     "output_type": "display_data"
    }
   ],
   "source": [
    "x_ax = range(len(y_test_df))\n",
    "plt.plot(x_ax, y_test_df, label=\"original\")\n",
    "plt.plot(x_ax, y_pred_high, label=\"predicted\")\n",
    "plt.title(\"pC02 Test and Predicted Data for Highest Parameter XGB Model\")\n",
    "plt.legend()\n",
    "plt.show()"
   ]
  },
  {
   "cell_type": "code",
   "execution_count": null,
   "id": "cb063bfe-3ab7-4249-8172-ff0e4321f211",
   "metadata": {},
   "outputs": [],
   "source": [
    "best_params = {}\n",
    "model = xgb.XGBRegressor(verbosity=0,njobs=30) \n",
    "xg_param_grid = {'n_estimators':[3000, 4000, 5000],\n",
    "                 'max_depth':[5, 6, 7]}\n",
    "grid = GridSearchCV(model, xg_param_grid, scoring='neg_mean_squared_error') #, cv=K_folds, return_train_score=False, refit=False\n",
    "grid.fit(X_train_df, y_train_df)\n",
    "best_params[ens] = grid.best_params_\n",
    "print(best_params)"
   ]
  },
  {
   "cell_type": "markdown",
   "id": "f068bf20-b87d-4cbe-ab78-cae59502c050",
   "metadata": {
    "tags": []
   },
   "source": [
    "# XGB Model"
   ]
  },
  {
   "cell_type": "markdown",
   "id": "4c3ca9e3-d7a0-4579-ae7e-c52b9445aa94",
   "metadata": {},
   "source": [
    "## Build XGB Model \n",
    "(based on best parameters found in previous section)"
   ]
  },
  {
   "cell_type": "markdown",
   "id": "5a673ce1-edc9-4eab-8581-d1a885b38aaf",
   "metadata": {},
   "source": [
    "## Train XGB Model"
   ]
  },
  {
   "cell_type": "markdown",
   "id": "247a57ec-bfe5-4260-bdfd-6a5d868837d4",
   "metadata": {},
   "source": [
    "## Save XGB Model"
   ]
  },
  {
   "cell_type": "markdown",
   "id": "0af43622-401c-44cd-8385-782f1bfb4c6e",
   "metadata": {},
   "source": [
    "## Test XBG Model"
   ]
  },
  {
   "cell_type": "markdown",
   "id": "f68f5104-0d54-4e5d-a47e-f798ede4a01a",
   "metadata": {
    "tags": []
   },
   "source": [
    "# For Future Work"
   ]
  },
  {
   "cell_type": "markdown",
   "id": "1285e33f-8a3d-4e05-99ed-923e88ec2875",
   "metadata": {},
   "source": [
    "## Additional Validation Split "
   ]
  },
  {
   "cell_type": "markdown",
   "id": "2103f0e0-3fea-4aaa-b9b0-7c30ec6f1000",
   "metadata": {},
   "source": [
    "*Note: Group does not use this method when test years are used (as I did in processed_data_split.ipynb)*"
   ]
  },
  {
   "cell_type": "markdown",
   "id": "e8aee2d5-61c8-464d-bc46-75b814d5709e",
   "metadata": {},
   "source": [
    "### Group's Version"
   ]
  },
  {
   "cell_type": "markdown",
   "id": "00c8d65a-f85a-4e47-b972-f2a34ca89a2d",
   "metadata": {},
   "source": [
    "#### Train/validate/test split proportions"
   ]
  },
  {
   "cell_type": "code",
   "execution_count": null,
   "id": "31474571-24ca-41bc-880e-4abe8315cc33",
   "metadata": {},
   "outputs": [],
   "source": [
    "# 20% of dataset for validation, 20% of dataset for testing, the rest for training\n",
    "# Training set will be split into validation and another training set\n",
    "\n",
    "val_prop = .2\n",
    "test_prop = .2"
   ]
  },
  {
   "cell_type": "code",
   "execution_count": null,
   "id": "19e5a2dd-2368-4bfc-8bee-20db6e25ae3b",
   "metadata": {},
   "outputs": [],
   "source": [
    "# Splitting the training data into validation and another training set   \n",
    "N = X_train.shape[0]\n",
    "train_val_idx, train_idx, val_idx, test_idx = model_utils.train_val_test_split(N, test_prop, val_prop, random_seeds, seed_loc)\n",
    "X_train_val, X_train, X_val, X_test_tmp, y_train_val, y_train, y_val, y_test_tmp = model_utils.apply_splits(X_train, y_train, train_val_idx, train_idx, val_idx, test_idx) "
   ]
  },
  {
   "cell_type": "markdown",
   "id": "6d39f8e1-fb28-4461-ac85-55f7c75bbd69",
   "metadata": {},
   "source": [
    "## Starting New Version"
   ]
  },
  {
   "cell_type": "code",
   "execution_count": null,
   "id": "91f8a3c6-888c-4349-a852-ba3833f31312",
   "metadata": {},
   "outputs": [],
   "source": [
    "X_minitest = X_df #.to_numpy()\n",
    "y_minitest = y_df #.to_numpy()"
   ]
  },
  {
   "cell_type": "code",
   "execution_count": null,
   "id": "35410fa4-3513-46da-9de7-69c5e1ec74f5",
   "metadata": {},
   "outputs": [],
   "source": [
    "xtrain_minitest, xtest_minitest, ytrain_minitest, ytest_minitest=train_test_split(X_minitest, y_minitest, test_size=0.15)"
   ]
  },
  {
   "cell_type": "code",
   "execution_count": null,
   "id": "dcd24357-3255-4f9a-afe8-2c475980cf23",
   "metadata": {},
   "outputs": [],
   "source": [
    "xtrain_minitest.max()"
   ]
  },
  {
   "cell_type": "code",
   "execution_count": null,
   "id": "513050e4-6e04-4a11-b562-ae7e734bab07",
   "metadata": {},
   "outputs": [],
   "source": [
    "xtrain_minitest"
   ]
  },
  {
   "cell_type": "code",
   "execution_count": null,
   "id": "e2811832-8d7e-457a-bd5c-897440987ac8",
   "metadata": {},
   "outputs": [],
   "source": [
    "XGB_model_minitest = xgb.XGBRegressor(verbosity=0) "
   ]
  },
  {
   "cell_type": "code",
   "execution_count": null,
   "id": "ed2540c5-7376-43d8-ae2e-343695ecc8b5",
   "metadata": {
    "tags": []
   },
   "outputs": [],
   "source": [
    "XGB_model_minitest.fit(xtrain_minitest, ytrain_minitest)"
   ]
  },
  {
   "cell_type": "markdown",
   "id": "75bc6bdb-349b-4c7e-bf61-01b0b3e05ada",
   "metadata": {
    "tags": []
   },
   "source": [
    "# eXtreme Gradient Boosting "
   ]
  },
  {
   "cell_type": "markdown",
   "id": "d3ad4546-8ab0-4083-8db9-8a22a98a8bbb",
   "metadata": {},
   "source": [
    "(to compare performance to other methods from group)"
   ]
  },
  {
   "cell_type": "code",
   "execution_count": null,
   "id": "93d078c8-648e-4337-89c5-8808539a5f97",
   "metadata": {},
   "outputs": [],
   "source": [
    "# For next step of testing new hyperparameters, clear best_params\n",
    "# best_params = {}  # opened above"
   ]
  },
  {
   "cell_type": "code",
   "execution_count": null,
   "id": "5174b327-7c31-47d1-ba93-7459e06a9bd3",
   "metadata": {},
   "outputs": [],
   "source": [
    "# A, B and C represent lon and lat (3 components of the n-vector; so that the algorithm doesn't interpret 0 and 360\n",
    "# degrees to be far apart \n",
    "# T0 and T1 represent time\n",
    "\n",
    "#features_sel = ['SSS','SST','MLD','Chl','XCO2','T0', 'T1','A', 'B', 'C'] \n",
    "#target_sel = ['pCO2'] "
   ]
  },
  {
   "cell_type": "markdown",
   "id": "1b859ca1-fc16-4a8e-9e67-585ae7947ca5",
   "metadata": {},
   "source": [
    "## Building and Training the XGB Model"
   ]
  },
  {
   "cell_type": "code",
   "execution_count": null,
   "id": "3a4561be-a79e-4011-9c6f-aa0b76a58b46",
   "metadata": {},
   "outputs": [],
   "source": [
    "# Number of cores you have access to for model training, group standard:\n",
    "jobs = 30"
   ]
  },
  {
   "cell_type": "markdown",
   "id": "1a6aa460-0e12-43ce-aab9-21130913f6a7",
   "metadata": {},
   "source": [
    "### Create two dictionaries"
   ]
  },
  {
   "cell_type": "code",
   "execution_count": null,
   "id": "33dcf1c8-e2ce-41d8-81d0-6cbde968421a",
   "metadata": {},
   "outputs": [],
   "source": [
    "test_performance = defaultdict(dict)\n",
    "unseen_performance = defaultdict(dict)"
   ]
  },
  {
   "cell_type": "markdown",
   "id": "239ccc10-6a9e-4145-b253-4172b8e74c85",
   "metadata": {
    "tags": []
   },
   "source": [
    "### XGB-Specific Inputs"
   ]
  },
  {
   "cell_type": "code",
   "execution_count": null,
   "id": "c335086e-79de-4ffd-bafe-cadda5f609d7",
   "metadata": {},
   "outputs": [],
   "source": [
    "# K_folds: cross validation; number of splits for training set (in this case 3 splits; see below)\n",
    "# Train on the first split, test on the remaining 2. Total 3 numbers for the final RMSE\n",
    "\n",
    "K_folds = 3       # Split training set into 3 parts\n",
    "approach = \"xg\"   # XGB approach\n",
    "#first_mem = False # Initialize if using gridsearch to find best_params"
   ]
  },
  {
   "cell_type": "code",
   "execution_count": null,
   "id": "a605d100-f504-45bd-a9a7-40d54db20498",
   "metadata": {},
   "outputs": [],
   "source": [
    "# model: define which approach to use\n",
    "# param_grid: the n_estimators (decision trees) and depths\n",
    "# GridSearchCV: applying the K-fold cross validation\n",
    "# first_mem = False: checks only the best params for first_mem (and not all members). For the next members, the  \n",
    "# parameters from first_mem are re-used\n",
    "# you could try to find the best params for a few members (but not all of them)\n",
    "# 9 possible combinations (3 different n_estimators, 3 different max depths) x 3 (K-fold; 3 training sets)\n",
    "if first_mem:\n",
    "            model = XGBRegressor(random_state=random_seeds[4,seed_loc], n_jobs=jobs)\n",
    "            param_grid = xg_param_grid\n",
    "            grid = GridSearchCV(model, param_grid, scoring='neg_mean_squared_error', cv=K_folds, return_train_score=False, refit=False)\n",
    "            grid.fit(X_train_val, y_train_val)\n",
    "            best_params[ens] = grid.best_params_\n",
    "            print(best_params)\n",
    "            first_mem = False"
   ]
  },
  {
   "cell_type": "code",
   "execution_count": null,
   "id": "0ed2a8a8-b2ff-4db8-960f-d3083707ddf6",
   "metadata": {},
   "outputs": [],
   "source": [
    "model = XGBRegressor(random_state=random_seeds[4,seed_loc], n_jobs=jobs)\n",
    "param_grid = xg_param_grid\n",
    "grid = GridSearchCV(model, param_grid, scoring='neg_mean_squared_error', cv=K_folds, return_train_score=False, refit=False)\n",
    "grid.fit(X_train, y_train)\n",
    "best_params[ens] = grid.best_params_\n",
    "print(best_params)"
   ]
  },
  {
   "cell_type": "markdown",
   "id": "a3e418d5-98b5-4c7f-9f07-7e725ec11a34",
   "metadata": {},
   "source": [
    "### Train the XGB model"
   ]
  },
  {
   "cell_type": "code",
   "execution_count": null,
   "id": "68372057-6ec0-4130-b691-8f6eee9b2d72",
   "metadata": {},
   "outputs": [],
   "source": [
    "model = XGBRegressor(random_state=random_seeds[5,seed_loc], **best_params[ens], n_jobs=jobs)\n",
    "model.fit(X_train_val, y_train_val) "
   ]
  },
  {
   "cell_type": "markdown",
   "id": "3eefd2b9-8e53-4592-8447-deb80acd5eb5",
   "metadata": {},
   "source": [
    "### Save the XGB model"
   ]
  },
  {
   "cell_type": "code",
   "execution_count": null,
   "id": "2d270f81-95e3-4340-b4e6-312a5b853547",
   "metadata": {},
   "outputs": [],
   "source": [
    "#Uncomment when actually running\n",
    "\n",
    "# pre_saildrone now called utils, carry through this change\n",
    "utils.save_model(model, recon_model_path, approach, ens, member)\n",
    "print(datetime.datetime.now())\n",
    "print(ens)\n",
    "print(member)"
   ]
  },
  {
   "cell_type": "code",
   "execution_count": null,
   "id": "a753ff10-7234-42c1-b909-2efb8f95abcd",
   "metadata": {},
   "outputs": [],
   "source": []
  },
  {
   "cell_type": "markdown",
   "id": "7cf1228a-c2b7-4c40-bf4e-15c7fb89e18d",
   "metadata": {
    "tags": []
   },
   "source": [
    "## Test the XGB Model"
   ]
  },
  {
   "cell_type": "markdown",
   "id": "5d7939f4-a636-40fb-99b0-ba0b672356ca",
   "metadata": {},
   "source": [
    "### Preliminary Analysis on XBG Test Error Metrics"
   ]
  },
  {
   "cell_type": "code",
   "execution_count": null,
   "id": "9c896294-3fc1-4646-b806-6325024309ce",
   "metadata": {},
   "outputs": [],
   "source": [
    "# Calculate some test error metrics and store in a dictionary\n",
    "# evaluate_test is a function from pre_saildrone. it includes MSE, MAE, bias etc\n",
    "\n",
    "y_pred_test = model.predict(X_test)\n",
    "\n",
    "test_performance[ens][member] = utils.evaluate_test(y_test, y_pred_test)\n",
    "print(test_performance[ens][member])"
   ]
  },
  {
   "cell_type": "code",
   "execution_count": null,
   "id": "a40ada10-0949-4490-8ffa-835c8c2d752b",
   "metadata": {},
   "outputs": [],
   "source": [
    "# Redo this analysis on the unseen data\n",
    "y_pred_unseen = model.predict(df.loc[unseen_sel,features_sel].to_numpy())\n",
    "\n",
    "y_unseen = df.loc[unseen_sel,target_sel].to_numpy().ravel()\n",
    "unseen_performance[ens][member] = utils.evaluate_test(y_unseen, y_pred_unseen)\n",
    "print(unseen_performance[ens][member])"
   ]
  },
  {
   "cell_type": "markdown",
   "id": "e58a42e6-f71c-4a4d-bcf6-05c06cdb7ed9",
   "metadata": {},
   "source": [
    "## Create the reconstruction"
   ]
  },
  {
   "cell_type": "code",
   "execution_count": null,
   "id": "2052448e-6953-4b26-9624-a73cccfd323c",
   "metadata": {},
   "outputs": [],
   "source": [
    "# Create the reconstruction and save it\n",
    "# Jake calls it seen\n",
    "# This should just be all SOCAT locations for all training years (not test years)\n",
    "y_pred_seen = model.predict(X)"
   ]
  },
  {
   "cell_type": "code",
   "execution_count": null,
   "id": "513ed4e3-ef33-4b4d-bdc1-52f1d9729020",
   "metadata": {},
   "outputs": [],
   "source": [
    "# Full reconstruction \n",
    "df['pCO2_DIC_recon'] = np.nan\n",
    "df.loc[unseen_sel,['pCO2_DIC_recon']] = y_pred_unseen   # Not in a SOCAT location, not even in test year\n",
    "df.loc[sel,['pCO2_DIC_recon']] = y_pred_seen"
   ]
  },
  {
   "cell_type": "code",
   "execution_count": null,
   "id": "2358cbb0-77cf-473d-851e-aac9731ad12d",
   "metadata": {},
   "outputs": [],
   "source": [
    "# All time/locations not sampled by SOCAT\n",
    "df['pCO2_DIC_nosocat'] = np.nan\n",
    "df.loc[unseen_sel,['pCO2_DIC_nosocat']] = y_pred_unseen\n",
    "df.loc[sel,['pCO2_DIC_nosocat']] = np.nan"
   ]
  },
  {
   "cell_type": "code",
   "execution_count": null,
   "id": "4340f160-9f1c-43b5-884c-b89b0d731d4f",
   "metadata": {},
   "outputs": [],
   "source": [
    "# Only at time/locations of SOCAT sampling\n",
    "df['pCO2_DIC_socat'] = np.nan\n",
    "df.loc[unseen_sel,['pCO2_DIC_socat']] = np.nan\n",
    "df.loc[sel,['pCO2_DIC_socat']] = y_pred_seen\n",
    "     \n",
    "df['pCO2_DIC'] = df['pCO2_pCO2T_diff']\n",
    "             \n",
    "#DS_recon = df[['net_mask','socat_mask','pCO2_DIC','pCO2_DIC_recon','pCO2_DIC_socat','pCO2_DIC_nosocat']].to_xarray()\n",
    "DS_recon = df[['net_mask','combined_mask','pCO2_DIC','pCO2_DIC_recon','pCO2_DIC_socat','pCO2_DIC_nosocat']].to_xarray()"
   ]
  },
  {
   "cell_type": "markdown",
   "id": "b0228e59-170a-44b9-9e8d-d19497b459ba",
   "metadata": {
    "tags": []
   },
   "source": [
    "## Save reconstructions"
   ]
  },
  {
   "cell_type": "code",
   "execution_count": null,
   "id": "a9d0306d-5e20-42da-abf8-45b6452570d0",
   "metadata": {},
   "outputs": [],
   "source": [
    "# Uncomment when actually running            \n",
    "#pre_saildrone_thea.save_recon(DS_recon, recon_output_dir, approach, ens, member)   "
   ]
  },
  {
   "cell_type": "markdown",
   "id": "b8577729-ce28-40b5-a58a-dab22f4398e9",
   "metadata": {
    "tags": []
   },
   "source": [
    "## Save best parameters and performance metrics"
   ]
  },
  {
   "cell_type": "code",
   "execution_count": null,
   "id": "ef554ad3-d62d-4d07-ad17-887eeac70403",
   "metadata": {},
   "outputs": [],
   "source": [
    "# Saving best parameters and performance metrics\n",
    "\n",
    "approach_output_dir = f\"{other_output_dir}/{approach}\"\n",
    "param_fname = f\"{approach_output_dir}/{approach}_best_params_dict.pickle\"\n",
    "test_perform_fname = f\"{approach_output_dir}/{approach}_test_performance_dict.pickle\"\n",
    "unseen_perform_fname = f\"{approach_output_dir}/{approach}_unseen_performance_dict.pickle\"\n",
    "\n",
    "Path(approach_output_dir).mkdir(parents=True, exist_ok=True)\n",
    "\n",
    "with open(param_fname, 'wb') as handle: #WHAT DOES wb MEAN\n",
    "    pickle.dump(best_params, handle, protocol=pickle.HIGHEST_PROTOCOL)\n",
    "with open(test_perform_fname, 'wb') as handle:\n",
    "    pickle.dump(test_performance, handle)\n",
    "with open(unseen_perform_fname, 'wb') as handle:\n",
    "    pickle.dump(unseen_performance, handle)\n",
    "    \n",
    "# Convert performance metrics to dataframes\n",
    "test_df = pd.DataFrame.from_dict({(i,j): test_performance[i][j]\n",
    "                                  for i in test_performance.keys()\n",
    "                                  for j in test_performance[i].keys()},\n",
    "                                 orient='index')\n",
    "\n",
    "unseen_df = pd.DataFrame.from_dict({(i,j): unseen_performance[i][j]\n",
    "                                  for i in unseen_performance.keys()\n",
    "                                  for j in unseen_performance[i].keys()},\n",
    "                                 orient='index')\n",
    "\n",
    "test_df.index.names = [\"model\",\"member\"]\n",
    "unseen_df.index.names = [\"model\",\"member\"]\n",
    "\n",
    "# Save the dataframes too\n",
    "test_df_fname = f\"{approach_output_dir}/{approach}_test_performance_df.pickle\"\n",
    "unseen_df_fname = f\"{approach_output_dir}/{approach}_unseen_performance_df.pickle\"\n",
    "\n",
    "test_df.to_pickle(test_df_fname)\n",
    "unseen_df.to_pickle(unseen_df_fname)    "
   ]
  },
  {
   "cell_type": "code",
   "execution_count": null,
   "id": "958183d4-aedf-4a16-8e42-182080456877",
   "metadata": {},
   "outputs": [],
   "source": []
  },
  {
   "cell_type": "code",
   "execution_count": null,
   "id": "fd061ac1-4b01-4871-8a34-b5ae2d7f7364",
   "metadata": {},
   "outputs": [],
   "source": []
  },
  {
   "cell_type": "code",
   "execution_count": null,
   "id": "f1e3eb81-9636-47cb-9897-639b812646b9",
   "metadata": {},
   "outputs": [],
   "source": []
  },
  {
   "cell_type": "code",
   "execution_count": null,
   "id": "68a98afb-ef0e-4371-b658-03a6c9c076ad",
   "metadata": {},
   "outputs": [],
   "source": [
    "#just checking what the saved trained datafiles look like \n",
    "test_2 = pd.read_pickle(\"/data/artemis/workspace/theimdal/saildrone/models/trained/xg/CESM/member_016/xg_model_pC02_2D_mon_CESM_016_1x1_198201-201701.joblib\")"
   ]
  },
  {
   "cell_type": "code",
   "execution_count": null,
   "id": "132e386a-0d9e-4965-97b3-378fd9ab13c9",
   "metadata": {},
   "outputs": [],
   "source": [
    "test_2"
   ]
  },
  {
   "cell_type": "code",
   "execution_count": null,
   "id": "b0786f53-4477-4fdb-b643-d94adb6e2a53",
   "metadata": {},
   "outputs": [],
   "source": [
    "#checking out what the input data for the XGB looks like\n",
    "#this table was generated in script 01\n",
    "df"
   ]
  },
  {
   "cell_type": "code",
   "execution_count": null,
   "id": "90e4069f-7878-462b-965c-2adbad08dba1",
   "metadata": {},
   "outputs": [],
   "source": []
  }
 ],
 "metadata": {
  "kernelspec": {
   "display_name": "fromML",
   "language": "python",
   "name": "fromml"
  },
  "language_info": {
   "codemirror_mode": {
    "name": "ipython",
    "version": 3
   },
   "file_extension": ".py",
   "mimetype": "text/x-python",
   "name": "python",
   "nbconvert_exporter": "python",
   "pygments_lexer": "ipython3",
   "version": "3.9.13"
  }
 },
 "nbformat": 4,
 "nbformat_minor": 5
}
