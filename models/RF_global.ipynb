{
 "cells": [
  {
   "cell_type": "markdown",
   "id": "06128b64-b680-4e62-a15e-55fd8071f0ea",
   "metadata": {
    "tags": []
   },
   "source": [
    "# Random Forest Model, Trained on Limited Dataset\n",
    "## Model Dataset Limited by SOCAT Sampling Locations"
   ]
  },
  {
   "cell_type": "markdown",
   "id": "76ac250b-2cc7-4140-9ea8-9283cb1c2ab9",
   "metadata": {},
   "source": [
    "(to be used as a baseline)"
   ]
  },
  {
   "cell_type": "code",
   "execution_count": 3,
   "id": "0f3d60fa-6ef5-4a7f-b474-9c42bddb1916",
   "metadata": {},
   "outputs": [],
   "source": [
    "# Standard imports\n",
    "import os\n",
    "import datetime\n",
    "from pathlib import Path\n",
    "from collections import defaultdict\n",
    "import scipy\n",
    "import random\n",
    "import numpy as np\n",
    "import xarray as xr\n",
    "import pandas as pd\n",
    "import joblib\n",
    "import pickle\n",
    "\n",
    "# Machine learning libraries\n",
    "import sklearn            # machine-learning libary with many algorithms implemented\n",
    "from sklearn.ensemble import RandomForestRegressor\n",
    "from sklearn.model_selection import RandomizedSearchCV\n",
    "from sklearn.datasets import make_regression\n",
    "from sklearn.metrics import mean_squared_error\n",
    "\n",
    "# Python file with supporting functions\n",
    "import model_utils"
   ]
  },
  {
   "cell_type": "code",
   "execution_count": 4,
   "id": "bbd2f2b9-847a-4fec-9c28-fad2a693f20d",
   "metadata": {},
   "outputs": [],
   "source": [
    "global_model_path = '/home/julias/MLEE-final-project/models/saved_models/recon_models'"
   ]
  },
  {
   "cell_type": "markdown",
   "id": "ed2a609c-a8f0-437d-a4ff-84249ca40988",
   "metadata": {},
   "source": [
    "https://scikit-learn.org/stable/modules/generated/sklearn.ensemble.RandomForestRegressor.html"
   ]
  },
  {
   "cell_type": "markdown",
   "id": "249d46c0-e403-4287-a030-6233d671dc23",
   "metadata": {
    "tags": []
   },
   "source": [
    "# Load Split Datasets "
   ]
  },
  {
   "cell_type": "markdown",
   "id": "e056d29e-9dc9-4c3e-914f-0ed89b6db39a",
   "metadata": {},
   "source": [
    "## Load Split Datasets"
   ]
  },
  {
   "cell_type": "code",
   "execution_count": 5,
   "id": "39b43b98-dd3e-4f88-81a1-6b9505db34f8",
   "metadata": {},
   "outputs": [],
   "source": [
    "X_df = xr.open_dataset('/home/julias/MLEE-final-project/proc_data/global_split_datasets/X.nc').to_dataframe().dropna()\n",
    "y_df = xr.open_dataset('/home/julias/MLEE-final-project/proc_data/global_split_datasets/y.nc').to_dataframe().dropna() \n",
    "X_train_df = xr.open_dataset('/home/julias/MLEE-final-project/proc_data/global_split_datasets/X_train.nc').to_dataframe().dropna() \n",
    "y_train_df = xr.open_dataset('/home/julias/MLEE-final-project/proc_data/global_split_datasets/y_train.nc').to_dataframe().dropna()\n",
    "X_test_df = xr.open_dataset('/home/julias/MLEE-final-project/proc_data/global_split_datasets/X_test.nc').to_dataframe().dropna() \n",
    "y_test_df = xr.open_dataset('/home/julias/MLEE-final-project/proc_data/global_split_datasets/y_test.nc').to_dataframe().dropna() "
   ]
  },
  {
   "cell_type": "markdown",
   "id": "48e5dd92-6f33-4306-8448-3a1a53c534da",
   "metadata": {},
   "source": [
    "## Check that data was saved and loaded properly:"
   ]
  },
  {
   "cell_type": "code",
   "execution_count": 9,
   "id": "805ae1b5-bd0d-4760-b118-724b33f308fe",
   "metadata": {},
   "outputs": [
    {
     "data": {
      "text/html": [
       "<div>\n",
       "<style scoped>\n",
       "    .dataframe tbody tr th:only-of-type {\n",
       "        vertical-align: middle;\n",
       "    }\n",
       "\n",
       "    .dataframe tbody tr th {\n",
       "        vertical-align: top;\n",
       "    }\n",
       "\n",
       "    .dataframe thead th {\n",
       "        text-align: right;\n",
       "    }\n",
       "</style>\n",
       "<table border=\"1\" class=\"dataframe\">\n",
       "  <thead>\n",
       "    <tr style=\"text-align: right;\">\n",
       "      <th></th>\n",
       "      <th></th>\n",
       "      <th></th>\n",
       "      <th>SSS</th>\n",
       "      <th>SST</th>\n",
       "      <th>MLD</th>\n",
       "      <th>Chl</th>\n",
       "      <th>XCO2</th>\n",
       "      <th>T0</th>\n",
       "      <th>T1</th>\n",
       "      <th>A</th>\n",
       "      <th>B</th>\n",
       "      <th>C</th>\n",
       "    </tr>\n",
       "    <tr>\n",
       "      <th>xlon</th>\n",
       "      <th>ylat</th>\n",
       "      <th>time</th>\n",
       "      <th></th>\n",
       "      <th></th>\n",
       "      <th></th>\n",
       "      <th></th>\n",
       "      <th></th>\n",
       "      <th></th>\n",
       "      <th></th>\n",
       "      <th></th>\n",
       "      <th></th>\n",
       "      <th></th>\n",
       "    </tr>\n",
       "  </thead>\n",
       "  <tbody>\n",
       "    <tr>\n",
       "      <th rowspan=\"5\" valign=\"top\">-179.5</th>\n",
       "      <th rowspan=\"5\" valign=\"top\">-77.5</th>\n",
       "      <th>1982-03-15</th>\n",
       "      <td>33.997498</td>\n",
       "      <td>0.640288</td>\n",
       "      <td>26.234657</td>\n",
       "      <td>0.331255</td>\n",
       "      <td>340.962250</td>\n",
       "      <td>0.292600</td>\n",
       "      <td>0.956235</td>\n",
       "      <td>-0.976296</td>\n",
       "      <td>-0.001889</td>\n",
       "      <td>0.216431</td>\n",
       "    </tr>\n",
       "    <tr>\n",
       "      <th>1982-04-15</th>\n",
       "      <td>34.180756</td>\n",
       "      <td>-1.755514</td>\n",
       "      <td>59.944748</td>\n",
       "      <td>0.641632</td>\n",
       "      <td>341.075439</td>\n",
       "      <td>-0.234491</td>\n",
       "      <td>0.972118</td>\n",
       "      <td>-0.976296</td>\n",
       "      <td>-0.001889</td>\n",
       "      <td>0.216431</td>\n",
       "    </tr>\n",
       "    <tr>\n",
       "      <th>1982-05-15</th>\n",
       "      <td>34.445652</td>\n",
       "      <td>-1.776272</td>\n",
       "      <td>220.441910</td>\n",
       "      <td>0.057961</td>\n",
       "      <td>341.193176</td>\n",
       "      <td>-0.683919</td>\n",
       "      <td>0.729558</td>\n",
       "      <td>-0.976296</td>\n",
       "      <td>-0.001889</td>\n",
       "      <td>0.216431</td>\n",
       "    </tr>\n",
       "    <tr>\n",
       "      <th>1982-06-15</th>\n",
       "      <td>34.508339</td>\n",
       "      <td>-1.809904</td>\n",
       "      <td>381.795532</td>\n",
       "      <td>0.017642</td>\n",
       "      <td>341.310730</td>\n",
       "      <td>-0.959933</td>\n",
       "      <td>0.280231</td>\n",
       "      <td>-0.976296</td>\n",
       "      <td>-0.001889</td>\n",
       "      <td>0.216431</td>\n",
       "    </tr>\n",
       "    <tr>\n",
       "      <th>1982-08-15</th>\n",
       "      <td>34.562683</td>\n",
       "      <td>-1.823900</td>\n",
       "      <td>429.841278</td>\n",
       "      <td>0.005047</td>\n",
       "      <td>341.545685</td>\n",
       "      <td>-0.720667</td>\n",
       "      <td>-0.693281</td>\n",
       "      <td>-0.976296</td>\n",
       "      <td>-0.001889</td>\n",
       "      <td>0.216431</td>\n",
       "    </tr>\n",
       "    <tr>\n",
       "      <th>...</th>\n",
       "      <th>...</th>\n",
       "      <th>...</th>\n",
       "      <td>...</td>\n",
       "      <td>...</td>\n",
       "      <td>...</td>\n",
       "      <td>...</td>\n",
       "      <td>...</td>\n",
       "      <td>...</td>\n",
       "      <td>...</td>\n",
       "      <td>...</td>\n",
       "      <td>...</td>\n",
       "      <td>...</td>\n",
       "    </tr>\n",
       "    <tr>\n",
       "      <th rowspan=\"5\" valign=\"top\">179.5</th>\n",
       "      <th rowspan=\"5\" valign=\"top\">62.5</th>\n",
       "      <th>1996-01-15</th>\n",
       "      <td>32.590897</td>\n",
       "      <td>-1.597806</td>\n",
       "      <td>27.985397</td>\n",
       "      <td>0.074352</td>\n",
       "      <td>361.389465</td>\n",
       "      <td>0.966848</td>\n",
       "      <td>0.255353</td>\n",
       "      <td>0.887011</td>\n",
       "      <td>0.004029</td>\n",
       "      <td>0.461731</td>\n",
       "    </tr>\n",
       "    <tr>\n",
       "      <th>1998-12-15</th>\n",
       "      <td>32.283058</td>\n",
       "      <td>0.631731</td>\n",
       "      <td>25.075340</td>\n",
       "      <td>0.897956</td>\n",
       "      <td>367.086853</td>\n",
       "      <td>0.962309</td>\n",
       "      <td>-0.271958</td>\n",
       "      <td>0.887011</td>\n",
       "      <td>0.004029</td>\n",
       "      <td>0.461731</td>\n",
       "    </tr>\n",
       "    <tr>\n",
       "      <th>1999-12-15</th>\n",
       "      <td>32.390461</td>\n",
       "      <td>0.080004</td>\n",
       "      <td>26.077244</td>\n",
       "      <td>0.703162</td>\n",
       "      <td>368.669678</td>\n",
       "      <td>0.962309</td>\n",
       "      <td>-0.271958</td>\n",
       "      <td>0.887011</td>\n",
       "      <td>0.004029</td>\n",
       "      <td>0.461731</td>\n",
       "    </tr>\n",
       "    <tr>\n",
       "      <th>2010-02-15</th>\n",
       "      <td>32.757904</td>\n",
       "      <td>-1.240300</td>\n",
       "      <td>27.023640</td>\n",
       "      <td>0.085494</td>\n",
       "      <td>389.416168</td>\n",
       "      <td>0.702527</td>\n",
       "      <td>0.711657</td>\n",
       "      <td>0.887011</td>\n",
       "      <td>0.004029</td>\n",
       "      <td>0.461731</td>\n",
       "    </tr>\n",
       "    <tr>\n",
       "      <th>2011-12-15</th>\n",
       "      <td>32.434753</td>\n",
       "      <td>0.346877</td>\n",
       "      <td>24.999208</td>\n",
       "      <td>0.672751</td>\n",
       "      <td>393.703278</td>\n",
       "      <td>0.962309</td>\n",
       "      <td>-0.271958</td>\n",
       "      <td>0.887011</td>\n",
       "      <td>0.004029</td>\n",
       "      <td>0.461731</td>\n",
       "    </tr>\n",
       "  </tbody>\n",
       "</table>\n",
       "<p>11865574 rows × 10 columns</p>\n",
       "</div>"
      ],
      "text/plain": [
       "                               SSS       SST         MLD       Chl  \\\n",
       "xlon   ylat  time                                                    \n",
       "-179.5 -77.5 1982-03-15  33.997498  0.640288   26.234657  0.331255   \n",
       "             1982-04-15  34.180756 -1.755514   59.944748  0.641632   \n",
       "             1982-05-15  34.445652 -1.776272  220.441910  0.057961   \n",
       "             1982-06-15  34.508339 -1.809904  381.795532  0.017642   \n",
       "             1982-08-15  34.562683 -1.823900  429.841278  0.005047   \n",
       "...                            ...       ...         ...       ...   \n",
       " 179.5  62.5 1996-01-15  32.590897 -1.597806   27.985397  0.074352   \n",
       "             1998-12-15  32.283058  0.631731   25.075340  0.897956   \n",
       "             1999-12-15  32.390461  0.080004   26.077244  0.703162   \n",
       "             2010-02-15  32.757904 -1.240300   27.023640  0.085494   \n",
       "             2011-12-15  32.434753  0.346877   24.999208  0.672751   \n",
       "\n",
       "                               XCO2        T0        T1         A         B  \\\n",
       "xlon   ylat  time                                                             \n",
       "-179.5 -77.5 1982-03-15  340.962250  0.292600  0.956235 -0.976296 -0.001889   \n",
       "             1982-04-15  341.075439 -0.234491  0.972118 -0.976296 -0.001889   \n",
       "             1982-05-15  341.193176 -0.683919  0.729558 -0.976296 -0.001889   \n",
       "             1982-06-15  341.310730 -0.959933  0.280231 -0.976296 -0.001889   \n",
       "             1982-08-15  341.545685 -0.720667 -0.693281 -0.976296 -0.001889   \n",
       "...                             ...       ...       ...       ...       ...   \n",
       " 179.5  62.5 1996-01-15  361.389465  0.966848  0.255353  0.887011  0.004029   \n",
       "             1998-12-15  367.086853  0.962309 -0.271958  0.887011  0.004029   \n",
       "             1999-12-15  368.669678  0.962309 -0.271958  0.887011  0.004029   \n",
       "             2010-02-15  389.416168  0.702527  0.711657  0.887011  0.004029   \n",
       "             2011-12-15  393.703278  0.962309 -0.271958  0.887011  0.004029   \n",
       "\n",
       "                                C  \n",
       "xlon   ylat  time                  \n",
       "-179.5 -77.5 1982-03-15  0.216431  \n",
       "             1982-04-15  0.216431  \n",
       "             1982-05-15  0.216431  \n",
       "             1982-06-15  0.216431  \n",
       "             1982-08-15  0.216431  \n",
       "...                           ...  \n",
       " 179.5  62.5 1996-01-15  0.461731  \n",
       "             1998-12-15  0.461731  \n",
       "             1999-12-15  0.461731  \n",
       "             2010-02-15  0.461731  \n",
       "             2011-12-15  0.461731  \n",
       "\n",
       "[11865574 rows x 10 columns]"
      ]
     },
     "execution_count": 9,
     "metadata": {},
     "output_type": "execute_result"
    }
   ],
   "source": [
    "X_train_df"
   ]
  },
  {
   "cell_type": "code",
   "execution_count": 10,
   "id": "70ffb9dc-5f20-4964-afa4-fc646daf9024",
   "metadata": {},
   "outputs": [
    {
     "data": {
      "text/html": [
       "<div>\n",
       "<style scoped>\n",
       "    .dataframe tbody tr th:only-of-type {\n",
       "        vertical-align: middle;\n",
       "    }\n",
       "\n",
       "    .dataframe tbody tr th {\n",
       "        vertical-align: top;\n",
       "    }\n",
       "\n",
       "    .dataframe thead th {\n",
       "        text-align: right;\n",
       "    }\n",
       "</style>\n",
       "<table border=\"1\" class=\"dataframe\">\n",
       "  <thead>\n",
       "    <tr style=\"text-align: right;\">\n",
       "      <th></th>\n",
       "      <th></th>\n",
       "      <th></th>\n",
       "      <th>pCO2</th>\n",
       "    </tr>\n",
       "    <tr>\n",
       "      <th>xlon</th>\n",
       "      <th>ylat</th>\n",
       "      <th>time</th>\n",
       "      <th></th>\n",
       "    </tr>\n",
       "  </thead>\n",
       "  <tbody>\n",
       "    <tr>\n",
       "      <th rowspan=\"5\" valign=\"top\">-179.5</th>\n",
       "      <th rowspan=\"5\" valign=\"top\">-77.5</th>\n",
       "      <th>1982-02-15</th>\n",
       "      <td>165.219524</td>\n",
       "    </tr>\n",
       "    <tr>\n",
       "      <th>1982-07-15</th>\n",
       "      <td>332.735048</td>\n",
       "    </tr>\n",
       "    <tr>\n",
       "      <th>1982-12-15</th>\n",
       "      <td>150.877219</td>\n",
       "    </tr>\n",
       "    <tr>\n",
       "      <th>1983-05-15</th>\n",
       "      <td>311.177084</td>\n",
       "    </tr>\n",
       "    <tr>\n",
       "      <th>1983-10-15</th>\n",
       "      <td>338.556662</td>\n",
       "    </tr>\n",
       "    <tr>\n",
       "      <th>...</th>\n",
       "      <th>...</th>\n",
       "      <th>...</th>\n",
       "      <td>...</td>\n",
       "    </tr>\n",
       "    <tr>\n",
       "      <th rowspan=\"5\" valign=\"top\">179.5</th>\n",
       "      <th rowspan=\"5\" valign=\"top\">62.5</th>\n",
       "      <th>1985-01-15</th>\n",
       "      <td>380.706079</td>\n",
       "    </tr>\n",
       "    <tr>\n",
       "      <th>1987-02-15</th>\n",
       "      <td>391.417257</td>\n",
       "    </tr>\n",
       "    <tr>\n",
       "      <th>1990-01-15</th>\n",
       "      <td>431.635894</td>\n",
       "    </tr>\n",
       "    <tr>\n",
       "      <th>1992-12-15</th>\n",
       "      <td>406.267746</td>\n",
       "    </tr>\n",
       "    <tr>\n",
       "      <th>2010-01-15</th>\n",
       "      <td>468.311163</td>\n",
       "    </tr>\n",
       "  </tbody>\n",
       "</table>\n",
       "<p>2966454 rows × 1 columns</p>\n",
       "</div>"
      ],
      "text/plain": [
       "                               pCO2\n",
       "xlon   ylat  time                  \n",
       "-179.5 -77.5 1982-02-15  165.219524\n",
       "             1982-07-15  332.735048\n",
       "             1982-12-15  150.877219\n",
       "             1983-05-15  311.177084\n",
       "             1983-10-15  338.556662\n",
       "...                             ...\n",
       " 179.5  62.5 1985-01-15  380.706079\n",
       "             1987-02-15  391.417257\n",
       "             1990-01-15  431.635894\n",
       "             1992-12-15  406.267746\n",
       "             2010-01-15  468.311163\n",
       "\n",
       "[2966454 rows x 1 columns]"
      ]
     },
     "execution_count": 10,
     "metadata": {},
     "output_type": "execute_result"
    }
   ],
   "source": [
    "y_test_df"
   ]
  },
  {
   "cell_type": "markdown",
   "id": "55a78100-c29a-4cc4-8927-acf311768617",
   "metadata": {},
   "source": [
    "## Create Numpy Arrays for Original Data"
   ]
  },
  {
   "cell_type": "code",
   "execution_count": 11,
   "id": "1ff20572-a162-40fa-8ffc-358ba39a4f75",
   "metadata": {},
   "outputs": [],
   "source": [
    "X = X_df.to_numpy()         \n",
    "y = y_df.to_numpy().ravel() \n",
    "X_train = X_train_df.to_numpy() \n",
    "y_train = y_train_df.to_numpy().ravel()\n",
    "X_test = X_test_df.to_numpy()  \n",
    "y_test = y_test_df.to_numpy().ravel()"
   ]
  },
  {
   "cell_type": "markdown",
   "id": "2524f0fa-075b-48d1-8445-93119eaeeee1",
   "metadata": {},
   "source": [
    "# Basic RF Model"
   ]
  },
  {
   "cell_type": "code",
   "execution_count": 12,
   "id": "11f9eefc-d0a9-4301-9ec9-ca17368470e8",
   "metadata": {},
   "outputs": [],
   "source": [
    "RF_basic = RandomForestRegressor(n_estimators=100,max_depth=5,min_samples_split=5,min_samples_leaf=4)"
   ]
  },
  {
   "cell_type": "code",
   "execution_count": null,
   "id": "b87e5268-64ff-47cc-88ff-9617e4816df5",
   "metadata": {},
   "outputs": [],
   "source": [
    "RF_model_basic = RF_basic.fit(X_train,y_train)"
   ]
  },
  {
   "cell_type": "code",
   "execution_count": null,
   "id": "1dcdba8f-90a5-430c-a8e5-fdeeca2dc1fe",
   "metadata": {},
   "outputs": [],
   "source": [
    "train_score_basic = RF_model_basic.score(X_train,y_train)\n",
    "print('Train Score: %.5f' % train_score)"
   ]
  },
  {
   "cell_type": "code",
   "execution_count": null,
   "id": "13b7f105-3185-42c8-b3db-fb38cc8d2d77",
   "metadata": {},
   "outputs": [],
   "source": [
    "test_score_basic = RF_model_basic.score(X_test,y_test)\n",
    "print('Test Score: %.5f' % test_score)"
   ]
  },
  {
   "cell_type": "code",
   "execution_count": null,
   "id": "7c1fdc88-b9f8-4ded-8a9f-d3e368ab3910",
   "metadata": {},
   "outputs": [],
   "source": [
    "y_pred_basic = RF_model_basic.predict(X_test)\n",
    "mse_basic = mean_squared_error(y_test, y_pred_basic)\n",
    "print('MSE: %.2f' % mse)"
   ]
  },
  {
   "cell_type": "code",
   "execution_count": null,
   "id": "b972eae1-71d9-486b-9f18-1c364a2f53b5",
   "metadata": {},
   "outputs": [],
   "source": [
    "joblib.dump(RF_model_basic, os.path.join(global_model_path,'RF_model_basic.h5')) "
   ]
  },
  {
   "cell_type": "code",
   "execution_count": null,
   "id": "a27753fc-c459-4f3b-8b6a-06859d6ac39b",
   "metadata": {},
   "outputs": [],
   "source": [
    "RF_prelim_load_test = joblib.load(os.path.join(global_model_path,'RF_model_basic.h5'))"
   ]
  },
  {
   "cell_type": "code",
   "execution_count": null,
   "id": "c611af01-9b4f-4dfd-802c-8ebe10a7277d",
   "metadata": {},
   "outputs": [],
   "source": [
    "train_score = RF_prelim_load_test.score(X_train,y_train)\n",
    "print('Train Score: %.5f' % train_score)"
   ]
  },
  {
   "cell_type": "markdown",
   "id": "43a551d8-c0d6-4d7d-a9bc-d460df1a9dc2",
   "metadata": {
    "tags": []
   },
   "source": [
    "# Select Approach and Parameters"
   ]
  },
  {
   "cell_type": "markdown",
   "id": "70ef1d5c-029d-476c-a4d4-010f2a20d976",
   "metadata": {},
   "source": [
    "## Approach"
   ]
  },
  {
   "cell_type": "markdown",
   "id": "e703bba6-cd01-4fab-97c5-6f809c05675a",
   "metadata": {},
   "source": [
    "- As tested in basic model above, RF requires that the data is input using numpy. \n",
    "- For consistency and to faciliate comparison with other models, will continue using the original (not normalized) data."
   ]
  },
  {
   "cell_type": "markdown",
   "id": "d32696e6-4b77-476b-9e38-7b28ec3faea8",
   "metadata": {},
   "source": [
    "## Parameters"
   ]
  },
  {
   "cell_type": "markdown",
   "id": "08180711-1c52-4ff4-ac29-e974d6213da2",
   "metadata": {},
   "source": [
    "Use a cross-validation search to optimize the RF model"
   ]
  },
  {
   "cell_type": "code",
   "execution_count": 32,
   "id": "497b6174-70f4-472a-aeb1-d7749ead743b",
   "metadata": {},
   "outputs": [],
   "source": [
    "# Number of trees in random forest\n",
    "n_estimators = np.arange(100,500,100) #Test 100, 200, 300, 400\n",
    "\n",
    "# Number of features to consider at every split\n",
    "max_features = [1.0, 'sqrt'] #1.0 is the same as auto, auto is depreciated \n",
    "\n",
    "# Maximum number of levels in tree\n",
    "max_depth = np.arange(10,50,10)\n",
    "\n",
    "# Minimum number of samples required to split a node\n",
    "min_samples_split = [5, 10, 15]\n",
    "\n",
    "# Minimum number of samples required at each leaf node\n",
    "min_samples_leaf = [2, 8, 12]\n",
    "\n",
    "# Use default bootstrap=True\n",
    "\n",
    "# Create the random grid\n",
    "random_grid = {'n_estimators': n_estimators,\n",
    "               'max_features': max_features,\n",
    "               'max_depth': max_depth,\n",
    "               'min_samples_split': min_samples_split,\n",
    "               'min_samples_leaf': min_samples_leaf\n",
    "              }"
   ]
  },
  {
   "cell_type": "code",
   "execution_count": 33,
   "id": "94fb1751-6d68-4744-b851-9f1b751b0494",
   "metadata": {},
   "outputs": [
    {
     "name": "stdout",
     "output_type": "stream",
     "text": [
      "{'n_estimators': array([100, 200, 300, 400]), 'max_features': [1.0, 'sqrt'], 'max_depth': array([10, 20, 30, 40]), 'min_samples_split': [5, 10, 15], 'min_samples_leaf': [2, 8, 12]}\n"
     ]
    }
   ],
   "source": [
    "print(random_grid)"
   ]
  },
  {
   "cell_type": "code",
   "execution_count": 35,
   "id": "4f265342-28fc-4b3e-bc1d-f2c9e6f9548a",
   "metadata": {},
   "outputs": [
    {
     "name": "stdout",
     "output_type": "stream",
     "text": [
      "Fitting 3 folds for each of 5 candidates, totalling 15 fits\n",
      "[CV] END max_depth=40, max_features=sqrt, min_samples_leaf=12, min_samples_split=5, n_estimators=300; total time= 1.3min\n",
      "[CV] END max_depth=40, max_features=sqrt, min_samples_leaf=12, min_samples_split=5, n_estimators=300; total time= 1.3min\n",
      "[CV] END max_depth=40, max_features=sqrt, min_samples_leaf=12, min_samples_split=5, n_estimators=300; total time= 1.3min\n",
      "[CV] END max_depth=30, max_features=sqrt, min_samples_leaf=12, min_samples_split=5, n_estimators=400; total time= 1.7min\n",
      "[CV] END max_depth=30, max_features=sqrt, min_samples_leaf=12, min_samples_split=5, n_estimators=400; total time= 1.8min\n",
      "[CV] END max_depth=30, max_features=sqrt, min_samples_leaf=12, min_samples_split=5, n_estimators=400; total time= 1.8min\n",
      "The best hyperparameters: \n",
      " {'n_estimators': 400, 'min_samples_split': 5, 'min_samples_leaf': 12, 'max_features': 'sqrt', 'max_depth': 30}\n",
      "[CV] END max_depth=20, max_features=1.0, min_samples_leaf=8, min_samples_split=5, n_estimators=300; total time= 4.0min\n",
      "[CV] END max_depth=20, max_features=1.0, min_samples_leaf=8, min_samples_split=5, n_estimators=300; total time= 4.1min\n",
      "[CV] END max_depth=20, max_features=1.0, min_samples_leaf=8, min_samples_split=5, n_estimators=300; total time= 4.1min\n",
      "[CV] END max_depth=30, max_features=1.0, min_samples_leaf=8, min_samples_split=5, n_estimators=300; total time= 4.1min\n",
      "[CV] END max_depth=30, max_features=1.0, min_samples_leaf=8, min_samples_split=5, n_estimators=300; total time= 4.3min\n",
      "[CV] END max_depth=30, max_features=1.0, min_samples_leaf=8, min_samples_split=5, n_estimators=300; total time= 4.3min\n",
      "[CV] END max_depth=30, max_features=1.0, min_samples_leaf=2, min_samples_split=5, n_estimators=400; total time= 6.1min\n",
      "[CV] END max_depth=30, max_features=1.0, min_samples_leaf=2, min_samples_split=5, n_estimators=400; total time= 6.3min\n",
      "[CV] END max_depth=30, max_features=1.0, min_samples_leaf=2, min_samples_split=5, n_estimators=400; total time= 6.3min\n"
     ]
    }
   ],
   "source": [
    "reg0 = RandomForestRegressor(random_state=0)\n",
    "\n",
    "rf_search = RandomizedSearchCV(estimator = reg0, param_distributions = random_grid, \n",
    "                                n_iter = 5, cv = 3, verbose=2, n_jobs = -1)\n",
    "# Verbose =2 will display computations and scores, n_jobs = -1 will use all processors\n",
    "\n",
    "rf_parameters = rf_search.fit(X_train,y_train)\n",
    "\n",
    "print(\"The best hyperparameters: \\n\",rf_search.best_params_)"
   ]
  },
  {
   "cell_type": "markdown",
   "id": "ccf619c4-8871-4897-8748-2f65969ab295",
   "metadata": {},
   "source": [
    "# RF Model"
   ]
  },
  {
   "cell_type": "markdown",
   "id": "b7059dd2-676a-4d25-8fab-129621495219",
   "metadata": {},
   "source": [
    "Will serve as baseline for comparison to other algorithms"
   ]
  },
  {
   "cell_type": "markdown",
   "id": "b8c7a7bd-8e46-47d3-9f64-e86dd1cc8ed0",
   "metadata": {},
   "source": [
    "## Build RF Model"
   ]
  },
  {
   "cell_type": "markdown",
   "id": "f8cccc51-ec72-4b0d-bf32-d465e8bc4242",
   "metadata": {},
   "source": [
    "Using best parameters found above"
   ]
  },
  {
   "cell_type": "code",
   "execution_count": 36,
   "id": "aeb9bcdb-1d27-4b1f-9a83-0bf7b0fbc3b3",
   "metadata": {},
   "outputs": [],
   "source": [
    "best_params = {'n_estimators': 400, 'min_samples_split': 5, 'min_samples_leaf': 12, 'max_features': 'sqrt', 'max_depth': 30}"
   ]
  },
  {
   "cell_type": "code",
   "execution_count": 46,
   "id": "f677c48c-45c0-4793-9672-9c554d4a5881",
   "metadata": {},
   "outputs": [],
   "source": [
    "RF = RandomForestRegressor(n_estimators=best_params['n_estimators'],\n",
    "                           max_depth=best_params['max_depth'],\n",
    "                           max_features=best_params['max_features'],\n",
    "                           min_samples_split=best_params['min_samples_split'],\n",
    "                           min_samples_leaf=best_params['min_samples_leaf'])"
   ]
  },
  {
   "cell_type": "code",
   "execution_count": 47,
   "id": "f6cebc63-45b1-4dc0-8d60-3c04ba6326b6",
   "metadata": {},
   "outputs": [],
   "source": [
    "RF_model = RF.fit(X_train,y_train)"
   ]
  },
  {
   "cell_type": "code",
   "execution_count": 48,
   "id": "e024f892-a2b3-4fdc-9556-76dd662ad3e0",
   "metadata": {},
   "outputs": [
    {
     "data": {
      "text/plain": [
       "['/home/julias/MLEE-final-project/models/saved_models/recon_models/RF_model.h5']"
      ]
     },
     "execution_count": 48,
     "metadata": {},
     "output_type": "execute_result"
    }
   ],
   "source": [
    "joblib.dump(RF_model_basic, os.path.join(global_model_path,'RF_model.h5')) "
   ]
  },
  {
   "cell_type": "markdown",
   "id": "f2de4e53-84e7-482f-93e8-1658da8118df",
   "metadata": {},
   "source": [
    "## Re-load model for analysis"
   ]
  },
  {
   "cell_type": "code",
   "execution_count": 49,
   "id": "20827c7b-43de-4bf3-97cf-6b2fc26a6429",
   "metadata": {},
   "outputs": [],
   "source": [
    "RF_model = joblib.load(os.path.join(global_model_path,'RF_model.h5'))"
   ]
  },
  {
   "cell_type": "code",
   "execution_count": 50,
   "id": "17dd8ca8-94a4-4fc8-9948-adaa452cfa56",
   "metadata": {},
   "outputs": [
    {
     "name": "stdout",
     "output_type": "stream",
     "text": [
      "Train Score: 0.63388\n"
     ]
    }
   ],
   "source": [
    "train_score = RF_model.score(X_train,y_train)\n",
    "print('Train Score: %.5f' % train_score)"
   ]
  },
  {
   "cell_type": "code",
   "execution_count": 51,
   "id": "b35235c0-359d-4b80-a5cb-b09d3c6183ff",
   "metadata": {},
   "outputs": [
    {
     "name": "stdout",
     "output_type": "stream",
     "text": [
      "Test Score: 0.59993\n"
     ]
    }
   ],
   "source": [
    "test_score = RF_model.score(X_test,y_test)\n",
    "print('Test Score: %.5f' % test_score)"
   ]
  },
  {
   "cell_type": "code",
   "execution_count": 52,
   "id": "5da27e6a-aa0b-4259-9fa2-8776800afa6e",
   "metadata": {},
   "outputs": [
    {
     "name": "stdout",
     "output_type": "stream",
     "text": [
      "MSE: 641.36\n"
     ]
    }
   ],
   "source": [
    "y_pred = RF_model.predict(X_test)\n",
    "mse = mean_squared_error(y_test, y_pred)\n",
    "print('MSE: %.2f' % mse)"
   ]
  },
  {
   "cell_type": "code",
   "execution_count": null,
   "id": "16385d6e-c660-4813-9467-09dc34a0dae5",
   "metadata": {},
   "outputs": [],
   "source": []
  },
  {
   "cell_type": "code",
   "execution_count": null,
   "id": "f35e5165-bb03-49e9-bafc-48f9974ae7b9",
   "metadata": {},
   "outputs": [],
   "source": []
  }
 ],
 "metadata": {
  "kernelspec": {
   "display_name": "fromML",
   "language": "python",
   "name": "fromml"
  },
  "language_info": {
   "codemirror_mode": {
    "name": "ipython",
    "version": 3
   },
   "file_extension": ".py",
   "mimetype": "text/x-python",
   "name": "python",
   "nbconvert_exporter": "python",
   "pygments_lexer": "ipython3",
   "version": "3.9.13"
  }
 },
 "nbformat": 4,
 "nbformat_minor": 5
}
