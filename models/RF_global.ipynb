{
 "cells": [
  {
   "cell_type": "markdown",
   "id": "06128b64-b680-4e62-a15e-55fd8071f0ea",
   "metadata": {
    "tags": []
   },
   "source": [
    "# Random Forest Model, Trained on Limited Dataset\n",
    "## Model Dataset Limited by SOCAT Sampling Locations"
   ]
  },
  {
   "cell_type": "markdown",
   "id": "76ac250b-2cc7-4140-9ea8-9283cb1c2ab9",
   "metadata": {},
   "source": [
    "(to be used as a baseline)"
   ]
  },
  {
   "cell_type": "code",
   "execution_count": 1,
   "id": "0f3d60fa-6ef5-4a7f-b474-9c42bddb1916",
   "metadata": {},
   "outputs": [
    {
     "name": "stderr",
     "output_type": "stream",
     "text": [
      "2023-01-12 13:01:48.265095: I tensorflow/core/platform/cpu_feature_guard.cc:193] This TensorFlow binary is optimized with oneAPI Deep Neural Network Library (oneDNN) to use the following CPU instructions in performance-critical operations:  SSE4.1 SSE4.2 AVX AVX2 AVX512F FMA\n",
      "To enable them in other operations, rebuild TensorFlow with the appropriate compiler flags.\n"
     ]
    }
   ],
   "source": [
    "# Standard imports\n",
    "import os\n",
    "import datetime\n",
    "from pathlib import Path\n",
    "from collections import defaultdict\n",
    "import scipy\n",
    "import random\n",
    "import numpy as np\n",
    "import xarray as xr\n",
    "import pandas as pd\n",
    "import joblib\n",
    "import pickle\n",
    "\n",
    "# Machine learning libraries\n",
    "import sklearn            # machine-learning libary with many algorithms implemented\n",
    "from sklearn.ensemble import RandomForestRegressor\n",
    "from sklearn.model_selection import RandomizedSearchCV\n",
    "from sklearn.datasets import make_regression\n",
    "from sklearn.metrics import mean_squared_error\n",
    "\n",
    "# Python file with supporting functions\n",
    "import model_utils"
   ]
  },
  {
   "cell_type": "code",
   "execution_count": 2,
   "id": "bbd2f2b9-847a-4fec-9c28-fad2a693f20d",
   "metadata": {},
   "outputs": [],
   "source": [
    "global_model_path = '/home/julias/MLEE-final-project/models/saved_models/recon_models'"
   ]
  },
  {
   "cell_type": "markdown",
   "id": "ed2a609c-a8f0-437d-a4ff-84249ca40988",
   "metadata": {},
   "source": [
    "https://scikit-learn.org/stable/modules/generated/sklearn.ensemble.RandomForestRegressor.html"
   ]
  },
  {
   "cell_type": "markdown",
   "id": "249d46c0-e403-4287-a030-6233d671dc23",
   "metadata": {
    "tags": []
   },
   "source": [
    "# Load Split Datasets "
   ]
  },
  {
   "cell_type": "markdown",
   "id": "e056d29e-9dc9-4c3e-914f-0ed89b6db39a",
   "metadata": {},
   "source": [
    "## Load Split Datasets"
   ]
  },
  {
   "cell_type": "code",
   "execution_count": 3,
   "id": "39b43b98-dd3e-4f88-81a1-6b9505db34f8",
   "metadata": {},
   "outputs": [],
   "source": [
    "X_df = xr.open_dataset('/home/julias/MLEE-final-project/proc_data/global_split_datasets/X.nc').to_dataframe().dropna()\n",
    "y_df = xr.open_dataset('/home/julias/MLEE-final-project/proc_data/global_split_datasets/y.nc').to_dataframe().dropna() \n",
    "X_train_df = xr.open_dataset('/home/julias/MLEE-final-project/proc_data/global_split_datasets/X_train.nc').to_dataframe().dropna() \n",
    "y_train_df = xr.open_dataset('/home/julias/MLEE-final-project/proc_data/global_split_datasets/y_train.nc').to_dataframe().dropna()\n",
    "X_test_df = xr.open_dataset('/home/julias/MLEE-final-project/proc_data/global_split_datasets/X_test.nc').to_dataframe().dropna() \n",
    "y_test_df = xr.open_dataset('/home/julias/MLEE-final-project/proc_data/global_split_datasets/y_test.nc').to_dataframe().dropna() "
   ]
  },
  {
   "cell_type": "markdown",
   "id": "48e5dd92-6f33-4306-8448-3a1a53c534da",
   "metadata": {},
   "source": [
    "## Check that data was saved and loaded properly:"
   ]
  },
  {
   "cell_type": "code",
   "execution_count": null,
   "id": "805ae1b5-bd0d-4760-b118-724b33f308fe",
   "metadata": {},
   "outputs": [],
   "source": [
    "X_train_df"
   ]
  },
  {
   "cell_type": "code",
   "execution_count": null,
   "id": "70ffb9dc-5f20-4964-afa4-fc646daf9024",
   "metadata": {},
   "outputs": [],
   "source": [
    "y_test_df"
   ]
  },
  {
   "cell_type": "markdown",
   "id": "55a78100-c29a-4cc4-8927-acf311768617",
   "metadata": {},
   "source": [
    "## Create Numpy Arrays for Original Data"
   ]
  },
  {
   "cell_type": "code",
   "execution_count": 4,
   "id": "1ff20572-a162-40fa-8ffc-358ba39a4f75",
   "metadata": {},
   "outputs": [],
   "source": [
    "X = X_df.to_numpy()         \n",
    "y = y_df.to_numpy().ravel() \n",
    "X_train = X_train_df.to_numpy() \n",
    "y_train = y_train_df.to_numpy().ravel()\n",
    "X_test = X_test_df.to_numpy()  \n",
    "y_test = y_test_df.to_numpy().ravel()"
   ]
  },
  {
   "cell_type": "markdown",
   "id": "2524f0fa-075b-48d1-8445-93119eaeeee1",
   "metadata": {},
   "source": [
    "# Basic RF Model"
   ]
  },
  {
   "cell_type": "markdown",
   "id": "fcccc589-6a74-4700-a0a2-f18aaddf0321",
   "metadata": {},
   "source": [
    "### Build Basic RF Model"
   ]
  },
  {
   "cell_type": "code",
   "execution_count": 5,
   "id": "11f9eefc-d0a9-4301-9ec9-ca17368470e8",
   "metadata": {},
   "outputs": [],
   "source": [
    "RF_basic = RandomForestRegressor(n_estimators=100,max_depth=5,min_samples_split=5,min_samples_leaf=4)"
   ]
  },
  {
   "cell_type": "code",
   "execution_count": null,
   "id": "b87e5268-64ff-47cc-88ff-9617e4816df5",
   "metadata": {},
   "outputs": [],
   "source": [
    "RF_model_basic = RF_basic.fit(X_train,y_train)"
   ]
  },
  {
   "cell_type": "code",
   "execution_count": null,
   "id": "b972eae1-71d9-486b-9f18-1c364a2f53b5",
   "metadata": {},
   "outputs": [],
   "source": [
    "joblib.dump(RF_model_basic, os.path.join(global_model_path,'RF_model_basic.h5')) "
   ]
  },
  {
   "cell_type": "markdown",
   "id": "bcb6e41a-b393-48db-9929-88bfb5f9254a",
   "metadata": {},
   "source": [
    "### Re-load Basic Model for Analysis"
   ]
  },
  {
   "cell_type": "code",
   "execution_count": null,
   "id": "a27753fc-c459-4f3b-8b6a-06859d6ac39b",
   "metadata": {},
   "outputs": [],
   "source": [
    "RF_model_basic = joblib.load(os.path.join(global_model_path,'RF_model_basic.h5'))"
   ]
  },
  {
   "cell_type": "code",
   "execution_count": null,
   "id": "1dcdba8f-90a5-430c-a8e5-fdeeca2dc1fe",
   "metadata": {},
   "outputs": [],
   "source": [
    "train_score_basic = RF_model_basic.score(X_train,y_train)\n",
    "print('Train Score: %.5f' % train_score)"
   ]
  },
  {
   "cell_type": "code",
   "execution_count": null,
   "id": "13b7f105-3185-42c8-b3db-fb38cc8d2d77",
   "metadata": {},
   "outputs": [],
   "source": [
    "test_score_basic = RF_model_basic.score(X_test,y_test)\n",
    "print('Test Score: %.5f' % test_score)"
   ]
  },
  {
   "cell_type": "code",
   "execution_count": null,
   "id": "7c1fdc88-b9f8-4ded-8a9f-d3e368ab3910",
   "metadata": {},
   "outputs": [],
   "source": [
    "y_pred_basic = RF_model_basic.predict(X_test)\n",
    "mse_basic = mean_squared_error(y_test, y_pred_basic)\n",
    "print('MSE: %.2f' % mse)"
   ]
  },
  {
   "cell_type": "code",
   "execution_count": null,
   "id": "c611af01-9b4f-4dfd-802c-8ebe10a7277d",
   "metadata": {},
   "outputs": [],
   "source": [
    "train_score = RF_prelim_load_test.score(X_train,y_train)\n",
    "print('Train Score: %.5f' % train_score)"
   ]
  },
  {
   "cell_type": "markdown",
   "id": "43a551d8-c0d6-4d7d-a9bc-d460df1a9dc2",
   "metadata": {
    "tags": []
   },
   "source": [
    "# Select Approach and Parameters"
   ]
  },
  {
   "cell_type": "markdown",
   "id": "70ef1d5c-029d-476c-a4d4-010f2a20d976",
   "metadata": {},
   "source": [
    "## Approach"
   ]
  },
  {
   "cell_type": "markdown",
   "id": "e703bba6-cd01-4fab-97c5-6f809c05675a",
   "metadata": {},
   "source": [
    "- As tested in basic model above, RF requires that the data is input using numpy. \n",
    "- For consistency and to faciliate comparison with other models, will continue using the original (not normalized) data."
   ]
  },
  {
   "cell_type": "markdown",
   "id": "d32696e6-4b77-476b-9e38-7b28ec3faea8",
   "metadata": {},
   "source": [
    "## Parameters"
   ]
  },
  {
   "cell_type": "markdown",
   "id": "08180711-1c52-4ff4-ac29-e974d6213da2",
   "metadata": {},
   "source": [
    "Use a cross-validation search to optimize the RF model"
   ]
  },
  {
   "cell_type": "code",
   "execution_count": null,
   "id": "497b6174-70f4-472a-aeb1-d7749ead743b",
   "metadata": {},
   "outputs": [],
   "source": [
    "# Number of trees in random forest\n",
    "n_estimators = np.arange(100,500,100) #Test 100, 200, 300, 400\n",
    "\n",
    "# Number of features to consider at every split\n",
    "max_features = [1.0, 'sqrt'] #1.0 is the same as auto, auto is depreciated \n",
    "\n",
    "# Maximum number of levels in tree\n",
    "max_depth = np.arange(10,50,10)\n",
    "\n",
    "# Minimum number of samples required to split a node\n",
    "min_samples_split = [5, 10, 15]\n",
    "\n",
    "# Minimum number of samples required at each leaf node\n",
    "min_samples_leaf = [2, 8, 12]\n",
    "\n",
    "# Use default bootstrap=True\n",
    "\n",
    "# Create the random grid\n",
    "random_grid = {'n_estimators': n_estimators,\n",
    "               'max_features': max_features,\n",
    "               'max_depth': max_depth,\n",
    "               'min_samples_split': min_samples_split,\n",
    "               'min_samples_leaf': min_samples_leaf\n",
    "              }"
   ]
  },
  {
   "cell_type": "code",
   "execution_count": null,
   "id": "94fb1751-6d68-4744-b851-9f1b751b0494",
   "metadata": {},
   "outputs": [],
   "source": [
    "print(random_grid)"
   ]
  },
  {
   "cell_type": "code",
   "execution_count": null,
   "id": "4f265342-28fc-4b3e-bc1d-f2c9e6f9548a",
   "metadata": {},
   "outputs": [],
   "source": [
    "reg0 = RandomForestRegressor(random_state=0)\n",
    "\n",
    "rf_search = RandomizedSearchCV(estimator = reg0, param_distributions = random_grid, \n",
    "                                n_iter = 5, cv = 3, verbose=2, n_jobs = -1)\n",
    "# Verbose =2 will display computations and scores, n_jobs = -1 will use all processors\n",
    "\n",
    "rf_parameters = rf_search.fit(X_train,y_train)\n",
    "\n",
    "print(\"The best hyperparameters: \\n\",rf_search.best_params_)"
   ]
  },
  {
   "cell_type": "markdown",
   "id": "ccf619c4-8871-4897-8748-2f65969ab295",
   "metadata": {},
   "source": [
    "# RF Model"
   ]
  },
  {
   "cell_type": "markdown",
   "id": "b7059dd2-676a-4d25-8fab-129621495219",
   "metadata": {},
   "source": [
    "Will serve as baseline for comparison to other algorithms"
   ]
  },
  {
   "cell_type": "markdown",
   "id": "b8c7a7bd-8e46-47d3-9f64-e86dd1cc8ed0",
   "metadata": {},
   "source": [
    "## Build RF Model"
   ]
  },
  {
   "cell_type": "markdown",
   "id": "f8cccc51-ec72-4b0d-bf32-d465e8bc4242",
   "metadata": {},
   "source": [
    "Using best parameters found above"
   ]
  },
  {
   "cell_type": "code",
   "execution_count": null,
   "id": "aeb9bcdb-1d27-4b1f-9a83-0bf7b0fbc3b3",
   "metadata": {},
   "outputs": [],
   "source": [
    "best_params = {'n_estimators': 400, 'min_samples_split': 5, 'min_samples_leaf': 12, 'max_features': 'sqrt', 'max_depth': 30}"
   ]
  },
  {
   "cell_type": "code",
   "execution_count": null,
   "id": "f677c48c-45c0-4793-9672-9c554d4a5881",
   "metadata": {},
   "outputs": [],
   "source": [
    "RF = RandomForestRegressor(n_estimators=best_params['n_estimators'],\n",
    "                           max_depth=best_params['max_depth'],\n",
    "                           max_features=best_params['max_features'],\n",
    "                           min_samples_split=best_params['min_samples_split'],\n",
    "                           min_samples_leaf=best_params['min_samples_leaf'])"
   ]
  },
  {
   "cell_type": "code",
   "execution_count": null,
   "id": "f6cebc63-45b1-4dc0-8d60-3c04ba6326b6",
   "metadata": {},
   "outputs": [],
   "source": [
    "RF_model = RF.fit(X_train,y_train)"
   ]
  },
  {
   "cell_type": "code",
   "execution_count": null,
   "id": "e024f892-a2b3-4fdc-9556-76dd662ad3e0",
   "metadata": {},
   "outputs": [],
   "source": [
    "joblib.dump(RF_model_basic, os.path.join(global_model_path,'RF_model.h5')) "
   ]
  },
  {
   "cell_type": "markdown",
   "id": "f2de4e53-84e7-482f-93e8-1658da8118df",
   "metadata": {},
   "source": [
    "## Re-load model for analysis"
   ]
  },
  {
   "cell_type": "code",
   "execution_count": null,
   "id": "20827c7b-43de-4bf3-97cf-6b2fc26a6429",
   "metadata": {},
   "outputs": [],
   "source": [
    "RF_model = joblib.load(os.path.join(global_model_path,'RF_model.h5'))"
   ]
  },
  {
   "cell_type": "code",
   "execution_count": null,
   "id": "17dd8ca8-94a4-4fc8-9948-adaa452cfa56",
   "metadata": {},
   "outputs": [],
   "source": [
    "train_score = RF_model.score(X_train,y_train)\n",
    "print('Train Score: %.5f' % train_score)"
   ]
  },
  {
   "cell_type": "code",
   "execution_count": null,
   "id": "b35235c0-359d-4b80-a5cb-b09d3c6183ff",
   "metadata": {},
   "outputs": [],
   "source": [
    "test_score = RF_model.score(X_test,y_test)\n",
    "print('Test Score: %.5f' % test_score)"
   ]
  },
  {
   "cell_type": "code",
   "execution_count": null,
   "id": "5da27e6a-aa0b-4259-9fa2-8776800afa6e",
   "metadata": {},
   "outputs": [],
   "source": [
    "y_pred = RF_model.predict(X_test)\n",
    "mse = mean_squared_error(y_test, y_pred)\n",
    "print('MSE: %.2f' % mse)"
   ]
  },
  {
   "cell_type": "code",
   "execution_count": null,
   "id": "16385d6e-c660-4813-9467-09dc34a0dae5",
   "metadata": {},
   "outputs": [],
   "source": []
  },
  {
   "cell_type": "code",
   "execution_count": null,
   "id": "f35e5165-bb03-49e9-bafc-48f9974ae7b9",
   "metadata": {},
   "outputs": [],
   "source": []
  }
 ],
 "metadata": {
  "kernelspec": {
   "display_name": "fromML",
   "language": "python",
   "name": "fromml"
  },
  "language_info": {
   "codemirror_mode": {
    "name": "ipython",
    "version": 3
   },
   "file_extension": ".py",
   "mimetype": "text/x-python",
   "name": "python",
   "nbconvert_exporter": "python",
   "pygments_lexer": "ipython3",
   "version": "3.9.13"
  }
 },
 "nbformat": 4,
 "nbformat_minor": 5
}
