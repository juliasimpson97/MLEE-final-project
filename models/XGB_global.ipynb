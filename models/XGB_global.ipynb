{
 "cells": [
  {
   "cell_type": "markdown",
   "id": "61256f5b-372e-4293-8b48-5aef80582b09",
   "metadata": {},
   "source": [
    "# eXtreme Gradient Boosting (XGB) Model, Trained Globally"
   ]
  },
  {
   "cell_type": "code",
   "execution_count": 1,
   "id": "a3d4a327-8cd7-44a4-8dd8-42408dbdf992",
   "metadata": {},
   "outputs": [
    {
     "name": "stderr",
     "output_type": "stream",
     "text": [
      "2023-01-09 23:01:28.129633: I tensorflow/core/platform/cpu_feature_guard.cc:193] This TensorFlow binary is optimized with oneAPI Deep Neural Network Library (oneDNN) to use the following CPU instructions in performance-critical operations:  SSE4.1 SSE4.2 AVX AVX2 AVX512F FMA\n",
      "To enable them in other operations, rebuild TensorFlow with the appropriate compiler flags.\n"
     ]
    }
   ],
   "source": [
    "# Standard imports\n",
    "import os\n",
    "import datetime\n",
    "from pathlib import Path\n",
    "from collections import defaultdict\n",
    "import scipy\n",
    "import random\n",
    "import numpy as np\n",
    "import xarray as xr\n",
    "import pandas as pd\n",
    "import matplotlib.pyplot as plt\n",
    "import joblib\n",
    "import pickle\n",
    "\n",
    "# Machine learning libraries\n",
    "import sklearn            # machine-learning libary with many algorithms implemented\n",
    "import xgboost as xgb     # extreme gradient boosting (XGB)\n",
    "from xgboost import XGBRegressor\n",
    "from sklearn.model_selection import train_test_split, GridSearchCV, cross_val_score\n",
    "from sklearn.metrics import mean_squared_error\n",
    "\n",
    "import tensorflow as tf\n",
    "from tensorflow import keras\n",
    "from tensorflow.keras.models import Model, load_model\n",
    "\n",
    "# Python file with supporting functions\n",
    "import model_utils"
   ]
  },
  {
   "cell_type": "code",
   "execution_count": 2,
   "id": "d896ed9b-9566-45dc-be2c-8e9eae5f031e",
   "metadata": {},
   "outputs": [],
   "source": [
    "global_model_path = '/home/julias/MLEE-final-project/models/saved_models/global_models'"
   ]
  },
  {
   "cell_type": "markdown",
   "id": "0cfdfe9d-9b70-4498-af7c-a674e284d048",
   "metadata": {
    "tags": []
   },
   "source": [
    "### To Set and Track Seeds for Reproducibility (Referencing Group Standard):"
   ]
  },
  {
   "cell_type": "code",
   "execution_count": null,
   "id": "acb1ca43-1510-45a1-a93a-1c2665b35952",
   "metadata": {},
   "outputs": [],
   "source": [
    "ens = 'CESM'\n",
    "member = '009'\n",
    "reference_output_dir = '/home/julias/MLEE-final-project/pickle_files'\n",
    "\n",
    "path_seeds = f'{reference_output_dir}/random_seeds.npy'\n",
    "random_seeds = np.load(path_seeds)  \n",
    "\n",
    "path_loc = f'{reference_output_dir}/cesm_seed_loc_dict.pickle'\n",
    "with open(path_loc,'rb') as handle:\n",
    "    seed_loc_dict = pickle.load(handle)\n",
    "seed_loc = seed_loc_dict[ens][member]\n",
    "\n",
    "# for next project, where train and test datasets use all CESM members\n",
    "#path_cesm = f\"{reference_output_dir}/cesm_members_dict.pickle\"\n",
    "#with open(path_cesm,'rb') as handle:\n",
    "#    cesm_mems_dict = pickle.load(handle)"
   ]
  },
  {
   "cell_type": "code",
   "execution_count": null,
   "id": "f4bbf3be-038e-40c4-8249-a053077c769b",
   "metadata": {},
   "outputs": [],
   "source": [
    "# random_seeds"
   ]
  },
  {
   "cell_type": "code",
   "execution_count": null,
   "id": "bf69a920-5995-4ec7-a297-d89b5aecfd79",
   "metadata": {},
   "outputs": [],
   "source": [
    "# seed_loc_dict # using CESM 009, so seed_loc should be 32"
   ]
  },
  {
   "cell_type": "code",
   "execution_count": null,
   "id": "2d866f5e-f197-44bd-81dc-2c06c9b054d8",
   "metadata": {},
   "outputs": [],
   "source": [
    "# seed_loc #confirmed 32"
   ]
  },
  {
   "cell_type": "markdown",
   "id": "0058f0b5-1738-4b99-90d8-cec14106e72e",
   "metadata": {
    "tags": []
   },
   "source": [
    "# Load Split Datasets and Create Versions for Experimentation"
   ]
  },
  {
   "cell_type": "markdown",
   "id": "f6d4a848-9685-4287-b171-67367bae969e",
   "metadata": {},
   "source": [
    "## Load Split Datasets"
   ]
  },
  {
   "cell_type": "code",
   "execution_count": 3,
   "id": "57ab1920-2888-423e-a973-1ce049de6055",
   "metadata": {},
   "outputs": [],
   "source": [
    "X_df = xr.open_dataset('/home/julias/MLEE-final-project/proc_data/global_split_datasets/X.nc').to_dataframe().dropna()\n",
    "y_df = xr.open_dataset('/home/julias/MLEE-final-project/proc_data/global_split_datasets/y.nc').to_dataframe().dropna() \n",
    "X_train_df = xr.open_dataset('/home/julias/MLEE-final-project/proc_data/global_split_datasets/X_train.nc').to_dataframe().dropna() \n",
    "y_train_df = xr.open_dataset('/home/julias/MLEE-final-project/proc_data/global_split_datasets/y_train.nc').to_dataframe().dropna()\n",
    "X_test_df = xr.open_dataset('/home/julias/MLEE-final-project/proc_data/global_split_datasets/X_test.nc').to_dataframe().dropna() \n",
    "y_test_df = xr.open_dataset('/home/julias/MLEE-final-project/proc_data/global_split_datasets/y_test.nc').to_dataframe().dropna() "
   ]
  },
  {
   "cell_type": "markdown",
   "id": "3bbb5399-0ea5-4f94-9b57-4fbd075014b5",
   "metadata": {},
   "source": [
    "Check that data was saved and loaded properly:"
   ]
  },
  {
   "cell_type": "code",
   "execution_count": null,
   "id": "ea82734c-940d-408b-b025-a189f634c3ea",
   "metadata": {},
   "outputs": [],
   "source": [
    "X_train_df"
   ]
  },
  {
   "cell_type": "code",
   "execution_count": null,
   "id": "203ffe19-2966-43b9-95e0-61523faac91d",
   "metadata": {},
   "outputs": [],
   "source": [
    "y_test_df"
   ]
  },
  {
   "cell_type": "markdown",
   "id": "4418974d-e80c-4d2c-b70d-78f734381d4f",
   "metadata": {},
   "source": [
    "### Create Numpy Arrays for Original Data"
   ]
  },
  {
   "cell_type": "code",
   "execution_count": null,
   "id": "c2aabead-f42b-4a6a-ae05-9a6382256181",
   "metadata": {},
   "outputs": [],
   "source": [
    "X_original = X_df.to_numpy()         \n",
    "y_original = y_df.to_numpy().ravel() \n",
    "X_train_original = X_train_df.to_numpy() \n",
    "y_train_original = y_train_df.to_numpy().ravel()\n",
    "X_test_original = X_test_df.to_numpy()  \n",
    "y_test_original = y_test_df.to_numpy().ravel()"
   ]
  },
  {
   "cell_type": "markdown",
   "id": "3bc00637-1193-4bf1-92b1-3b4cbcaac55d",
   "metadata": {
    "tags": []
   },
   "source": [
    "# Select Approach & Parameters"
   ]
  },
  {
   "cell_type": "markdown",
   "id": "2da2194e-ccf4-4ddd-bde2-5ee8577dab5b",
   "metadata": {
    "tags": []
   },
   "source": [
    "## Approach"
   ]
  },
  {
   "cell_type": "markdown",
   "id": "e1e6eb64-a98b-4af9-a38d-cd844c519914",
   "metadata": {},
   "source": [
    "Based on preliminary experimentation in the non-global XGB notebook (XGB.ipynb) will only train the global dataset on the identified ideal approach. Thus, will train on dataframes (as opposed to numpy arrays) and normalized data."
   ]
  },
  {
   "cell_type": "markdown",
   "id": "1b65466c-2931-4df1-b59f-a69408bf6f62",
   "metadata": {},
   "source": [
    "## Parameters"
   ]
  },
  {
   "cell_type": "markdown",
   "id": "fa97e2de-a29a-4964-85f2-b0486af58e90",
   "metadata": {
    "tags": []
   },
   "source": [
    "### Reference Best Parameters from Previous Group Work"
   ]
  },
  {
   "cell_type": "markdown",
   "id": "cfa52bb6-224d-450d-ad91-32a548620408",
   "metadata": {},
   "source": [
    "Published in Bennington 2022, trained XGB to learn pCO2 residual (pC02 change with direct temperature effects removed)"
   ]
  },
  {
   "cell_type": "code",
   "execution_count": null,
   "id": "52f02f55-b192-4b72-9e9b-80cbf9690ec3",
   "metadata": {},
   "outputs": [],
   "source": [
    "path_bp='/data/artemis/workspace/vbennington/full_sst/pCO2_DIC/models/performance_metrics/xg/xg_best_params_dict.pickle'\n",
    "with open(path_bp,'rb') as handle:\n",
    "    best_params = pickle.load(handle)\n",
    "print(best_params)"
   ]
  },
  {
   "cell_type": "markdown",
   "id": "fe92973a-ac67-46df-b5ec-2f4785c2fe9a",
   "metadata": {},
   "source": [
    "Use previous CESM best parameters as a starting point:\n",
    "- max_depth = 6\n",
    "- n_estimators = 4000"
   ]
  },
  {
   "cell_type": "markdown",
   "id": "664368e3-fb4a-4b4e-9ab5-9fc8276fc4b0",
   "metadata": {},
   "source": [
    "### Investigate Ideal Parameters for Selected Approach"
   ]
  },
  {
   "cell_type": "markdown",
   "id": "561b6537-ba2f-4e27-a075-b42fee50bc87",
   "metadata": {},
   "source": [
    "- Test with three different n_estimators and 3 different depths\n",
    "- Advice from group post-doc: For XGB, too many depth layers may lead to overfitting (usually 8 or less layers for XGB)\n",
    "- We want the combo of xg_param_grid that gives the lowest RMSE"
   ]
  },
  {
   "cell_type": "markdown",
   "id": "a8cf4c62-f677-4956-bf0d-438274ea587e",
   "metadata": {},
   "source": [
    "- Was not able to use GridSearchCV (allowed to run for hours but kernel crashed on multiple attempts. \n",
    "- Will re-attempt on a future project using NCAR supercomputer account once have access."
   ]
  },
  {
   "cell_type": "code",
   "execution_count": null,
   "id": "5d37102f-866b-44f2-9f43-5ed5dde68f8e",
   "metadata": {},
   "outputs": [],
   "source": [
    "# best_params = {}\n",
    "# model = xgb.XGBRegressor(verbosity=0) \n",
    "# xg_param_grid = {'n_estimators':[3000, 4000, 5000],\n",
    "#                  'max_depth':[5, 6, 7]}\n",
    "# grid = GridSearchCV(model, xg_param_grid, scoring='neg_mean_squared_error') #, cv=K_folds, return_train_score=False, refit=False"
   ]
  },
  {
   "cell_type": "code",
   "execution_count": null,
   "id": "0cdd023a-4e25-4fca-8a3a-d2f2dcae3fc6",
   "metadata": {
    "tags": []
   },
   "outputs": [],
   "source": [
    "# grid.fit(X_train_df_norm, y_train_df_norm)"
   ]
  },
  {
   "cell_type": "code",
   "execution_count": null,
   "id": "e9f9c7d9-fc2b-4a62-b986-29089fe164d2",
   "metadata": {},
   "outputs": [],
   "source": [
    "# best_params[ens] = grid.best_params_\n",
    "# print(best_params)"
   ]
  },
  {
   "cell_type": "markdown",
   "id": "0cfce049-d007-4328-a255-7b50aa2051c4",
   "metadata": {
    "tags": []
   },
   "source": [
    "# Preliminary XGB Models"
   ]
  },
  {
   "cell_type": "markdown",
   "id": "5fb6a295-5fbd-409c-ad11-64e42176a521",
   "metadata": {},
   "source": [
    "***Goal: Compare auto-XGB with lowest end and highest end of group XGB parameter matrix***"
   ]
  },
  {
   "cell_type": "markdown",
   "id": "c2fdb363-55c7-43b7-9af3-18561a25354d",
   "metadata": {},
   "source": [
    "## Baseline Model Test"
   ]
  },
  {
   "cell_type": "markdown",
   "id": "4be1488b-750e-48ab-b4d6-5ceae628b898",
   "metadata": {},
   "source": [
    "Alternations should at least improve on the baseline set by the auto-generated XGB algorithm"
   ]
  },
  {
   "cell_type": "code",
   "execution_count": null,
   "id": "ecd9c77f-758d-4c20-9e68-a10b67db5148",
   "metadata": {},
   "outputs": [],
   "source": [
    "model_baseline = xgb.XGBRegressor(verbosity=0) "
   ]
  },
  {
   "cell_type": "code",
   "execution_count": null,
   "id": "3a346719-78f2-414e-8c0f-e5d6f378bc29",
   "metadata": {},
   "outputs": [],
   "source": [
    "model_baseline.fit(X_train_df, y_train_df)"
   ]
  },
  {
   "cell_type": "markdown",
   "id": "7cdc014e-9aaf-4be8-b8e7-c4971259eb78",
   "metadata": {},
   "source": [
    "Learning rate looks high, may need to manually set"
   ]
  },
  {
   "cell_type": "code",
   "execution_count": null,
   "id": "09d08752-34dc-4ef0-ade0-bf862839c8c2",
   "metadata": {},
   "outputs": [],
   "source": [
    "train_score_baseline = model_baseline.score(X_train_df, y_train_df) \n",
    "train_score_baseline"
   ]
  },
  {
   "cell_type": "code",
   "execution_count": null,
   "id": "7caad098-9feb-44d9-b70c-7718fcd04e6d",
   "metadata": {},
   "outputs": [],
   "source": [
    "test_score_baseline = model_baseline.score(X_test_df, y_test_df) \n",
    "test_score_baseline"
   ]
  },
  {
   "cell_type": "code",
   "execution_count": null,
   "id": "6fa6f2a4-3caf-4cd2-a986-2a4a4ecd5a40",
   "metadata": {},
   "outputs": [],
   "source": [
    "y_pred_baseline = model_baseline.predict(X_test_df)\n",
    "mse = mean_squared_error(y_test_df, y_pred_baseline)\n",
    "print(\"MSE: %.2f\" % mse)"
   ]
  },
  {
   "cell_type": "code",
   "execution_count": null,
   "id": "905209a5-25f2-47e6-aa3f-6ec413264d85",
   "metadata": {},
   "outputs": [],
   "source": [
    "x_ax = range(len(y_test_df))\n",
    "plt.plot(x_ax, y_test_df, label=\"original\")\n",
    "plt.plot(x_ax, y_pred_baseline, label=\"predicted\")\n",
    "plt.title(\"pC02 test and predicted data\")\n",
    "plt.legend()\n",
    "plt.show()"
   ]
  },
  {
   "cell_type": "code",
   "execution_count": null,
   "id": "be39aff1-98c8-4e61-b410-f0160d7c0589",
   "metadata": {},
   "outputs": [],
   "source": [
    "y_test_df"
   ]
  },
  {
   "cell_type": "code",
   "execution_count": null,
   "id": "02d4946d-1509-4515-9c78-efba7ae6908f",
   "metadata": {},
   "outputs": [],
   "source": [
    "#y_test_df_norm = (y_test_df - y_test_df.mean())/y_test_df.std()\n",
    "# y_baseline = y_pred_baseline * y_test_df.std() + y_test_df.mean()"
   ]
  },
  {
   "cell_type": "code",
   "execution_count": null,
   "id": "842db5f8-0e1a-481c-bc9d-e8908530bf20",
   "metadata": {},
   "outputs": [],
   "source": [
    "y_test_df_norm['baseline_XGB_pred'] = y_pred_baseline"
   ]
  },
  {
   "cell_type": "code",
   "execution_count": null,
   "id": "7ddc6804-3837-4865-a4e6-e63b15c2fa9d",
   "metadata": {},
   "outputs": [],
   "source": [
    "y_test_df_norm.baseline_XGB_pred"
   ]
  },
  {
   "cell_type": "code",
   "execution_count": null,
   "id": "e691f88f-1dd4-4aa7-884f-3d6a34abd021",
   "metadata": {},
   "outputs": [],
   "source": [
    "y_test_df = y_test_df.pCO2"
   ]
  },
  {
   "cell_type": "code",
   "execution_count": null,
   "id": "3eef56dc-4688-405c-b612-c2820f68520e",
   "metadata": {},
   "outputs": [],
   "source": [
    "y_test_df"
   ]
  },
  {
   "cell_type": "code",
   "execution_count": null,
   "id": "edfc953e-970d-4608-afa5-bd4f8c88fee1",
   "metadata": {},
   "outputs": [],
   "source": [
    "joblib.dump(model_baseline, os.path.join(global_model_path,'XGB_prelim_baseline.h5')) "
   ]
  },
  {
   "cell_type": "code",
   "execution_count": null,
   "id": "f20d61f2-86aa-4b2c-a82c-4a527583ffc3",
   "metadata": {},
   "outputs": [],
   "source": [
    "baseline_load_test = joblib.load(os.path.join(global_model_path,'XGB_prelim_baseline.h5'))"
   ]
  },
  {
   "cell_type": "code",
   "execution_count": null,
   "id": "acbfa734-b38f-46f6-ac6d-83f03f0a6227",
   "metadata": {},
   "outputs": [],
   "source": [
    "baseline_load_test.score(X_train_df, y_train_df)"
   ]
  },
  {
   "cell_type": "markdown",
   "id": "6585cff9-bf10-48c3-b561-180ed0a2062c",
   "metadata": {},
   "source": [
    "## Lowest Combination of XGB Parameter Matrix"
   ]
  },
  {
   "cell_type": "code",
   "execution_count": null,
   "id": "7cb2aa12-1779-4012-a5f9-9fdad4dff9fc",
   "metadata": {},
   "outputs": [],
   "source": [
    "model_low = XGBRegressor(n_estimators=3000, max_depth=5) #if want to set learning rate, eta: \"often set to small values such as 0.3, 0.1, 0.01, or smaller\"\n",
    "model_low.fit(X_train_df, y_train_df) "
   ]
  },
  {
   "cell_type": "code",
   "execution_count": null,
   "id": "dd28edf6-bcba-4e5e-9c1c-bf028ae16e66",
   "metadata": {},
   "outputs": [],
   "source": [
    "joblib.dump(model_low, os.path.join(global_model_path,'XGB_prelim_lowest_param.h5')) "
   ]
  },
  {
   "cell_type": "code",
   "execution_count": 6,
   "id": "682e4fec-6243-4412-8d78-4514116e39c5",
   "metadata": {},
   "outputs": [],
   "source": [
    "model_low = joblib.load(os.path.join(global_model_path,'XGB_prelim_lowest_param.h5'))"
   ]
  },
  {
   "cell_type": "code",
   "execution_count": 7,
   "id": "28e71036-897c-43a6-8ad5-343e18d00892",
   "metadata": {},
   "outputs": [
    {
     "data": {
      "text/plain": [
       "0.9749804874129351"
      ]
     },
     "execution_count": 7,
     "metadata": {},
     "output_type": "execute_result"
    }
   ],
   "source": [
    "train_score_low = model_low.score(X_train_df, y_train_df) \n",
    "train_score_low"
   ]
  },
  {
   "cell_type": "code",
   "execution_count": 8,
   "id": "b4e6ab38-6eb3-438d-8766-c060c3dc505b",
   "metadata": {},
   "outputs": [
    {
     "data": {
      "text/plain": [
       "0.9659307851315589"
      ]
     },
     "execution_count": 8,
     "metadata": {},
     "output_type": "execute_result"
    }
   ],
   "source": [
    "test_score_low = model_low.score(X_test_df, y_test_df) \n",
    "test_score_low"
   ]
  },
  {
   "cell_type": "code",
   "execution_count": 9,
   "id": "799376fd-18f2-42da-ae02-e86d7e843f03",
   "metadata": {},
   "outputs": [
    {
     "name": "stdout",
     "output_type": "stream",
     "text": [
      "MSE: 47.57\n"
     ]
    }
   ],
   "source": [
    "y_pred_low = model_low.predict(X_test_df)\n",
    "mse = mean_squared_error(y_test_df, y_pred_low)\n",
    "print(\"MSE: %.2f\" % mse)"
   ]
  },
  {
   "cell_type": "code",
   "execution_count": 10,
   "id": "df6471df-83f8-4887-ba32-5b48663bf05d",
   "metadata": {},
   "outputs": [
    {
     "data": {
      "image/png": "[encoded data removed]",
      "text/plain": [
       "<Figure size 640x480 with 1 Axes>"
      ]
     },
     "metadata": {},
     "output_type": "display_data"
    }
   ],
   "source": [
    "x_ax = range(len(y_test_df))\n",
    "plt.plot(x_ax, y_test_df, label=\"original\")\n",
    "plt.plot(x_ax, y_pred_low, label=\"predicted\")\n",
    "plt.title(\"pC02 test and predicted data\")\n",
    "plt.legend()\n",
    "plt.show()"
   ]
  },
  {
   "cell_type": "markdown",
   "id": "74d81b03-3dbc-4bb9-a6b4-53c671923c0a",
   "metadata": {},
   "source": [
    "## Highest Combination of XGB Parameter Matrix"
   ]
  },
  {
   "cell_type": "code",
   "execution_count": null,
   "id": "604736da-5394-4453-85c8-d58c0b3e8d79",
   "metadata": {},
   "outputs": [],
   "source": [
    "model_high = XGBRegressor(n_estimators=5000, max_depth=8)\n",
    "model_high.fit(X_train_df, y_train_df) "
   ]
  },
  {
   "cell_type": "code",
   "execution_count": null,
   "id": "72efd2e8-57dd-4f40-abc7-bfd24f550dec",
   "metadata": {},
   "outputs": [],
   "source": [
    "joblib.dump(model_high, os.path.join(global_model_path,'XGB_prelim_highest_param.h5')) "
   ]
  },
  {
   "cell_type": "code",
   "execution_count": 11,
   "id": "ff71f79e-68c3-42e9-8218-839d9c6aa3f8",
   "metadata": {},
   "outputs": [],
   "source": [
    "model_high = joblib.load(os.path.join(global_model_path,'XGB_prelim_highest_param.h5'))"
   ]
  },
  {
   "cell_type": "code",
   "execution_count": 12,
   "id": "a515d537-945b-4fb3-af59-352bff6ccaed",
   "metadata": {},
   "outputs": [
    {
     "data": {
      "text/plain": [
       "0.9946347122998299"
      ]
     },
     "execution_count": 12,
     "metadata": {},
     "output_type": "execute_result"
    }
   ],
   "source": [
    "train_score_high = model_high.score(X_train_df, y_train_df) \n",
    "train_score_high"
   ]
  },
  {
   "cell_type": "code",
   "execution_count": null,
   "id": "e631bfcb-556e-4f5d-965d-e22ce78827da",
   "metadata": {},
   "outputs": [],
   "source": [
    "test_score_high = model_high.score(X_test_df, y_test_df) \n",
    "test_score_high"
   ]
  },
  {
   "cell_type": "code",
   "execution_count": null,
   "id": "138f7b54-f66e-4397-96ce-841b57e1c04c",
   "metadata": {},
   "outputs": [],
   "source": [
    "y_pred_high = model_high.predict(X_test_df)\n",
    "mse = mean_squared_error(y_test_df, y_pred_high)\n",
    "print(\"MSE: %.2f\" % mse)"
   ]
  },
  {
   "cell_type": "code",
   "execution_count": null,
   "id": "18977537-1d1a-4663-a1f7-1e6b522bb363",
   "metadata": {},
   "outputs": [],
   "source": [
    "x_ax = range(len(y_test_df))\n",
    "plt.plot(x_ax, y_test_df_norm, label=\"original\")\n",
    "plt.plot(x_ax, y_pred_high, label=\"predicted\")\n",
    "plt.title(\"pC02 test and predicted data\")\n",
    "plt.legend()\n",
    "plt.show()"
   ]
  },
  {
   "cell_type": "code",
   "execution_count": null,
   "id": "8a7566b1-e301-4730-8880-9ad12f01358b",
   "metadata": {},
   "outputs": [],
   "source": [
    "# model_high.save_model(os.path.join(global_model_path,'XGB_prelim_highest_param.h5'))"
   ]
  },
  {
   "cell_type": "markdown",
   "id": "f068bf20-b87d-4cbe-ab78-cae59502c050",
   "metadata": {
    "tags": []
   },
   "source": [
    "# XGB Model"
   ]
  },
  {
   "cell_type": "markdown",
   "id": "4c3ca9e3-d7a0-4579-ae7e-c52b9445aa94",
   "metadata": {},
   "source": [
    "## Build XGB Model \n",
    "(based on best parameters found in previous section)"
   ]
  },
  {
   "cell_type": "markdown",
   "id": "5a673ce1-edc9-4eab-8581-d1a885b38aaf",
   "metadata": {},
   "source": [
    "## Train XGB Model"
   ]
  },
  {
   "cell_type": "markdown",
   "id": "247a57ec-bfe5-4260-bdfd-6a5d868837d4",
   "metadata": {},
   "source": [
    "## Save XGB Model"
   ]
  },
  {
   "cell_type": "markdown",
   "id": "0af43622-401c-44cd-8385-782f1bfb4c6e",
   "metadata": {},
   "source": [
    "## Test XBG Model"
   ]
  },
  {
   "cell_type": "markdown",
   "id": "f68f5104-0d54-4e5d-a47e-f798ede4a01a",
   "metadata": {
    "tags": []
   },
   "source": [
    "# For Future Work"
   ]
  },
  {
   "cell_type": "markdown",
   "id": "1285e33f-8a3d-4e05-99ed-923e88ec2875",
   "metadata": {},
   "source": [
    "## Additional Validation Split "
   ]
  },
  {
   "cell_type": "markdown",
   "id": "2103f0e0-3fea-4aaa-b9b0-7c30ec6f1000",
   "metadata": {},
   "source": [
    "*Note: Group does not use this method when test years are used (as I did in processed_data_split.ipynb)*"
   ]
  },
  {
   "cell_type": "markdown",
   "id": "e8aee2d5-61c8-464d-bc46-75b814d5709e",
   "metadata": {},
   "source": [
    "### Group's Version"
   ]
  },
  {
   "cell_type": "markdown",
   "id": "00c8d65a-f85a-4e47-b972-f2a34ca89a2d",
   "metadata": {},
   "source": [
    "#### Train/validate/test split proportions"
   ]
  },
  {
   "cell_type": "code",
   "execution_count": null,
   "id": "31474571-24ca-41bc-880e-4abe8315cc33",
   "metadata": {},
   "outputs": [],
   "source": [
    "# 20% of dataset for validation, 20% of dataset for testing, the rest for training\n",
    "# Training set will be split into validation and another training set\n",
    "\n",
    "val_prop = .2\n",
    "test_prop = .2"
   ]
  },
  {
   "cell_type": "code",
   "execution_count": null,
   "id": "19e5a2dd-2368-4bfc-8bee-20db6e25ae3b",
   "metadata": {},
   "outputs": [],
   "source": [
    "# Splitting the training data into validation and another training set   \n",
    "N = X_train.shape[0]\n",
    "train_val_idx, train_idx, val_idx, test_idx = model_utils.train_val_test_split(N, test_prop, val_prop, random_seeds, seed_loc)\n",
    "X_train_val, X_train, X_val, X_test_tmp, y_train_val, y_train, y_val, y_test_tmp = model_utils.apply_splits(X_train, y_train, train_val_idx, train_idx, val_idx, test_idx) "
   ]
  },
  {
   "cell_type": "markdown",
   "id": "6d39f8e1-fb28-4461-ac85-55f7c75bbd69",
   "metadata": {},
   "source": [
    "## Starting New Version"
   ]
  },
  {
   "cell_type": "code",
   "execution_count": null,
   "id": "91f8a3c6-888c-4349-a852-ba3833f31312",
   "metadata": {},
   "outputs": [],
   "source": [
    "X_minitest = X_df #.to_numpy()\n",
    "y_minitest = y_df #.to_numpy()"
   ]
  },
  {
   "cell_type": "code",
   "execution_count": null,
   "id": "35410fa4-3513-46da-9de7-69c5e1ec74f5",
   "metadata": {},
   "outputs": [],
   "source": [
    "xtrain_minitest, xtest_minitest, ytrain_minitest, ytest_minitest=train_test_split(X_minitest, y_minitest, test_size=0.15)"
   ]
  },
  {
   "cell_type": "code",
   "execution_count": null,
   "id": "dcd24357-3255-4f9a-afe8-2c475980cf23",
   "metadata": {},
   "outputs": [],
   "source": [
    "xtrain_minitest.max()"
   ]
  },
  {
   "cell_type": "code",
   "execution_count": null,
   "id": "513050e4-6e04-4a11-b562-ae7e734bab07",
   "metadata": {},
   "outputs": [],
   "source": [
    "xtrain_minitest"
   ]
  },
  {
   "cell_type": "code",
   "execution_count": null,
   "id": "e2811832-8d7e-457a-bd5c-897440987ac8",
   "metadata": {},
   "outputs": [],
   "source": [
    "XGB_model_minitest = xgb.XGBRegressor(verbosity=0) "
   ]
  },
  {
   "cell_type": "code",
   "execution_count": null,
   "id": "ed2540c5-7376-43d8-ae2e-343695ecc8b5",
   "metadata": {
    "tags": []
   },
   "outputs": [],
   "source": [
    "XGB_model_minitest.fit(xtrain_minitest, ytrain_minitest)"
   ]
  },
  {
   "cell_type": "markdown",
   "id": "75bc6bdb-349b-4c7e-bf61-01b0b3e05ada",
   "metadata": {
    "tags": []
   },
   "source": [
    "# eXtreme Gradient Boosting "
   ]
  },
  {
   "cell_type": "markdown",
   "id": "d3ad4546-8ab0-4083-8db9-8a22a98a8bbb",
   "metadata": {},
   "source": [
    "(to compare performance to other methods from group)"
   ]
  },
  {
   "cell_type": "code",
   "execution_count": null,
   "id": "93d078c8-648e-4337-89c5-8808539a5f97",
   "metadata": {},
   "outputs": [],
   "source": [
    "# For next step of testing new hyperparameters, clear best_params\n",
    "# best_params = {}  # opened above"
   ]
  },
  {
   "cell_type": "code",
   "execution_count": null,
   "id": "5174b327-7c31-47d1-ba93-7459e06a9bd3",
   "metadata": {},
   "outputs": [],
   "source": [
    "# A, B and C represent lon and lat (3 components of the n-vector; so that the algorithm doesn't interpret 0 and 360\n",
    "# degrees to be far apart \n",
    "# T0 and T1 represent time\n",
    "\n",
    "#features_sel = ['SSS','SST','MLD','Chl','XCO2','T0', 'T1','A', 'B', 'C'] \n",
    "#target_sel = ['pCO2'] "
   ]
  },
  {
   "cell_type": "markdown",
   "id": "1b859ca1-fc16-4a8e-9e67-585ae7947ca5",
   "metadata": {},
   "source": [
    "## Building and Training the XGB Model"
   ]
  },
  {
   "cell_type": "code",
   "execution_count": null,
   "id": "3a4561be-a79e-4011-9c6f-aa0b76a58b46",
   "metadata": {},
   "outputs": [],
   "source": [
    "# Number of cores you have access to for model training, group standard:\n",
    "jobs = 30"
   ]
  },
  {
   "cell_type": "markdown",
   "id": "1a6aa460-0e12-43ce-aab9-21130913f6a7",
   "metadata": {},
   "source": [
    "### Create two dictionaries"
   ]
  },
  {
   "cell_type": "code",
   "execution_count": null,
   "id": "33dcf1c8-e2ce-41d8-81d0-6cbde968421a",
   "metadata": {},
   "outputs": [],
   "source": [
    "test_performance = defaultdict(dict)\n",
    "unseen_performance = defaultdict(dict)"
   ]
  },
  {
   "cell_type": "markdown",
   "id": "239ccc10-6a9e-4145-b253-4172b8e74c85",
   "metadata": {
    "tags": []
   },
   "source": [
    "### XGB-Specific Inputs"
   ]
  },
  {
   "cell_type": "code",
   "execution_count": null,
   "id": "c335086e-79de-4ffd-bafe-cadda5f609d7",
   "metadata": {},
   "outputs": [],
   "source": [
    "# K_folds: cross validation; number of splits for training set (in this case 3 splits; see below)\n",
    "# Train on the first split, test on the remaining 2. Total 3 numbers for the final RMSE\n",
    "\n",
    "K_folds = 3       # Split training set into 3 parts\n",
    "approach = \"xg\"   # XGB approach\n",
    "#first_mem = False # Initialize if using gridsearch to find best_params"
   ]
  },
  {
   "cell_type": "code",
   "execution_count": null,
   "id": "a605d100-f504-45bd-a9a7-40d54db20498",
   "metadata": {},
   "outputs": [],
   "source": [
    "# model: define which approach to use\n",
    "# param_grid: the n_estimators (decision trees) and depths\n",
    "# GridSearchCV: applying the K-fold cross validation\n",
    "# first_mem = False: checks only the best params for first_mem (and not all members). For the next members, the  \n",
    "# parameters from first_mem are re-used\n",
    "# you could try to find the best params for a few members (but not all of them)\n",
    "# 9 possible combinations (3 different n_estimators, 3 different max depths) x 3 (K-fold; 3 training sets)\n",
    "if first_mem:\n",
    "            model = XGBRegressor(random_state=random_seeds[4,seed_loc], n_jobs=jobs)\n",
    "            param_grid = xg_param_grid\n",
    "            grid = GridSearchCV(model, param_grid, scoring='neg_mean_squared_error', cv=K_folds, return_train_score=False, refit=False)\n",
    "            grid.fit(X_train_val, y_train_val)\n",
    "            best_params[ens] = grid.best_params_\n",
    "            print(best_params)\n",
    "            first_mem = False"
   ]
  },
  {
   "cell_type": "code",
   "execution_count": null,
   "id": "0ed2a8a8-b2ff-4db8-960f-d3083707ddf6",
   "metadata": {},
   "outputs": [],
   "source": [
    "model = XGBRegressor(random_state=random_seeds[4,seed_loc], n_jobs=jobs)\n",
    "param_grid = xg_param_grid\n",
    "grid = GridSearchCV(model, param_grid, scoring='neg_mean_squared_error', cv=K_folds, return_train_score=False, refit=False)\n",
    "grid.fit(X_train, y_train)\n",
    "best_params[ens] = grid.best_params_\n",
    "print(best_params)"
   ]
  },
  {
   "cell_type": "markdown",
   "id": "a3e418d5-98b5-4c7f-9f07-7e725ec11a34",
   "metadata": {},
   "source": [
    "### Train the XBG model"
   ]
  },
  {
   "cell_type": "code",
   "execution_count": null,
   "id": "68372057-6ec0-4130-b691-8f6eee9b2d72",
   "metadata": {},
   "outputs": [],
   "source": [
    "model = XGBRegressor(random_state=random_seeds[5,seed_loc], **best_params[ens], n_jobs=jobs)\n",
    "model.fit(X_train_val, y_train_val) "
   ]
  },
  {
   "cell_type": "markdown",
   "id": "3eefd2b9-8e53-4592-8447-deb80acd5eb5",
   "metadata": {},
   "source": [
    "### Save the XBG model"
   ]
  },
  {
   "cell_type": "code",
   "execution_count": null,
   "id": "2d270f81-95e3-4340-b4e6-312a5b853547",
   "metadata": {},
   "outputs": [],
   "source": [
    "#Uncomment when actually running\n",
    "\n",
    "# pre_saildrone now called utils, carry through this change\n",
    "utils.save_model(model, model_output_dir, approach, ens, member)\n",
    "print(datetime.datetime.now())\n",
    "print(ens)\n",
    "print(member)"
   ]
  },
  {
   "cell_type": "code",
   "execution_count": null,
   "id": "a753ff10-7234-42c1-b909-2efb8f95abcd",
   "metadata": {},
   "outputs": [],
   "source": []
  },
  {
   "cell_type": "markdown",
   "id": "7cf1228a-c2b7-4c40-bf4e-15c7fb89e18d",
   "metadata": {
    "tags": []
   },
   "source": [
    "## Test the XGB Model"
   ]
  },
  {
   "cell_type": "markdown",
   "id": "5d7939f4-a636-40fb-99b0-ba0b672356ca",
   "metadata": {},
   "source": [
    "### Preliminary Analysis on XBG Test Error Metrics"
   ]
  },
  {
   "cell_type": "code",
   "execution_count": null,
   "id": "9c896294-3fc1-4646-b806-6325024309ce",
   "metadata": {},
   "outputs": [],
   "source": [
    "# Calculate some test error metrics and store in a dictionary\n",
    "# evaluate_test is a function from pre_saildrone. it includes MSE, MAE, bias etc\n",
    "\n",
    "y_pred_test = model.predict(X_test)\n",
    "\n",
    "test_performance[ens][member] = utils.evaluate_test(y_test, y_pred_test)\n",
    "print(test_performance[ens][member])"
   ]
  },
  {
   "cell_type": "code",
   "execution_count": null,
   "id": "a40ada10-0949-4490-8ffa-835c8c2d752b",
   "metadata": {},
   "outputs": [],
   "source": [
    "# Redo this analysis on the unseen data\n",
    "y_pred_unseen = model.predict(df.loc[unseen_sel,features_sel].to_numpy())\n",
    "\n",
    "y_unseen = df.loc[unseen_sel,target_sel].to_numpy().ravel()\n",
    "unseen_performance[ens][member] = utils.evaluate_test(y_unseen, y_pred_unseen)\n",
    "print(unseen_performance[ens][member])"
   ]
  },
  {
   "cell_type": "markdown",
   "id": "e58a42e6-f71c-4a4d-bcf6-05c06cdb7ed9",
   "metadata": {},
   "source": [
    "## Create the reconstruction"
   ]
  },
  {
   "cell_type": "code",
   "execution_count": null,
   "id": "2052448e-6953-4b26-9624-a73cccfd323c",
   "metadata": {},
   "outputs": [],
   "source": [
    "# Create the reconstruction and save it\n",
    "# Jake calls it seen\n",
    "# This should just be all SOCAT locations for all training years (not test years)\n",
    "y_pred_seen = model.predict(X)"
   ]
  },
  {
   "cell_type": "code",
   "execution_count": null,
   "id": "513ed4e3-ef33-4b4d-bdc1-52f1d9729020",
   "metadata": {},
   "outputs": [],
   "source": [
    "# Full reconstruction \n",
    "df['pCO2_DIC_recon'] = np.nan\n",
    "df.loc[unseen_sel,['pCO2_DIC_recon']] = y_pred_unseen   # Not in a SOCAT location, not even in test year\n",
    "df.loc[sel,['pCO2_DIC_recon']] = y_pred_seen"
   ]
  },
  {
   "cell_type": "code",
   "execution_count": null,
   "id": "2358cbb0-77cf-473d-851e-aac9731ad12d",
   "metadata": {},
   "outputs": [],
   "source": [
    "# All time/locations not sampled by SOCAT\n",
    "df['pCO2_DIC_nosocat'] = np.nan\n",
    "df.loc[unseen_sel,['pCO2_DIC_nosocat']] = y_pred_unseen\n",
    "df.loc[sel,['pCO2_DIC_nosocat']] = np.nan"
   ]
  },
  {
   "cell_type": "code",
   "execution_count": null,
   "id": "4340f160-9f1c-43b5-884c-b89b0d731d4f",
   "metadata": {},
   "outputs": [],
   "source": [
    "# Only at time/locations of SOCAT sampling\n",
    "df['pCO2_DIC_socat'] = np.nan\n",
    "df.loc[unseen_sel,['pCO2_DIC_socat']] = np.nan\n",
    "df.loc[sel,['pCO2_DIC_socat']] = y_pred_seen\n",
    "     \n",
    "df['pCO2_DIC'] = df['pCO2_pCO2T_diff']\n",
    "             \n",
    "#DS_recon = df[['net_mask','socat_mask','pCO2_DIC','pCO2_DIC_recon','pCO2_DIC_socat','pCO2_DIC_nosocat']].to_xarray()\n",
    "DS_recon = df[['net_mask','combined_mask','pCO2_DIC','pCO2_DIC_recon','pCO2_DIC_socat','pCO2_DIC_nosocat']].to_xarray()"
   ]
  },
  {
   "cell_type": "markdown",
   "id": "b0228e59-170a-44b9-9e8d-d19497b459ba",
   "metadata": {
    "tags": []
   },
   "source": [
    "## Save reconstructions"
   ]
  },
  {
   "cell_type": "code",
   "execution_count": null,
   "id": "a9d0306d-5e20-42da-abf8-45b6452570d0",
   "metadata": {},
   "outputs": [],
   "source": [
    "# Uncomment when actually running            \n",
    "#pre_saildrone_thea.save_recon(DS_recon, recon_output_dir, approach, ens, member)   "
   ]
  },
  {
   "cell_type": "markdown",
   "id": "b8577729-ce28-40b5-a58a-dab22f4398e9",
   "metadata": {
    "tags": []
   },
   "source": [
    "## Save best parameters and performance metrics"
   ]
  },
  {
   "cell_type": "code",
   "execution_count": null,
   "id": "ef554ad3-d62d-4d07-ad17-887eeac70403",
   "metadata": {},
   "outputs": [],
   "source": [
    "# Saving best parameters and performance metrics\n",
    "\n",
    "approach_output_dir = f\"{other_output_dir}/{approach}\"\n",
    "param_fname = f\"{approach_output_dir}/{approach}_best_params_dict.pickle\"\n",
    "test_perform_fname = f\"{approach_output_dir}/{approach}_test_performance_dict.pickle\"\n",
    "unseen_perform_fname = f\"{approach_output_dir}/{approach}_unseen_performance_dict.pickle\"\n",
    "\n",
    "Path(approach_output_dir).mkdir(parents=True, exist_ok=True)\n",
    "\n",
    "with open(param_fname, 'wb') as handle: #WHAT DOES wb MEAN\n",
    "    pickle.dump(best_params, handle, protocol=pickle.HIGHEST_PROTOCOL)\n",
    "with open(test_perform_fname, 'wb') as handle:\n",
    "    pickle.dump(test_performance, handle)\n",
    "with open(unseen_perform_fname, 'wb') as handle:\n",
    "    pickle.dump(unseen_performance, handle)\n",
    "    \n",
    "# Convert performance metrics to dataframes\n",
    "test_df = pd.DataFrame.from_dict({(i,j): test_performance[i][j]\n",
    "                                  for i in test_performance.keys()\n",
    "                                  for j in test_performance[i].keys()},\n",
    "                                 orient='index')\n",
    "\n",
    "unseen_df = pd.DataFrame.from_dict({(i,j): unseen_performance[i][j]\n",
    "                                  for i in unseen_performance.keys()\n",
    "                                  for j in unseen_performance[i].keys()},\n",
    "                                 orient='index')\n",
    "\n",
    "test_df.index.names = [\"model\",\"member\"]\n",
    "unseen_df.index.names = [\"model\",\"member\"]\n",
    "\n",
    "# Save the dataframes too\n",
    "test_df_fname = f\"{approach_output_dir}/{approach}_test_performance_df.pickle\"\n",
    "unseen_df_fname = f\"{approach_output_dir}/{approach}_unseen_performance_df.pickle\"\n",
    "\n",
    "test_df.to_pickle(test_df_fname)\n",
    "unseen_df.to_pickle(unseen_df_fname)    "
   ]
  },
  {
   "cell_type": "code",
   "execution_count": null,
   "id": "958183d4-aedf-4a16-8e42-182080456877",
   "metadata": {},
   "outputs": [],
   "source": []
  },
  {
   "cell_type": "code",
   "execution_count": null,
   "id": "fd061ac1-4b01-4871-8a34-b5ae2d7f7364",
   "metadata": {},
   "outputs": [],
   "source": []
  },
  {
   "cell_type": "code",
   "execution_count": null,
   "id": "f1e3eb81-9636-47cb-9897-639b812646b9",
   "metadata": {},
   "outputs": [],
   "source": []
  },
  {
   "cell_type": "code",
   "execution_count": null,
   "id": "68a98afb-ef0e-4371-b658-03a6c9c076ad",
   "metadata": {},
   "outputs": [],
   "source": [
    "#just checking what the saved trained datafiles look like \n",
    "test_2 = pd.read_pickle(\"/data/artemis/workspace/theimdal/saildrone/models/trained/xg/CESM/member_016/xg_model_pC02_2D_mon_CESM_016_1x1_198201-201701.joblib\")"
   ]
  },
  {
   "cell_type": "code",
   "execution_count": null,
   "id": "132e386a-0d9e-4965-97b3-378fd9ab13c9",
   "metadata": {},
   "outputs": [],
   "source": [
    "test_2"
   ]
  },
  {
   "cell_type": "code",
   "execution_count": null,
   "id": "b0786f53-4477-4fdb-b643-d94adb6e2a53",
   "metadata": {},
   "outputs": [],
   "source": [
    "#checking out what the input data for the XGB looks like\n",
    "#this table was generated in script 01\n",
    "df"
   ]
  },
  {
   "cell_type": "code",
   "execution_count": null,
   "id": "90e4069f-7878-462b-965c-2adbad08dba1",
   "metadata": {},
   "outputs": [],
   "source": []
  }
 ],
 "metadata": {
  "kernelspec": {
   "display_name": "fromML",
   "language": "python",
   "name": "fromml"
  },
  "language_info": {
   "codemirror_mode": {
    "name": "ipython",
    "version": 3
   },
   "file_extension": ".py",
   "mimetype": "text/x-python",
   "name": "python",
   "nbconvert_exporter": "python",
   "pygments_lexer": "ipython3",
   "version": "3.9.13"
  }
 },
 "nbformat": 4,
 "nbformat_minor": 5
}
