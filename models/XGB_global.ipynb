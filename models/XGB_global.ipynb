{
 "cells": [
  {
   "cell_type": "markdown",
   "id": "61256f5b-372e-4293-8b48-5aef80582b09",
   "metadata": {},
   "source": [
    "# eXtreme Gradient Boosting (XGB) Model, Trained Globally"
   ]
  },
  {
   "cell_type": "code",
   "execution_count": 19,
   "id": "a3d4a327-8cd7-44a4-8dd8-42408dbdf992",
   "metadata": {},
   "outputs": [],
   "source": [
    "# Standard imports\n",
    "import os\n",
    "import datetime\n",
    "from pathlib import Path\n",
    "from collections import defaultdict\n",
    "import scipy\n",
    "import random\n",
    "import numpy as np\n",
    "import xarray as xr\n",
    "import pandas as pd\n",
    "import matplotlib.pyplot as plt\n",
    "import joblib\n",
    "import pickle\n",
    "\n",
    "# Machine learning libraries\n",
    "import sklearn            # machine-learning libary with many algorithms implemented\n",
    "import xgboost as xgb     # extreme gradient boosting (XGB)\n",
    "from xgboost import XGBRegressor\n",
    "from sklearn.model_selection import train_test_split, GridSearchCV, cross_val_score\n",
    "from sklearn.metrics import mean_squared_error\n",
    "\n",
    "import tensorflow as tf\n",
    "from tensorflow import keras\n",
    "from tensorflow.keras.models import Model, load_model\n",
    "\n",
    "# Python file with supporting functions\n",
    "import model_utils"
   ]
  },
  {
   "cell_type": "code",
   "execution_count": 20,
   "id": "d896ed9b-9566-45dc-be2c-8e9eae5f031e",
   "metadata": {},
   "outputs": [],
   "source": [
    "global_model_path = '/home/julias/MLEE-final-project/models/saved_models/global_models'"
   ]
  },
  {
   "cell_type": "markdown",
   "id": "0cfdfe9d-9b70-4498-af7c-a674e284d048",
   "metadata": {
    "tags": []
   },
   "source": [
    "### To Set and Track Seeds for Reproducibility (Referencing Group Standard):"
   ]
  },
  {
   "cell_type": "code",
   "execution_count": 21,
   "id": "acb1ca43-1510-45a1-a93a-1c2665b35952",
   "metadata": {},
   "outputs": [],
   "source": [
    "ens = 'CESM'\n",
    "member = '009'\n",
    "reference_output_dir = '/home/julias/MLEE-final-project/pickle_files'\n",
    "\n",
    "path_seeds = f'{reference_output_dir}/random_seeds.npy'\n",
    "random_seeds = np.load(path_seeds)  \n",
    "\n",
    "path_loc = f'{reference_output_dir}/cesm_seed_loc_dict.pickle'\n",
    "with open(path_loc,'rb') as handle:\n",
    "    seed_loc_dict = pickle.load(handle)\n",
    "seed_loc = seed_loc_dict[ens][member]\n",
    "\n",
    "# for next project, where train and test datasets use all CESM members\n",
    "#path_cesm = f\"{reference_output_dir}/cesm_members_dict.pickle\"\n",
    "#with open(path_cesm,'rb') as handle:\n",
    "#    cesm_mems_dict = pickle.load(handle)"
   ]
  },
  {
   "cell_type": "code",
   "execution_count": 22,
   "id": "f4bbf3be-038e-40c4-8249-a053077c769b",
   "metadata": {},
   "outputs": [],
   "source": [
    "# random_seeds"
   ]
  },
  {
   "cell_type": "code",
   "execution_count": 23,
   "id": "bf69a920-5995-4ec7-a297-d89b5aecfd79",
   "metadata": {},
   "outputs": [],
   "source": [
    "# seed_loc_dict # using CESM 009, so seed_loc should be 32"
   ]
  },
  {
   "cell_type": "code",
   "execution_count": 24,
   "id": "2d866f5e-f197-44bd-81dc-2c06c9b054d8",
   "metadata": {},
   "outputs": [],
   "source": [
    "# seed_loc #confirmed 32"
   ]
  },
  {
   "cell_type": "markdown",
   "id": "0058f0b5-1738-4b99-90d8-cec14106e72e",
   "metadata": {
    "tags": []
   },
   "source": [
    "# Load Split Datasets and Create Versions for Experimentation"
   ]
  },
  {
   "cell_type": "markdown",
   "id": "f6d4a848-9685-4287-b171-67367bae969e",
   "metadata": {},
   "source": [
    "## Load Split Datasets"
   ]
  },
  {
   "cell_type": "code",
   "execution_count": 25,
   "id": "57ab1920-2888-423e-a973-1ce049de6055",
   "metadata": {},
   "outputs": [],
   "source": [
    "X_df = xr.open_dataset('/home/julias/MLEE-final-project/proc_data/global_split_datasets/X.nc').to_dataframe().dropna()\n",
    "y_df = xr.open_dataset('/home/julias/MLEE-final-project/proc_data/global_split_datasets/y.nc').to_dataframe().dropna() \n",
    "X_train_df = xr.open_dataset('/home/julias/MLEE-final-project/proc_data/global_split_datasets/X_train.nc').to_dataframe().dropna() \n",
    "y_train_df = xr.open_dataset('/home/julias/MLEE-final-project/proc_data/global_split_datasets/y_train.nc').to_dataframe().dropna()\n",
    "X_test_df = xr.open_dataset('/home/julias/MLEE-final-project/proc_data/global_split_datasets/X_test.nc').to_dataframe().dropna() \n",
    "y_test_df = xr.open_dataset('/home/julias/MLEE-final-project/proc_data/global_split_datasets/y_test.nc').to_dataframe().dropna() "
   ]
  },
  {
   "cell_type": "markdown",
   "id": "3bbb5399-0ea5-4f94-9b57-4fbd075014b5",
   "metadata": {},
   "source": [
    "Check that data was saved and loaded properly:"
   ]
  },
  {
   "cell_type": "code",
   "execution_count": 26,
   "id": "ea82734c-940d-408b-b025-a189f634c3ea",
   "metadata": {},
   "outputs": [
    {
     "data": {
      "text/html": [
       "<div>\n",
       "<style scoped>\n",
       "    .dataframe tbody tr th:only-of-type {\n",
       "        vertical-align: middle;\n",
       "    }\n",
       "\n",
       "    .dataframe tbody tr th {\n",
       "        vertical-align: top;\n",
       "    }\n",
       "\n",
       "    .dataframe thead th {\n",
       "        text-align: right;\n",
       "    }\n",
       "</style>\n",
       "<table border=\"1\" class=\"dataframe\">\n",
       "  <thead>\n",
       "    <tr style=\"text-align: right;\">\n",
       "      <th></th>\n",
       "      <th></th>\n",
       "      <th></th>\n",
       "      <th>SSS</th>\n",
       "      <th>SST</th>\n",
       "      <th>MLD</th>\n",
       "      <th>Chl</th>\n",
       "      <th>XCO2</th>\n",
       "      <th>T0</th>\n",
       "      <th>T1</th>\n",
       "      <th>A</th>\n",
       "      <th>B</th>\n",
       "      <th>C</th>\n",
       "    </tr>\n",
       "    <tr>\n",
       "      <th>xlon</th>\n",
       "      <th>ylat</th>\n",
       "      <th>time</th>\n",
       "      <th></th>\n",
       "      <th></th>\n",
       "      <th></th>\n",
       "      <th></th>\n",
       "      <th></th>\n",
       "      <th></th>\n",
       "      <th></th>\n",
       "      <th></th>\n",
       "      <th></th>\n",
       "      <th></th>\n",
       "    </tr>\n",
       "  </thead>\n",
       "  <tbody>\n",
       "    <tr>\n",
       "      <th rowspan=\"5\" valign=\"top\">-179.5</th>\n",
       "      <th rowspan=\"5\" valign=\"top\">-77.5</th>\n",
       "      <th>1982-03-15</th>\n",
       "      <td>33.997498</td>\n",
       "      <td>0.640288</td>\n",
       "      <td>26.234657</td>\n",
       "      <td>0.331255</td>\n",
       "      <td>340.962250</td>\n",
       "      <td>0.292600</td>\n",
       "      <td>0.956235</td>\n",
       "      <td>-0.976296</td>\n",
       "      <td>-0.001889</td>\n",
       "      <td>0.216431</td>\n",
       "    </tr>\n",
       "    <tr>\n",
       "      <th>1982-04-15</th>\n",
       "      <td>34.180756</td>\n",
       "      <td>-1.755514</td>\n",
       "      <td>59.944748</td>\n",
       "      <td>0.641632</td>\n",
       "      <td>341.075439</td>\n",
       "      <td>-0.234491</td>\n",
       "      <td>0.972118</td>\n",
       "      <td>-0.976296</td>\n",
       "      <td>-0.001889</td>\n",
       "      <td>0.216431</td>\n",
       "    </tr>\n",
       "    <tr>\n",
       "      <th>1982-05-15</th>\n",
       "      <td>34.445652</td>\n",
       "      <td>-1.776272</td>\n",
       "      <td>220.441910</td>\n",
       "      <td>0.057961</td>\n",
       "      <td>341.193176</td>\n",
       "      <td>-0.683919</td>\n",
       "      <td>0.729558</td>\n",
       "      <td>-0.976296</td>\n",
       "      <td>-0.001889</td>\n",
       "      <td>0.216431</td>\n",
       "    </tr>\n",
       "    <tr>\n",
       "      <th>1982-06-15</th>\n",
       "      <td>34.508339</td>\n",
       "      <td>-1.809904</td>\n",
       "      <td>381.795532</td>\n",
       "      <td>0.017642</td>\n",
       "      <td>341.310730</td>\n",
       "      <td>-0.959933</td>\n",
       "      <td>0.280231</td>\n",
       "      <td>-0.976296</td>\n",
       "      <td>-0.001889</td>\n",
       "      <td>0.216431</td>\n",
       "    </tr>\n",
       "    <tr>\n",
       "      <th>1982-08-15</th>\n",
       "      <td>34.562683</td>\n",
       "      <td>-1.823900</td>\n",
       "      <td>429.841278</td>\n",
       "      <td>0.005047</td>\n",
       "      <td>341.545685</td>\n",
       "      <td>-0.720667</td>\n",
       "      <td>-0.693281</td>\n",
       "      <td>-0.976296</td>\n",
       "      <td>-0.001889</td>\n",
       "      <td>0.216431</td>\n",
       "    </tr>\n",
       "    <tr>\n",
       "      <th>...</th>\n",
       "      <th>...</th>\n",
       "      <th>...</th>\n",
       "      <td>...</td>\n",
       "      <td>...</td>\n",
       "      <td>...</td>\n",
       "      <td>...</td>\n",
       "      <td>...</td>\n",
       "      <td>...</td>\n",
       "      <td>...</td>\n",
       "      <td>...</td>\n",
       "      <td>...</td>\n",
       "      <td>...</td>\n",
       "    </tr>\n",
       "    <tr>\n",
       "      <th rowspan=\"5\" valign=\"top\">179.5</th>\n",
       "      <th rowspan=\"5\" valign=\"top\">62.5</th>\n",
       "      <th>1996-01-15</th>\n",
       "      <td>32.590897</td>\n",
       "      <td>-1.597806</td>\n",
       "      <td>27.985397</td>\n",
       "      <td>0.074352</td>\n",
       "      <td>361.389465</td>\n",
       "      <td>0.966848</td>\n",
       "      <td>0.255353</td>\n",
       "      <td>0.887011</td>\n",
       "      <td>0.004029</td>\n",
       "      <td>0.461731</td>\n",
       "    </tr>\n",
       "    <tr>\n",
       "      <th>1998-12-15</th>\n",
       "      <td>32.283058</td>\n",
       "      <td>0.631731</td>\n",
       "      <td>25.075340</td>\n",
       "      <td>0.897956</td>\n",
       "      <td>367.086853</td>\n",
       "      <td>0.962309</td>\n",
       "      <td>-0.271958</td>\n",
       "      <td>0.887011</td>\n",
       "      <td>0.004029</td>\n",
       "      <td>0.461731</td>\n",
       "    </tr>\n",
       "    <tr>\n",
       "      <th>1999-12-15</th>\n",
       "      <td>32.390461</td>\n",
       "      <td>0.080004</td>\n",
       "      <td>26.077244</td>\n",
       "      <td>0.703162</td>\n",
       "      <td>368.669678</td>\n",
       "      <td>0.962309</td>\n",
       "      <td>-0.271958</td>\n",
       "      <td>0.887011</td>\n",
       "      <td>0.004029</td>\n",
       "      <td>0.461731</td>\n",
       "    </tr>\n",
       "    <tr>\n",
       "      <th>2010-02-15</th>\n",
       "      <td>32.757904</td>\n",
       "      <td>-1.240300</td>\n",
       "      <td>27.023640</td>\n",
       "      <td>0.085494</td>\n",
       "      <td>389.416168</td>\n",
       "      <td>0.702527</td>\n",
       "      <td>0.711657</td>\n",
       "      <td>0.887011</td>\n",
       "      <td>0.004029</td>\n",
       "      <td>0.461731</td>\n",
       "    </tr>\n",
       "    <tr>\n",
       "      <th>2011-12-15</th>\n",
       "      <td>32.434753</td>\n",
       "      <td>0.346877</td>\n",
       "      <td>24.999208</td>\n",
       "      <td>0.672751</td>\n",
       "      <td>393.703278</td>\n",
       "      <td>0.962309</td>\n",
       "      <td>-0.271958</td>\n",
       "      <td>0.887011</td>\n",
       "      <td>0.004029</td>\n",
       "      <td>0.461731</td>\n",
       "    </tr>\n",
       "  </tbody>\n",
       "</table>\n",
       "<p>11865574 rows × 10 columns</p>\n",
       "</div>"
      ],
      "text/plain": [
       "                               SSS       SST         MLD       Chl  \\\n",
       "xlon   ylat  time                                                    \n",
       "-179.5 -77.5 1982-03-15  33.997498  0.640288   26.234657  0.331255   \n",
       "             1982-04-15  34.180756 -1.755514   59.944748  0.641632   \n",
       "             1982-05-15  34.445652 -1.776272  220.441910  0.057961   \n",
       "             1982-06-15  34.508339 -1.809904  381.795532  0.017642   \n",
       "             1982-08-15  34.562683 -1.823900  429.841278  0.005047   \n",
       "...                            ...       ...         ...       ...   \n",
       " 179.5  62.5 1996-01-15  32.590897 -1.597806   27.985397  0.074352   \n",
       "             1998-12-15  32.283058  0.631731   25.075340  0.897956   \n",
       "             1999-12-15  32.390461  0.080004   26.077244  0.703162   \n",
       "             2010-02-15  32.757904 -1.240300   27.023640  0.085494   \n",
       "             2011-12-15  32.434753  0.346877   24.999208  0.672751   \n",
       "\n",
       "                               XCO2        T0        T1         A         B  \\\n",
       "xlon   ylat  time                                                             \n",
       "-179.5 -77.5 1982-03-15  340.962250  0.292600  0.956235 -0.976296 -0.001889   \n",
       "             1982-04-15  341.075439 -0.234491  0.972118 -0.976296 -0.001889   \n",
       "             1982-05-15  341.193176 -0.683919  0.729558 -0.976296 -0.001889   \n",
       "             1982-06-15  341.310730 -0.959933  0.280231 -0.976296 -0.001889   \n",
       "             1982-08-15  341.545685 -0.720667 -0.693281 -0.976296 -0.001889   \n",
       "...                             ...       ...       ...       ...       ...   \n",
       " 179.5  62.5 1996-01-15  361.389465  0.966848  0.255353  0.887011  0.004029   \n",
       "             1998-12-15  367.086853  0.962309 -0.271958  0.887011  0.004029   \n",
       "             1999-12-15  368.669678  0.962309 -0.271958  0.887011  0.004029   \n",
       "             2010-02-15  389.416168  0.702527  0.711657  0.887011  0.004029   \n",
       "             2011-12-15  393.703278  0.962309 -0.271958  0.887011  0.004029   \n",
       "\n",
       "                                C  \n",
       "xlon   ylat  time                  \n",
       "-179.5 -77.5 1982-03-15  0.216431  \n",
       "             1982-04-15  0.216431  \n",
       "             1982-05-15  0.216431  \n",
       "             1982-06-15  0.216431  \n",
       "             1982-08-15  0.216431  \n",
       "...                           ...  \n",
       " 179.5  62.5 1996-01-15  0.461731  \n",
       "             1998-12-15  0.461731  \n",
       "             1999-12-15  0.461731  \n",
       "             2010-02-15  0.461731  \n",
       "             2011-12-15  0.461731  \n",
       "\n",
       "[11865574 rows x 10 columns]"
      ]
     },
     "execution_count": 26,
     "metadata": {},
     "output_type": "execute_result"
    }
   ],
   "source": [
    "X_train_df"
   ]
  },
  {
   "cell_type": "code",
   "execution_count": 27,
   "id": "203ffe19-2966-43b9-95e0-61523faac91d",
   "metadata": {},
   "outputs": [
    {
     "data": {
      "text/html": [
       "<div>\n",
       "<style scoped>\n",
       "    .dataframe tbody tr th:only-of-type {\n",
       "        vertical-align: middle;\n",
       "    }\n",
       "\n",
       "    .dataframe tbody tr th {\n",
       "        vertical-align: top;\n",
       "    }\n",
       "\n",
       "    .dataframe thead th {\n",
       "        text-align: right;\n",
       "    }\n",
       "</style>\n",
       "<table border=\"1\" class=\"dataframe\">\n",
       "  <thead>\n",
       "    <tr style=\"text-align: right;\">\n",
       "      <th></th>\n",
       "      <th></th>\n",
       "      <th></th>\n",
       "      <th>pCO2</th>\n",
       "    </tr>\n",
       "    <tr>\n",
       "      <th>xlon</th>\n",
       "      <th>ylat</th>\n",
       "      <th>time</th>\n",
       "      <th></th>\n",
       "    </tr>\n",
       "  </thead>\n",
       "  <tbody>\n",
       "    <tr>\n",
       "      <th rowspan=\"5\" valign=\"top\">-179.5</th>\n",
       "      <th rowspan=\"5\" valign=\"top\">-77.5</th>\n",
       "      <th>1982-02-15</th>\n",
       "      <td>165.219524</td>\n",
       "    </tr>\n",
       "    <tr>\n",
       "      <th>1982-07-15</th>\n",
       "      <td>332.735048</td>\n",
       "    </tr>\n",
       "    <tr>\n",
       "      <th>1982-12-15</th>\n",
       "      <td>150.877219</td>\n",
       "    </tr>\n",
       "    <tr>\n",
       "      <th>1983-05-15</th>\n",
       "      <td>311.177084</td>\n",
       "    </tr>\n",
       "    <tr>\n",
       "      <th>1983-10-15</th>\n",
       "      <td>338.556662</td>\n",
       "    </tr>\n",
       "    <tr>\n",
       "      <th>...</th>\n",
       "      <th>...</th>\n",
       "      <th>...</th>\n",
       "      <td>...</td>\n",
       "    </tr>\n",
       "    <tr>\n",
       "      <th rowspan=\"5\" valign=\"top\">179.5</th>\n",
       "      <th rowspan=\"5\" valign=\"top\">62.5</th>\n",
       "      <th>1985-01-15</th>\n",
       "      <td>380.706079</td>\n",
       "    </tr>\n",
       "    <tr>\n",
       "      <th>1987-02-15</th>\n",
       "      <td>391.417257</td>\n",
       "    </tr>\n",
       "    <tr>\n",
       "      <th>1990-01-15</th>\n",
       "      <td>431.635894</td>\n",
       "    </tr>\n",
       "    <tr>\n",
       "      <th>1992-12-15</th>\n",
       "      <td>406.267746</td>\n",
       "    </tr>\n",
       "    <tr>\n",
       "      <th>2010-01-15</th>\n",
       "      <td>468.311163</td>\n",
       "    </tr>\n",
       "  </tbody>\n",
       "</table>\n",
       "<p>2966454 rows × 1 columns</p>\n",
       "</div>"
      ],
      "text/plain": [
       "                               pCO2\n",
       "xlon   ylat  time                  \n",
       "-179.5 -77.5 1982-02-15  165.219524\n",
       "             1982-07-15  332.735048\n",
       "             1982-12-15  150.877219\n",
       "             1983-05-15  311.177084\n",
       "             1983-10-15  338.556662\n",
       "...                             ...\n",
       " 179.5  62.5 1985-01-15  380.706079\n",
       "             1987-02-15  391.417257\n",
       "             1990-01-15  431.635894\n",
       "             1992-12-15  406.267746\n",
       "             2010-01-15  468.311163\n",
       "\n",
       "[2966454 rows x 1 columns]"
      ]
     },
     "execution_count": 27,
     "metadata": {},
     "output_type": "execute_result"
    }
   ],
   "source": [
    "y_test_df"
   ]
  },
  {
   "cell_type": "markdown",
   "id": "4418974d-e80c-4d2c-b70d-78f734381d4f",
   "metadata": {},
   "source": [
    "### Create Numpy Arrays for Original Data"
   ]
  },
  {
   "cell_type": "code",
   "execution_count": 43,
   "id": "c2aabead-f42b-4a6a-ae05-9a6382256181",
   "metadata": {},
   "outputs": [],
   "source": [
    "X_original = X_df.to_numpy()         \n",
    "y_original = y_df.to_numpy().ravel() \n",
    "X_train_original = X_train_df.to_numpy() \n",
    "y_train_original = y_train_df.to_numpy().ravel()\n",
    "X_test_original = X_test_df.to_numpy()  \n",
    "y_test_original = y_test_df.to_numpy().ravel()"
   ]
  },
  {
   "cell_type": "markdown",
   "id": "b281dbd2-4299-4be7-86b1-101e3df681cf",
   "metadata": {},
   "source": [
    "## Create Normalized Dataframes"
   ]
  },
  {
   "cell_type": "markdown",
   "id": "26996ba2-d2f3-4a15-86f3-b36b0f3dbe3a",
   "metadata": {},
   "source": [
    "*Note: Done here, as opposed to in test/train split, so that I can save the original train/test datasets and later determine whether normalization led to improvement. (My group has not historically normalized data before training.)*"
   ]
  },
  {
   "cell_type": "code",
   "execution_count": null,
   "id": "813b669d-15d4-4656-b599-b1c3d20cb670",
   "metadata": {
    "tags": []
   },
   "outputs": [],
   "source": [
    "#X_df_norm = (X_df - X_df.mean())/X_df.std() \n",
    "#y_df_norm = (y_df - y_df.mean())/y_df.std()\n",
    "#X_train_df_norm = (X_train_df - X_train_df.mean())/X_train_df.std()\n",
    "#y_train_df_norm = (y_train_df - y_train_df.mean())/y_train_df.std()\n",
    "#X_test_df_norm = (X_test_df - X_test_df.mean())/X_test_df.std()\n",
    "#y_test_df_norm = (y_test_df - y_test_df.mean())/y_test_df.std()"
   ]
  },
  {
   "cell_type": "markdown",
   "id": "fed19701-6203-4698-8dd4-f14f116f62d1",
   "metadata": {},
   "source": [
    "CHANGE METHOD TO BELOW\n",
    "- This way, time and lat/lon conversions are not normalized\n",
    "- Note that coordinates don't seem to be input into ML algorithms, so T0,T1,A,B,C are the inputs of time and space (as would want, don't want two forms of time and space input)"
   ]
  },
  {
   "cell_type": "code",
   "execution_count": 49,
   "id": "dce508a6-216e-4f09-88f5-d49b9e6efe16",
   "metadata": {
    "tags": []
   },
   "outputs": [],
   "source": [
    "X_df_norm = X_df\n",
    "y_df_norm = y_df\n",
    "X_train_df_norm = X_train_df\n",
    "y_train_df_norm = y_train_df\n",
    "X_test_df_norm = X_test_df\n",
    "y_test_df_norm = y_test_df\n",
    "\n",
    "for df in X_df_norm, X_train_df_norm, X_test_df_norm:\n",
    "    df.SSS = (df.SSS - df.SSS.mean())/df.SSS.std() \n",
    "    df.SST = (df.SST - df.SST.mean())/df.SST.std() \n",
    "    df.MLD = (df.MLD - df.MLD.mean())/df.MLD.std() \n",
    "    df.Chl = (df.Chl - df.Chl.mean())/df.Chl.std() \n",
    "    df.XCO2 = (df.XCO2 - df.XCO2.mean())/df.XCO2.std() \n",
    "\n",
    "for df in y_df_norm, y_train_df_norm, y_test_df_norm:\n",
    "    df.pCO2 = (df.pCO2 - df.pCO2.mean())/df.pCO2.std() "
   ]
  },
  {
   "cell_type": "code",
   "execution_count": 51,
   "id": "99dfc5c2-76a4-49ef-b25c-94fb1ee30038",
   "metadata": {},
   "outputs": [
    {
     "data": {
      "text/html": [
       "<div>\n",
       "<style scoped>\n",
       "    .dataframe tbody tr th:only-of-type {\n",
       "        vertical-align: middle;\n",
       "    }\n",
       "\n",
       "    .dataframe tbody tr th {\n",
       "        vertical-align: top;\n",
       "    }\n",
       "\n",
       "    .dataframe thead th {\n",
       "        text-align: right;\n",
       "    }\n",
       "</style>\n",
       "<table border=\"1\" class=\"dataframe\">\n",
       "  <thead>\n",
       "    <tr style=\"text-align: right;\">\n",
       "      <th></th>\n",
       "      <th></th>\n",
       "      <th></th>\n",
       "      <th>SSS</th>\n",
       "      <th>SST</th>\n",
       "      <th>MLD</th>\n",
       "      <th>Chl</th>\n",
       "      <th>XCO2</th>\n",
       "      <th>T0</th>\n",
       "      <th>T1</th>\n",
       "      <th>A</th>\n",
       "      <th>B</th>\n",
       "      <th>C</th>\n",
       "    </tr>\n",
       "    <tr>\n",
       "      <th>xlon</th>\n",
       "      <th>ylat</th>\n",
       "      <th>time</th>\n",
       "      <th></th>\n",
       "      <th></th>\n",
       "      <th></th>\n",
       "      <th></th>\n",
       "      <th></th>\n",
       "      <th></th>\n",
       "      <th></th>\n",
       "      <th></th>\n",
       "      <th></th>\n",
       "      <th></th>\n",
       "    </tr>\n",
       "  </thead>\n",
       "  <tbody>\n",
       "    <tr>\n",
       "      <th rowspan=\"5\" valign=\"top\">-179.5</th>\n",
       "      <th rowspan=\"5\" valign=\"top\">-77.5</th>\n",
       "      <th>1982-03-15</th>\n",
       "      <td>-0.265890</td>\n",
       "      <td>-1.488140</td>\n",
       "      <td>-0.692089</td>\n",
       "      <td>0.127524</td>\n",
       "      <td>-1.566749</td>\n",
       "      <td>0.292600</td>\n",
       "      <td>0.956235</td>\n",
       "      <td>-0.976296</td>\n",
       "      <td>-0.001889</td>\n",
       "      <td>0.216431</td>\n",
       "    </tr>\n",
       "    <tr>\n",
       "      <th>1982-04-15</th>\n",
       "      <td>-0.102081</td>\n",
       "      <td>-1.720083</td>\n",
       "      <td>-0.150905</td>\n",
       "      <td>0.678477</td>\n",
       "      <td>-1.560679</td>\n",
       "      <td>-0.234491</td>\n",
       "      <td>0.972118</td>\n",
       "      <td>-0.976296</td>\n",
       "      <td>-0.001889</td>\n",
       "      <td>0.216431</td>\n",
       "    </tr>\n",
       "    <tr>\n",
       "      <th>1982-05-15</th>\n",
       "      <td>0.134703</td>\n",
       "      <td>-1.722093</td>\n",
       "      <td>2.425728</td>\n",
       "      <td>-0.357605</td>\n",
       "      <td>-1.554364</td>\n",
       "      <td>-0.683919</td>\n",
       "      <td>0.729558</td>\n",
       "      <td>-0.976296</td>\n",
       "      <td>-0.001889</td>\n",
       "      <td>0.216431</td>\n",
       "    </tr>\n",
       "    <tr>\n",
       "      <th>1982-06-15</th>\n",
       "      <td>0.190737</td>\n",
       "      <td>-1.725349</td>\n",
       "      <td>5.016110</td>\n",
       "      <td>-0.429174</td>\n",
       "      <td>-1.548060</td>\n",
       "      <td>-0.959933</td>\n",
       "      <td>0.280231</td>\n",
       "      <td>-0.976296</td>\n",
       "      <td>-0.001889</td>\n",
       "      <td>0.216431</td>\n",
       "    </tr>\n",
       "    <tr>\n",
       "      <th>1982-08-15</th>\n",
       "      <td>0.239313</td>\n",
       "      <td>-1.726704</td>\n",
       "      <td>5.787440</td>\n",
       "      <td>-0.451532</td>\n",
       "      <td>-1.535459</td>\n",
       "      <td>-0.720667</td>\n",
       "      <td>-0.693281</td>\n",
       "      <td>-0.976296</td>\n",
       "      <td>-0.001889</td>\n",
       "      <td>0.216431</td>\n",
       "    </tr>\n",
       "    <tr>\n",
       "      <th>...</th>\n",
       "      <th>...</th>\n",
       "      <th>...</th>\n",
       "      <td>...</td>\n",
       "      <td>...</td>\n",
       "      <td>...</td>\n",
       "      <td>...</td>\n",
       "      <td>...</td>\n",
       "      <td>...</td>\n",
       "      <td>...</td>\n",
       "      <td>...</td>\n",
       "      <td>...</td>\n",
       "      <td>...</td>\n",
       "    </tr>\n",
       "    <tr>\n",
       "      <th rowspan=\"5\" valign=\"top\">179.5</th>\n",
       "      <th rowspan=\"5\" valign=\"top\">62.5</th>\n",
       "      <th>1996-01-15</th>\n",
       "      <td>-1.523210</td>\n",
       "      <td>-1.704815</td>\n",
       "      <td>-0.663983</td>\n",
       "      <td>-0.328508</td>\n",
       "      <td>-0.471215</td>\n",
       "      <td>0.966848</td>\n",
       "      <td>0.255353</td>\n",
       "      <td>0.887011</td>\n",
       "      <td>0.004029</td>\n",
       "      <td>0.461731</td>\n",
       "    </tr>\n",
       "    <tr>\n",
       "      <th>1998-12-15</th>\n",
       "      <td>-1.798378</td>\n",
       "      <td>-1.488968</td>\n",
       "      <td>-0.710701</td>\n",
       "      <td>1.133481</td>\n",
       "      <td>-0.165658</td>\n",
       "      <td>0.962309</td>\n",
       "      <td>-0.271958</td>\n",
       "      <td>0.887011</td>\n",
       "      <td>0.004029</td>\n",
       "      <td>0.461731</td>\n",
       "    </tr>\n",
       "    <tr>\n",
       "      <th>1999-12-15</th>\n",
       "      <td>-1.702374</td>\n",
       "      <td>-1.542382</td>\n",
       "      <td>-0.694616</td>\n",
       "      <td>0.787700</td>\n",
       "      <td>-0.080769</td>\n",
       "      <td>0.962309</td>\n",
       "      <td>-0.271958</td>\n",
       "      <td>0.887011</td>\n",
       "      <td>0.004029</td>\n",
       "      <td>0.461731</td>\n",
       "    </tr>\n",
       "    <tr>\n",
       "      <th>2010-02-15</th>\n",
       "      <td>-1.373927</td>\n",
       "      <td>-1.670204</td>\n",
       "      <td>-0.679423</td>\n",
       "      <td>-0.308730</td>\n",
       "      <td>1.031888</td>\n",
       "      <td>0.702527</td>\n",
       "      <td>0.711657</td>\n",
       "      <td>0.887011</td>\n",
       "      <td>0.004029</td>\n",
       "      <td>0.461731</td>\n",
       "    </tr>\n",
       "    <tr>\n",
       "      <th>2011-12-15</th>\n",
       "      <td>-1.662782</td>\n",
       "      <td>-1.516546</td>\n",
       "      <td>-0.711923</td>\n",
       "      <td>0.733718</td>\n",
       "      <td>1.261811</td>\n",
       "      <td>0.962309</td>\n",
       "      <td>-0.271958</td>\n",
       "      <td>0.887011</td>\n",
       "      <td>0.004029</td>\n",
       "      <td>0.461731</td>\n",
       "    </tr>\n",
       "  </tbody>\n",
       "</table>\n",
       "<p>11865574 rows × 10 columns</p>\n",
       "</div>"
      ],
      "text/plain": [
       "                              SSS       SST       MLD       Chl      XCO2  \\\n",
       "xlon   ylat  time                                                           \n",
       "-179.5 -77.5 1982-03-15 -0.265890 -1.488140 -0.692089  0.127524 -1.566749   \n",
       "             1982-04-15 -0.102081 -1.720083 -0.150905  0.678477 -1.560679   \n",
       "             1982-05-15  0.134703 -1.722093  2.425728 -0.357605 -1.554364   \n",
       "             1982-06-15  0.190737 -1.725349  5.016110 -0.429174 -1.548060   \n",
       "             1982-08-15  0.239313 -1.726704  5.787440 -0.451532 -1.535459   \n",
       "...                           ...       ...       ...       ...       ...   \n",
       " 179.5  62.5 1996-01-15 -1.523210 -1.704815 -0.663983 -0.328508 -0.471215   \n",
       "             1998-12-15 -1.798378 -1.488968 -0.710701  1.133481 -0.165658   \n",
       "             1999-12-15 -1.702374 -1.542382 -0.694616  0.787700 -0.080769   \n",
       "             2010-02-15 -1.373927 -1.670204 -0.679423 -0.308730  1.031888   \n",
       "             2011-12-15 -1.662782 -1.516546 -0.711923  0.733718  1.261811   \n",
       "\n",
       "                               T0        T1         A         B         C  \n",
       "xlon   ylat  time                                                          \n",
       "-179.5 -77.5 1982-03-15  0.292600  0.956235 -0.976296 -0.001889  0.216431  \n",
       "             1982-04-15 -0.234491  0.972118 -0.976296 -0.001889  0.216431  \n",
       "             1982-05-15 -0.683919  0.729558 -0.976296 -0.001889  0.216431  \n",
       "             1982-06-15 -0.959933  0.280231 -0.976296 -0.001889  0.216431  \n",
       "             1982-08-15 -0.720667 -0.693281 -0.976296 -0.001889  0.216431  \n",
       "...                           ...       ...       ...       ...       ...  \n",
       " 179.5  62.5 1996-01-15  0.966848  0.255353  0.887011  0.004029  0.461731  \n",
       "             1998-12-15  0.962309 -0.271958  0.887011  0.004029  0.461731  \n",
       "             1999-12-15  0.962309 -0.271958  0.887011  0.004029  0.461731  \n",
       "             2010-02-15  0.702527  0.711657  0.887011  0.004029  0.461731  \n",
       "             2011-12-15  0.962309 -0.271958  0.887011  0.004029  0.461731  \n",
       "\n",
       "[11865574 rows x 10 columns]"
      ]
     },
     "execution_count": 51,
     "metadata": {},
     "output_type": "execute_result"
    }
   ],
   "source": [
    "X_train_df_norm"
   ]
  },
  {
   "cell_type": "markdown",
   "id": "71cbf869-9186-473a-98d3-2b83cd2bc01f",
   "metadata": {},
   "source": [
    "## Create Numpy Arrays "
   ]
  },
  {
   "cell_type": "code",
   "execution_count": null,
   "id": "47bc7ea2-1efe-41db-a62d-9c46456664aa",
   "metadata": {},
   "outputs": [],
   "source": [
    "X_n = X_df_norm.to_numpy()         \n",
    "y_n = y_df_norm.to_numpy().ravel() \n",
    "X_train_n = X_train_df_norm.to_numpy()\n",
    "y_train_n = y_train_df_norm.to_numpy().ravel()\n",
    "X_test_n = X_test_df_norm.to_numpy() \n",
    "y_test_n = y_test_df_norm.to_numpy().ravel()"
   ]
  },
  {
   "cell_type": "markdown",
   "id": "3bc00637-1193-4bf1-92b1-3b4cbcaac55d",
   "metadata": {
    "tags": []
   },
   "source": [
    "# Select Approach & Parameters"
   ]
  },
  {
   "cell_type": "markdown",
   "id": "2da2194e-ccf4-4ddd-bde2-5ee8577dab5b",
   "metadata": {
    "tags": []
   },
   "source": [
    "## Approach"
   ]
  },
  {
   "cell_type": "markdown",
   "id": "e1e6eb64-a98b-4af9-a38d-cd844c519914",
   "metadata": {},
   "source": [
    "Based on preliminary experimentation in the non-global XGB notebook (XGB.ipynb) will only train the global dataset on the identified ideal approach. Thus, will train on dataframes (as opposed to numpy arrays) and normalized data."
   ]
  },
  {
   "cell_type": "markdown",
   "id": "1b65466c-2931-4df1-b59f-a69408bf6f62",
   "metadata": {},
   "source": [
    "## Parameters"
   ]
  },
  {
   "cell_type": "markdown",
   "id": "fa97e2de-a29a-4964-85f2-b0486af58e90",
   "metadata": {
    "tags": []
   },
   "source": [
    "### Reference Best Parameters from Previous Group Work"
   ]
  },
  {
   "cell_type": "markdown",
   "id": "cfa52bb6-224d-450d-ad91-32a548620408",
   "metadata": {},
   "source": [
    "Published in Bennington 2022, trained XGB to learn pCO2 residual (pC02 change with direct temperature effects removed)"
   ]
  },
  {
   "cell_type": "code",
   "execution_count": null,
   "id": "52f02f55-b192-4b72-9e9b-80cbf9690ec3",
   "metadata": {},
   "outputs": [],
   "source": [
    "path_bp='/data/artemis/workspace/vbennington/full_sst/pCO2_DIC/models/performance_metrics/xg/xg_best_params_dict.pickle'\n",
    "with open(path_bp,'rb') as handle:\n",
    "    best_params = pickle.load(handle)\n",
    "print(best_params)"
   ]
  },
  {
   "cell_type": "markdown",
   "id": "fe92973a-ac67-46df-b5ec-2f4785c2fe9a",
   "metadata": {},
   "source": [
    "Use previous CESM best parameters as a starting point:\n",
    "- max_depth = 6\n",
    "- n_estimators = 4000"
   ]
  },
  {
   "cell_type": "markdown",
   "id": "664368e3-fb4a-4b4e-9ab5-9fc8276fc4b0",
   "metadata": {},
   "source": [
    "### Investigate Ideal Parameters for Selected Approach"
   ]
  },
  {
   "cell_type": "markdown",
   "id": "561b6537-ba2f-4e27-a075-b42fee50bc87",
   "metadata": {},
   "source": [
    "- Test with three different n_estimators and 3 different depths\n",
    "- Advice from group post-doc: For XGB, too many depth layers may lead to overfitting (usually 8 or less layers for XGB)\n",
    "- We want the combo of xg_param_grid that gives the lowest RMSE"
   ]
  },
  {
   "cell_type": "markdown",
   "id": "a8cf4c62-f677-4956-bf0d-438274ea587e",
   "metadata": {},
   "source": [
    "- Was not able to use GridSearchCV (allowed to run for hours but kernel crashed on multiple attempts. \n",
    "- Will re-attempt on a future project using NCAR supercomputer account once have access."
   ]
  },
  {
   "cell_type": "code",
   "execution_count": null,
   "id": "5d37102f-866b-44f2-9f43-5ed5dde68f8e",
   "metadata": {},
   "outputs": [],
   "source": [
    "# best_params = {}\n",
    "# model = xgb.XGBRegressor(verbosity=0) \n",
    "# xg_param_grid = {'n_estimators':[3000, 4000, 5000],\n",
    "#                  'max_depth':[5, 6, 7]}\n",
    "# grid = GridSearchCV(model, xg_param_grid, scoring='neg_mean_squared_error') #, cv=K_folds, return_train_score=False, refit=False"
   ]
  },
  {
   "cell_type": "code",
   "execution_count": null,
   "id": "0cdd023a-4e25-4fca-8a3a-d2f2dcae3fc6",
   "metadata": {
    "tags": []
   },
   "outputs": [],
   "source": [
    "# grid.fit(X_train_df_norm, y_train_df_norm)"
   ]
  },
  {
   "cell_type": "code",
   "execution_count": null,
   "id": "e9f9c7d9-fc2b-4a62-b986-29089fe164d2",
   "metadata": {},
   "outputs": [],
   "source": [
    "# best_params[ens] = grid.best_params_\n",
    "# print(best_params)"
   ]
  },
  {
   "cell_type": "markdown",
   "id": "0cfce049-d007-4328-a255-7b50aa2051c4",
   "metadata": {
    "tags": []
   },
   "source": [
    "# Preliminary XGB Models"
   ]
  },
  {
   "cell_type": "markdown",
   "id": "5fb6a295-5fbd-409c-ad11-64e42176a521",
   "metadata": {},
   "source": [
    "***Goal: Compare auto-XGB with lowest end and highest end of group XGB parameter matrix***"
   ]
  },
  {
   "cell_type": "markdown",
   "id": "c2fdb363-55c7-43b7-9af3-18561a25354d",
   "metadata": {},
   "source": [
    "## Baseline Model Test"
   ]
  },
  {
   "cell_type": "markdown",
   "id": "4be1488b-750e-48ab-b4d6-5ceae628b898",
   "metadata": {},
   "source": [
    "Alternations should at least improve on the baseline set by the auto-generated XGB algorithm"
   ]
  },
  {
   "cell_type": "code",
   "execution_count": null,
   "id": "ecd9c77f-758d-4c20-9e68-a10b67db5148",
   "metadata": {},
   "outputs": [],
   "source": [
    "model_baseline = xgb.XGBRegressor(verbosity=0) "
   ]
  },
  {
   "cell_type": "code",
   "execution_count": null,
   "id": "3a346719-78f2-414e-8c0f-e5d6f378bc29",
   "metadata": {},
   "outputs": [],
   "source": [
    "model_baseline.fit(X_train_df_norm, y_train_df_norm)"
   ]
  },
  {
   "cell_type": "markdown",
   "id": "7cdc014e-9aaf-4be8-b8e7-c4971259eb78",
   "metadata": {},
   "source": [
    "Learning rate looks high, may need to manually set"
   ]
  },
  {
   "cell_type": "code",
   "execution_count": null,
   "id": "09d08752-34dc-4ef0-ade0-bf862839c8c2",
   "metadata": {},
   "outputs": [],
   "source": [
    "train_score_baseline = model_baseline.score(X_train_df_norm, y_train_df_norm) \n",
    "train_score_baseline"
   ]
  },
  {
   "cell_type": "code",
   "execution_count": null,
   "id": "7caad098-9feb-44d9-b70c-7718fcd04e6d",
   "metadata": {},
   "outputs": [],
   "source": [
    "test_score_baseline = model_baseline.score(X_test_df_norm, y_test_df_norm) \n",
    "test_score_baseline"
   ]
  },
  {
   "cell_type": "code",
   "execution_count": null,
   "id": "6fa6f2a4-3caf-4cd2-a986-2a4a4ecd5a40",
   "metadata": {},
   "outputs": [],
   "source": [
    "y_pred_baseline = model_baseline.predict(X_test_df_norm)\n",
    "mse = mean_squared_error(y_test_df_norm, y_pred_baseline)\n",
    "print(\"MSE: %.2f\" % mse)"
   ]
  },
  {
   "cell_type": "code",
   "execution_count": null,
   "id": "905209a5-25f2-47e6-aa3f-6ec413264d85",
   "metadata": {},
   "outputs": [],
   "source": [
    "x_ax = range(len(y_test_df))\n",
    "plt.plot(x_ax, y_test_df_norm, label=\"original\")\n",
    "plt.plot(x_ax, y_pred_baseline, label=\"predicted\")\n",
    "plt.title(\"pC02 test and predicted data\")\n",
    "plt.legend()\n",
    "plt.show()"
   ]
  },
  {
   "cell_type": "code",
   "execution_count": null,
   "id": "be39aff1-98c8-4e61-b410-f0160d7c0589",
   "metadata": {},
   "outputs": [],
   "source": [
    "y_test_df"
   ]
  },
  {
   "cell_type": "code",
   "execution_count": null,
   "id": "02d4946d-1509-4515-9c78-efba7ae6908f",
   "metadata": {},
   "outputs": [],
   "source": [
    "#y_test_df_norm = (y_test_df - y_test_df.mean())/y_test_df.std()\n",
    "# y_baseline = y_pred_baseline * y_test_df.std() + y_test_df.mean()"
   ]
  },
  {
   "cell_type": "code",
   "execution_count": null,
   "id": "842db5f8-0e1a-481c-bc9d-e8908530bf20",
   "metadata": {},
   "outputs": [],
   "source": [
    "y_test_df_norm['baseline_XGB_pred'] = y_pred_baseline"
   ]
  },
  {
   "cell_type": "code",
   "execution_count": null,
   "id": "7ddc6804-3837-4865-a4e6-e63b15c2fa9d",
   "metadata": {},
   "outputs": [],
   "source": [
    "y_test_df_norm.baseline_XGB_pred"
   ]
  },
  {
   "cell_type": "code",
   "execution_count": null,
   "id": "e691f88f-1dd4-4aa7-884f-3d6a34abd021",
   "metadata": {},
   "outputs": [],
   "source": [
    "y_test_df = y_test_df.pCO2"
   ]
  },
  {
   "cell_type": "code",
   "execution_count": null,
   "id": "3eef56dc-4688-405c-b612-c2820f68520e",
   "metadata": {},
   "outputs": [],
   "source": [
    "y_test_df"
   ]
  },
  {
   "cell_type": "code",
   "execution_count": null,
   "id": "beb92673-d0f3-450e-9fb7-1c5e2a42630c",
   "metadata": {},
   "outputs": [],
   "source": [
    "model_baseline.save_model(os.path.join(global_model_path,'XGB_prelim_baseline.h5'))"
   ]
  },
  {
   "cell_type": "code",
   "execution_count": null,
   "id": "205072cd-3cde-4bc3-b108-08918b1fb03a",
   "metadata": {},
   "outputs": [],
   "source": [
    "model_test = load_model(os.path.join(global_model_path,'XGB_prelim_test.json'))"
   ]
  },
  {
   "cell_type": "markdown",
   "id": "6585cff9-bf10-48c3-b561-180ed0a2062c",
   "metadata": {},
   "source": [
    "## Lowest Combination of XGB Parameter Matrix"
   ]
  },
  {
   "cell_type": "code",
   "execution_count": 44,
   "id": "7cb2aa12-1779-4012-a5f9-9fdad4dff9fc",
   "metadata": {},
   "outputs": [
    {
     "ename": "KeyboardInterrupt",
     "evalue": "",
     "output_type": "error",
     "traceback": [
      "\u001b[0;31m---------------------------------------------------------------------------\u001b[0m",
      "\u001b[0;31mKeyboardInterrupt\u001b[0m                         Traceback (most recent call last)",
      "Cell \u001b[0;32mIn [44], line 2\u001b[0m\n\u001b[1;32m      1\u001b[0m model_low \u001b[38;5;241m=\u001b[39m XGBRegressor(n_estimators\u001b[38;5;241m=\u001b[39m\u001b[38;5;241m3000\u001b[39m, max_depth\u001b[38;5;241m=\u001b[39m\u001b[38;5;241m5\u001b[39m)\n\u001b[0;32m----> 2\u001b[0m \u001b[43mmodel_low\u001b[49m\u001b[38;5;241;43m.\u001b[39;49m\u001b[43mfit\u001b[49m\u001b[43m(\u001b[49m\u001b[43mX_train\u001b[49m\u001b[43m,\u001b[49m\u001b[43m \u001b[49m\u001b[43my_train\u001b[49m\u001b[43m)\u001b[49m\n",
      "File \u001b[0;32m~/.conda/envs/fromML/lib/python3.9/site-packages/xgboost/core.py:575\u001b[0m, in \u001b[0;36m_deprecate_positional_args.<locals>.inner_f\u001b[0;34m(*args, **kwargs)\u001b[0m\n\u001b[1;32m    573\u001b[0m \u001b[38;5;28;01mfor\u001b[39;00m k, arg \u001b[38;5;129;01min\u001b[39;00m \u001b[38;5;28mzip\u001b[39m(sig\u001b[38;5;241m.\u001b[39mparameters, args):\n\u001b[1;32m    574\u001b[0m     kwargs[k] \u001b[38;5;241m=\u001b[39m arg\n\u001b[0;32m--> 575\u001b[0m \u001b[38;5;28;01mreturn\u001b[39;00m \u001b[43mf\u001b[49m\u001b[43m(\u001b[49m\u001b[38;5;241;43m*\u001b[39;49m\u001b[38;5;241;43m*\u001b[39;49m\u001b[43mkwargs\u001b[49m\u001b[43m)\u001b[49m\n",
      "File \u001b[0;32m~/.conda/envs/fromML/lib/python3.9/site-packages/xgboost/sklearn.py:961\u001b[0m, in \u001b[0;36mXGBModel.fit\u001b[0;34m(self, X, y, sample_weight, base_margin, eval_set, eval_metric, early_stopping_rounds, verbose, xgb_model, sample_weight_eval_set, base_margin_eval_set, feature_weights, callbacks)\u001b[0m\n\u001b[1;32m    956\u001b[0m     obj \u001b[38;5;241m=\u001b[39m \u001b[38;5;28;01mNone\u001b[39;00m\n\u001b[1;32m    958\u001b[0m model, metric, params, early_stopping_rounds, callbacks \u001b[38;5;241m=\u001b[39m \u001b[38;5;28mself\u001b[39m\u001b[38;5;241m.\u001b[39m_configure_fit(\n\u001b[1;32m    959\u001b[0m     xgb_model, eval_metric, params, early_stopping_rounds, callbacks\n\u001b[1;32m    960\u001b[0m )\n\u001b[0;32m--> 961\u001b[0m \u001b[38;5;28mself\u001b[39m\u001b[38;5;241m.\u001b[39m_Booster \u001b[38;5;241m=\u001b[39m \u001b[43mtrain\u001b[49m\u001b[43m(\u001b[49m\n\u001b[1;32m    962\u001b[0m \u001b[43m    \u001b[49m\u001b[43mparams\u001b[49m\u001b[43m,\u001b[49m\n\u001b[1;32m    963\u001b[0m \u001b[43m    \u001b[49m\u001b[43mtrain_dmatrix\u001b[49m\u001b[43m,\u001b[49m\n\u001b[1;32m    964\u001b[0m \u001b[43m    \u001b[49m\u001b[38;5;28;43mself\u001b[39;49m\u001b[38;5;241;43m.\u001b[39;49m\u001b[43mget_num_boosting_rounds\u001b[49m\u001b[43m(\u001b[49m\u001b[43m)\u001b[49m\u001b[43m,\u001b[49m\n\u001b[1;32m    965\u001b[0m \u001b[43m    \u001b[49m\u001b[43mevals\u001b[49m\u001b[38;5;241;43m=\u001b[39;49m\u001b[43mevals\u001b[49m\u001b[43m,\u001b[49m\n\u001b[1;32m    966\u001b[0m \u001b[43m    \u001b[49m\u001b[43mearly_stopping_rounds\u001b[49m\u001b[38;5;241;43m=\u001b[39;49m\u001b[43mearly_stopping_rounds\u001b[49m\u001b[43m,\u001b[49m\n\u001b[1;32m    967\u001b[0m \u001b[43m    \u001b[49m\u001b[43mevals_result\u001b[49m\u001b[38;5;241;43m=\u001b[39;49m\u001b[43mevals_result\u001b[49m\u001b[43m,\u001b[49m\n\u001b[1;32m    968\u001b[0m \u001b[43m    \u001b[49m\u001b[43mobj\u001b[49m\u001b[38;5;241;43m=\u001b[39;49m\u001b[43mobj\u001b[49m\u001b[43m,\u001b[49m\n\u001b[1;32m    969\u001b[0m \u001b[43m    \u001b[49m\u001b[43mcustom_metric\u001b[49m\u001b[38;5;241;43m=\u001b[39;49m\u001b[43mmetric\u001b[49m\u001b[43m,\u001b[49m\n\u001b[1;32m    970\u001b[0m \u001b[43m    \u001b[49m\u001b[43mverbose_eval\u001b[49m\u001b[38;5;241;43m=\u001b[39;49m\u001b[43mverbose\u001b[49m\u001b[43m,\u001b[49m\n\u001b[1;32m    971\u001b[0m \u001b[43m    \u001b[49m\u001b[43mxgb_model\u001b[49m\u001b[38;5;241;43m=\u001b[39;49m\u001b[43mmodel\u001b[49m\u001b[43m,\u001b[49m\n\u001b[1;32m    972\u001b[0m \u001b[43m    \u001b[49m\u001b[43mcallbacks\u001b[49m\u001b[38;5;241;43m=\u001b[39;49m\u001b[43mcallbacks\u001b[49m\u001b[43m,\u001b[49m\n\u001b[1;32m    973\u001b[0m \u001b[43m\u001b[49m\u001b[43m)\u001b[49m\n\u001b[1;32m    975\u001b[0m \u001b[38;5;28mself\u001b[39m\u001b[38;5;241m.\u001b[39m_set_evaluation_result(evals_result)\n\u001b[1;32m    976\u001b[0m \u001b[38;5;28;01mreturn\u001b[39;00m \u001b[38;5;28mself\u001b[39m\n",
      "File \u001b[0;32m~/.conda/envs/fromML/lib/python3.9/site-packages/xgboost/core.py:575\u001b[0m, in \u001b[0;36m_deprecate_positional_args.<locals>.inner_f\u001b[0;34m(*args, **kwargs)\u001b[0m\n\u001b[1;32m    573\u001b[0m \u001b[38;5;28;01mfor\u001b[39;00m k, arg \u001b[38;5;129;01min\u001b[39;00m \u001b[38;5;28mzip\u001b[39m(sig\u001b[38;5;241m.\u001b[39mparameters, args):\n\u001b[1;32m    574\u001b[0m     kwargs[k] \u001b[38;5;241m=\u001b[39m arg\n\u001b[0;32m--> 575\u001b[0m \u001b[38;5;28;01mreturn\u001b[39;00m \u001b[43mf\u001b[49m\u001b[43m(\u001b[49m\u001b[38;5;241;43m*\u001b[39;49m\u001b[38;5;241;43m*\u001b[39;49m\u001b[43mkwargs\u001b[49m\u001b[43m)\u001b[49m\n",
      "File \u001b[0;32m~/.conda/envs/fromML/lib/python3.9/site-packages/xgboost/training.py:181\u001b[0m, in \u001b[0;36mtrain\u001b[0;34m(params, dtrain, num_boost_round, evals, obj, feval, maximize, early_stopping_rounds, evals_result, verbose_eval, xgb_model, callbacks, custom_metric)\u001b[0m\n\u001b[1;32m    179\u001b[0m \u001b[38;5;28;01mif\u001b[39;00m cb_container\u001b[38;5;241m.\u001b[39mbefore_iteration(bst, i, dtrain, evals):\n\u001b[1;32m    180\u001b[0m     \u001b[38;5;28;01mbreak\u001b[39;00m\n\u001b[0;32m--> 181\u001b[0m \u001b[43mbst\u001b[49m\u001b[38;5;241;43m.\u001b[39;49m\u001b[43mupdate\u001b[49m\u001b[43m(\u001b[49m\u001b[43mdtrain\u001b[49m\u001b[43m,\u001b[49m\u001b[43m \u001b[49m\u001b[43mi\u001b[49m\u001b[43m,\u001b[49m\u001b[43m \u001b[49m\u001b[43mobj\u001b[49m\u001b[43m)\u001b[49m\n\u001b[1;32m    182\u001b[0m \u001b[38;5;28;01mif\u001b[39;00m cb_container\u001b[38;5;241m.\u001b[39mafter_iteration(bst, i, dtrain, evals):\n\u001b[1;32m    183\u001b[0m     \u001b[38;5;28;01mbreak\u001b[39;00m\n",
      "File \u001b[0;32m~/.conda/envs/fromML/lib/python3.9/site-packages/xgboost/core.py:1778\u001b[0m, in \u001b[0;36mBooster.update\u001b[0;34m(self, dtrain, iteration, fobj)\u001b[0m\n\u001b[1;32m   1775\u001b[0m \u001b[38;5;28mself\u001b[39m\u001b[38;5;241m.\u001b[39m_validate_features(dtrain)\n\u001b[1;32m   1777\u001b[0m \u001b[38;5;28;01mif\u001b[39;00m fobj \u001b[38;5;129;01mis\u001b[39;00m \u001b[38;5;28;01mNone\u001b[39;00m:\n\u001b[0;32m-> 1778\u001b[0m     _check_call(\u001b[43m_LIB\u001b[49m\u001b[38;5;241;43m.\u001b[39;49m\u001b[43mXGBoosterUpdateOneIter\u001b[49m\u001b[43m(\u001b[49m\u001b[38;5;28;43mself\u001b[39;49m\u001b[38;5;241;43m.\u001b[39;49m\u001b[43mhandle\u001b[49m\u001b[43m,\u001b[49m\n\u001b[1;32m   1779\u001b[0m \u001b[43m                                            \u001b[49m\u001b[43mctypes\u001b[49m\u001b[38;5;241;43m.\u001b[39;49m\u001b[43mc_int\u001b[49m\u001b[43m(\u001b[49m\u001b[43miteration\u001b[49m\u001b[43m)\u001b[49m\u001b[43m,\u001b[49m\n\u001b[1;32m   1780\u001b[0m \u001b[43m                                            \u001b[49m\u001b[43mdtrain\u001b[49m\u001b[38;5;241;43m.\u001b[39;49m\u001b[43mhandle\u001b[49m\u001b[43m)\u001b[49m)\n\u001b[1;32m   1781\u001b[0m \u001b[38;5;28;01melse\u001b[39;00m:\n\u001b[1;32m   1782\u001b[0m     pred \u001b[38;5;241m=\u001b[39m \u001b[38;5;28mself\u001b[39m\u001b[38;5;241m.\u001b[39mpredict(dtrain, output_margin\u001b[38;5;241m=\u001b[39m\u001b[38;5;28;01mTrue\u001b[39;00m, training\u001b[38;5;241m=\u001b[39m\u001b[38;5;28;01mTrue\u001b[39;00m)\n",
      "\u001b[0;31mKeyboardInterrupt\u001b[0m: "
     ]
    }
   ],
   "source": [
    "model_low = XGBRegressor(n_estimators=3000, max_depth=5)\n",
    "model_low.fit(X_train, y_train) "
   ]
  },
  {
   "cell_type": "code",
   "execution_count": null,
   "id": "28e71036-897c-43a6-8ad5-343e18d00892",
   "metadata": {},
   "outputs": [],
   "source": [
    "train_score_low = model_low.score(X_train_df_norm, y_train_df_norm) \n",
    "train_score_low"
   ]
  },
  {
   "cell_type": "code",
   "execution_count": null,
   "id": "b4e6ab38-6eb3-438d-8766-c060c3dc505b",
   "metadata": {},
   "outputs": [],
   "source": [
    "test_score_low = model_low.score(X_test_df_norm, y_test_df_norm) \n",
    "test_score_low"
   ]
  },
  {
   "cell_type": "code",
   "execution_count": null,
   "id": "799376fd-18f2-42da-ae02-e86d7e843f03",
   "metadata": {},
   "outputs": [],
   "source": [
    "y_pred_low = model_low.predict(X_test_df_norm)\n",
    "mse = mean_squared_error(y_test_df_norm, y_pred_low)\n",
    "print(\"MSE: %.2f\" % mse)"
   ]
  },
  {
   "cell_type": "code",
   "execution_count": null,
   "id": "df6471df-83f8-4887-ba32-5b48663bf05d",
   "metadata": {},
   "outputs": [],
   "source": [
    "x_ax = range(len(y_test_df))\n",
    "plt.plot(x_ax, y_test_df_norm, label=\"original\")\n",
    "plt.plot(x_ax, y_pred_low, label=\"predicted\")\n",
    "plt.title(\"pC02 test and predicted data\")\n",
    "plt.legend()\n",
    "plt.show()"
   ]
  },
  {
   "cell_type": "code",
   "execution_count": null,
   "id": "5a013e4e-64ed-4531-bcdf-4e643f87dec6",
   "metadata": {},
   "outputs": [],
   "source": [
    "model_low.save_model(os.path.join(global_model_path,'XGB_prelim_lowest_param2.h5'))"
   ]
  },
  {
   "cell_type": "code",
   "execution_count": null,
   "id": "682e4fec-6243-4412-8d78-4514116e39c5",
   "metadata": {},
   "outputs": [],
   "source": [
    "model_low = load_model(os.path.join(global_model_path,'XGB_prelim_highest_param-Copy1.json'))"
   ]
  },
  {
   "cell_type": "markdown",
   "id": "74d81b03-3dbc-4bb9-a6b4-53c671923c0a",
   "metadata": {},
   "source": [
    "## Highest Combination of XGB Parameter Matrix"
   ]
  },
  {
   "cell_type": "code",
   "execution_count": null,
   "id": "604736da-5394-4453-85c8-d58c0b3e8d79",
   "metadata": {},
   "outputs": [],
   "source": [
    "model_high = XGBRegressor(n_estimators=3000, max_depth=5)\n",
    "model_high.fit(X_train_df_norm, y_train_df_norm) "
   ]
  },
  {
   "cell_type": "code",
   "execution_count": null,
   "id": "a515d537-945b-4fb3-af59-352bff6ccaed",
   "metadata": {},
   "outputs": [],
   "source": [
    "train_score_high = model_high.score(X_train_df_norm, y_train_df_norm) \n",
    "train_score_high"
   ]
  },
  {
   "cell_type": "code",
   "execution_count": null,
   "id": "e631bfcb-556e-4f5d-965d-e22ce78827da",
   "metadata": {},
   "outputs": [],
   "source": [
    "test_score_high = model_high.score(X_test_df_norm, y_test_df_norm) \n",
    "test_score_high"
   ]
  },
  {
   "cell_type": "code",
   "execution_count": null,
   "id": "138f7b54-f66e-4397-96ce-841b57e1c04c",
   "metadata": {},
   "outputs": [],
   "source": [
    "y_pred_high = model_high.predict(X_test_df_norm)\n",
    "mse = mean_squared_error(y_test_df_norm, y_pred_high)\n",
    "print(\"MSE: %.2f\" % mse)"
   ]
  },
  {
   "cell_type": "code",
   "execution_count": null,
   "id": "18977537-1d1a-4663-a1f7-1e6b522bb363",
   "metadata": {},
   "outputs": [],
   "source": [
    "x_ax = range(len(y_test_df))\n",
    "plt.plot(x_ax, y_test_df_norm, label=\"original\")\n",
    "plt.plot(x_ax, y_pred_high, label=\"predicted\")\n",
    "plt.title(\"pC02 test and predicted data\")\n",
    "plt.legend()\n",
    "plt.show()"
   ]
  },
  {
   "cell_type": "code",
   "execution_count": null,
   "id": "8a7566b1-e301-4730-8880-9ad12f01358b",
   "metadata": {},
   "outputs": [],
   "source": [
    "model_high.save_model(os.path.join(global_model_path,'XGB_prelim_highest_param.h5'))"
   ]
  },
  {
   "cell_type": "markdown",
   "id": "f068bf20-b87d-4cbe-ab78-cae59502c050",
   "metadata": {
    "tags": []
   },
   "source": [
    "# XGB Model"
   ]
  },
  {
   "cell_type": "markdown",
   "id": "4c3ca9e3-d7a0-4579-ae7e-c52b9445aa94",
   "metadata": {},
   "source": [
    "## Build XGB Model \n",
    "(based on best parameters found in previous section)"
   ]
  },
  {
   "cell_type": "markdown",
   "id": "5a673ce1-edc9-4eab-8581-d1a885b38aaf",
   "metadata": {},
   "source": [
    "## Train XGB Model"
   ]
  },
  {
   "cell_type": "markdown",
   "id": "247a57ec-bfe5-4260-bdfd-6a5d868837d4",
   "metadata": {},
   "source": [
    "## Save XGB Model"
   ]
  },
  {
   "cell_type": "markdown",
   "id": "0af43622-401c-44cd-8385-782f1bfb4c6e",
   "metadata": {},
   "source": [
    "## Test XBG Model"
   ]
  },
  {
   "cell_type": "markdown",
   "id": "f68f5104-0d54-4e5d-a47e-f798ede4a01a",
   "metadata": {
    "tags": []
   },
   "source": [
    "# For Future Work"
   ]
  },
  {
   "cell_type": "markdown",
   "id": "1285e33f-8a3d-4e05-99ed-923e88ec2875",
   "metadata": {},
   "source": [
    "## Additional Validation Split "
   ]
  },
  {
   "cell_type": "markdown",
   "id": "2103f0e0-3fea-4aaa-b9b0-7c30ec6f1000",
   "metadata": {},
   "source": [
    "*Note: Group does not use this method when test years are used (as I did in processed_data_split.ipynb)*"
   ]
  },
  {
   "cell_type": "markdown",
   "id": "e8aee2d5-61c8-464d-bc46-75b814d5709e",
   "metadata": {},
   "source": [
    "### Group's Version"
   ]
  },
  {
   "cell_type": "markdown",
   "id": "00c8d65a-f85a-4e47-b972-f2a34ca89a2d",
   "metadata": {},
   "source": [
    "#### Train/validate/test split proportions"
   ]
  },
  {
   "cell_type": "code",
   "execution_count": null,
   "id": "31474571-24ca-41bc-880e-4abe8315cc33",
   "metadata": {},
   "outputs": [],
   "source": [
    "# 20% of dataset for validation, 20% of dataset for testing, the rest for training\n",
    "# Training set will be split into validation and another training set\n",
    "\n",
    "val_prop = .2\n",
    "test_prop = .2"
   ]
  },
  {
   "cell_type": "code",
   "execution_count": null,
   "id": "19e5a2dd-2368-4bfc-8bee-20db6e25ae3b",
   "metadata": {},
   "outputs": [],
   "source": [
    "# Splitting the training data into validation and another training set   \n",
    "N = X_train.shape[0]\n",
    "train_val_idx, train_idx, val_idx, test_idx = model_utils.train_val_test_split(N, test_prop, val_prop, random_seeds, seed_loc)\n",
    "X_train_val, X_train, X_val, X_test_tmp, y_train_val, y_train, y_val, y_test_tmp = model_utils.apply_splits(X_train, y_train, train_val_idx, train_idx, val_idx, test_idx) "
   ]
  },
  {
   "cell_type": "markdown",
   "id": "6d39f8e1-fb28-4461-ac85-55f7c75bbd69",
   "metadata": {},
   "source": [
    "## Starting New Version"
   ]
  },
  {
   "cell_type": "code",
   "execution_count": null,
   "id": "91f8a3c6-888c-4349-a852-ba3833f31312",
   "metadata": {},
   "outputs": [],
   "source": [
    "X_minitest = X_df #.to_numpy()\n",
    "y_minitest = y_df #.to_numpy()"
   ]
  },
  {
   "cell_type": "code",
   "execution_count": null,
   "id": "35410fa4-3513-46da-9de7-69c5e1ec74f5",
   "metadata": {},
   "outputs": [],
   "source": [
    "xtrain_minitest, xtest_minitest, ytrain_minitest, ytest_minitest=train_test_split(X_minitest, y_minitest, test_size=0.15)"
   ]
  },
  {
   "cell_type": "code",
   "execution_count": null,
   "id": "dcd24357-3255-4f9a-afe8-2c475980cf23",
   "metadata": {},
   "outputs": [],
   "source": [
    "xtrain_minitest.max()"
   ]
  },
  {
   "cell_type": "code",
   "execution_count": null,
   "id": "513050e4-6e04-4a11-b562-ae7e734bab07",
   "metadata": {},
   "outputs": [],
   "source": [
    "xtrain_minitest"
   ]
  },
  {
   "cell_type": "code",
   "execution_count": null,
   "id": "e2811832-8d7e-457a-bd5c-897440987ac8",
   "metadata": {},
   "outputs": [],
   "source": [
    "XGB_model_minitest = xgb.XGBRegressor(verbosity=0) "
   ]
  },
  {
   "cell_type": "code",
   "execution_count": null,
   "id": "ed2540c5-7376-43d8-ae2e-343695ecc8b5",
   "metadata": {
    "tags": []
   },
   "outputs": [],
   "source": [
    "XGB_model_minitest.fit(xtrain_minitest, ytrain_minitest)"
   ]
  },
  {
   "cell_type": "markdown",
   "id": "75bc6bdb-349b-4c7e-bf61-01b0b3e05ada",
   "metadata": {
    "tags": []
   },
   "source": [
    "# eXtreme Gradient Boosting "
   ]
  },
  {
   "cell_type": "markdown",
   "id": "d3ad4546-8ab0-4083-8db9-8a22a98a8bbb",
   "metadata": {},
   "source": [
    "(to compare performance to other methods from group)"
   ]
  },
  {
   "cell_type": "code",
   "execution_count": null,
   "id": "93d078c8-648e-4337-89c5-8808539a5f97",
   "metadata": {},
   "outputs": [],
   "source": [
    "# For next step of testing new hyperparameters, clear best_params\n",
    "# best_params = {}  # opened above"
   ]
  },
  {
   "cell_type": "code",
   "execution_count": null,
   "id": "5174b327-7c31-47d1-ba93-7459e06a9bd3",
   "metadata": {},
   "outputs": [],
   "source": [
    "# A, B and C represent lon and lat (3 components of the n-vector; so that the algorithm doesn't interpret 0 and 360\n",
    "# degrees to be far apart \n",
    "# T0 and T1 represent time\n",
    "\n",
    "#features_sel = ['SSS','SST','MLD','Chl','XCO2','T0', 'T1','A', 'B', 'C'] \n",
    "#target_sel = ['pCO2'] "
   ]
  },
  {
   "cell_type": "markdown",
   "id": "1b859ca1-fc16-4a8e-9e67-585ae7947ca5",
   "metadata": {},
   "source": [
    "## Building and Training the XGB Model"
   ]
  },
  {
   "cell_type": "code",
   "execution_count": null,
   "id": "3a4561be-a79e-4011-9c6f-aa0b76a58b46",
   "metadata": {},
   "outputs": [],
   "source": [
    "# Number of cores you have access to for model training, group standard:\n",
    "jobs = 30"
   ]
  },
  {
   "cell_type": "markdown",
   "id": "1a6aa460-0e12-43ce-aab9-21130913f6a7",
   "metadata": {},
   "source": [
    "### Create two dictionaries"
   ]
  },
  {
   "cell_type": "code",
   "execution_count": null,
   "id": "33dcf1c8-e2ce-41d8-81d0-6cbde968421a",
   "metadata": {},
   "outputs": [],
   "source": [
    "test_performance = defaultdict(dict)\n",
    "unseen_performance = defaultdict(dict)"
   ]
  },
  {
   "cell_type": "markdown",
   "id": "239ccc10-6a9e-4145-b253-4172b8e74c85",
   "metadata": {
    "tags": []
   },
   "source": [
    "### XGB-Specific Inputs"
   ]
  },
  {
   "cell_type": "code",
   "execution_count": null,
   "id": "c335086e-79de-4ffd-bafe-cadda5f609d7",
   "metadata": {},
   "outputs": [],
   "source": [
    "# K_folds: cross validation; number of splits for training set (in this case 3 splits; see below)\n",
    "# Train on the first split, test on the remaining 2. Total 3 numbers for the final RMSE\n",
    "\n",
    "K_folds = 3       # Split training set into 3 parts\n",
    "approach = \"xg\"   # XGB approach\n",
    "#first_mem = False # Initialize if using gridsearch to find best_params"
   ]
  },
  {
   "cell_type": "code",
   "execution_count": null,
   "id": "a605d100-f504-45bd-a9a7-40d54db20498",
   "metadata": {},
   "outputs": [],
   "source": [
    "# model: define which approach to use\n",
    "# param_grid: the n_estimators (decision trees) and depths\n",
    "# GridSearchCV: applying the K-fold cross validation\n",
    "# first_mem = False: checks only the best params for first_mem (and not all members). For the next members, the  \n",
    "# parameters from first_mem are re-used\n",
    "# you could try to find the best params for a few members (but not all of them)\n",
    "# 9 possible combinations (3 different n_estimators, 3 different max depths) x 3 (K-fold; 3 training sets)\n",
    "if first_mem:\n",
    "            model = XGBRegressor(random_state=random_seeds[4,seed_loc], n_jobs=jobs)\n",
    "            param_grid = xg_param_grid\n",
    "            grid = GridSearchCV(model, param_grid, scoring='neg_mean_squared_error', cv=K_folds, return_train_score=False, refit=False)\n",
    "            grid.fit(X_train_val, y_train_val)\n",
    "            best_params[ens] = grid.best_params_\n",
    "            print(best_params)\n",
    "            first_mem = False"
   ]
  },
  {
   "cell_type": "code",
   "execution_count": null,
   "id": "0ed2a8a8-b2ff-4db8-960f-d3083707ddf6",
   "metadata": {},
   "outputs": [],
   "source": [
    "model = XGBRegressor(random_state=random_seeds[4,seed_loc], n_jobs=jobs)\n",
    "param_grid = xg_param_grid\n",
    "grid = GridSearchCV(model, param_grid, scoring='neg_mean_squared_error', cv=K_folds, return_train_score=False, refit=False)\n",
    "grid.fit(X_train, y_train)\n",
    "best_params[ens] = grid.best_params_\n",
    "print(best_params)"
   ]
  },
  {
   "cell_type": "markdown",
   "id": "a3e418d5-98b5-4c7f-9f07-7e725ec11a34",
   "metadata": {},
   "source": [
    "### Train the XBG model"
   ]
  },
  {
   "cell_type": "code",
   "execution_count": null,
   "id": "68372057-6ec0-4130-b691-8f6eee9b2d72",
   "metadata": {},
   "outputs": [],
   "source": [
    "model = XGBRegressor(random_state=random_seeds[5,seed_loc], **best_params[ens], n_jobs=jobs)\n",
    "model.fit(X_train_val, y_train_val) "
   ]
  },
  {
   "cell_type": "markdown",
   "id": "3eefd2b9-8e53-4592-8447-deb80acd5eb5",
   "metadata": {},
   "source": [
    "### Save the XBG model"
   ]
  },
  {
   "cell_type": "code",
   "execution_count": null,
   "id": "2d270f81-95e3-4340-b4e6-312a5b853547",
   "metadata": {},
   "outputs": [],
   "source": [
    "#Uncomment when actually running\n",
    "\n",
    "# pre_saildrone now called utils, carry through this change\n",
    "utils.save_model(model, model_output_dir, approach, ens, member)\n",
    "print(datetime.datetime.now())\n",
    "print(ens)\n",
    "print(member)"
   ]
  },
  {
   "cell_type": "code",
   "execution_count": null,
   "id": "a753ff10-7234-42c1-b909-2efb8f95abcd",
   "metadata": {},
   "outputs": [],
   "source": []
  },
  {
   "cell_type": "markdown",
   "id": "7cf1228a-c2b7-4c40-bf4e-15c7fb89e18d",
   "metadata": {
    "tags": []
   },
   "source": [
    "## Test the XGB Model"
   ]
  },
  {
   "cell_type": "markdown",
   "id": "5d7939f4-a636-40fb-99b0-ba0b672356ca",
   "metadata": {},
   "source": [
    "### Preliminary Analysis on XBG Test Error Metrics"
   ]
  },
  {
   "cell_type": "code",
   "execution_count": null,
   "id": "9c896294-3fc1-4646-b806-6325024309ce",
   "metadata": {},
   "outputs": [],
   "source": [
    "# Calculate some test error metrics and store in a dictionary\n",
    "# evaluate_test is a function from pre_saildrone. it includes MSE, MAE, bias etc\n",
    "\n",
    "y_pred_test = model.predict(X_test)\n",
    "\n",
    "test_performance[ens][member] = utils.evaluate_test(y_test, y_pred_test)\n",
    "print(test_performance[ens][member])"
   ]
  },
  {
   "cell_type": "code",
   "execution_count": null,
   "id": "a40ada10-0949-4490-8ffa-835c8c2d752b",
   "metadata": {},
   "outputs": [],
   "source": [
    "# Redo this analysis on the unseen data\n",
    "y_pred_unseen = model.predict(df.loc[unseen_sel,features_sel].to_numpy())\n",
    "\n",
    "y_unseen = df.loc[unseen_sel,target_sel].to_numpy().ravel()\n",
    "unseen_performance[ens][member] = utils.evaluate_test(y_unseen, y_pred_unseen)\n",
    "print(unseen_performance[ens][member])"
   ]
  },
  {
   "cell_type": "markdown",
   "id": "e58a42e6-f71c-4a4d-bcf6-05c06cdb7ed9",
   "metadata": {},
   "source": [
    "## Create the reconstruction"
   ]
  },
  {
   "cell_type": "code",
   "execution_count": null,
   "id": "2052448e-6953-4b26-9624-a73cccfd323c",
   "metadata": {},
   "outputs": [],
   "source": [
    "# Create the reconstruction and save it\n",
    "# Jake calls it seen\n",
    "# This should just be all SOCAT locations for all training years (not test years)\n",
    "y_pred_seen = model.predict(X)"
   ]
  },
  {
   "cell_type": "code",
   "execution_count": null,
   "id": "513ed4e3-ef33-4b4d-bdc1-52f1d9729020",
   "metadata": {},
   "outputs": [],
   "source": [
    "# Full reconstruction \n",
    "df['pCO2_DIC_recon'] = np.nan\n",
    "df.loc[unseen_sel,['pCO2_DIC_recon']] = y_pred_unseen   # Not in a SOCAT location, not even in test year\n",
    "df.loc[sel,['pCO2_DIC_recon']] = y_pred_seen"
   ]
  },
  {
   "cell_type": "code",
   "execution_count": null,
   "id": "2358cbb0-77cf-473d-851e-aac9731ad12d",
   "metadata": {},
   "outputs": [],
   "source": [
    "# All time/locations not sampled by SOCAT\n",
    "df['pCO2_DIC_nosocat'] = np.nan\n",
    "df.loc[unseen_sel,['pCO2_DIC_nosocat']] = y_pred_unseen\n",
    "df.loc[sel,['pCO2_DIC_nosocat']] = np.nan"
   ]
  },
  {
   "cell_type": "code",
   "execution_count": null,
   "id": "4340f160-9f1c-43b5-884c-b89b0d731d4f",
   "metadata": {},
   "outputs": [],
   "source": [
    "# Only at time/locations of SOCAT sampling\n",
    "df['pCO2_DIC_socat'] = np.nan\n",
    "df.loc[unseen_sel,['pCO2_DIC_socat']] = np.nan\n",
    "df.loc[sel,['pCO2_DIC_socat']] = y_pred_seen\n",
    "     \n",
    "df['pCO2_DIC'] = df['pCO2_pCO2T_diff']\n",
    "             \n",
    "#DS_recon = df[['net_mask','socat_mask','pCO2_DIC','pCO2_DIC_recon','pCO2_DIC_socat','pCO2_DIC_nosocat']].to_xarray()\n",
    "DS_recon = df[['net_mask','combined_mask','pCO2_DIC','pCO2_DIC_recon','pCO2_DIC_socat','pCO2_DIC_nosocat']].to_xarray()"
   ]
  },
  {
   "cell_type": "markdown",
   "id": "b0228e59-170a-44b9-9e8d-d19497b459ba",
   "metadata": {
    "tags": []
   },
   "source": [
    "## Save reconstructions"
   ]
  },
  {
   "cell_type": "code",
   "execution_count": null,
   "id": "a9d0306d-5e20-42da-abf8-45b6452570d0",
   "metadata": {},
   "outputs": [],
   "source": [
    "# Uncomment when actually running            \n",
    "#pre_saildrone_thea.save_recon(DS_recon, recon_output_dir, approach, ens, member)   "
   ]
  },
  {
   "cell_type": "markdown",
   "id": "b8577729-ce28-40b5-a58a-dab22f4398e9",
   "metadata": {
    "tags": []
   },
   "source": [
    "## Save best parameters and performance metrics"
   ]
  },
  {
   "cell_type": "code",
   "execution_count": null,
   "id": "ef554ad3-d62d-4d07-ad17-887eeac70403",
   "metadata": {},
   "outputs": [],
   "source": [
    "# Saving best parameters and performance metrics\n",
    "\n",
    "approach_output_dir = f\"{other_output_dir}/{approach}\"\n",
    "param_fname = f\"{approach_output_dir}/{approach}_best_params_dict.pickle\"\n",
    "test_perform_fname = f\"{approach_output_dir}/{approach}_test_performance_dict.pickle\"\n",
    "unseen_perform_fname = f\"{approach_output_dir}/{approach}_unseen_performance_dict.pickle\"\n",
    "\n",
    "Path(approach_output_dir).mkdir(parents=True, exist_ok=True)\n",
    "\n",
    "with open(param_fname, 'wb') as handle: #WHAT DOES wb MEAN\n",
    "    pickle.dump(best_params, handle, protocol=pickle.HIGHEST_PROTOCOL)\n",
    "with open(test_perform_fname, 'wb') as handle:\n",
    "    pickle.dump(test_performance, handle)\n",
    "with open(unseen_perform_fname, 'wb') as handle:\n",
    "    pickle.dump(unseen_performance, handle)\n",
    "    \n",
    "# Convert performance metrics to dataframes\n",
    "test_df = pd.DataFrame.from_dict({(i,j): test_performance[i][j]\n",
    "                                  for i in test_performance.keys()\n",
    "                                  for j in test_performance[i].keys()},\n",
    "                                 orient='index')\n",
    "\n",
    "unseen_df = pd.DataFrame.from_dict({(i,j): unseen_performance[i][j]\n",
    "                                  for i in unseen_performance.keys()\n",
    "                                  for j in unseen_performance[i].keys()},\n",
    "                                 orient='index')\n",
    "\n",
    "test_df.index.names = [\"model\",\"member\"]\n",
    "unseen_df.index.names = [\"model\",\"member\"]\n",
    "\n",
    "# Save the dataframes too\n",
    "test_df_fname = f\"{approach_output_dir}/{approach}_test_performance_df.pickle\"\n",
    "unseen_df_fname = f\"{approach_output_dir}/{approach}_unseen_performance_df.pickle\"\n",
    "\n",
    "test_df.to_pickle(test_df_fname)\n",
    "unseen_df.to_pickle(unseen_df_fname)    "
   ]
  },
  {
   "cell_type": "code",
   "execution_count": null,
   "id": "958183d4-aedf-4a16-8e42-182080456877",
   "metadata": {},
   "outputs": [],
   "source": []
  },
  {
   "cell_type": "code",
   "execution_count": null,
   "id": "fd061ac1-4b01-4871-8a34-b5ae2d7f7364",
   "metadata": {},
   "outputs": [],
   "source": []
  },
  {
   "cell_type": "code",
   "execution_count": null,
   "id": "f1e3eb81-9636-47cb-9897-639b812646b9",
   "metadata": {},
   "outputs": [],
   "source": []
  },
  {
   "cell_type": "code",
   "execution_count": null,
   "id": "68a98afb-ef0e-4371-b658-03a6c9c076ad",
   "metadata": {},
   "outputs": [],
   "source": [
    "#just checking what the saved trained datafiles look like \n",
    "test_2 = pd.read_pickle(\"/data/artemis/workspace/theimdal/saildrone/models/trained/xg/CESM/member_016/xg_model_pC02_2D_mon_CESM_016_1x1_198201-201701.joblib\")"
   ]
  },
  {
   "cell_type": "code",
   "execution_count": null,
   "id": "132e386a-0d9e-4965-97b3-378fd9ab13c9",
   "metadata": {},
   "outputs": [],
   "source": [
    "test_2"
   ]
  },
  {
   "cell_type": "code",
   "execution_count": null,
   "id": "b0786f53-4477-4fdb-b643-d94adb6e2a53",
   "metadata": {},
   "outputs": [],
   "source": [
    "#checking out what the input data for the XGB looks like\n",
    "#this table was generated in script 01\n",
    "df"
   ]
  },
  {
   "cell_type": "code",
   "execution_count": null,
   "id": "90e4069f-7878-462b-965c-2adbad08dba1",
   "metadata": {},
   "outputs": [],
   "source": []
  }
 ],
 "metadata": {
  "kernelspec": {
   "display_name": "fromML",
   "language": "python",
   "name": "fromml"
  },
  "language_info": {
   "codemirror_mode": {
    "name": "ipython",
    "version": 3
   },
   "file_extension": ".py",
   "mimetype": "text/x-python",
   "name": "python",
   "nbconvert_exporter": "python",
   "pygments_lexer": "ipython3",
   "version": "3.9.13"
  }
 },
 "nbformat": 4,
 "nbformat_minor": 5
}
