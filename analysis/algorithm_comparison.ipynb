{
 "cells": [
  {
   "cell_type": "markdown",
   "id": "fb243bf2-8b8d-48b6-8a5b-1ff663e042ce",
   "metadata": {},
   "source": [
    "# Compare RF, XGB, and NN Models"
   ]
  },
  {
   "cell_type": "code",
   "execution_count": null,
   "id": "066c8e65-a6fb-4c27-bce0-5d970f8eab07",
   "metadata": {},
   "outputs": [],
   "source": [
    "# Standard imports\n",
    "import os\n",
    "import datetime\n",
    "from pathlib import Path\n",
    "from collections import defaultdict\n",
    "import scipy\n",
    "import random\n",
    "import numpy as np\n",
    "import xarray as xr\n",
    "import pandas as pd\n",
    "import matplotlib.pyplot as plt\n",
    "import joblib\n",
    "import pickle\n",
    "\n",
    "# Machine learning libraries\n",
    "import sklearn            # machine-learning libary with many algorithms implemented\n",
    "from sklearn.model_selection import train_test_split, GridSearchCV, cross_val_score\n",
    "from sklearn.metrics import mean_squared_error\n",
    "\n",
    "import tensorflow as tf\n",
    "from tensorflow import keras\n",
    "from tensorflow.keras.models import Model, load_model\n",
    "from tensorflow.keras.layers import *\n",
    "from tensorflow.keras import Sequential\n",
    "\n",
    "# Python file with supporting functions\n",
    "import model_utils"
   ]
  },
  {
   "cell_type": "code",
   "execution_count": 1,
   "id": "dbb45f18-da6a-4e27-8d19-fc4204280b4b",
   "metadata": {},
   "outputs": [],
   "source": [
    "recon_model_path = '/home/julias/MLEE-final-project/models/saved_models/recon_models'\n",
    "global_model_path = '/home/julias/MLEE-final-project/models/saved_models/global_models'"
   ]
  },
  {
   "cell_type": "markdown",
   "id": "14126db4-0168-46e5-9f47-9f389d2bf62e",
   "metadata": {},
   "source": [
    "# Import Datasets"
   ]
  },
  {
   "cell_type": "markdown",
   "id": "c15be70b-fa61-4921-882f-1b8337cd4490",
   "metadata": {},
   "source": [
    "## Import Model Dataset Limited by SOCAT Sampling Locations"
   ]
  },
  {
   "cell_type": "code",
   "execution_count": null,
   "id": "38cf880f-0011-4c69-8d84-0242b695863c",
   "metadata": {},
   "outputs": [],
   "source": [
    "#X_ds_limited = xr.open_dataset('/home/julias/MLEE-final-project/proc_data/split_datasets/X.nc').sortby(['time','xlon','ylat']).transpose('time','ylat','xlon')\n",
    "#y_ds_limited = xr.open_dataset('/home/julias/MLEE-final-project/proc_data/split_datasets/y.nc').sortby(['time','xlon','ylat']).transpose('time','ylat','xlon')\n",
    "X_train_ds_limited = xr.open_dataset('/home/julias/MLEE-final-project/proc_data/split_datasets/X_train.nc').sortby(['time','xlon','ylat']).transpose('time','ylat','xlon')\n",
    "y_train_ds_limited = xr.open_dataset('/home/julias/MLEE-final-project/proc_data/split_datasets/y_train.nc').sortby(['time','xlon','ylat']).transpose('time','ylat','xlon')\n",
    "X_test_ds_limited = xr.open_dataset('/home/julias/MLEE-final-project/proc_data/split_datasets/X_test.nc').sortby(['time','xlon','ylat']).transpose('time','ylat','xlon')\n",
    "y_test_ds_limited = xr.open_dataset('/home/julias/MLEE-final-project/proc_data/split_datasets/y_test.nc').sortby(['time','xlon','ylat']).transpose('time','ylat','xlon')"
   ]
  },
  {
   "cell_type": "code",
   "execution_count": null,
   "id": "51b175f1-3c74-4c81-8e57-3160217f332d",
   "metadata": {},
   "outputs": [],
   "source": [
    "#X_df_limited = X_ds_limited.to_dataframe().dropna()\n",
    "#y_df_limited = y_ds_limited.to_dataframe().dropna()\n",
    "X_train_df_limited = X_train_ds_limited.to_dataframe().dropna()\n",
    "y_train_df_limited = y_train_ds_limited.to_dataframe().dropna()\n",
    "X_test_df_limited = X_test_ds_limited.to_dataframe().dropna()\n",
    "y_test_df_limited = y_test_ds_limited.to_dataframe().dropna()"
   ]
  },
  {
   "cell_type": "code",
   "execution_count": null,
   "id": "ce63e927-5edc-46da-bf76-37fd857b9c75",
   "metadata": {},
   "outputs": [],
   "source": [
    "#X_limited = X_df_limited.to_numpy()         \n",
    "#y_limited = y_df_limited.to_numpy().ravel() \n",
    "X_train_limited = X_train_df_limited.to_numpy() \n",
    "y_train_limited = y_train_df_limited.to_numpy().ravel()\n",
    "X_test_limited = X_test_df_limited.to_numpy()  \n",
    "y_test_limited = y_test_df_limited.to_numpy().ravel()"
   ]
  },
  {
   "cell_type": "markdown",
   "id": "11dae593-5e4c-4b85-aa12-8af6490af2b3",
   "metadata": {},
   "source": [
    "## Import Global Model Dataset and Reduced Version (2007-2017) Used for NN "
   ]
  },
  {
   "cell_type": "code",
   "execution_count": null,
   "id": "16bdad37-98f3-470c-90d8-653d7dcac3b1",
   "metadata": {},
   "outputs": [],
   "source": [
    "#X_df_global = xr.open_dataset('/home/julias/MLEE-final-project/proc_data/global_split_datasets/X.nc').to_dataframe().dropna()\n",
    "#y_df_global = xr.open_dataset('/home/julias/MLEE-final-project/proc_data/global_split_datasets/y.nc').to_dataframe().dropna() \n",
    "X_train_df_global = xr.open_dataset('/home/julias/MLEE-final-project/proc_data/global_split_datasets/X_train.nc').to_dataframe().dropna() \n",
    "y_train_df_global = xr.open_dataset('/home/julias/MLEE-final-project/proc_data/global_split_datasets/y_train.nc').to_dataframe().dropna()\n",
    "X_test_df_global = xr.open_dataset('/home/julias/MLEE-final-project/proc_data/global_split_datasets/X_test.nc').to_dataframe().dropna() \n",
    "y_test_df_global = xr.open_dataset('/home/julias/MLEE-final-project/proc_data/global_split_datasets/y_test.nc').to_dataframe().dropna() "
   ]
  },
  {
   "cell_type": "code",
   "execution_count": null,
   "id": "0350ba03-0da6-4c25-9a60-7dd76accc930",
   "metadata": {},
   "outputs": [],
   "source": [
    "#X_global = X_df_global.to_numpy()         \n",
    "#y_global = y_df_global.to_numpy().ravel() \n",
    "X_train_global = X_train_df_global.to_numpy() \n",
    "y_train_global = y_train_df_global.to_numpy().ravel()\n",
    "X_test_global = X_test_df_global.to_numpy()  \n",
    "y_test_global = y_test_df_global.to_numpy().ravel()"
   ]
  },
  {
   "cell_type": "code",
   "execution_count": null,
   "id": "98d49343-9438-41df-a1e3-032270726156",
   "metadata": {},
   "outputs": [],
   "source": [
    "slice_time_start = '2007'\n",
    "\n",
    "#X_ds_reduced = xr.open_dataset('/home/julias/MLEE-final-project/proc_data/global_split_datasets/X.nc').sortby(['time','xlon','ylat']).transpose('time','ylat','xlon').sel(time=slice(slice_time_start,None))\n",
    "#y_ds_reduced = xr.open_dataset('/home/julias/MLEE-final-project/proc_data/global_split_datasets/y.nc').sortby(['time','xlon','ylat']).transpose('time','ylat','xlon').sel(time=slice(slice_time_start,None))\n",
    "X_train_ds_reduced = xr.open_dataset('/home/julias/MLEE-final-project/proc_data/global_split_datasets/X_train.nc').sortby(['time','xlon','ylat']).transpose('time','ylat','xlon').sel(time=slice(slice_time_start,None))\n",
    "y_train_ds_reduced = xr.open_dataset('/home/julias/MLEE-final-project/proc_data/global_split_datasets/y_train.nc').sortby(['time','xlon','ylat']).transpose('time','ylat','xlon').sel(time=slice(slice_time_start,None))\n",
    "X_test_ds_reduced = xr.open_dataset('/home/julias/MLEE-final-project/proc_data/global_split_datasets/X_test.nc').sortby(['time','xlon','ylat']).transpose('time','ylat','xlon').sel(time=slice(slice_time_start,None))\n",
    "y_test_ds_reduced = xr.open_dataset('/home/julias/MLEE-final-project/proc_data/global_split_datasets/y_test.nc').sortby(['time','xlon','ylat']).transpose('time','ylat','xlon').sel(time=slice(slice_time_start,None))"
   ]
  },
  {
   "cell_type": "code",
   "execution_count": null,
   "id": "00e7af89-a4db-4cd8-bcb0-46b1a1a92ac9",
   "metadata": {},
   "outputs": [],
   "source": [
    "#X_df_reduced = X_ds_reduced.to_dataframe().dropna()\n",
    "#y_df_reduced = y_ds_reduced.to_dataframe().dropna()\n",
    "X_train_df_reduced = X_train_ds_reduced.to_dataframe().dropna()\n",
    "y_train_df_reduced = y_train_ds_reduced.to_dataframe().dropna()\n",
    "X_test_df_reduced = X_test_ds_reduced.to_dataframe().dropna()\n",
    "y_test_df_reduced = y_test_ds_reduced.to_dataframe().dropna()"
   ]
  },
  {
   "cell_type": "markdown",
   "id": "107fd73e-cf92-4292-b245-b0d636ec8b52",
   "metadata": {},
   "source": [
    "# Import Models"
   ]
  },
  {
   "cell_type": "markdown",
   "id": "90e622ec-b86e-404a-a2c7-2688a8db2869",
   "metadata": {},
   "source": [
    "## Import Models Trained on Limited Dataset"
   ]
  },
  {
   "cell_type": "markdown",
   "id": "bdcd051d-da20-4bae-9311-e784bf621399",
   "metadata": {},
   "source": [
    "### RF Limited"
   ]
  },
  {
   "cell_type": "markdown",
   "id": "9270d800-3c98-4ed3-b619-d7c86fd12f02",
   "metadata": {},
   "source": [
    "Note that while an \"optimized\" RF model was created, the basic one is used here because it had a higher test score and a comparable training score."
   ]
  },
  {
   "cell_type": "code",
   "execution_count": null,
   "id": "7270b6a2-3620-42f6-a930-d61e2ec20ed1",
   "metadata": {},
   "outputs": [],
   "source": [
    "RF_limited = joblib.load(os.path.join(recon_model_path,'RF_model_basic.h5'))"
   ]
  },
  {
   "cell_type": "code",
   "execution_count": null,
   "id": "5d603ae0-ea02-47ab-89d6-d68525f7a048",
   "metadata": {},
   "outputs": [],
   "source": [
    "y_pred_RF_limited = RF_limited.predict(X_test_limited)"
   ]
  },
  {
   "cell_type": "markdown",
   "id": "645255a9-258e-4873-aa23-186eced41042",
   "metadata": {},
   "source": [
    "### XGB Limited"
   ]
  },
  {
   "cell_type": "markdown",
   "id": "0e4747c4-ccb6-4870-86c3-8914d15c1b05",
   "metadata": {},
   "source": [
    "Highest parameter XGB model is used."
   ]
  },
  {
   "cell_type": "code",
   "execution_count": null,
   "id": "5c2ed7b7-dc36-4b50-a3f4-ab3484dec48b",
   "metadata": {},
   "outputs": [],
   "source": [
    "XGB_limited = joblib.load(os.path.join(recon_model_path,'XGB_prelim_highest_param.h5'))"
   ]
  },
  {
   "cell_type": "code",
   "execution_count": null,
   "id": "84556601-4751-4fbb-b39e-40d564f8acff",
   "metadata": {},
   "outputs": [],
   "source": [
    "y_pred_XGB_limited = XGB_limited.predict(X_test_df_limited)"
   ]
  },
  {
   "cell_type": "markdown",
   "id": "bed76197-f8d3-469c-8a2b-5e436ec5b03e",
   "metadata": {},
   "source": [
    "### NN Limited"
   ]
  },
  {
   "cell_type": "markdown",
   "id": "72e817e1-452b-4b4b-8ffc-ba1ed00f8c3b",
   "metadata": {},
   "source": [
    "Optimized NN trained on original dataframes is used."
   ]
  },
  {
   "cell_type": "code",
   "execution_count": null,
   "id": "1fcddf28-3db8-45b6-9b91-9188bbbd5c34",
   "metadata": {},
   "outputs": [],
   "source": [
    "NN_limited = load_model(os.path.join(recon_model_path,'NN_model1.h5'))"
   ]
  },
  {
   "cell_type": "code",
   "execution_count": null,
   "id": "b0fc2fad-96b7-4ec4-bdad-00ff58fd0e46",
   "metadata": {},
   "outputs": [],
   "source": [
    "y_pred_NN_limited = NN_limited.predict(X_test_df_limited)"
   ]
  },
  {
   "cell_type": "markdown",
   "id": "ab78794f-699f-46ff-8a85-434f0270459e",
   "metadata": {},
   "source": [
    "## Import Models Trained on Global Dataset"
   ]
  },
  {
   "cell_type": "markdown",
   "id": "60876271-ae7b-485c-bbbc-c808b3dd5c97",
   "metadata": {},
   "source": [
    "### RF Global"
   ]
  },
  {
   "cell_type": "code",
   "execution_count": null,
   "id": "4b65b2a0-c775-4c17-b282-abff4ac44fb3",
   "metadata": {},
   "outputs": [],
   "source": [
    "RF_global = "
   ]
  },
  {
   "cell_type": "code",
   "execution_count": null,
   "id": "e6799b9f-0ccc-4def-afdc-3995e4ab4160",
   "metadata": {},
   "outputs": [],
   "source": [
    "y_pred_RF_global = RF_global.predict(X_test_global)"
   ]
  },
  {
   "cell_type": "markdown",
   "id": "158d5676-fdf0-43a1-af61-7cc987946919",
   "metadata": {},
   "source": [
    "### XGB Global"
   ]
  },
  {
   "cell_type": "markdown",
   "id": "692d3a8c-def4-4a56-a0e4-1b7f2a1d4213",
   "metadata": {},
   "source": [
    "Highest parameter XGB model is used."
   ]
  },
  {
   "cell_type": "code",
   "execution_count": null,
   "id": "e60a0dc9-0e47-408f-bc63-2055dd3d0dbb",
   "metadata": {},
   "outputs": [],
   "source": [
    "XGB_global = joblib.load(os.path.join(global_model_path,'XGB_prelim_highest_param.h5'))"
   ]
  },
  {
   "cell_type": "code",
   "execution_count": null,
   "id": "24249d60-0401-4980-bd5b-5728fb10b6ba",
   "metadata": {},
   "outputs": [],
   "source": [
    "y_pred_XGB_global = XGB_global.predict(X_test_df_global)"
   ]
  },
  {
   "cell_type": "markdown",
   "id": "57d619d7-fa94-47ed-849c-3f74d65992f6",
   "metadata": {},
   "source": [
    "### NN Global (Reduced)"
   ]
  },
  {
   "cell_type": "markdown",
   "id": "32f67621-bb05-4300-b42d-24e482d88ad4",
   "metadata": {},
   "source": [
    "Semi-optimized NN is used. Further optimization was not possible. Note that the NN was trained on a reduced global dataset (2007-2017)."
   ]
  },
  {
   "cell_type": "code",
   "execution_count": null,
   "id": "39e20c03-5eb1-4f2c-af0b-cce2bd28a5f8",
   "metadata": {},
   "outputs": [],
   "source": [
    "NN_global = load_model(os.path.join(global_model_path,'NN_model_semioptimized.h5'))"
   ]
  },
  {
   "cell_type": "code",
   "execution_count": null,
   "id": "1cc53412-4da0-4b0c-a7df-7e52a3cc5382",
   "metadata": {},
   "outputs": [],
   "source": [
    "y_pred_NN_global = NN_global.predict(X_test_df_global)"
   ]
  },
  {
   "cell_type": "markdown",
   "id": "532472b5-a509-4879-a1f0-83e4516390d6",
   "metadata": {},
   "source": [
    "# Comparison of Models Trained on Limited Dataset"
   ]
  },
  {
   "cell_type": "code",
   "execution_count": null,
   "id": "fd29137a-2e3a-4d2d-8868-28d77742173b",
   "metadata": {},
   "outputs": [],
   "source": [
    "fig, ax = plt.subplots(nrows=3, figsize=(8,12)) \n",
    "\n",
    "r1 = range(len(y_test_limited))\n",
    "ax[0].plot(r1, y_test_limited, label=\"original\")\n",
    "ax[0].plot(r1, y_pred_RF_limited, label=\"predicted\")\n",
    "ax[0].set_title(\"pC02 Test and Predicted Data for RF Limited Model\")\n",
    "ax[0].legend()\n",
    "\n",
    "r2 = range(len(y_test_df_limited))\n",
    "ax[1].plot(r2, y_test_df_limited, label=\"original\")\n",
    "ax[1].plot(r2, y_pred_XGB_limited, label=\"predicted\")\n",
    "ax[1].set_title(\"pC02 Test and Predicted Data for XGB Limited Model\")\n",
    "ax[1].legend()\n",
    "\n",
    "r3 = range(len(y_test_df_limited))\n",
    "ax[2].plot(r3, y_test_df_limited, label=\"original\")\n",
    "ax[2].plot(r3, y_pred_NN_limited, label=\"predicted\")\n",
    "ax[2].set_title(\"pC02 Test and Predicted Data for NN Limited Model\")\n",
    "ax[2].legend()"
   ]
  },
  {
   "cell_type": "markdown",
   "id": "ce4d8704-3f6a-4fda-a8da-73032cf6ec27",
   "metadata": {
    "tags": []
   },
   "source": [
    "# Comparison of Models Trained on Global Dataset"
   ]
  },
  {
   "cell_type": "code",
   "execution_count": null,
   "id": "1c4fa01a-452a-4548-9f24-a52c255ead6f",
   "metadata": {},
   "outputs": [],
   "source": [
    "fig, ax = plt.subplots(nrows=3, figsize=(8,12)) \n",
    "\n",
    "r1 = range(len(y_test_global))\n",
    "ax[0].plot(r1, y_test_global, label=\"original\")\n",
    "ax[0].plot(r1, y_pred_RF_global, label=\"predicted\")\n",
    "ax[0].set_title(\"pC02 Test and Predicted Data for RF Global Model\")\n",
    "ax[0].legend()\n",
    "\n",
    "r2 = range(len(y_test_df_global))\n",
    "ax[1].plot(r2, y_test_df_global, label=\"original\")\n",
    "ax[1].plot(r2, y_pred_XGB_global, label=\"predicted\")\n",
    "ax[1].set_title(\"pC02 Test and Predicted Data for XGB Global Model\")\n",
    "ax[1].legend()\n",
    "\n",
    "r3 = range(len(y_test_df_reduced))\n",
    "ax[2].plot(r3, y_test_df_reduced, label=\"original\")\n",
    "ax[2].plot(r3, y_pred_NN_global, label=\"predicted\")\n",
    "ax[2].set_title(\"pC02 Test and Predicted Data for NN Global Model\")\n",
    "ax[2].legend()"
   ]
  },
  {
   "cell_type": "markdown",
   "id": "f8582b25-865b-4ceb-b93e-7e02dee48824",
   "metadata": {},
   "source": [
    "# Comparison of RF Models"
   ]
  },
  {
   "cell_type": "code",
   "execution_count": null,
   "id": "6ae1d983-cab3-44be-8613-fb758e1726e9",
   "metadata": {},
   "outputs": [],
   "source": [
    "fig, ax = plt.subplots(nrows=2, figsize=(8,12)) \n"
   ]
  },
  {
   "cell_type": "code",
   "execution_count": null,
   "id": "a36be3e6-cf6c-41ad-9e01-47c24591be2a",
   "metadata": {},
   "outputs": [],
   "source": []
  },
  {
   "cell_type": "markdown",
   "id": "4283e06a-84f1-4880-8753-1c03e070649b",
   "metadata": {},
   "source": [
    "# Comparison of XGB Models"
   ]
  },
  {
   "cell_type": "code",
   "execution_count": null,
   "id": "4c353633-de4e-4f2a-a5b7-7bca1932aacb",
   "metadata": {},
   "outputs": [],
   "source": []
  },
  {
   "cell_type": "markdown",
   "id": "f43b5edf-0db3-4c7f-875d-012ad3891d41",
   "metadata": {},
   "source": [
    "# Comparison of NN Models"
   ]
  },
  {
   "cell_type": "code",
   "execution_count": null,
   "id": "da9b0f60-ec1a-447c-bc88-1c8531819cbd",
   "metadata": {},
   "outputs": [],
   "source": []
  }
 ],
 "metadata": {
  "kernelspec": {
   "display_name": "fromML",
   "language": "python",
   "name": "fromml"
  },
  "language_info": {
   "codemirror_mode": {
    "name": "ipython",
    "version": 3
   },
   "file_extension": ".py",
   "mimetype": "text/x-python",
   "name": "python",
   "nbconvert_exporter": "python",
   "pygments_lexer": "ipython3",
   "version": "3.9.13"
  }
 },
 "nbformat": 4,
 "nbformat_minor": 5
}
